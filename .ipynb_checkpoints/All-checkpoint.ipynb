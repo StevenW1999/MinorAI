{
 "cells": [
  {
   "cell_type": "markdown",
   "metadata": {},
   "source": [
    "this file contains all the algorithms together in one file\n"
   ]
  },
  {
   "cell_type": "markdown",
   "metadata": {},
   "source": [
    "We start with our baseline model, KNN.\n",
    "We implemented the KNN on our own without using the one from sklearn"
   ]
  },
  {
   "cell_type": "markdown",
   "metadata": {},
   "source": [
    "Model :"
   ]
  },
  {
   "cell_type": "code",
   "execution_count": 1,
   "metadata": {
    "pycharm": {
     "name": "#%%\n"
    }
   },
   "outputs": [],
   "source": [
    "import math\n",
    "import cv2\n",
    "import dlib\n",
    "import time\n",
    "from collections import Counter\n",
    "import pandas as pd\n",
    "from PIL import Image\n",
    "import numpy as np\n",
    "from sklearn.linear_model import SGDClassifier\n",
    "\n",
    "from sklearn.model_selection import train_test_split\n",
    "import seaborn as sns\n",
    "\n",
    "import data_process\n",
    "\n",
    "\n",
    "class ModelKNN:\n",
    "    def __init__(self, train_x, train_y):\n",
    "        self.training_x = train_x\n",
    "        self.training_t = train_y\n",
    "        self.emotion_data = self.initial_data()\n",
    "\n",
    "    def initial_data(self):\n",
    "        data = {'pixels': [], 'emotion': ''}\n",
    "        t = pd.DataFrame(data=data)\n",
    "        return t\n",
    "\n",
    "    def detect_face(self, img_path):\n",
    "        detector = dlib.get_frontal_face_detector()\n",
    "        predictor = dlib.shape_predictor(\"shape_predictor_68_face_landmarks.dat\")\n",
    "        emotions = ['anger', 'contempt', 'happy', 'sadness']\n",
    "        faceDet = cv2.CascadeClassifier(\"haarcascade\\haarcascade_frontalface_default.xml\")\n",
    "        if img_path == 'video':\n",
    "            cap = cv2.VideoCapture(0)\n",
    "            while True:\n",
    "                k = cv2.waitKey(1)\n",
    "                ret, img = cap.read()\n",
    "                # img = cv2.rotate(img, cv2.ROTATE_90_COUNTERCLOCKWISE)\n",
    "                # img = cv2.flip(img, 1)\n",
    "                gray = cv2.cvtColor(img, cv2.COLOR_BGR2GRAY)\n",
    "                faces = faceDet.detectMultiScale(\n",
    "                    gray,\n",
    "                    scaleFactor=1.1,\n",
    "                    minNeighbors=5,\n",
    "                    minSize=(20, 20)\n",
    "                )\n",
    "                for (x, y, w, h) in faces:\n",
    "                    cv2.rectangle(img, (x, y), (x + w, y + h), (255, 0, 0), 2)\n",
    "                    gray = gray[y:y + h, x:x + w]\n",
    "                    # get_landmarks(img)\n",
    "\n",
    "                cv2.imshow('video', img)\n",
    "\n",
    "                if k == 32:\n",
    "                    try:\n",
    "                        gray = cv2.resize(gray, (350, 350))\n",
    "                        print(self.predict(gray, 5))\n",
    "                    except:\n",
    "                        print('error')\n",
    "                if k == 27:\n",
    "                    break\n",
    "            cap.release()\n",
    "            cv2.destroyAllWindows()\n",
    "            return 'close'\n",
    "\n",
    "        else:\n",
    "                frame = cv2.imread(img_path)\n",
    "\n",
    "                gray = cv2.cvtColor(frame, cv2.COLOR_BGR2GRAY)\n",
    "\n",
    "                face = faceDet.detectMultiScale(gray, scaleFactor=1.1, minNeighbors=10, minSize=(5, 5),\n",
    "                                                flags=cv2.CASCADE_SCALE_IMAGE)\n",
    "                if len(face) == 1:\n",
    "                    facefeatures = face\n",
    "                else:\n",
    "                    facefeatures = \"\"\n",
    "\n",
    "                for (x, y, w, h) in facefeatures:\n",
    "                    if facefeatures == \"\":\n",
    "                        print(\"no face found in file: %s\" % img_path)\n",
    "                    else:\n",
    "                        gray = gray[y:y + h, x:x + w]\n",
    "\n",
    "                detections = detector(gray, 1)\n",
    "                for k, d in enumerate(detections):\n",
    "                    shape = predictor(gray, d)\n",
    "                    for i in range(1, 68):\n",
    "                        cv2.circle(gray, (shape.part(i).x, shape.part(i).y), 1, (0, 0, 255), thickness=1)\n",
    "                gray = cv2.resize(gray, (48, 48))\n",
    "                cv2.imwrite(img_path, gray)\n",
    "\n",
    "\n",
    "    def train(self, t_data, label):\n",
    "        for f, b in zip(t_data, label):\n",
    "            try:\n",
    "                self.emotion_data.loc[-1] = [f, b]\n",
    "                self.emotion_data.index = self.emotion_data.index + 1\n",
    "                self.emotion_data = self.emotion_data.sort_index()\n",
    "            except:\n",
    "                print('error in \"' + b)\n",
    "\n",
    "    def euclidean_distance(self, row1, row2):\n",
    "        distance_x = 0.0\n",
    "        distance_x += (row1 - row2)**2\n",
    "        return sum(sum(sum(np.sqrt(distance_x))))\n",
    "\n",
    "\n",
    "    def predict(self, face, k):\n",
    "        distance_d = {'distance': [], 'emotion': ''}\n",
    "        df = pd.DataFrame(data=distance_d)\n",
    "        for i, r in self.emotion_data.iterrows():\n",
    "            distance = self.euclidean_distance(self.emotion_data.iloc[i]['pixels'], face)\n",
    "            df.loc[-1] = [distance, self.emotion_data.iloc[i]['emotion']]\n",
    "            df.index = df.index + 1\n",
    "            df = df.sort_index()\n",
    "        df2 = df.sort_values(by=['distance'], ascending=True, axis=0)[:k]\n",
    "        counter = Counter(df2['emotion'])\n",
    "        prediction = counter.most_common()[0][0]\n",
    "        return prediction\n",
    "\n",
    "\n",
    "    def test(self, p_data, label):\n",
    "        start_time = time.time()\n",
    "        correct = 0\n",
    "        incorrect = 0\n",
    "        for f, b in zip(p_data, label):\n",
    "            predict_face = self.predict(f, 5)\n",
    "            if b == predict_face:\n",
    "                correct += 1\n",
    "            else:\n",
    "                incorrect += 1\n",
    "        accuracy = (1 / (correct + incorrect)) * correct\n",
    "        print('correct: ' + str(correct) + '\\n' + 'incorrect: ' + str(incorrect) + '\\n' + 'accuracy: ' + str(accuracy) + '\\n' + \"--- %s seconds ---\" % (time.time() - start_time))"
   ]
  },
  {
   "cell_type": "markdown",
   "metadata": {},
   "source": [
    "get training data and test data from dataset 1:"
   ]
  },
  {
   "cell_type": "code",
   "execution_count": 2,
   "metadata": {
    "pycharm": {
     "name": "#%%\n"
    }
   },
   "outputs": [],
   "source": [
    "xKNN,yKNN = data_process.process_data('dataset.csv', \"KNN\")\n",
    "X_trainKNN, X_testKNN, y_trainKNN, y_testKNN = train_test_split(xKNN, yKNN, test_size=0.2, random_state=42)\n",
    "\n",
    "x2KNN,y2KNN = data_process.process_data('dataset2.csv', \"KNN\")\n",
    "X_train2KNN, X_test2KNN, y_train2KNN, y_test2KNN = train_test_split(x2KNN, y2KNN, test_size=0.2, random_state=42)\n",
    "\n",
    "x, y = data_process.process_data('dataset.csv', \"OTHER\")\n",
    "X_train, X_test, y_train, y_test = train_test_split(x, y, test_size=0.2, random_state=42)\n",
    "\n",
    "x2, y2 = data_process.process_data('dataset2.csv', \"OTHER\")\n",
    "X_train2, X_test2, y_train2, y_test2 = train_test_split(x2, y2, test_size=0.2, random_state=42)\n",
    "\n",
    "xCNN, yCNN, a = data_process.process_data('dataset.csv', \"CNN\")\n",
    "X_trainCNN, X_testCNN, y_trainCNN, y_testCNN = train_test_split(xCNN, yCNN, test_size=0.2, random_state=42)\n",
    "val_data = (X_testCNN,y_testCNN)\n",
    "\n",
    "x2CNN, y2CNN, a2 = data_process.process_data('dataset2.csv', \"CNN\")\n",
    "X_train2CNN, X_test2CNN, y_train2CNN, y_test2CNN = train_test_split(x2CNN, y2CNN, test_size=0.2, random_state=42)\n",
    "val_data2 = (X_test2CNN,y_test2CNN)"
   ]
  },
  {
   "cell_type": "markdown",
   "metadata": {},
   "source": [
    "create model and train it with training data, test it afterwards."
   ]
  },
  {
   "cell_type": "code",
   "execution_count": 3,
   "metadata": {
    "pycharm": {
     "name": "#%%\n"
    }
   },
   "outputs": [
    {
     "name": "stdout",
     "output_type": "stream",
     "text": [
      "correct: 64\n",
      "incorrect: 32\n",
      "accuracy: 0.6666666666666666\n",
      "--- 70.16134715080261 seconds ---\n"
     ]
    }
   ],
   "source": [
    "model_1 = ModelKNN(X_trainKNN, y_trainKNN)\n",
    "model_1.train(X_trainKNN, y_trainKNN)\n",
    "model_1.test(X_testKNN,y_testKNN)"
   ]
  },
  {
   "cell_type": "markdown",
   "metadata": {},
   "source": [
    "as we can see, the testing duration is very long\n",
    "do the same with data from dataset 2"
   ]
  },
  {
   "cell_type": "code",
   "execution_count": null,
   "metadata": {
    "pycharm": {
     "name": "#%%\n"
    }
   },
   "outputs": [],
   "source": [
    "\n"
   ]
  },
  {
   "cell_type": "markdown",
   "metadata": {},
   "source": [
    "again very long testing duration\n",
    "train and test it again"
   ]
  },
  {
   "cell_type": "code",
   "execution_count": 4,
   "metadata": {
    "pycharm": {
     "name": "#%%\n"
    }
   },
   "outputs": [
    {
     "name": "stdout",
     "output_type": "stream",
     "text": [
      "correct: 66\n",
      "incorrect: 30\n",
      "accuracy: 0.6875\n",
      "--- 69.85403633117676 seconds ---\n"
     ]
    }
   ],
   "source": [
    "\n",
    "model_2 = ModelKNN(X_train2KNN, y_train2KNN)\n",
    "model_2.train(X_train2KNN, y_train2KNN)\n",
    "model_2.test(X_test2KNN,y_test2KNN)"
   ]
  },
  {
   "cell_type": "markdown",
   "metadata": {},
   "source": [
    "metrics for both models"
   ]
  },
  {
   "cell_type": "code",
   "execution_count": 5,
   "metadata": {
    "pycharm": {
     "name": "#%%\n"
    }
   },
   "outputs": [],
   "source": [
    "from sklearn.metrics import precision_recall_fscore_support as score, plot_confusion_matrix\n",
    "from sklearn.metrics import confusion_matrix, accuracy_score, roc_auc_score\n",
    "import seaborn as sns\n",
    "\n",
    "metricsKNN = list()\n",
    "cmKNN = dict()\n",
    "\n",
    "y_predKNN = list()\n",
    "y_pred2KNN = list()\n",
    "for a in X_testKNN:\n",
    "    y_predKNN.append(model_1.predict(a,5))\n",
    "\n",
    "for a in X_test2KNN:\n",
    "      y_pred2KNN.append(model_2.predict(a,5))\n"
   ]
  },
  {
   "cell_type": "code",
   "execution_count": 6,
   "metadata": {
    "pycharm": {
     "name": "#%%\n"
    }
   },
   "outputs": [
    {
     "data": {
      "text/html": [
       "<div>\n",
       "<style scoped>\n",
       "    .dataframe tbody tr th:only-of-type {\n",
       "        vertical-align: middle;\n",
       "    }\n",
       "\n",
       "    .dataframe tbody tr th {\n",
       "        vertical-align: top;\n",
       "    }\n",
       "\n",
       "    .dataframe thead th {\n",
       "        text-align: right;\n",
       "    }\n",
       "</style>\n",
       "<table border=\"1\" class=\"dataframe\">\n",
       "  <thead>\n",
       "    <tr style=\"text-align: right;\">\n",
       "      <th></th>\n",
       "      <th>model1 KNN</th>\n",
       "      <th>model2 KNN</th>\n",
       "    </tr>\n",
       "  </thead>\n",
       "  <tbody>\n",
       "    <tr>\n",
       "      <th>precision</th>\n",
       "      <td>0.678905</td>\n",
       "      <td>0.704633</td>\n",
       "    </tr>\n",
       "    <tr>\n",
       "      <th>recall</th>\n",
       "      <td>0.666667</td>\n",
       "      <td>0.687500</td>\n",
       "    </tr>\n",
       "    <tr>\n",
       "      <th>fscore</th>\n",
       "      <td>0.671121</td>\n",
       "      <td>0.691660</td>\n",
       "    </tr>\n",
       "    <tr>\n",
       "      <th>accuracy</th>\n",
       "      <td>0.666667</td>\n",
       "      <td>0.687500</td>\n",
       "    </tr>\n",
       "    <tr>\n",
       "      <th>AUC</th>\n",
       "      <td>0.787383</td>\n",
       "      <td>0.793750</td>\n",
       "    </tr>\n",
       "  </tbody>\n",
       "</table>\n",
       "</div>"
      ],
      "text/plain": [
       "           model1 KNN  model2 KNN\n",
       "precision    0.678905    0.704633\n",
       "recall       0.666667    0.687500\n",
       "fscore       0.671121    0.691660\n",
       "accuracy     0.666667    0.687500\n",
       "AUC          0.787383    0.793750"
      ]
     },
     "execution_count": 6,
     "metadata": {},
     "output_type": "execute_result"
    }
   ],
   "source": [
    "from sklearn.preprocessing import LabelEncoder, label_binarize\n",
    "\n",
    "enc = LabelEncoder()\n",
    "y_testKNN = enc.fit_transform(y_testKNN)\n",
    "y_predKNN = enc.fit_transform(y_predKNN)\n",
    "\n",
    "y_test2KNN = enc.fit_transform(y_test2KNN)\n",
    "y_pred2KNN = enc.fit_transform(y_pred2KNN)\n",
    "\n",
    "precision, recall, fscore, _ = score(y_testKNN, y_predKNN, average='weighted')\n",
    "accuracy = accuracy_score(y_testKNN, y_predKNN)\n",
    "auc = roc_auc_score(label_binarize(y_testKNN, classes=[0,1,2]),\n",
    "        label_binarize(y_predKNN, classes=[0,1,2]),\n",
    "        average='weighted', multi_class='ovr')\n",
    "metricsKNN.append(pd.Series({'precision':precision, 'recall':recall, 'fscore':fscore, 'accuracy':accuracy, 'AUC':auc}, name=\"model1 KNN\"))\n",
    "cmKNN = confusion_matrix(y_testKNN,y_predKNN)\n",
    "\n",
    "metrics2KNN = list()\n",
    "cm2KNN = dict()\n",
    "\n",
    "precision2, recall2, fscore2, _ = score(y_test2KNN, y_pred2KNN, average='weighted')\n",
    "accuracy2 = accuracy_score(y_test2KNN, y_pred2KNN)\n",
    "auc2 = roc_auc_score(label_binarize(y_test2KNN, classes=[0,1,2]),\n",
    "        label_binarize(y_pred2KNN, classes=[0,1,2]),\n",
    "        average='weighted', multi_class='ovr')\n",
    "metrics2KNN.append(pd.Series({'precision':precision2, 'recall':recall2, 'fscore':fscore2, 'accuracy':accuracy2,'AUC':auc2}, name=\"model2 KNN\"))\n",
    "cm2KNN = confusion_matrix(y_test2KNN,y_pred2KNN)\n",
    "m = metricsKNN + metrics2KNN\n",
    "metricsKNN = pd.concat(m, axis=1)\n",
    "\n",
    "metricsKNN"
   ]
  },
  {
   "cell_type": "code",
   "execution_count": 7,
   "metadata": {
    "pycharm": {
     "name": "#%%\n"
    }
   },
   "outputs": [
    {
     "name": "stdout",
     "output_type": "stream",
     "text": [
      "[2, 0, 3, 1]\n"
     ]
    },
    {
     "data": {
      "image/png": "[encoded data removed]",
      "text/plain": [
       "<Figure size 432x288 with 2 Axes>"
      ]
     },
     "metadata": {
      "needs_background": "light"
     },
     "output_type": "display_data"
    }
   ],
   "source": [
    "%matplotlib inline\n",
    "\n",
    "def get_unique_N(iterable):\n",
    "    seen = set()\n",
    "    for e in iterable:\n",
    "        if e in seen:\n",
    "            continue\n",
    "        seen.add(e)\n",
    "        yield e\n",
    "\n",
    "k = get_unique_N(y_testKNN)\n",
    "print(list(k))\n",
    "\n",
    "ax = sns.heatmap(cmKNN, annot=True, fmt='d')\n",
    "\n"
   ]
  },
  {
   "cell_type": "code",
   "execution_count": 8,
   "metadata": {
    "pycharm": {
     "name": "#%%\n"
    }
   },
   "outputs": [
    {
     "name": "stdout",
     "output_type": "stream",
     "text": [
      "[2, 0, 3, 1]\n"
     ]
    },
    {
     "data": {
      "image/png": "[encoded data removed]",
      "text/plain": [
       "<Figure size 432x288 with 2 Axes>"
      ]
     },
     "metadata": {
      "needs_background": "light"
     },
     "output_type": "display_data"
    }
   ],
   "source": [
    "k = get_unique_N(y_test2KNN)\n",
    "print(list(k))\n",
    "ax2 = sns.heatmap(cm2KNN, annot=True, fmt='d')"
   ]
  },
  {
   "cell_type": "markdown",
   "metadata": {},
   "source": [
    "next up we will do the random forest algorithm"
   ]
  },
  {
   "cell_type": "code",
   "execution_count": 9,
   "metadata": {
    "pycharm": {
     "name": "#%%\n"
    }
   },
   "outputs": [],
   "source": [
    "from sklearn.tree import DecisionTreeClassifier\n",
    "from sklearn.ensemble import RandomForestClassifier\n",
    "from sklearn.preprocessing import OneHotEncoder, LabelEncoder, label_binarize\n",
    "from sklearn.model_selection import train_test_split\n",
    "import pandas as pd\n",
    "import numpy as np\n",
    "import data_process"
   ]
  },
  {
   "cell_type": "code",
   "execution_count": 10,
   "metadata": {
    "pycharm": {
     "name": "#%%\n"
    }
   },
   "outputs": [
    {
     "data": {
      "text/plain": [
       "True"
      ]
     },
     "execution_count": 10,
     "metadata": {},
     "output_type": "execute_result"
    }
   ],
   "source": [
    "from sklearn import tree\n",
    "import matplotlib.pyplot as plt\n",
    "import matplotlib.image as pltimg\n",
    "import pydotplus\n",
    "\n",
    "dtree = DecisionTreeClassifier()\n",
    "dtree = dtree.fit(X_train, y_train)\n",
    "data = tree.export_graphviz(dtree)\n",
    "graph = pydotplus.graph_from_dot_data(data)\n",
    "graph.write_png('mydecisiontree.png')"
   ]
  },
  {
   "cell_type": "code",
   "execution_count": 11,
   "metadata": {
    "pycharm": {
     "name": "#%%\n"
    }
   },
   "outputs": [],
   "source": [
    "y_predTREE = dtree.predict(X_test)"
   ]
  },
  {
   "cell_type": "code",
   "execution_count": 12,
   "metadata": {
    "pycharm": {
     "name": "#%%\n"
    }
   },
   "outputs": [
    {
     "data": {
      "image/png": "[encoded data removed]",
      "text/plain": [
       "<Figure size 432x288 with 1 Axes>"
      ]
     },
     "metadata": {
      "needs_background": "light"
     },
     "output_type": "display_data"
    }
   ],
   "source": [
    "img=pltimg.imread('mydecisiontree.png')\n",
    "imgplot = plt.imshow(img)\n",
    "plt.show()\n",
    "\n"
   ]
  },
  {
   "cell_type": "code",
   "execution_count": 13,
   "metadata": {
    "pycharm": {
     "name": "#%%\n"
    }
   },
   "outputs": [
    {
     "data": {
      "image/png": "[encoded data removed]",
      "text/plain": [
       "<Figure size 432x288 with 1 Axes>"
      ]
     },
     "metadata": {
      "needs_background": "light"
     },
     "output_type": "display_data"
    }
   ],
   "source": [
    "dtree2 = DecisionTreeClassifier()\n",
    "dtree2 = dtree2.fit(X_train2, y_train2)\n",
    "data2 = tree.export_graphviz(dtree2)\n",
    "graph2 = pydotplus.graph_from_dot_data(data2)\n",
    "graph2.write_png('mydecisiontree2.png')\n",
    "y_pred2TREE = dtree2.predict(X_test2)\n",
    "img2=pltimg.imread('mydecisiontree2.png')\n",
    "imgplot = plt.imshow(img)\n",
    "plt.show()"
   ]
  },
  {
   "cell_type": "code",
   "execution_count": 14,
   "metadata": {
    "pycharm": {
     "name": "#%%\n"
    }
   },
   "outputs": [
    {
     "data": {
      "text/html": [
       "<div>\n",
       "<style scoped>\n",
       "    .dataframe tbody tr th:only-of-type {\n",
       "        vertical-align: middle;\n",
       "    }\n",
       "\n",
       "    .dataframe tbody tr th {\n",
       "        vertical-align: top;\n",
       "    }\n",
       "\n",
       "    .dataframe thead th {\n",
       "        text-align: right;\n",
       "    }\n",
       "</style>\n",
       "<table border=\"1\" class=\"dataframe\">\n",
       "  <thead>\n",
       "    <tr style=\"text-align: right;\">\n",
       "      <th></th>\n",
       "      <th>random forest 1</th>\n",
       "      <th>Random forest 2</th>\n",
       "    </tr>\n",
       "  </thead>\n",
       "  <tbody>\n",
       "    <tr>\n",
       "      <th>precision</th>\n",
       "      <td>0.775580</td>\n",
       "      <td>0.913316</td>\n",
       "    </tr>\n",
       "    <tr>\n",
       "      <th>recall</th>\n",
       "      <td>0.750000</td>\n",
       "      <td>0.906250</td>\n",
       "    </tr>\n",
       "    <tr>\n",
       "      <th>fscore</th>\n",
       "      <td>0.744387</td>\n",
       "      <td>0.907636</td>\n",
       "    </tr>\n",
       "    <tr>\n",
       "      <th>accuracy</th>\n",
       "      <td>0.750000</td>\n",
       "      <td>0.906250</td>\n",
       "    </tr>\n",
       "    <tr>\n",
       "      <th>AUC</th>\n",
       "      <td>0.807758</td>\n",
       "      <td>0.951713</td>\n",
       "    </tr>\n",
       "  </tbody>\n",
       "</table>\n",
       "</div>"
      ],
      "text/plain": [
       "           random forest 1  Random forest 2\n",
       "precision         0.775580         0.913316\n",
       "recall            0.750000         0.906250\n",
       "fscore            0.744387         0.907636\n",
       "accuracy          0.750000         0.906250\n",
       "AUC               0.807758         0.951713"
      ]
     },
     "execution_count": 14,
     "metadata": {},
     "output_type": "execute_result"
    }
   ],
   "source": [
    "from sklearn.metrics import precision_recall_fscore_support as score\n",
    "from sklearn.metrics import confusion_matrix, accuracy_score, roc_auc_score\n",
    "import seaborn as sns\n",
    "from sklearn.preprocessing import LabelEncoder\n",
    "\n",
    "\n",
    "metrics = list()\n",
    "cm = dict()\n",
    "\n",
    "y_test_trueTREE = y_test\n",
    "y_test_true2TREE = y_test2\n",
    "\n",
    "enc = LabelEncoder()\n",
    "y_testTREE = enc.fit_transform(y_test)\n",
    "y_predTREE = enc.fit_transform(y_predTREE)\n",
    "\n",
    "y_test2TREE = enc.fit_transform(y_test2)\n",
    "y_pred2TREE = enc.fit_transform(y_pred2TREE)\n",
    "\n",
    "precision, recall, fscore, _ = score(y_testTREE, y_predTREE, average='weighted')\n",
    "accuracy = accuracy_score(y_testTREE, y_predTREE)\n",
    "auc = roc_auc_score(label_binarize(y_testTREE, classes=[0,1,2]),\n",
    "        label_binarize(y_predTREE, classes=[0,1,2]),\n",
    "        average='weighted', multi_class='ovr')\n",
    "metrics.append(pd.Series({'precision':precision, 'recall':recall, 'fscore':fscore, 'accuracy':accuracy, 'AUC':auc}, name=\"random forest 1\"))\n",
    "cm = confusion_matrix(y_testTREE,y_predTREE)\n",
    "\n",
    "metrics2 = list()\n",
    "cm2 = dict()\n",
    "\n",
    "precision2, recall2, fscore2, _ = score(y_test2TREE, y_pred2TREE, average='weighted')\n",
    "accuracy2 = accuracy_score(y_test2TREE, y_pred2TREE)\n",
    "auc2 = roc_auc_score(label_binarize(y_test2TREE, classes=[0,1,2]),\n",
    "        label_binarize(y_pred2TREE, classes=[0,1,2]),\n",
    "        average='weighted', multi_class='ovr')\n",
    "metrics2.append(pd.Series({'precision':precision2, 'recall':recall2, 'fscore':fscore2, 'accuracy':accuracy2,'AUC':auc2}, name=\"Random forest 2\"))\n",
    "cm2 = confusion_matrix(y_test2TREE,y_pred2TREE)\n",
    "m = metrics + metrics2\n",
    "metrics = pd.concat(m, axis=1)\n",
    "\n",
    "metrics"
   ]
  },
  {
   "cell_type": "code",
   "execution_count": 15,
   "metadata": {
    "pycharm": {
     "name": "#%%\n"
    }
   },
   "outputs": [],
   "source": [
    "from matplotlib import pyplot as plt\n",
    "%matplotlib inline"
   ]
  },
  {
   "cell_type": "code",
   "execution_count": 16,
   "metadata": {
    "pycharm": {
     "name": "#%%\n"
    }
   },
   "outputs": [
    {
     "data": {
      "text/plain": [
       "<sklearn.metrics._plot.confusion_matrix.ConfusionMatrixDisplay at 0x1aa07197b80>"
      ]
     },
     "execution_count": 16,
     "metadata": {},
     "output_type": "execute_result"
    },
    {
     "data": {
      "image/png": "[encoded data removed]",
      "text/plain": [
       "<Figure size 432x288 with 2 Axes>"
      ]
     },
     "metadata": {
      "needs_background": "light"
     },
     "output_type": "display_data"
    }
   ],
   "source": [
    "plot_confusion_matrix(dtree, X_test, y_test_trueTREE)\n",
    "\n"
   ]
  },
  {
   "cell_type": "code",
   "execution_count": 17,
   "metadata": {
    "pycharm": {
     "name": "#%%\n"
    }
   },
   "outputs": [
    {
     "data": {
      "text/plain": [
       "<sklearn.metrics._plot.confusion_matrix.ConfusionMatrixDisplay at 0x1aa07d6ebe0>"
      ]
     },
     "execution_count": 17,
     "metadata": {},
     "output_type": "execute_result"
    },
    {
     "data": {
      "image/png": "[encoded data removed]",
      "text/plain": [
       "<Figure size 432x288 with 2 Axes>"
      ]
     },
     "metadata": {
      "needs_background": "light"
     },
     "output_type": "display_data"
    }
   ],
   "source": [
    "plot_confusion_matrix(dtree2, X_test2, y_test_true2TREE)"
   ]
  },
  {
   "cell_type": "markdown",
   "metadata": {},
   "source": [
    "next we will do SGD"
   ]
  },
  {
   "cell_type": "code",
   "execution_count": 18,
   "metadata": {
    "pycharm": {
     "name": "#%%\n"
    }
   },
   "outputs": [],
   "source": [
    "SDGclass = SGDClassifier(loss='log', alpha=0.1, penalty='l2')"
   ]
  },
  {
   "cell_type": "code",
   "execution_count": 19,
   "metadata": {
    "pycharm": {
     "name": "#%%\n"
    }
   },
   "outputs": [],
   "source": [
    "SDGclass = SDGclass.fit(X_train, y_train)\n",
    "y_predSGD = SDGclass.predict(X_test)\n"
   ]
  },
  {
   "cell_type": "code",
   "execution_count": 20,
   "metadata": {
    "pycharm": {
     "name": "#%%\n"
    }
   },
   "outputs": [],
   "source": [
    "SDGclass2 = SGDClassifier(loss='log', alpha=0.1, penalty='l2')\n",
    "\n",
    "SDGclass2 = SDGclass2.fit(X_train2, y_train2)\n",
    "y_pred2SGD = SDGclass2.predict(X_test2)\n"
   ]
  },
  {
   "cell_type": "code",
   "execution_count": 21,
   "metadata": {
    "pycharm": {
     "name": "#%%\n"
    }
   },
   "outputs": [
    {
     "data": {
      "text/html": [
       "<div>\n",
       "<style scoped>\n",
       "    .dataframe tbody tr th:only-of-type {\n",
       "        vertical-align: middle;\n",
       "    }\n",
       "\n",
       "    .dataframe tbody tr th {\n",
       "        vertical-align: top;\n",
       "    }\n",
       "\n",
       "    .dataframe thead th {\n",
       "        text-align: right;\n",
       "    }\n",
       "</style>\n",
       "<table border=\"1\" class=\"dataframe\">\n",
       "  <thead>\n",
       "    <tr style=\"text-align: right;\">\n",
       "      <th></th>\n",
       "      <th>model1</th>\n",
       "      <th>model2</th>\n",
       "    </tr>\n",
       "  </thead>\n",
       "  <tbody>\n",
       "    <tr>\n",
       "      <th>precision</th>\n",
       "      <td>0.910977</td>\n",
       "      <td>0.960069</td>\n",
       "    </tr>\n",
       "    <tr>\n",
       "      <th>recall</th>\n",
       "      <td>0.906250</td>\n",
       "      <td>0.958333</td>\n",
       "    </tr>\n",
       "    <tr>\n",
       "      <th>fscore</th>\n",
       "      <td>0.907230</td>\n",
       "      <td>0.957839</td>\n",
       "    </tr>\n",
       "    <tr>\n",
       "      <th>accuracy</th>\n",
       "      <td>0.906250</td>\n",
       "      <td>0.958333</td>\n",
       "    </tr>\n",
       "    <tr>\n",
       "      <th>AUC</th>\n",
       "      <td>0.946064</td>\n",
       "      <td>0.983579</td>\n",
       "    </tr>\n",
       "  </tbody>\n",
       "</table>\n",
       "</div>"
      ],
      "text/plain": [
       "             model1    model2\n",
       "precision  0.910977  0.960069\n",
       "recall     0.906250  0.958333\n",
       "fscore     0.907230  0.957839\n",
       "accuracy   0.906250  0.958333\n",
       "AUC        0.946064  0.983579"
      ]
     },
     "execution_count": 21,
     "metadata": {},
     "output_type": "execute_result"
    }
   ],
   "source": [
    "from sklearn.metrics import precision_recall_fscore_support as score\n",
    "from sklearn.metrics import confusion_matrix, accuracy_score, roc_auc_score\n",
    "import seaborn as sns\n",
    "from sklearn.preprocessing import LabelEncoder, label_binarize\n",
    "\n",
    "metrics = list()\n",
    "cm = dict()\n",
    "\n",
    "y_test_trueSGD = y_test\n",
    "y_test_true2SGD = y_test2\n",
    "\n",
    "enc = LabelEncoder()\n",
    "y_testSGD = enc.fit_transform(y_test)\n",
    "y_predSGD = enc.fit_transform(y_predSGD)\n",
    "\n",
    "y_test2SGD = enc.fit_transform(y_test2)\n",
    "y_pred2SGD = enc.fit_transform(y_pred2SGD)\n",
    "\n",
    "precision, recall, fscore, _ = score(y_testSGD, y_predSGD, average='weighted')\n",
    "accuracy = accuracy_score(y_testSGD, y_predSGD)\n",
    "auc = roc_auc_score(label_binarize(y_testSGD, classes=[0,1,2]),\n",
    "        label_binarize(y_predSGD, classes=[0,1,2]),\n",
    "        average='weighted', multi_class='ovr')\n",
    "metrics.append(pd.Series({'precision':precision, 'recall':recall, 'fscore':fscore, 'accuracy':accuracy, 'AUC':auc}, name=\"model1\"))\n",
    "cm = confusion_matrix(y_testSGD,y_predSGD)\n",
    "\n",
    "metrics2 = list()\n",
    "cm2 = dict()\n",
    "\n",
    "precision2, recall2, fscore2, _ = score(y_test2SGD, y_pred2SGD, average='weighted')\n",
    "accuracy2 = accuracy_score(y_test2SGD, y_pred2SGD)\n",
    "auc2 = roc_auc_score(label_binarize(y_test2SGD, classes=[0,1,2]),\n",
    "        label_binarize(y_pred2SGD, classes=[0,1,2]),\n",
    "        average='weighted', multi_class='ovr')\n",
    "metrics2.append(pd.Series({'precision':precision2, 'recall':recall2, 'fscore':fscore2, 'accuracy':accuracy2,'AUC':auc2}, name=\"model2\"))\n",
    "cm2 = confusion_matrix(y_test2SGD,y_pred2SGD)\n",
    "m = metrics + metrics2\n",
    "metrics = pd.concat(m, axis=1)\n",
    "\n",
    "metrics\n",
    "\n"
   ]
  },
  {
   "cell_type": "code",
   "execution_count": 22,
   "metadata": {
    "pycharm": {
     "name": "#%%\n"
    }
   },
   "outputs": [
    {
     "data": {
      "text/plain": [
       "<sklearn.metrics._plot.confusion_matrix.ConfusionMatrixDisplay at 0x1aa06f28a30>"
      ]
     },
     "execution_count": 22,
     "metadata": {},
     "output_type": "execute_result"
    },
    {
     "data": {
      "image/png": "[encoded data removed]",
      "text/plain": [
       "<Figure size 432x288 with 2 Axes>"
      ]
     },
     "metadata": {
      "needs_background": "light"
     },
     "output_type": "display_data"
    }
   ],
   "source": [
    "from matplotlib import pyplot as plt\n",
    "%matplotlib inline\n",
    "\n",
    "plot_confusion_matrix(SDGclass, X_test, y_test_trueSGD)\n",
    "\n"
   ]
  },
  {
   "cell_type": "code",
   "execution_count": 23,
   "metadata": {
    "pycharm": {
     "name": "#%%\n"
    }
   },
   "outputs": [
    {
     "data": {
      "text/plain": [
       "<sklearn.metrics._plot.confusion_matrix.ConfusionMatrixDisplay at 0x1aa02df0130>"
      ]
     },
     "execution_count": 23,
     "metadata": {},
     "output_type": "execute_result"
    },
    {
     "data": {
      "image/png": "[encoded data removed]",
      "text/plain": [
       "<Figure size 432x288 with 2 Axes>"
      ]
     },
     "metadata": {
      "needs_background": "light"
     },
     "output_type": "display_data"
    }
   ],
   "source": [
    "plot_confusion_matrix(SDGclass2, X_test2, y_test_true2SGD)"
   ]
  },
  {
   "cell_type": "markdown",
   "metadata": {},
   "source": [
    "next SVM"
   ]
  },
  {
   "cell_type": "markdown",
   "metadata": {},
   "source": [
    "import SVC"
   ]
  },
  {
   "cell_type": "code",
   "execution_count": 24,
   "metadata": {
    "pycharm": {
     "name": "#%%\n"
    }
   },
   "outputs": [],
   "source": [
    "from sklearn import svm"
   ]
  },
  {
   "cell_type": "markdown",
   "metadata": {},
   "source": [
    "fit model and train and compare accuracy\n"
   ]
  },
  {
   "cell_type": "code",
   "execution_count": 25,
   "metadata": {
    "pycharm": {
     "name": "#%%\n"
    }
   },
   "outputs": [],
   "source": [
    "\n",
    "linear = svm.SVC(kernel='linear', C=1, decision_function_shape='ovo').fit(X_train, y_train)\n",
    "rbf = svm.SVC(kernel='rbf', gamma=1, C=1, decision_function_shape='ovo').fit(X_train, y_train)\n",
    "poly = svm.SVC(kernel='poly', degree=3, C=1, decision_function_shape='ovo').fit(X_train, y_train)\n",
    "sig = svm.SVC(kernel='sigmoid', C=1, decision_function_shape='ovo').fit(X_train, y_train)"
   ]
  },
  {
   "cell_type": "code",
   "execution_count": 26,
   "metadata": {
    "pycharm": {
     "name": "#%%\n"
    }
   },
   "outputs": [],
   "source": [
    "linear_pred = linear.predict(X_test)\n",
    "poly_pred = poly.predict(X_test)\n",
    "rbf_pred = rbf.predict(X_test)\n",
    "sig_pred = sig.predict(X_test)"
   ]
  },
  {
   "cell_type": "code",
   "execution_count": 27,
   "metadata": {
    "pycharm": {
     "name": "#%%\n"
    }
   },
   "outputs": [
    {
     "name": "stdout",
     "output_type": "stream",
     "text": [
      "Accuracy Linear Kernel:  0.9166666666666666\n",
      "Accuracy Polynomial Kernel:  0.7395833333333334\n",
      "Accuracy Radial Basis Kernel:  0.4375\n",
      "Accuracy Sigmoid Kernel:  0.6770833333333334\n"
     ]
    }
   ],
   "source": [
    "accuracy_lin = linear.score(X_test, y_test)\n",
    "accuracy_poly = poly.score(X_test, y_test)\n",
    "accuracy_rbf = rbf.score(X_test, y_test)\n",
    "accuracy_sig = sig.score(X_test, y_test)\n",
    "\n",
    "print('Accuracy Linear Kernel: ' , accuracy_lin)\n",
    "print('Accuracy Polynomial Kernel: ', accuracy_poly)\n",
    "print('Accuracy Radial Basis Kernel: ', accuracy_rbf)\n",
    "print('Accuracy Sigmoid Kernel: ', accuracy_sig)"
   ]
  },
  {
   "cell_type": "markdown",
   "metadata": {},
   "source": [
    "do the same for dataset2.csv\n"
   ]
  },
  {
   "cell_type": "code",
   "execution_count": 28,
   "metadata": {
    "pycharm": {
     "name": "#%%\n"
    }
   },
   "outputs": [],
   "source": [
    "\n",
    "linear2 = svm.SVC(kernel='linear', C=1, decision_function_shape='ovo').fit(X_train2, y_train2)\n",
    "rbf2 = svm.SVC(kernel='rbf', gamma=1, C=1, decision_function_shape='ovo').fit(X_train2, y_train2)\n",
    "poly2 = svm.SVC(kernel='poly', degree=3, C=1, decision_function_shape='ovo').fit(X_train2, y_train2)\n",
    "sig2 = svm.SVC(kernel='sigmoid', C=1, decision_function_shape='ovo').fit(X_train2, y_train2)"
   ]
  },
  {
   "cell_type": "code",
   "execution_count": 29,
   "metadata": {
    "pycharm": {
     "name": "#%%\n"
    }
   },
   "outputs": [],
   "source": [
    "linear_pred2 = linear2.predict(X_test2)\n",
    "poly_pred2 = poly2.predict(X_test2)\n",
    "rbf_pred2 = rbf2.predict(X_test2)\n",
    "sig_pred2 = sig2.predict(X_test2)"
   ]
  },
  {
   "cell_type": "code",
   "execution_count": 30,
   "metadata": {
    "pycharm": {
     "name": "#%%\n"
    }
   },
   "outputs": [
    {
     "name": "stdout",
     "output_type": "stream",
     "text": [
      "Accuracy Linear Kernel:  0.9895833333333334\n",
      "Accuracy Polynomial Kernel:  0.8229166666666666\n",
      "Accuracy Radial Basis Kernel:  0.4895833333333333\n",
      "Accuracy Sigmoid Kernel:  0.6770833333333334\n"
     ]
    }
   ],
   "source": [
    "accuracy_lin2 = linear2.score(X_test2, y_test2)\n",
    "accuracy_poly2 = poly2.score(X_test2, y_test2)\n",
    "accuracy_rbf2 = rbf2.score(X_test2, y_test2)\n",
    "accuracy_sig2 = sig2.score(X_test2, y_test2)\n",
    "\n",
    "print('Accuracy Linear Kernel: ' , accuracy_lin2)\n",
    "print('Accuracy Polynomial Kernel: ', accuracy_poly2)\n",
    "print('Accuracy Radial Basis Kernel: ', accuracy_rbf2)\n",
    "print('Accuracy Sigmoid Kernel: ', accuracy_sig2)"
   ]
  },
  {
   "cell_type": "code",
   "execution_count": 31,
   "metadata": {
    "pycharm": {
     "name": "#%%\n"
    }
   },
   "outputs": [],
   "source": [
    "from sklearn.metrics import precision_recall_fscore_support as score\n",
    "from sklearn.metrics import confusion_matrix, accuracy_score, roc_auc_score\n",
    "import seaborn as sns\n",
    "\n",
    "y_test_trueSVM = y_test\n",
    "y_test_true2SVM = y_test2\n",
    "#\n",
    "# y_pred = list()\n",
    "# y_pred2 = list()\n",
    "# for a in X_test:\n",
    "#     y_pred.append(linear.predict(a))\n",
    "#\n",
    "# for a in X_test2:\n",
    "#       y_pred2.append(linear2.predict(a))\n"
   ]
  },
  {
   "cell_type": "code",
   "execution_count": 32,
   "metadata": {
    "pycharm": {
     "name": "#%%\n"
    }
   },
   "outputs": [
    {
     "data": {
      "text/html": [
       "<div>\n",
       "<style scoped>\n",
       "    .dataframe tbody tr th:only-of-type {\n",
       "        vertical-align: middle;\n",
       "    }\n",
       "\n",
       "    .dataframe tbody tr th {\n",
       "        vertical-align: top;\n",
       "    }\n",
       "\n",
       "    .dataframe thead th {\n",
       "        text-align: right;\n",
       "    }\n",
       "</style>\n",
       "<table border=\"1\" class=\"dataframe\">\n",
       "  <thead>\n",
       "    <tr style=\"text-align: right;\">\n",
       "      <th></th>\n",
       "      <th>Linear</th>\n",
       "      <th>Polynomial</th>\n",
       "      <th>Radial Basis</th>\n",
       "      <th>Sigmoid</th>\n",
       "    </tr>\n",
       "  </thead>\n",
       "  <tbody>\n",
       "    <tr>\n",
       "      <th>precision</th>\n",
       "      <td>0.922597</td>\n",
       "      <td>0.773065</td>\n",
       "      <td>0.079102</td>\n",
       "      <td>0.668520</td>\n",
       "    </tr>\n",
       "    <tr>\n",
       "      <th>recall</th>\n",
       "      <td>0.916667</td>\n",
       "      <td>0.739583</td>\n",
       "      <td>0.281250</td>\n",
       "      <td>0.677083</td>\n",
       "    </tr>\n",
       "    <tr>\n",
       "      <th>fscore</th>\n",
       "      <td>0.917123</td>\n",
       "      <td>0.737802</td>\n",
       "      <td>0.123476</td>\n",
       "      <td>0.664678</td>\n",
       "    </tr>\n",
       "    <tr>\n",
       "      <th>accuracy</th>\n",
       "      <td>0.916667</td>\n",
       "      <td>0.739583</td>\n",
       "      <td>0.281250</td>\n",
       "      <td>0.677083</td>\n",
       "    </tr>\n",
       "    <tr>\n",
       "      <th>auc</th>\n",
       "      <td>0.949110</td>\n",
       "      <td>0.825186</td>\n",
       "      <td>0.500000</td>\n",
       "      <td>0.788876</td>\n",
       "    </tr>\n",
       "  </tbody>\n",
       "</table>\n",
       "</div>"
      ],
      "text/plain": [
       "             Linear  Polynomial  Radial Basis   Sigmoid\n",
       "precision  0.922597    0.773065      0.079102  0.668520\n",
       "recall     0.916667    0.739583      0.281250  0.677083\n",
       "fscore     0.917123    0.737802      0.123476  0.664678\n",
       "accuracy   0.916667    0.739583      0.281250  0.677083\n",
       "auc        0.949110    0.825186      0.500000  0.788876"
      ]
     },
     "execution_count": 32,
     "metadata": {},
     "output_type": "execute_result"
    }
   ],
   "source": [
    "from sklearn.preprocessing import label_binarize\n",
    "from sklearn.preprocessing import LabelEncoder\n",
    "\n",
    "enc = LabelEncoder()\n",
    "\n",
    "labels = ['Linear', 'Polynomial', 'Radial Basis', 'Sigmoid']\n",
    "models = [linear, poly, rbf, sig]\n",
    "\n",
    "\n",
    "y_predSVM = list()\n",
    "for label, model in zip(labels, models):\n",
    "    y_predSVM.append(pd.Series(enc.fit_transform(model.predict(X_test)), name=label))\n",
    "y_predSVM = pd.concat(y_predSVM, axis=1)\n",
    "y_testSVM = enc.fit_transform(y_test)\n",
    "\n",
    "metrics = list()\n",
    "cm = dict()\n",
    "\n",
    "for label in labels:\n",
    "\n",
    "    precision, recall, fscore, _ = score(y_testSVM, y_predSVM[label], average='weighted')\n",
    "\n",
    "    accuracy = accuracy_score(y_testSVM, y_predSVM[label])\n",
    "\n",
    "    auc = roc_auc_score(label_binarize(y_testSVM, classes=[0,1,2,3]),\n",
    "              label_binarize(y_predSVM[label], classes=[0,1,2,3]),\n",
    "              average='weighted', multi_class='ovr')\n",
    "\n",
    "    cm[label] = confusion_matrix(y_testSVM, y_predSVM[label])\n",
    "\n",
    "    metrics.append(pd.Series({'precision':precision, 'recall':recall, 'fscore':fscore, 'accuracy':accuracy, 'auc':auc }, name=label))\n",
    "\n",
    "metrics = pd.concat(metrics, axis=1)\n",
    "\n",
    "metrics\n"
   ]
  },
  {
   "cell_type": "code",
   "execution_count": 33,
   "metadata": {
    "pycharm": {
     "name": "#%%\n"
    }
   },
   "outputs": [
    {
     "data": {
      "text/html": [
       "<div>\n",
       "<style scoped>\n",
       "    .dataframe tbody tr th:only-of-type {\n",
       "        vertical-align: middle;\n",
       "    }\n",
       "\n",
       "    .dataframe tbody tr th {\n",
       "        vertical-align: top;\n",
       "    }\n",
       "\n",
       "    .dataframe thead th {\n",
       "        text-align: right;\n",
       "    }\n",
       "</style>\n",
       "<table border=\"1\" class=\"dataframe\">\n",
       "  <thead>\n",
       "    <tr style=\"text-align: right;\">\n",
       "      <th></th>\n",
       "      <th>Linear</th>\n",
       "      <th>Polynomial</th>\n",
       "      <th>Radial Basis</th>\n",
       "      <th>Sigmoid</th>\n",
       "    </tr>\n",
       "  </thead>\n",
       "  <tbody>\n",
       "    <tr>\n",
       "      <th>precision</th>\n",
       "      <td>0.990162</td>\n",
       "      <td>0.871441</td>\n",
       "      <td>0.245124</td>\n",
       "      <td>0.719151</td>\n",
       "    </tr>\n",
       "    <tr>\n",
       "      <th>recall</th>\n",
       "      <td>0.989583</td>\n",
       "      <td>0.822917</td>\n",
       "      <td>0.145833</td>\n",
       "      <td>0.677083</td>\n",
       "    </tr>\n",
       "    <tr>\n",
       "      <th>fscore</th>\n",
       "      <td>0.989506</td>\n",
       "      <td>0.813850</td>\n",
       "      <td>0.066496</td>\n",
       "      <td>0.681670</td>\n",
       "    </tr>\n",
       "    <tr>\n",
       "      <th>accuracy</th>\n",
       "      <td>0.989583</td>\n",
       "      <td>0.822917</td>\n",
       "      <td>0.145833</td>\n",
       "      <td>0.677083</td>\n",
       "    </tr>\n",
       "    <tr>\n",
       "      <th>auc</th>\n",
       "      <td>0.993671</td>\n",
       "      <td>0.901996</td>\n",
       "      <td>0.514467</td>\n",
       "      <td>0.817616</td>\n",
       "    </tr>\n",
       "  </tbody>\n",
       "</table>\n",
       "</div>"
      ],
      "text/plain": [
       "             Linear  Polynomial  Radial Basis   Sigmoid\n",
       "precision  0.990162    0.871441      0.245124  0.719151\n",
       "recall     0.989583    0.822917      0.145833  0.677083\n",
       "fscore     0.989506    0.813850      0.066496  0.681670\n",
       "accuracy   0.989583    0.822917      0.145833  0.677083\n",
       "auc        0.993671    0.901996      0.514467  0.817616"
      ]
     },
     "execution_count": 33,
     "metadata": {},
     "output_type": "execute_result"
    }
   ],
   "source": [
    "labels2 = ['Linear', 'Polynomial', 'Radial Basis', 'Sigmoid']\n",
    "models2 = [linear2, poly2, rbf2, sig2]\n",
    "\n",
    "y_pred2SVM = list()\n",
    "\n",
    "y_test2SVM = enc.fit_transform(y_test2)\n",
    "\n",
    "for label, model in zip(labels2, models2):\n",
    "    y_pred2SVM.append(pd.Series(enc.fit_transform(model.predict(X_test2)), name=label))\n",
    "y_pred2SVM = pd.concat(y_pred2SVM, axis=1)\n",
    "\n",
    "metrics2 = list()\n",
    "cm2 = dict()\n",
    "\n",
    "for label in labels2:\n",
    "\n",
    "    precision, recall, fscore, _ = score(y_test2SVM, y_pred2SVM[label], average='weighted')\n",
    "\n",
    "    accuracy = accuracy_score(y_test2SVM, y_pred2SVM[label])\n",
    "\n",
    "    auc = roc_auc_score(label_binarize(y_test2SVM, classes=[0,1,2]),\n",
    "              label_binarize(y_pred2SVM[label], classes=[0,1,2]),\n",
    "              average='weighted', multi_class='ovr')\n",
    "\n",
    "    cm2[label] = confusion_matrix(y_test2SVM, y_pred2SVM[label])\n",
    "\n",
    "    metrics2.append(pd.Series({'precision':precision, 'recall':recall, 'fscore':fscore, 'accuracy':accuracy, 'auc':auc }, name=label))\n",
    "\n",
    "metrics2 = pd.concat(metrics2, axis=1)\n",
    "\n",
    "metrics2\n",
    "\n"
   ]
  },
  {
   "cell_type": "code",
   "execution_count": 34,
   "metadata": {
    "pycharm": {
     "name": "#%%\n"
    }
   },
   "outputs": [
    {
     "data": {
      "image/png": "[encoded data removed]",
      "text/plain": [
       "<Figure size 1296x432 with 8 Axes>"
      ]
     },
     "metadata": {
      "needs_background": "light"
     },
     "output_type": "display_data"
    }
   ],
   "source": [
    "from sklearn import metrics\n",
    "\n",
    "fig, axList = plt.subplots(nrows=2, ncols=2)\n",
    "axList = axList.flatten()\n",
    "fig.set_size_inches(18, 6)\n",
    "\n",
    "for ax,label,model in zip(axList, labels, models):\n",
    "    plot_confusion_matrix(model, X_test, y_test_trueSVM, ax=ax)\n",
    "    ax.set(title=label)\n",
    "\n",
    "plt.tight_layout()"
   ]
  },
  {
   "cell_type": "code",
   "execution_count": 35,
   "metadata": {
    "pycharm": {
     "name": "#%%\n"
    }
   },
   "outputs": [
    {
     "data": {
      "image/png": "[encoded data removed]",
      "text/plain": [
       "<Figure size 1296x432 with 8 Axes>"
      ]
     },
     "metadata": {
      "needs_background": "light"
     },
     "output_type": "display_data"
    }
   ],
   "source": [
    "fig, axList = plt.subplots(nrows=2, ncols=2)\n",
    "axList = axList.flatten()\n",
    "fig.set_size_inches(18, 6)\n",
    "\n",
    "for ax,label,model in zip(axList, labels, models2):\n",
    "    plot_confusion_matrix(model, X_test2, y_test_true2SVM, ax=ax)\n",
    "    ax.set(title=label)\n",
    "\n",
    "plt.tight_layout()"
   ]
  },
  {
   "cell_type": "markdown",
   "metadata": {},
   "source": [
    "Next we will do a deep learning algorithm, CNN"
   ]
  },
  {
   "cell_type": "markdown",
   "metadata": {},
   "source": [
    "import the modules and get dataset"
   ]
  },
  {
   "cell_type": "code",
   "execution_count": 36,
   "metadata": {
    "pycharm": {
     "name": "#%%\n"
    }
   },
   "outputs": [],
   "source": [
    "import pandas as pd\n",
    "import numpy as np\n",
    "import warnings\n",
    "import cv2\n",
    "import data\n",
    "from PIL import Image\n",
    "import dlib\n",
    "warnings.filterwarnings(\"ignore\")\n"
   ]
  },
  {
   "cell_type": "markdown",
   "metadata": {},
   "source": [
    "import keras for the model training and layers"
   ]
  },
  {
   "cell_type": "code",
   "execution_count": 37,
   "metadata": {
    "pycharm": {
     "name": "#%%\n"
    }
   },
   "outputs": [],
   "source": [
    "from keras.layers import Activation, Convolution2D, Dropout, Conv2D\n",
    "from keras.layers import AveragePooling2D, BatchNormalization\n",
    "from keras.layers import GlobalAveragePooling2D\n",
    "from keras.models import Sequential\n",
    "from keras.layers import Flatten, Dense\n",
    "from keras.models import Model\n",
    "from keras.layers import Input\n",
    "from keras.layers import MaxPooling2D\n",
    "from keras.layers import SeparableConv2D\n",
    "from keras import layers\n",
    "from keras.regularizers import l2\n",
    "from tensorflow.keras.optimizers import RMSprop"
   ]
  },
  {
   "cell_type": "markdown",
   "metadata": {},
   "source": [
    "create the model with it's layers:"
   ]
  },
  {
   "cell_type": "code",
   "execution_count": 38,
   "metadata": {
    "pycharm": {
     "name": "#%%\n"
    }
   },
   "outputs": [
    {
     "name": "stdout",
     "output_type": "stream",
     "text": [
      "Model: \"sequential\"\n",
      "_________________________________________________________________\n",
      "Layer (type)                 Output Shape              Param #   \n",
      "=================================================================\n",
      "conv2d (Conv2D)              (None, 48, 48, 32)        832       \n",
      "_________________________________________________________________\n",
      "activation (Activation)      (None, 48, 48, 32)        0         \n",
      "_________________________________________________________________\n",
      "conv2d_1 (Conv2D)            (None, 44, 44, 32)        25632     \n",
      "_________________________________________________________________\n",
      "activation_1 (Activation)    (None, 44, 44, 32)        0         \n",
      "_________________________________________________________________\n",
      "max_pooling2d (MaxPooling2D) (None, 22, 22, 32)        0         \n",
      "_________________________________________________________________\n",
      "dropout (Dropout)            (None, 22, 22, 32)        0         \n",
      "_________________________________________________________________\n",
      "flatten (Flatten)            (None, 15488)             0         \n",
      "_________________________________________________________________\n",
      "dense (Dense)                (None, 512)               7930368   \n",
      "_________________________________________________________________\n",
      "activation_2 (Activation)    (None, 512)               0         \n",
      "_________________________________________________________________\n",
      "dropout_1 (Dropout)          (None, 512)               0         \n",
      "_________________________________________________________________\n",
      "dense_1 (Dense)              (None, 4)                 2052      \n",
      "_________________________________________________________________\n",
      "activation_3 (Activation)    (None, 4)                 0         \n",
      "=================================================================\n",
      "Total params: 7,958,884\n",
      "Trainable params: 7,958,884\n",
      "Non-trainable params: 0\n",
      "_________________________________________________________________\n"
     ]
    }
   ],
   "source": [
    "input_shape=(48, 48, 1)\n",
    "num_classes = 4\n",
    "\n",
    "model_1 = Sequential()\n",
    "model_1.add(Conv2D(32, (5, 5), strides = (1,1), padding='same', input_shape=input_shape))\n",
    "model_1.add(Activation('relu'))\n",
    "model_1.add(Conv2D(32, (5, 5), strides = (1,1)))\n",
    "model_1.add(Activation('relu'))\n",
    "model_1.add(MaxPooling2D(pool_size=(2, 2)))\n",
    "model_1.add(Dropout(0.25))\n",
    "model_1.add(Flatten())\n",
    "model_1.add(Dense(512))\n",
    "model_1.add(Activation('relu'))\n",
    "model_1.add(Dropout(0.5))\n",
    "model_1.add(Dense(num_classes))\n",
    "model_1.add(Activation('softmax'))\n",
    "\n",
    "model_1.summary()"
   ]
  },
  {
   "cell_type": "markdown",
   "metadata": {},
   "source": [
    "import data generator"
   ]
  },
  {
   "cell_type": "code",
   "execution_count": 39,
   "metadata": {
    "pycharm": {
     "name": "#%%\n"
    }
   },
   "outputs": [],
   "source": [
    "from keras.preprocessing.image import ImageDataGenerator\n"
   ]
  },
  {
   "cell_type": "markdown",
   "metadata": {},
   "source": [
    "compile the model:"
   ]
  },
  {
   "cell_type": "code",
   "execution_count": 40,
   "metadata": {
    "pycharm": {
     "name": "#%%\n"
    }
   },
   "outputs": [
    {
     "name": "stdout",
     "output_type": "stream",
     "text": [
      "WARNING:tensorflow:From <timed exec>:13: Model.fit_generator (from tensorflow.python.keras.engine.training) is deprecated and will be removed in a future version.\n",
      "Instructions for updating:\n",
      "Please use Model.fit, which supports generators.\n",
      "Epoch 1/20\n",
      "12/12 [==============================] - 1s 104ms/step - loss: 1.6320 - accuracy: 0.3151 - val_loss: 1.3523 - val_accuracy: 0.4375\n",
      "Epoch 2/20\n",
      "12/12 [==============================] - 1s 93ms/step - loss: 1.3101 - accuracy: 0.4297 - val_loss: 1.2947 - val_accuracy: 0.4375\n",
      "Epoch 3/20\n",
      "12/12 [==============================] - 1s 94ms/step - loss: 1.2250 - accuracy: 0.4297 - val_loss: 1.2224 - val_accuracy: 0.4375\n",
      "Epoch 4/20\n",
      "12/12 [==============================] - 1s 92ms/step - loss: 1.2048 - accuracy: 0.4349 - val_loss: 1.1942 - val_accuracy: 0.4375\n",
      "Epoch 5/20\n",
      "12/12 [==============================] - 1s 93ms/step - loss: 1.1352 - accuracy: 0.4714 - val_loss: 1.1007 - val_accuracy: 0.5521\n",
      "Epoch 6/20\n",
      "12/12 [==============================] - 1s 92ms/step - loss: 1.0644 - accuracy: 0.5339 - val_loss: 0.9358 - val_accuracy: 0.6354\n",
      "Epoch 7/20\n",
      "12/12 [==============================] - 1s 93ms/step - loss: 0.9547 - accuracy: 0.5964 - val_loss: 0.7808 - val_accuracy: 0.6771\n",
      "Epoch 8/20\n",
      "12/12 [==============================] - 1s 92ms/step - loss: 0.9122 - accuracy: 0.6302 - val_loss: 0.7420 - val_accuracy: 0.6979\n",
      "Epoch 9/20\n",
      "12/12 [==============================] - 1s 93ms/step - loss: 0.8557 - accuracy: 0.6432 - val_loss: 0.6877 - val_accuracy: 0.6875\n",
      "Epoch 10/20\n",
      "12/12 [==============================] - 1s 93ms/step - loss: 0.8081 - accuracy: 0.6667 - val_loss: 0.6901 - val_accuracy: 0.6875\n",
      "Epoch 11/20\n",
      "12/12 [==============================] - 1s 93ms/step - loss: 0.7593 - accuracy: 0.6953 - val_loss: 0.5970 - val_accuracy: 0.7500\n",
      "Epoch 12/20\n",
      "12/12 [==============================] - 1s 92ms/step - loss: 0.6573 - accuracy: 0.7240 - val_loss: 0.5646 - val_accuracy: 0.7604\n",
      "Epoch 13/20\n",
      "12/12 [==============================] - 1s 93ms/step - loss: 0.6926 - accuracy: 0.7240 - val_loss: 0.7452 - val_accuracy: 0.6667\n",
      "Epoch 14/20\n",
      "12/12 [==============================] - 1s 93ms/step - loss: 0.6280 - accuracy: 0.7396 - val_loss: 0.5520 - val_accuracy: 0.7812\n",
      "Epoch 15/20\n",
      "12/12 [==============================] - 1s 92ms/step - loss: 0.5609 - accuracy: 0.7578 - val_loss: 0.4666 - val_accuracy: 0.8333\n",
      "Epoch 16/20\n",
      "12/12 [==============================] - 1s 92ms/step - loss: 0.5336 - accuracy: 0.7943 - val_loss: 0.4414 - val_accuracy: 0.8438\n",
      "Epoch 17/20\n",
      "12/12 [==============================] - 1s 92ms/step - loss: 0.4673 - accuracy: 0.7995 - val_loss: 0.3646 - val_accuracy: 0.8542\n",
      "Epoch 18/20\n",
      "12/12 [==============================] - 1s 94ms/step - loss: 0.4830 - accuracy: 0.7865 - val_loss: 0.4393 - val_accuracy: 0.8438\n",
      "Epoch 19/20\n",
      "12/12 [==============================] - 1s 93ms/step - loss: 0.3843 - accuracy: 0.8698 - val_loss: 0.4152 - val_accuracy: 0.8229\n",
      "Epoch 20/20\n",
      "12/12 [==============================] - 1s 97ms/step - loss: 0.4625 - accuracy: 0.8125 - val_loss: 0.3730 - val_accuracy: 0.8646\n",
      "Wall time: 25.2 s\n"
     ]
    }
   ],
   "source": [
    "%%time\n",
    "# data generator Generate batches of tensor image data with real-time data augmentation\n",
    "data_generator = ImageDataGenerator(\n",
    "                        rotation_range=10,\n",
    "                        width_shift_range=0.1,\n",
    "                        height_shift_range=0.1,\n",
    "                        horizontal_flip=True)\n",
    "batch_size = 32\n",
    "opt = RMSprop(lr=0.0005, decay=1e-6)\n",
    "\n",
    "model_1.compile(optimizer='adam', loss='categorical_crossentropy',\n",
    "              metrics=['accuracy'])\n",
    "\n",
    "hist_model_1 = model_1.fit_generator(data_generator.flow(X_trainCNN, y_trainCNN,\n",
    "                                            batch_size),\n",
    "                        epochs=20, verbose=1,validation_data =val_data)"
   ]
  },
  {
   "cell_type": "markdown",
   "metadata": {},
   "source": [
    "Plot"
   ]
  },
  {
   "cell_type": "code",
   "execution_count": 42,
   "metadata": {
    "pycharm": {
     "name": "#%%\n"
    }
   },
   "outputs": [
    {
     "name": "stdout",
     "output_type": "stream",
     "text": [
      "3/3 [==============================] - 0s 9ms/step - loss: 0.3730 - accuracy: 0.8646\n"
     ]
    },
    {
     "data": {
      "image/png": "[encoded data removed]",
      "text/plain": [
       "<Figure size 432x288 with 1 Axes>"
      ]
     },
     "metadata": {
      "needs_background": "light"
     },
     "output_type": "display_data"
    }
   ],
   "source": [
    "import matplotlib.pyplot as plt\n",
    "%matplotlib inline\n",
    "score = model_1.evaluate(X_testCNN, y_testCNN, verbose=1)\n",
    "history_dict=hist_model_1.history\n",
    "history_dict.keys()\n",
    "\n",
    "train_loss_values = history_dict['loss']\n",
    "val_loss_values = history_dict['val_loss']\n",
    "\n",
    "epochs = range(1, len(history_dict['accuracy']) + 1)\n",
    "\n",
    "plt.plot(epochs, train_loss_values, 'r', label='Training loss')\n",
    "plt.plot(epochs, val_loss_values, 'b', label='Validation loss')\n",
    "plt.title('Training and validation loss')\n",
    "plt.xlabel('Epochs')\n",
    "plt.ylabel('Loss')\n",
    "plt.legend()\n",
    "plt.show()"
   ]
  },
  {
   "cell_type": "markdown",
   "metadata": {},
   "source": [
    "do the same with dataset2.csv"
   ]
  },
  {
   "cell_type": "code",
   "execution_count": null,
   "metadata": {
    "pycharm": {
     "name": "#%%\n"
    }
   },
   "outputs": [],
   "source": []
  },
  {
   "cell_type": "markdown",
   "metadata": {},
   "source": [
    "model:"
   ]
  },
  {
   "cell_type": "code",
   "execution_count": 43,
   "metadata": {
    "pycharm": {
     "name": "#%%\n"
    }
   },
   "outputs": [
    {
     "name": "stdout",
     "output_type": "stream",
     "text": [
      "Model: \"sequential_1\"\n",
      "_________________________________________________________________\n",
      "Layer (type)                 Output Shape              Param #   \n",
      "=================================================================\n",
      "conv2d_2 (Conv2D)            (None, 48, 48, 32)        832       \n",
      "_________________________________________________________________\n",
      "activation_4 (Activation)    (None, 48, 48, 32)        0         \n",
      "_________________________________________________________________\n",
      "conv2d_3 (Conv2D)            (None, 44, 44, 32)        25632     \n",
      "_________________________________________________________________\n",
      "activation_5 (Activation)    (None, 44, 44, 32)        0         \n",
      "_________________________________________________________________\n",
      "max_pooling2d_1 (MaxPooling2 (None, 22, 22, 32)        0         \n",
      "_________________________________________________________________\n",
      "dropout_2 (Dropout)          (None, 22, 22, 32)        0         \n",
      "_________________________________________________________________\n",
      "flatten_1 (Flatten)          (None, 15488)             0         \n",
      "_________________________________________________________________\n",
      "dense_2 (Dense)              (None, 512)               7930368   \n",
      "_________________________________________________________________\n",
      "activation_6 (Activation)    (None, 512)               0         \n",
      "_________________________________________________________________\n",
      "dropout_3 (Dropout)          (None, 512)               0         \n",
      "_________________________________________________________________\n",
      "dense_3 (Dense)              (None, 4)                 2052      \n",
      "_________________________________________________________________\n",
      "activation_7 (Activation)    (None, 4)                 0         \n",
      "=================================================================\n",
      "Total params: 7,958,884\n",
      "Trainable params: 7,958,884\n",
      "Non-trainable params: 0\n",
      "_________________________________________________________________\n"
     ]
    }
   ],
   "source": [
    "input_shape=(48, 48, 1)\n",
    "num_classes = 4\n",
    "\n",
    "model_2 = Sequential()\n",
    "\n",
    "model_2.add(Conv2D(32, (5, 5), strides = (1,1), padding='same', input_shape=input_shape))\n",
    "model_2.add(Activation('relu'))\n",
    "\n",
    "model_2.add(Conv2D(32, (5, 5), strides = (1,1)))\n",
    "model_2.add(Activation('relu'))\n",
    "\n",
    "model_2.add(MaxPooling2D(pool_size=(2, 2)))\n",
    "model_2.add(Dropout(0.25))\n",
    "\n",
    "model_2.add(Flatten())\n",
    "model_2.add(Dense(512))\n",
    "model_2.add(Activation('relu'))\n",
    "model_2.add(Dropout(0.5))\n",
    "model_2.add(Dense(num_classes))\n",
    "model_2.add(Activation('softmax'))\n",
    "\n",
    "model_2.summary()"
   ]
  },
  {
   "cell_type": "markdown",
   "metadata": {},
   "source": [
    "data generator"
   ]
  },
  {
   "cell_type": "code",
   "execution_count": 44,
   "metadata": {
    "pycharm": {
     "name": "#%%\n"
    }
   },
   "outputs": [
    {
     "name": "stdout",
     "output_type": "stream",
     "text": [
      "Epoch 1/20\n",
      "12/12 [==============================] - 1s 103ms/step - loss: 1.5988 - accuracy: 0.3854 - val_loss: 1.2658 - val_accuracy: 0.5000\n",
      "Epoch 2/20\n",
      "12/12 [==============================] - 1s 98ms/step - loss: 1.2556 - accuracy: 0.4401 - val_loss: 1.1887 - val_accuracy: 0.5521\n",
      "Epoch 3/20\n",
      "12/12 [==============================] - 1s 94ms/step - loss: 1.1836 - accuracy: 0.5052 - val_loss: 1.1016 - val_accuracy: 0.5729\n",
      "Epoch 4/20\n",
      "12/12 [==============================] - 1s 94ms/step - loss: 1.1347 - accuracy: 0.5104 - val_loss: 0.9957 - val_accuracy: 0.6562\n",
      "Epoch 5/20\n",
      "12/12 [==============================] - 1s 96ms/step - loss: 0.9823 - accuracy: 0.6068 - val_loss: 0.7582 - val_accuracy: 0.7604\n",
      "Epoch 6/20\n",
      "12/12 [==============================] - 1s 95ms/step - loss: 0.8478 - accuracy: 0.6380 - val_loss: 0.6107 - val_accuracy: 0.7604\n",
      "Epoch 7/20\n",
      "12/12 [==============================] - 1s 94ms/step - loss: 0.7280 - accuracy: 0.6849 - val_loss: 0.5879 - val_accuracy: 0.7292\n",
      "Epoch 8/20\n",
      "12/12 [==============================] - 1s 96ms/step - loss: 0.6658 - accuracy: 0.7344 - val_loss: 0.4691 - val_accuracy: 0.7812\n",
      "Epoch 9/20\n",
      "12/12 [==============================] - 1s 98ms/step - loss: 0.6476 - accuracy: 0.7240 - val_loss: 0.4572 - val_accuracy: 0.7812\n",
      "Epoch 10/20\n",
      "12/12 [==============================] - 1s 96ms/step - loss: 0.6031 - accuracy: 0.7292 - val_loss: 0.4085 - val_accuracy: 0.8229\n",
      "Epoch 11/20\n",
      "12/12 [==============================] - 1s 95ms/step - loss: 0.5289 - accuracy: 0.7786 - val_loss: 0.3770 - val_accuracy: 0.8750\n",
      "Epoch 12/20\n",
      "12/12 [==============================] - 1s 99ms/step - loss: 0.5138 - accuracy: 0.7812 - val_loss: 0.3663 - val_accuracy: 0.8438\n",
      "Epoch 13/20\n",
      "12/12 [==============================] - 1s 95ms/step - loss: 0.5256 - accuracy: 0.7917 - val_loss: 0.3423 - val_accuracy: 0.8750\n",
      "Epoch 14/20\n",
      "12/12 [==============================] - 1s 98ms/step - loss: 0.4904 - accuracy: 0.7995 - val_loss: 0.3538 - val_accuracy: 0.8646\n",
      "Epoch 15/20\n",
      "12/12 [==============================] - 1s 94ms/step - loss: 0.4413 - accuracy: 0.8099 - val_loss: 0.3201 - val_accuracy: 0.8854\n",
      "Epoch 16/20\n",
      "12/12 [==============================] - 1s 93ms/step - loss: 0.4198 - accuracy: 0.8438 - val_loss: 0.3004 - val_accuracy: 0.8646\n",
      "Epoch 17/20\n",
      "12/12 [==============================] - 1s 91ms/step - loss: 0.4262 - accuracy: 0.8203 - val_loss: 0.2927 - val_accuracy: 0.8958\n",
      "Epoch 18/20\n",
      "12/12 [==============================] - 1s 94ms/step - loss: 0.4140 - accuracy: 0.8333 - val_loss: 0.3714 - val_accuracy: 0.8438\n",
      "Epoch 19/20\n",
      "12/12 [==============================] - 1s 92ms/step - loss: 0.3858 - accuracy: 0.8464 - val_loss: 0.3128 - val_accuracy: 0.8646\n",
      "Epoch 20/20\n",
      "12/12 [==============================] - 1s 93ms/step - loss: 0.4049 - accuracy: 0.8281 - val_loss: 0.2727 - val_accuracy: 0.8854\n"
     ]
    }
   ],
   "source": [
    "data_generator2 = ImageDataGenerator(\n",
    "                        rotation_range=10,\n",
    "                        width_shift_range=0.1,\n",
    "                        height_shift_range=0.1,\n",
    "                        horizontal_flip=True)\n",
    "batch_size = 32\n",
    "opt2 = RMSprop(lr=0.0005, decay=1e-6)\n",
    "\n",
    "model_2.compile(optimizer='adam', loss='categorical_crossentropy',\n",
    "              metrics=['accuracy'])\n",
    "\n",
    "hist_model_2 = model_2.fit_generator(data_generator2.flow(X_train2CNN, y_train2CNN,\n",
    "                                            batch_size),\n",
    "                        epochs=20, verbose=1,validation_data =val_data2)"
   ]
  },
  {
   "cell_type": "markdown",
   "metadata": {},
   "source": [
    "plot"
   ]
  },
  {
   "cell_type": "code",
   "execution_count": 45,
   "metadata": {
    "pycharm": {
     "name": "#%%\n"
    }
   },
   "outputs": [
    {
     "name": "stdout",
     "output_type": "stream",
     "text": [
      "3/3 [==============================] - 0s 9ms/step - loss: 0.2727 - accuracy: 0.8854\n"
     ]
    },
    {
     "data": {
      "image/png": "[encoded data removed]",
      "text/plain": [
       "<Figure size 432x288 with 1 Axes>"
      ]
     },
     "metadata": {
      "needs_background": "light"
     },
     "output_type": "display_data"
    }
   ],
   "source": [
    "score2 = model_2.evaluate(X_test2CNN, y_test2CNN, verbose=1)\n",
    "history_dict2=hist_model_2.history\n",
    "history_dict2.keys()\n",
    "\n",
    "train_loss_values2 = history_dict2['loss']\n",
    "val_loss_values2 = history_dict2['val_loss']\n",
    "\n",
    "epochs2 = range(1, len(history_dict2['accuracy']) + 1)\n",
    "\n",
    "plt.plot(epochs2, train_loss_values2, 'r', label='Training loss')\n",
    "plt.plot(epochs2, val_loss_values2, 'b', label='Validation loss')\n",
    "plt.title('Training and validation loss')\n",
    "plt.xlabel('Epochs')\n",
    "plt.ylabel('Loss')\n",
    "plt.legend()\n",
    "plt.show()"
   ]
  },
  {
   "cell_type": "markdown",
   "metadata": {},
   "source": [
    "compare classification metrics\n"
   ]
  },
  {
   "cell_type": "code",
   "execution_count": 46,
   "metadata": {
    "pycharm": {
     "name": "#%%\n"
    }
   },
   "outputs": [
    {
     "name": "stdout",
     "output_type": "stream",
     "text": [
      "WARNING:tensorflow:From <ipython-input-46-004dbc548a17>:8: Sequential.predict_classes (from tensorflow.python.keras.engine.sequential) is deprecated and will be removed after 2021-01-01.\n",
      "Instructions for updating:\n",
      "Please use instead:* `np.argmax(model.predict(x), axis=-1)`,   if your model does multi-class classification   (e.g. if it uses a `softmax` last-layer activation).* `(model.predict(x) > 0.5).astype(\"int32\")`,   if your model does binary classification   (e.g. if it uses a `sigmoid` last-layer activation).\n"
     ]
    },
    {
     "data": {
      "text/html": [
       "<div>\n",
       "<style scoped>\n",
       "    .dataframe tbody tr th:only-of-type {\n",
       "        vertical-align: middle;\n",
       "    }\n",
       "\n",
       "    .dataframe tbody tr th {\n",
       "        vertical-align: top;\n",
       "    }\n",
       "\n",
       "    .dataframe thead th {\n",
       "        text-align: right;\n",
       "    }\n",
       "</style>\n",
       "<table border=\"1\" class=\"dataframe\">\n",
       "  <thead>\n",
       "    <tr style=\"text-align: right;\">\n",
       "      <th></th>\n",
       "      <th>model1</th>\n",
       "      <th>model2</th>\n",
       "    </tr>\n",
       "  </thead>\n",
       "  <tbody>\n",
       "    <tr>\n",
       "      <th>precision</th>\n",
       "      <td>0.863986</td>\n",
       "      <td>0.900942</td>\n",
       "    </tr>\n",
       "    <tr>\n",
       "      <th>recall</th>\n",
       "      <td>0.864583</td>\n",
       "      <td>0.885417</td>\n",
       "    </tr>\n",
       "    <tr>\n",
       "      <th>fscore</th>\n",
       "      <td>0.849425</td>\n",
       "      <td>0.880438</td>\n",
       "    </tr>\n",
       "    <tr>\n",
       "      <th>accuracy</th>\n",
       "      <td>0.864583</td>\n",
       "      <td>0.885417</td>\n",
       "    </tr>\n",
       "    <tr>\n",
       "      <th>auc</th>\n",
       "      <td>0.964843</td>\n",
       "      <td>0.989677</td>\n",
       "    </tr>\n",
       "  </tbody>\n",
       "</table>\n",
       "</div>"
      ],
      "text/plain": [
       "             model1    model2\n",
       "precision  0.863986  0.900942\n",
       "recall     0.864583  0.885417\n",
       "fscore     0.849425  0.880438\n",
       "accuracy   0.864583  0.885417\n",
       "auc        0.964843  0.989677"
      ]
     },
     "execution_count": 46,
     "metadata": {},
     "output_type": "execute_result"
    }
   ],
   "source": [
    "from sklearn.metrics import precision_recall_fscore_support as score\n",
    "from sklearn.metrics import confusion_matrix, accuracy_score, roc_auc_score\n",
    "import seaborn as sns\n",
    "\n",
    "metrics = list()\n",
    "cm = dict()\n",
    "y_predCNN = model_1.predict(X_testCNN)\n",
    "y_pred_class = model_1.predict_classes(X_testCNN, verbose=0)\n",
    "rounded_labels = np.argmax(y_testCNN, axis=1)\n",
    "\n",
    "precision, recall, fscore, _ = score(rounded_labels, y_pred_class, average='weighted')\n",
    "accuracy = accuracy_score(rounded_labels, y_pred_class)\n",
    "auc = roc_auc_score(y_testCNN, y_predCNN)\n",
    "metrics.append(pd.Series({'precision':precision, 'recall':recall, 'fscore':fscore, 'accuracy':accuracy, 'auc':auc}, name=\"model1\"))\n",
    "cm = confusion_matrix(rounded_labels,y_pred_class)\n",
    "\n",
    "metrics2 = list()\n",
    "cm2 = dict()\n",
    "y_pred2CNN = model_2.predict(X_test2CNN)\n",
    "y_pred_class2 = model_2.predict_classes(X_test2CNN, verbose=0)\n",
    "rounded_labels2 = np.argmax(y_test2CNN, axis=1)\n",
    "\n",
    "precision2, recall2, fscore2, _ = score(rounded_labels2, y_pred_class2, average='weighted')\n",
    "accuracy2 = accuracy_score(rounded_labels2, y_pred_class2)\n",
    "auc2 = roc_auc_score(y_test2CNN, y_pred2CNN)\n",
    "metrics2.append(pd.Series({'precision':precision2, 'recall':recall2, 'fscore':fscore2, 'accuracy':accuracy2, 'auc':auc2}, name=\"model2\"))\n",
    "cm2 = confusion_matrix(rounded_labels2,y_pred_class2)\n",
    "m = metrics + metrics2\n",
    "metrics = pd.concat(m, axis=1)\n",
    "\n",
    "metrics\n"
   ]
  },
  {
   "cell_type": "code",
   "execution_count": null,
   "metadata": {
    "pycharm": {
     "name": "#%%\n"
    }
   },
   "outputs": [],
   "source": [
    "\n",
    "ax = sns.heatmap(cm, annot=True, fmt='d')\n",
    "\n"
   ]
  },
  {
   "cell_type": "code",
   "execution_count": null,
   "metadata": {
    "pycharm": {
     "name": "#%%\n"
    }
   },
   "outputs": [],
   "source": [
    "\n",
    "ax2 = sns.heatmap(cm2, annot=True, fmt='d')"
   ]
  },
  {
   "cell_type": "code",
   "execution_count": null,
   "metadata": {
    "pycharm": {
     "name": "#%%\n"
    }
   },
   "outputs": [],
   "source": [
    "mn = list()\n",
    "m_new = metricsKNN + metrics\n",
    "\n",
    "mn = pd.concat(m_new, axis=1)\n",
    "\n",
    "mn\n"
   ]
  }
 ],
 "metadata": {
  "kernelspec": {
   "display_name": "Python 3",
   "language": "python",
   "name": "python3"
  },
  "language_info": {
   "codemirror_mode": {
    "name": "ipython",
    "version": 3
   },
   "file_extension": ".py",
   "mimetype": "text/x-python",
   "name": "python",
   "nbconvert_exporter": "python",
   "pygments_lexer": "ipython3",
   "version": "3.8.8"
  }
 },
 "nbformat": 4,
 "nbformat_minor": 1
}
