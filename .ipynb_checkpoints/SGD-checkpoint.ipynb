{
 "cells": [
  {
   "cell_type": "code",
   "execution_count": 1,
   "metadata": {},
   "outputs": [],
   "source": [
    "import pandas as pd\n",
    "import math\n",
    "import cv2\n",
    "import dlib\n",
    "import time\n",
    "from collections import Counter\n",
    "import pandas as pd\n",
    "from PIL import Image\n",
    "import numpy as np\n",
    "from sklearn.model_selection import train_test_split\n",
    "from sklearn.linear_model import SGDClassifier"
   ]
  },
  {
   "cell_type": "code",
   "execution_count": 2,
   "metadata": {},
   "outputs": [],
   "source": [
    "data = pd.read_csv(\"dataset.csv\")\n",
    "df = pd.DataFrame(data=data)\n",
    "pixels = df[\"pixels\"].str.split()\n",
    "\n",
    "count = 0\n",
    "for i in pixels:\n",
    "    ci = 0\n",
    "    for b in i:\n",
    "        i[ci] = int(b)\n",
    "        ci += 1\n",
    "    pixels[count] = i\n",
    "    count += 1\n",
    "\n",
    "x = pixels.tolist()\n",
    "y = df['emotion']\n",
    "\n",
    "X_train, X_test, y_train, y_test = train_test_split(x, y, test_size=0.33, random_state=42)\n",
    "\n",
    "SDGclass = SGDClassifier(loss='log', alpha=0.1, penalty='l2')"
   ]
  },
  {
   "cell_type": "code",
   "execution_count": 3,
   "metadata": {
    "tags": []
   },
   "outputs": [],
   "source": [
    "SDGclass = SDGclass.fit(X_train, y_train)\n",
    "y_pred = SDGclass.predict(X_test)"
   ]
  },
  {
   "cell_type": "code",
   "execution_count": 4,
   "metadata": {},
   "outputs": [
    {
     "name": "stdout",
     "output_type": "stream",
     "text": [
      "90.56603773584906\n"
     ]
    }
   ],
   "source": [
    "from sklearn.metrics import accuracy_score\n",
    "print(accuracy_score(y_test, y_pred)*100)"
   ]
  },
  {
   "cell_type": "code",
   "execution_count": 5,
   "metadata": {},
   "outputs": [
    {
     "name": "stdout",
     "output_type": "stream",
     "text": [
      "31.446540880503143\n"
     ]
    }
   ],
   "source": [
    "data2 = pd.read_csv(\"dataset2.csv\")\n",
    "df2 = pd.DataFrame(data=data2)\n",
    "pixels2 = df2[\"pixels\"].str.split()\n",
    "\n",
    "count = 0\n",
    "for i in pixels2:\n",
    "    ci = 0\n",
    "    for b in i:\n",
    "        i[ci] = int(b)\n",
    "        ci += 1\n",
    "    pixels2[count] = i\n",
    "    count += 1\n",
    "\n",
    "x2 = pixels2.tolist()\n",
    "y2 = df2['emotion']\n",
    "\n",
    "X_train2, X_test2, y_train2, y_test2 = train_test_split(x2, y2, test_size=0.33, random_state=42)\n",
    "\n",
    "SDGclass2 = SGDClassifier(loss='log', alpha=0.1, penalty='l2')\n",
    "\n",
    "SDGclass2 = SDGclass2.fit(X_train2, y_train2)\n",
    "y_pred2 = SDGclass2.predict(X_test2)\n",
    "\n",
    "print(accuracy_score(y_test2, y_pred2)*100)"
   ]
  }
 ],
 "metadata": {
  "kernelspec": {
   "display_name": "PyCharm (MinorAI)",
   "language": "python",
   "name": "pycharm-e0e2df46"
  },
  "language_info": {
   "codemirror_mode": {
    "name": "ipython",
    "version": 3
   },
   "file_extension": ".py",
   "mimetype": "text/x-python",
   "name": "python",
   "nbconvert_exporter": "python",
   "pygments_lexer": "ipython3",
   "version": "3.8.8"
  }
 },
 "nbformat": 4,
 "nbformat_minor": 2
}
