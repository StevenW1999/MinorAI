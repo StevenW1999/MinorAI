{
 "cells": [
  {
   "cell_type": "markdown",
   "metadata": {
    "collapsed": true,
    "pycharm": {
     "name": "#%% md\n"
    }
   },
   "source": [
    "import the modules and get dataset"
   ]
  },
  {
   "cell_type": "code",
   "execution_count": 1,
   "metadata": {
    "pycharm": {
     "name": "#%%\n"
    }
   },
   "outputs": [],
   "source": [
    "import pandas as pd\n",
    "import numpy as np\n",
    "import warnings\n",
    "import cv2\n",
    "import data\n",
    "from PIL import Image\n",
    "import dlib\n",
    "import data_process\n",
    "from sklearn.model_selection import train_test_split\n",
    "warnings.filterwarnings(\"ignore\")\n"
   ]
  },
  {
   "cell_type": "code",
   "execution_count": 2,
   "metadata": {
    "pycharm": {
     "name": "#%%\n"
    }
   },
   "outputs": [],
   "source": [
    "x,y, a = data_process.process_data('dataset.csv', \"CNN\")\n",
    "\n",
    "X_train, X_test, y_train, y_test = train_test_split(x, y, test_size=0.2, random_state=42)\n",
    "val_data = (X_test,y_test)"
   ]
  },
  {
   "cell_type": "markdown",
   "metadata": {},
   "source": [
    "import keras for the model training and layers"
   ]
  },
  {
   "cell_type": "code",
   "execution_count": 3,
   "metadata": {
    "pycharm": {
     "name": "#%%\n"
    }
   },
   "outputs": [],
   "source": [
    "from keras.layers import Activation, Convolution2D, Dropout, Conv2D\n",
    "from keras.layers import AveragePooling2D, BatchNormalization\n",
    "from keras.layers import GlobalAveragePooling2D\n",
    "from keras.models import Sequential\n",
    "from keras.layers import Flatten, Dense\n",
    "from keras.models import Model\n",
    "from keras.layers import Input\n",
    "from keras.layers import MaxPooling2D,ZeroPadding2D, MaxPool2D\n",
    "from keras.layers import SeparableConv2D\n",
    "from keras import layers\n",
    "from keras.regularizers import l2\n",
    "from tensorflow.keras.optimizers import RMSprop"
   ]
  },
  {
   "cell_type": "markdown",
   "metadata": {},
   "source": [
    "create the model with it's layers:"
   ]
  },
  {
   "cell_type": "code",
   "execution_count": 45,
   "metadata": {
    "pycharm": {
     "name": "#%%\n"
    }
   },
   "outputs": [
    {
     "name": "stdout",
     "output_type": "stream",
     "text": [
      "Model: \"sequential_8\"\n",
      "_________________________________________________________________\n",
      "Layer (type)                 Output Shape              Param #   \n",
      "=================================================================\n",
      "conv2d_25 (Conv2D)           (None, 24, 24, 32)        832       \n",
      "_________________________________________________________________\n",
      "activation_41 (Activation)   (None, 24, 24, 32)        0         \n",
      "_________________________________________________________________\n",
      "conv2d_26 (Conv2D)           (None, 10, 10, 32)        25632     \n",
      "_________________________________________________________________\n",
      "activation_42 (Activation)   (None, 10, 10, 32)        0         \n",
      "_________________________________________________________________\n",
      "max_pooling2d_13 (MaxPooling (None, 5, 5, 32)          0         \n",
      "_________________________________________________________________\n",
      "dropout_21 (Dropout)         (None, 5, 5, 32)          0         \n",
      "_________________________________________________________________\n",
      "flatten_8 (Flatten)          (None, 800)               0         \n",
      "_________________________________________________________________\n",
      "dense_16 (Dense)             (None, 512)               410112    \n",
      "_________________________________________________________________\n",
      "activation_43 (Activation)   (None, 512)               0         \n",
      "_________________________________________________________________\n",
      "dropout_22 (Dropout)         (None, 512)               0         \n",
      "_________________________________________________________________\n",
      "dense_17 (Dense)             (None, 4)                 2052      \n",
      "_________________________________________________________________\n",
      "activation_44 (Activation)   (None, 4)                 0         \n",
      "=================================================================\n",
      "Total params: 438,628\n",
      "Trainable params: 438,628\n",
      "Non-trainable params: 0\n",
      "_________________________________________________________________\n"
     ]
    }
   ],
   "source": [
    "input_shape=(48, 48, 1)\n",
    "num_classes = 4\n",
    "\n",
    "model_1 = Sequential()\n",
    "model_1.add(Conv2D(32, (5, 5), strides = (1,1), padding='same', input_shape=input_shape))\n",
    "model_1.add(Activation('relu'))\n",
    "model_1.add(Conv2D(32, (5, 5), strides = (1,1)))\n",
    "model_1.add(Activation('relu'))\n",
    "model_1.add(MaxPooling2D(pool_size=(2, 2)))\n",
    "model_1.add(Dropout(0.25))\n",
    "model_1.add(Flatten())\n",
    "model_1.add(Dense(512))\n",
    "model_1.add(Activation('relu'))\n",
    "model_1.add(Dropout(0.5))\n",
    "model_1.add(Dense(num_classes))\n",
    "model_1.add(Activation('softmax'))\n",
    "\n",
    "model_1.summary()"
   ]
  },
  {
   "cell_type": "markdown",
   "metadata": {},
   "source": [
    "import data generator"
   ]
  },
  {
   "cell_type": "code",
   "execution_count": 46,
   "metadata": {
    "pycharm": {
     "name": "#%%\n"
    }
   },
   "outputs": [],
   "source": [
    "from keras.preprocessing.image import ImageDataGenerator\n"
   ]
  },
  {
   "cell_type": "markdown",
   "metadata": {},
   "source": [
    "compile the model:"
   ]
  },
  {
   "cell_type": "code",
   "execution_count": 47,
   "metadata": {
    "pycharm": {
     "name": "#%%\n"
    }
   },
   "outputs": [
    {
     "name": "stdout",
     "output_type": "stream",
     "text": [
      "Epoch 1/20\n",
      "12/12 [==============================] - 0s 21ms/step - loss: 1.2805 - accuracy: 0.4219 - val_loss: 1.2576 - val_accuracy: 0.4375\n",
      "Epoch 2/20\n",
      "12/12 [==============================] - 0s 13ms/step - loss: 1.1880 - accuracy: 0.4557 - val_loss: 1.1540 - val_accuracy: 0.5208\n",
      "Epoch 3/20\n",
      "12/12 [==============================] - 0s 13ms/step - loss: 1.0818 - accuracy: 0.5260 - val_loss: 0.9574 - val_accuracy: 0.6562\n",
      "Epoch 4/20\n",
      "12/12 [==============================] - 0s 12ms/step - loss: 0.9059 - accuracy: 0.6328 - val_loss: 0.7854 - val_accuracy: 0.6979\n",
      "Epoch 5/20\n",
      "12/12 [==============================] - 0s 12ms/step - loss: 0.7453 - accuracy: 0.6797 - val_loss: 0.7109 - val_accuracy: 0.6979\n",
      "Epoch 6/20\n",
      "12/12 [==============================] - 0s 12ms/step - loss: 0.6894 - accuracy: 0.6953 - val_loss: 0.6055 - val_accuracy: 0.7500\n",
      "Epoch 7/20\n",
      "12/12 [==============================] - 0s 12ms/step - loss: 0.6120 - accuracy: 0.7318 - val_loss: 0.5327 - val_accuracy: 0.7396\n",
      "Epoch 8/20\n",
      "12/12 [==============================] - 0s 13ms/step - loss: 0.5580 - accuracy: 0.7682 - val_loss: 0.4653 - val_accuracy: 0.7812\n",
      "Epoch 9/20\n",
      "12/12 [==============================] - 0s 13ms/step - loss: 0.5713 - accuracy: 0.7370 - val_loss: 0.4540 - val_accuracy: 0.8438\n",
      "Epoch 10/20\n",
      "12/12 [==============================] - 0s 13ms/step - loss: 0.5220 - accuracy: 0.7812 - val_loss: 0.4691 - val_accuracy: 0.7812\n",
      "Epoch 11/20\n",
      "12/12 [==============================] - 0s 13ms/step - loss: 0.5352 - accuracy: 0.7734 - val_loss: 0.4867 - val_accuracy: 0.7917\n",
      "Epoch 12/20\n",
      "12/12 [==============================] - 0s 12ms/step - loss: 0.4942 - accuracy: 0.7891 - val_loss: 0.4346 - val_accuracy: 0.8125\n",
      "Epoch 13/20\n",
      "12/12 [==============================] - 0s 12ms/step - loss: 0.4973 - accuracy: 0.7969 - val_loss: 0.4818 - val_accuracy: 0.7604\n",
      "Epoch 14/20\n",
      "12/12 [==============================] - 0s 12ms/step - loss: 0.4645 - accuracy: 0.7943 - val_loss: 0.3860 - val_accuracy: 0.8542\n",
      "Epoch 15/20\n",
      "12/12 [==============================] - 0s 12ms/step - loss: 0.4487 - accuracy: 0.8359 - val_loss: 0.3795 - val_accuracy: 0.8542\n",
      "Epoch 16/20\n",
      "12/12 [==============================] - 0s 12ms/step - loss: 0.4230 - accuracy: 0.7943 - val_loss: 0.3800 - val_accuracy: 0.8229\n",
      "Epoch 17/20\n",
      "12/12 [==============================] - 0s 13ms/step - loss: 0.4136 - accuracy: 0.8125 - val_loss: 0.3406 - val_accuracy: 0.8750\n",
      "Epoch 18/20\n",
      "12/12 [==============================] - 0s 13ms/step - loss: 0.3627 - accuracy: 0.8411 - val_loss: 0.2828 - val_accuracy: 0.8854\n",
      "Epoch 19/20\n",
      "12/12 [==============================] - 0s 13ms/step - loss: 0.3541 - accuracy: 0.8594 - val_loss: 0.2576 - val_accuracy: 0.9167\n",
      "Epoch 20/20\n",
      "12/12 [==============================] - 0s 13ms/step - loss: 0.3712 - accuracy: 0.8516 - val_loss: 0.2866 - val_accuracy: 0.8958\n",
      "Wall time: 4.56 s\n"
     ]
    }
   ],
   "source": [
    "%%time\n",
    "# data generator Generate batches of tensor image data with real-time data augmentation\n",
    "data_generator = ImageDataGenerator(\n",
    "                        rotation_range=10,\n",
    "                        width_shift_range=0.1,\n",
    "                        height_shift_range=0.1,\n",
    "                        horizontal_flip=True)\n",
    "batch_size = 32\n",
    "opt = RMSprop(lr=0.0005, decay=1e-6)\n",
    "\n",
    "model_1.compile(optimizer='adam', loss='categorical_crossentropy',\n",
    "              metrics=['accuracy'])\n",
    "\n",
    "hist_model_1 = model_1.fit_generator(data_generator.flow(X_train, y_train,\n",
    "                                            batch_size),\n",
    "                        epochs=20, verbose=1,validation_data =val_data)"
   ]
  },
  {
   "cell_type": "markdown",
   "metadata": {},
   "source": [
    "Plot"
   ]
  },
  {
   "cell_type": "code",
   "execution_count": 48,
   "metadata": {
    "pycharm": {
     "name": "#%%\n"
    }
   },
   "outputs": [
    {
     "name": "stdout",
     "output_type": "stream",
     "text": [
      "3/3 [==============================] - 0s 2ms/step - loss: 0.2866 - accuracy: 0.8958\n"
     ]
    },
    {
     "data": {
      "image/png": "[encoded data removed]",
      "text/plain": [
       "<Figure size 432x288 with 1 Axes>"
      ]
     },
     "metadata": {
      "needs_background": "light"
     },
     "output_type": "display_data"
    }
   ],
   "source": [
    "import matplotlib.pyplot as plt\n",
    "%matplotlib inline\n",
    "score = model_1.evaluate(X_test, y_test, verbose=1)\n",
    "history_dict=hist_model_1.history\n",
    "history_dict.keys()\n",
    "\n",
    "train_loss_values = history_dict['loss']\n",
    "val_loss_values = history_dict['val_loss']\n",
    "\n",
    "epochs = range(1, len(history_dict['accuracy']) + 1)\n",
    "\n",
    "plt.plot(epochs, train_loss_values, 'r', label='Training loss')\n",
    "plt.plot(epochs, val_loss_values, 'b', label='Validation loss')\n",
    "plt.title('Training and validation loss')\n",
    "plt.xlabel('Epochs')\n",
    "plt.ylabel('Loss')\n",
    "plt.legend()\n",
    "plt.show()"
   ]
  },
  {
   "cell_type": "markdown",
   "metadata": {},
   "source": [
    "do the same with dataset2.csv"
   ]
  },
  {
   "cell_type": "code",
   "execution_count": 49,
   "metadata": {
    "pycharm": {
     "name": "#%%\n"
    }
   },
   "outputs": [],
   "source": [
    "x2, y2, a2= data_process.process_data('dataset2.csv', \"CNN\")\n",
    "X_train2, X_test2, y_train2, y_test2 = train_test_split(x2, y2, test_size=0.2, random_state=42)\n",
    "val_data2 = (X_test2,y_test2)\n"
   ]
  },
  {
   "cell_type": "markdown",
   "metadata": {
    "pycharm": {
     "name": "#%% md\n"
    }
   },
   "source": [
    "model:"
   ]
  },
  {
   "cell_type": "code",
   "execution_count": 50,
   "metadata": {
    "pycharm": {
     "name": "#%%\n"
    }
   },
   "outputs": [
    {
     "name": "stdout",
     "output_type": "stream",
     "text": [
      "Model: \"sequential_9\"\n",
      "_________________________________________________________________\n",
      "Layer (type)                 Output Shape              Param #   \n",
      "=================================================================\n",
      "conv2d_27 (Conv2D)           (None, 24, 24, 32)        832       \n",
      "_________________________________________________________________\n",
      "activation_45 (Activation)   (None, 24, 24, 32)        0         \n",
      "_________________________________________________________________\n",
      "conv2d_28 (Conv2D)           (None, 10, 10, 32)        25632     \n",
      "_________________________________________________________________\n",
      "activation_46 (Activation)   (None, 10, 10, 32)        0         \n",
      "_________________________________________________________________\n",
      "max_pooling2d_14 (MaxPooling (None, 5, 5, 32)          0         \n",
      "_________________________________________________________________\n",
      "dropout_23 (Dropout)         (None, 5, 5, 32)          0         \n",
      "_________________________________________________________________\n",
      "flatten_9 (Flatten)          (None, 800)               0         \n",
      "_________________________________________________________________\n",
      "dense_18 (Dense)             (None, 512)               410112    \n",
      "_________________________________________________________________\n",
      "activation_47 (Activation)   (None, 512)               0         \n",
      "_________________________________________________________________\n",
      "dropout_24 (Dropout)         (None, 512)               0         \n",
      "_________________________________________________________________\n",
      "dense_19 (Dense)             (None, 4)                 2052      \n",
      "_________________________________________________________________\n",
      "activation_48 (Activation)   (None, 4)                 0         \n",
      "=================================================================\n",
      "Total params: 438,628\n",
      "Trainable params: 438,628\n",
      "Non-trainable params: 0\n",
      "_________________________________________________________________\n"
     ]
    }
   ],
   "source": [
    "input_shape=(48, 48, 1)\n",
    "num_classes = 4\n",
    "\n",
    "model_2 = Sequential()\n",
    "\n",
    "model_2.add(Conv2D(32, (5, 5), strides = (1,1), padding='same', input_shape=input_shape))\n",
    "model_2.add(Activation('relu'))\n",
    "\n",
    "model_2.add(Conv2D(32, (5, 5), strides = (1,1)))\n",
    "model_2.add(Activation('relu'))\n",
    "\n",
    "model_2.add(MaxPooling2D(pool_size=(2, 2)))\n",
    "model_2.add(Dropout(0.25))\n",
    "\n",
    "model_2.add(Flatten())\n",
    "model_2.add(Dense(512))\n",
    "model_2.add(Activation('relu'))\n",
    "model_2.add(Dropout(0.5))\n",
    "model_2.add(Dense(num_classes))\n",
    "model_2.add(Activation('softmax'))\n",
    "\n",
    "model_2.summary()"
   ]
  },
  {
   "cell_type": "markdown",
   "metadata": {},
   "source": [
    "data generator"
   ]
  },
  {
   "cell_type": "code",
   "execution_count": 51,
   "metadata": {
    "pycharm": {
     "name": "#%%\n"
    }
   },
   "outputs": [
    {
     "name": "stdout",
     "output_type": "stream",
     "text": [
      "Epoch 1/20\n",
      "12/12 [==============================] - 0s 20ms/step - loss: 1.2494 - accuracy: 0.4167 - val_loss: 1.1715 - val_accuracy: 0.4688\n",
      "Epoch 2/20\n",
      "12/12 [==============================] - 0s 13ms/step - loss: 1.2034 - accuracy: 0.4505 - val_loss: 1.0669 - val_accuracy: 0.5208\n",
      "Epoch 3/20\n",
      "12/12 [==============================] - 0s 12ms/step - loss: 1.0586 - accuracy: 0.5651 - val_loss: 0.8862 - val_accuracy: 0.6771\n",
      "Epoch 4/20\n",
      "12/12 [==============================] - 0s 13ms/step - loss: 0.9201 - accuracy: 0.6328 - val_loss: 0.6522 - val_accuracy: 0.7396\n",
      "Epoch 5/20\n",
      "12/12 [==============================] - 0s 12ms/step - loss: 0.7856 - accuracy: 0.6823 - val_loss: 0.5655 - val_accuracy: 0.7604\n",
      "Epoch 6/20\n",
      "12/12 [==============================] - 0s 13ms/step - loss: 0.7015 - accuracy: 0.7240 - val_loss: 0.5769 - val_accuracy: 0.7188\n",
      "Epoch 7/20\n",
      "12/12 [==============================] - 0s 13ms/step - loss: 0.7234 - accuracy: 0.6823 - val_loss: 0.5039 - val_accuracy: 0.7396\n",
      "Epoch 8/20\n",
      "12/12 [==============================] - 0s 13ms/step - loss: 0.6486 - accuracy: 0.7109 - val_loss: 0.5131 - val_accuracy: 0.7500\n",
      "Epoch 9/20\n",
      "12/12 [==============================] - 0s 13ms/step - loss: 0.5985 - accuracy: 0.7448 - val_loss: 0.4645 - val_accuracy: 0.7917\n",
      "Epoch 10/20\n",
      "12/12 [==============================] - 0s 13ms/step - loss: 0.6554 - accuracy: 0.7161 - val_loss: 0.5368 - val_accuracy: 0.7604\n",
      "Epoch 11/20\n",
      "12/12 [==============================] - 0s 13ms/step - loss: 0.5990 - accuracy: 0.7188 - val_loss: 0.4612 - val_accuracy: 0.8021\n",
      "Epoch 12/20\n",
      "12/12 [==============================] - 0s 13ms/step - loss: 0.5584 - accuracy: 0.7708 - val_loss: 0.4904 - val_accuracy: 0.7708\n",
      "Epoch 13/20\n",
      "12/12 [==============================] - 0s 12ms/step - loss: 0.4959 - accuracy: 0.7812 - val_loss: 0.4226 - val_accuracy: 0.7708\n",
      "Epoch 14/20\n",
      "12/12 [==============================] - 0s 12ms/step - loss: 0.5743 - accuracy: 0.7578 - val_loss: 0.4161 - val_accuracy: 0.8229\n",
      "Epoch 15/20\n",
      "12/12 [==============================] - 0s 12ms/step - loss: 0.5424 - accuracy: 0.7448 - val_loss: 0.4088 - val_accuracy: 0.8229\n",
      "Epoch 16/20\n",
      "12/12 [==============================] - 0s 12ms/step - loss: 0.4883 - accuracy: 0.7917 - val_loss: 0.4050 - val_accuracy: 0.8125\n",
      "Epoch 17/20\n",
      "12/12 [==============================] - 0s 12ms/step - loss: 0.4161 - accuracy: 0.8021 - val_loss: 0.3437 - val_accuracy: 0.8438\n",
      "Epoch 18/20\n",
      "12/12 [==============================] - 0s 12ms/step - loss: 0.4530 - accuracy: 0.8099 - val_loss: 0.4331 - val_accuracy: 0.8229\n",
      "Epoch 19/20\n",
      "12/12 [==============================] - 0s 12ms/step - loss: 0.4165 - accuracy: 0.8307 - val_loss: 0.3437 - val_accuracy: 0.8333\n",
      "Epoch 20/20\n",
      "12/12 [==============================] - 0s 13ms/step - loss: 0.4487 - accuracy: 0.8073 - val_loss: 0.3241 - val_accuracy: 0.8542\n",
      "Wall time: 4.06 s\n"
     ]
    }
   ],
   "source": [
    "%%time\n",
    "data_generator2 = ImageDataGenerator(\n",
    "                        rotation_range=10,\n",
    "                        width_shift_range=0.1,\n",
    "                        height_shift_range=0.1,\n",
    "                        horizontal_flip=True)\n",
    "batch_size = 32\n",
    "opt2 = RMSprop(lr=0.0005, decay=1e-6)\n",
    "\n",
    "model_2.compile(optimizer='adam', loss='categorical_crossentropy',\n",
    "              metrics=['accuracy'])\n",
    "\n",
    "hist_model_2 = model_2.fit_generator(data_generator2.flow(X_train2, y_train2,\n",
    "                                            batch_size),\n",
    "                        epochs=20, verbose=1,validation_data =val_data2)"
   ]
  },
  {
   "cell_type": "markdown",
   "metadata": {},
   "source": [
    "plot"
   ]
  },
  {
   "cell_type": "code",
   "execution_count": 52,
   "metadata": {
    "pycharm": {
     "name": "#%%\n"
    }
   },
   "outputs": [
    {
     "name": "stdout",
     "output_type": "stream",
     "text": [
      "3/3 [==============================] - 0s 2ms/step - loss: 0.3241 - accuracy: 0.8542\n"
     ]
    },
    {
     "data": {
      "image/png": "[encoded data removed]",
      "text/plain": [
       "<Figure size 432x288 with 1 Axes>"
      ]
     },
     "metadata": {
      "needs_background": "light"
     },
     "output_type": "display_data"
    }
   ],
   "source": [
    "score2 = model_2.evaluate(X_test2, y_test2, verbose=1)\n",
    "history_dict2=hist_model_2.history\n",
    "history_dict2.keys()\n",
    "\n",
    "train_loss_values2 = history_dict2['loss']\n",
    "val_loss_values2 = history_dict2['val_loss']\n",
    "\n",
    "epochs2 = range(1, len(history_dict2['accuracy']) + 1)\n",
    "\n",
    "plt.plot(epochs2, train_loss_values2, 'r', label='Training loss')\n",
    "plt.plot(epochs2, val_loss_values2, 'b', label='Validation loss')\n",
    "plt.title('Training and validation loss')\n",
    "plt.xlabel('Epochs')\n",
    "plt.ylabel('Loss')\n",
    "plt.legend()\n",
    "plt.show()"
   ]
  },
  {
   "cell_type": "markdown",
   "metadata": {
    "pycharm": {
     "name": "#%% md\n"
    }
   },
   "source": [
    "compare classification metrics\n"
   ]
  },
  {
   "cell_type": "code",
   "execution_count": 53,
   "metadata": {
    "pycharm": {
     "name": "#%%\n"
    }
   },
   "outputs": [
    {
     "data": {
      "text/html": [
       "<div>\n",
       "<style scoped>\n",
       "    .dataframe tbody tr th:only-of-type {\n",
       "        vertical-align: middle;\n",
       "    }\n",
       "\n",
       "    .dataframe tbody tr th {\n",
       "        vertical-align: top;\n",
       "    }\n",
       "\n",
       "    .dataframe thead th {\n",
       "        text-align: right;\n",
       "    }\n",
       "</style>\n",
       "<table border=\"1\" class=\"dataframe\">\n",
       "  <thead>\n",
       "    <tr style=\"text-align: right;\">\n",
       "      <th></th>\n",
       "      <th>model1</th>\n",
       "      <th>model2</th>\n",
       "    </tr>\n",
       "  </thead>\n",
       "  <tbody>\n",
       "    <tr>\n",
       "      <th>precision</th>\n",
       "      <td>0.889446</td>\n",
       "      <td>0.878850</td>\n",
       "    </tr>\n",
       "    <tr>\n",
       "      <th>recall</th>\n",
       "      <td>0.895833</td>\n",
       "      <td>0.854167</td>\n",
       "    </tr>\n",
       "    <tr>\n",
       "      <th>fscore</th>\n",
       "      <td>0.889747</td>\n",
       "      <td>0.848587</td>\n",
       "    </tr>\n",
       "    <tr>\n",
       "      <th>accuracy</th>\n",
       "      <td>0.895833</td>\n",
       "      <td>0.854167</td>\n",
       "    </tr>\n",
       "    <tr>\n",
       "      <th>auc</th>\n",
       "      <td>0.980396</td>\n",
       "      <td>0.980199</td>\n",
       "    </tr>\n",
       "  </tbody>\n",
       "</table>\n",
       "</div>"
      ],
      "text/plain": [
       "             model1    model2\n",
       "precision  0.889446  0.878850\n",
       "recall     0.895833  0.854167\n",
       "fscore     0.889747  0.848587\n",
       "accuracy   0.895833  0.854167\n",
       "auc        0.980396  0.980199"
      ]
     },
     "execution_count": 53,
     "metadata": {},
     "output_type": "execute_result"
    }
   ],
   "source": [
    "from sklearn.metrics import precision_recall_fscore_support as score\n",
    "from sklearn.metrics import confusion_matrix, accuracy_score, roc_auc_score\n",
    "import seaborn as sns\n",
    "\n",
    "metrics = list()\n",
    "cm = dict()\n",
    "y_pred = model_1.predict(X_test)\n",
    "y_pred_class = model_1.predict_classes(X_test, verbose=0)\n",
    "rounded_labels = np.argmax(y_test, axis=1)\n",
    "\n",
    "precision, recall, fscore, _ = score(rounded_labels, y_pred_class, average='weighted')\n",
    "accuracy = accuracy_score(rounded_labels, y_pred_class)\n",
    "auc = roc_auc_score(y_test, y_pred)\n",
    "metrics.append(pd.Series({'precision':precision, 'recall':recall, 'fscore':fscore, 'accuracy':accuracy, 'auc':auc}, name=\"model1\"))\n",
    "cm = confusion_matrix(rounded_labels,y_pred_class)\n",
    "\n",
    "metrics2 = list()\n",
    "cm2 = dict()\n",
    "y_pred2 = model_2.predict(X_test2)\n",
    "y_pred_class2 = model_2.predict_classes(X_test2, verbose=0)\n",
    "rounded_labels2 = np.argmax(y_test2, axis=1)\n",
    "\n",
    "precision2, recall2, fscore2, _ = score(rounded_labels2, y_pred_class2, average='weighted')\n",
    "accuracy2 = accuracy_score(rounded_labels2, y_pred_class2)\n",
    "auc2 = roc_auc_score(y_test2, y_pred2)\n",
    "metrics2.append(pd.Series({'precision':precision2, 'recall':recall2, 'fscore':fscore2, 'accuracy':accuracy2, 'auc':auc2}, name=\"model2\"))\n",
    "cm2 = confusion_matrix(rounded_labels2,y_pred_class2)\n",
    "m = metrics + metrics2\n",
    "metrics = pd.concat(m, axis=1)\n",
    "\n",
    "metrics\n"
   ]
  },
  {
   "cell_type": "code",
   "execution_count": 13,
   "metadata": {},
   "outputs": [
    {
     "name": "stdout",
     "output_type": "stream",
     "text": [
      "['happy', 'sadness', 'contempt', 'anger']\n"
     ]
    }
   ],
   "source": [
    "\n",
    "def get_unique_N(iterable):\n",
    "    seen = set()\n",
    "    for e in iterable:\n",
    "        if e in seen:\n",
    "            continue\n",
    "        seen.add(e)\n",
    "        yield e\n",
    "\n",
    "k = get_unique_N(a)\n",
    "print(list(k))"
   ]
  },
  {
   "cell_type": "code",
   "execution_count": 14,
   "metadata": {
    "pycharm": {
     "name": "#%%\n"
    }
   },
   "outputs": [
    {
     "data": {
      "image/png": "[encoded data removed]",
      "text/plain": [
       "<Figure size 432x288 with 2 Axes>"
      ]
     },
     "metadata": {
      "needs_background": "light"
     },
     "output_type": "display_data"
    }
   ],
   "source": [
    "ax = sns.heatmap(cm, annot=True, fmt='d')"
   ]
  },
  {
   "cell_type": "code",
   "execution_count": 15,
   "metadata": {},
   "outputs": [
    {
     "name": "stdout",
     "output_type": "stream",
     "text": [
      "['happy', 'sadness', 'anger', 'contempt']\n"
     ]
    }
   ],
   "source": [
    "k2 = get_unique_N(a2)\n",
    "print(list(k2))"
   ]
  },
  {
   "cell_type": "code",
   "execution_count": 16,
   "metadata": {},
   "outputs": [
    {
     "data": {
      "image/png": "[encoded data removed]",
      "text/plain": [
       "<Figure size 432x288 with 2 Axes>"
      ]
     },
     "metadata": {
      "needs_background": "light"
     },
     "output_type": "display_data"
    }
   ],
   "source": [
    "ax2 = sns.heatmap(cm2, annot=True, fmt='d')\n"
   ]
  },
  {
   "cell_type": "code",
   "execution_count": 28,
   "metadata": {},
   "outputs": [
    {
     "name": "stdout",
     "output_type": "stream",
     "text": [
      "Model: \"sequential_6\"\n",
      "_________________________________________________________________\n",
      "Layer (type)                 Output Shape              Param #   \n",
      "=================================================================\n",
      "conv2d_19 (Conv2D)           (None, 48, 48, 32)        832       \n",
      "_________________________________________________________________\n",
      "activation_31 (Activation)   (None, 48, 48, 32)        0         \n",
      "_________________________________________________________________\n",
      "conv2d_20 (Conv2D)           (None, 44, 44, 32)        25632     \n",
      "_________________________________________________________________\n",
      "activation_32 (Activation)   (None, 44, 44, 32)        0         \n",
      "_________________________________________________________________\n",
      "max_pooling2d_10 (MaxPooling (None, 22, 22, 32)        0         \n",
      "_________________________________________________________________\n",
      "dropout_16 (Dropout)         (None, 22, 22, 32)        0         \n",
      "_________________________________________________________________\n",
      "flatten_6 (Flatten)          (None, 15488)             0         \n",
      "_________________________________________________________________\n",
      "dense_12 (Dense)             (None, 512)               7930368   \n",
      "_________________________________________________________________\n",
      "activation_33 (Activation)   (None, 512)               0         \n",
      "_________________________________________________________________\n",
      "dropout_17 (Dropout)         (None, 512)               0         \n",
      "_________________________________________________________________\n",
      "dense_13 (Dense)             (None, 4)                 2052      \n",
      "_________________________________________________________________\n",
      "activation_34 (Activation)   (None, 4)                 0         \n",
      "=================================================================\n",
      "Total params: 7,958,884\n",
      "Trainable params: 7,958,884\n",
      "Non-trainable params: 0\n",
      "_________________________________________________________________\n"
     ]
    }
   ],
   "source": [
    "input_shape=(48, 48, 1)\n",
    "num_classes = 4\n",
    "\n",
    "model_3 = Sequential()\n",
    "\n",
    "model_3.add(Conv2D(32, (5, 5), strides = (1,1), padding='same', input_shape=input_shape))\n",
    "model_3.add(Activation('relu'))\n",
    "\n",
    "model_3.add(Conv2D(32, (5, 5), strides = (1,1)))\n",
    "model_3.add(Activation('relu'))\n",
    "\n",
    "model_3.add(MaxPooling2D(pool_size=(2, 2)))\n",
    "model_3.add(Dropout(0.25))\n",
    "\n",
    "model_3.add(Flatten())\n",
    "model_3.add(Dense(512))\n",
    "model_3.add(Activation('relu'))\n",
    "model_3.add(Dropout(0.5))\n",
    "model_3.add(Dense(num_classes))\n",
    "model_3.add(Activation('softmax'))\n",
    "\n",
    "model_3.summary()"
   ]
  },
  {
   "cell_type": "code",
   "execution_count": 29,
   "metadata": {},
   "outputs": [
    {
     "name": "stdout",
     "output_type": "stream",
     "text": [
      "Epoch 1/20\n",
      "12/12 [==============================] - 1s 102ms/step - loss: 1.6667 - accuracy: 0.3802 - val_loss: 1.1524 - val_accuracy: 0.4375\n",
      "Epoch 2/20\n",
      "12/12 [==============================] - 1s 96ms/step - loss: 0.9254 - accuracy: 0.5885 - val_loss: 0.7354 - val_accuracy: 0.7708\n",
      "Epoch 3/20\n",
      "12/12 [==============================] - 1s 94ms/step - loss: 0.5306 - accuracy: 0.7917 - val_loss: 0.5139 - val_accuracy: 0.8125\n",
      "Epoch 4/20\n",
      "12/12 [==============================] - 1s 94ms/step - loss: 0.3161 - accuracy: 0.8932 - val_loss: 0.4419 - val_accuracy: 0.8021\n",
      "Epoch 5/20\n",
      "12/12 [==============================] - 1s 93ms/step - loss: 0.1969 - accuracy: 0.9193 - val_loss: 0.4416 - val_accuracy: 0.7917\n",
      "Epoch 6/20\n",
      "12/12 [==============================] - 1s 95ms/step - loss: 0.1526 - accuracy: 0.9453 - val_loss: 0.3668 - val_accuracy: 0.8750\n",
      "Epoch 7/20\n",
      "12/12 [==============================] - 1s 92ms/step - loss: 0.1129 - accuracy: 0.9635 - val_loss: 0.3203 - val_accuracy: 0.8958\n",
      "Epoch 8/20\n",
      "12/12 [==============================] - 1s 93ms/step - loss: 0.0789 - accuracy: 0.9714 - val_loss: 0.3544 - val_accuracy: 0.8958\n",
      "Epoch 9/20\n",
      "12/12 [==============================] - 1s 94ms/step - loss: 0.0401 - accuracy: 0.9896 - val_loss: 0.3041 - val_accuracy: 0.9062\n",
      "Epoch 10/20\n",
      "12/12 [==============================] - 1s 92ms/step - loss: 0.0540 - accuracy: 0.9792 - val_loss: 0.3285 - val_accuracy: 0.9167\n",
      "Epoch 11/20\n",
      "12/12 [==============================] - 1s 94ms/step - loss: 0.0434 - accuracy: 0.9870 - val_loss: 0.4545 - val_accuracy: 0.8750\n",
      "Epoch 12/20\n",
      "12/12 [==============================] - 1s 94ms/step - loss: 0.0620 - accuracy: 0.9740 - val_loss: 0.3853 - val_accuracy: 0.8958\n",
      "Epoch 13/20\n",
      "12/12 [==============================] - 1s 95ms/step - loss: 0.0610 - accuracy: 0.9792 - val_loss: 0.3644 - val_accuracy: 0.9167\n",
      "Epoch 14/20\n",
      "12/12 [==============================] - 1s 93ms/step - loss: 0.0873 - accuracy: 0.9714 - val_loss: 0.3013 - val_accuracy: 0.9062\n",
      "Epoch 15/20\n",
      "12/12 [==============================] - 1s 93ms/step - loss: 0.0366 - accuracy: 0.9896 - val_loss: 0.2578 - val_accuracy: 0.9375\n",
      "Epoch 16/20\n",
      "12/12 [==============================] - 1s 94ms/step - loss: 0.0214 - accuracy: 0.9974 - val_loss: 0.3364 - val_accuracy: 0.9271\n",
      "Epoch 17/20\n",
      "12/12 [==============================] - 1s 93ms/step - loss: 0.0124 - accuracy: 0.9974 - val_loss: 0.3393 - val_accuracy: 0.9062\n",
      "Epoch 18/20\n",
      "12/12 [==============================] - 1s 94ms/step - loss: 0.0091 - accuracy: 0.9974 - val_loss: 0.3889 - val_accuracy: 0.8958\n",
      "Epoch 19/20\n",
      "12/12 [==============================] - 1s 94ms/step - loss: 0.0145 - accuracy: 0.9974 - val_loss: 0.4205 - val_accuracy: 0.9271\n",
      "Epoch 20/20\n",
      "12/12 [==============================] - 1s 92ms/step - loss: 0.0071 - accuracy: 1.0000 - val_loss: 0.3430 - val_accuracy: 0.9167\n",
      "Wall time: 24.9 s\n"
     ]
    }
   ],
   "source": [
    "%%time\n",
    "model_3.compile(optimizer='adam', loss='categorical_crossentropy',\n",
    "              metrics=['accuracy'])\n",
    "\n",
    "hist_model_3 = model_3.fit(X_train, y_train,batch_size, epochs=20, verbose=1,validation_data =val_data)"
   ]
  },
  {
   "cell_type": "code",
   "execution_count": 30,
   "metadata": {},
   "outputs": [
    {
     "name": "stdout",
     "output_type": "stream",
     "text": [
      "3/3 [==============================] - 0s 9ms/step - loss: 0.3430 - accuracy: 0.9167\n"
     ]
    },
    {
     "data": {
      "image/png": "[encoded data removed]",
      "text/plain": [
       "<Figure size 432x288 with 1 Axes>"
      ]
     },
     "metadata": {
      "needs_background": "light"
     },
     "output_type": "display_data"
    }
   ],
   "source": [
    "score2 = model_3.evaluate(X_test, y_test, verbose=1)\n",
    "history_dict2=hist_model_3.history\n",
    "history_dict2.keys()\n",
    "\n",
    "train_loss_values2 = history_dict2['loss']\n",
    "val_loss_values2 = history_dict2['val_loss']\n",
    "\n",
    "epochs2 = range(1, len(history_dict2['accuracy']) + 1)\n",
    "\n",
    "plt.plot(epochs2, train_loss_values2, 'r', label='Training loss')\n",
    "plt.plot(epochs2, val_loss_values2, 'b', label='Validation loss')\n",
    "plt.title('Training and validation loss')\n",
    "plt.xlabel('Epochs')\n",
    "plt.ylabel('Loss')\n",
    "plt.legend()\n",
    "plt.show()"
   ]
  },
  {
   "cell_type": "code",
   "execution_count": 31,
   "metadata": {},
   "outputs": [
    {
     "name": "stdout",
     "output_type": "stream",
     "text": [
      "Wall time: 71 ms\n"
     ]
    }
   ],
   "source": [
    "%%time\n",
    "model = Sequential()\n",
    "model.add(Conv2D(32, (5, 5), strides = (1,1), padding='same', input_shape=input_shape))\n",
    "model.add(Activation('relu'))\n",
    "\n",
    "model.add(Conv2D(32, (5, 5), strides = (1,1)))\n",
    "model.add(Activation('relu'))\n",
    "\n",
    "model.add(MaxPooling2D(pool_size=(2, 2)))\n",
    "model.add(Dropout(0.25))\n",
    "\n",
    "model.add(Conv2D(32, (5, 5), strides = (1,1)))\n",
    "model.add(Activation('relu'))\n",
    "\n",
    "model.add(Conv2D(32, (5, 5), strides = (1,1)))\n",
    "model.add(Activation('relu'))\n",
    "\n",
    "model.add(MaxPooling2D(pool_size=(2, 2)))\n",
    "model.add(Dropout(0.25))\n",
    "\n",
    "model.add(Flatten())\n",
    "model.add(Dense(512))\n",
    "model.add(Activation('relu'))\n",
    "model.add(Dropout(0.5))\n",
    "model.add(Dense(num_classes))\n",
    "model.add(Activation('softmax'))"
   ]
  },
  {
   "cell_type": "code",
   "execution_count": 32,
   "metadata": {},
   "outputs": [
    {
     "name": "stdout",
     "output_type": "stream",
     "text": [
      "Epoch 1/20\n",
      "12/12 [==============================] - 1s 110ms/step - loss: 1.2961 - accuracy: 0.4193 - val_loss: 1.2327 - val_accuracy: 0.4375\n",
      "Epoch 2/20\n",
      "12/12 [==============================] - 1s 98ms/step - loss: 1.1157 - accuracy: 0.5234 - val_loss: 1.1026 - val_accuracy: 0.6667\n",
      "Epoch 3/20\n",
      "12/12 [==============================] - 1s 97ms/step - loss: 0.7871 - accuracy: 0.6615 - val_loss: 0.6967 - val_accuracy: 0.6979\n",
      "Epoch 4/20\n",
      "12/12 [==============================] - 1s 96ms/step - loss: 0.5918 - accuracy: 0.7318 - val_loss: 0.5722 - val_accuracy: 0.7604\n",
      "Epoch 5/20\n",
      "12/12 [==============================] - 1s 96ms/step - loss: 0.4648 - accuracy: 0.7865 - val_loss: 0.5922 - val_accuracy: 0.7292\n",
      "Epoch 6/20\n",
      "12/12 [==============================] - 1s 98ms/step - loss: 0.3500 - accuracy: 0.8490 - val_loss: 0.5878 - val_accuracy: 0.8333\n",
      "Epoch 7/20\n",
      "12/12 [==============================] - 1s 100ms/step - loss: 0.3652 - accuracy: 0.8464 - val_loss: 0.6331 - val_accuracy: 0.8021\n",
      "Epoch 8/20\n",
      "12/12 [==============================] - 1s 98ms/step - loss: 0.2711 - accuracy: 0.8672 - val_loss: 0.5108 - val_accuracy: 0.8125\n",
      "Epoch 9/20\n",
      "12/12 [==============================] - 1s 96ms/step - loss: 0.2346 - accuracy: 0.9089 - val_loss: 0.5202 - val_accuracy: 0.8438\n",
      "Epoch 10/20\n",
      "12/12 [==============================] - 1s 101ms/step - loss: 0.1592 - accuracy: 0.9427 - val_loss: 0.8712 - val_accuracy: 0.7708\n",
      "Epoch 11/20\n",
      "12/12 [==============================] - 1s 99ms/step - loss: 0.1403 - accuracy: 0.9479 - val_loss: 0.6234 - val_accuracy: 0.8229\n",
      "Epoch 12/20\n",
      "12/12 [==============================] - 1s 97ms/step - loss: 0.1130 - accuracy: 0.9583 - val_loss: 0.6105 - val_accuracy: 0.8229\n",
      "Epoch 13/20\n",
      "12/12 [==============================] - 1s 97ms/step - loss: 0.0841 - accuracy: 0.9714 - val_loss: 1.1071 - val_accuracy: 0.7917\n",
      "Epoch 14/20\n",
      "12/12 [==============================] - 1s 96ms/step - loss: 0.1092 - accuracy: 0.9531 - val_loss: 0.7473 - val_accuracy: 0.8229\n",
      "Epoch 15/20\n",
      "12/12 [==============================] - 1s 96ms/step - loss: 0.0635 - accuracy: 0.9896 - val_loss: 1.1103 - val_accuracy: 0.7812\n",
      "Epoch 16/20\n",
      "12/12 [==============================] - 1s 98ms/step - loss: 0.0463 - accuracy: 0.9844 - val_loss: 0.7217 - val_accuracy: 0.8542\n",
      "Epoch 17/20\n",
      "12/12 [==============================] - 1s 98ms/step - loss: 0.0443 - accuracy: 0.9844 - val_loss: 0.7032 - val_accuracy: 0.8542\n",
      "Epoch 18/20\n",
      "12/12 [==============================] - 1s 99ms/step - loss: 0.0836 - accuracy: 0.9661 - val_loss: 1.2399 - val_accuracy: 0.7292\n",
      "Epoch 19/20\n",
      "12/12 [==============================] - 1s 100ms/step - loss: 0.0580 - accuracy: 0.9792 - val_loss: 1.1375 - val_accuracy: 0.7604\n",
      "Epoch 20/20\n",
      "12/12 [==============================] - 1s 98ms/step - loss: 0.0346 - accuracy: 0.9896 - val_loss: 1.1557 - val_accuracy: 0.7812\n"
     ]
    }
   ],
   "source": [
    "model.compile(optimizer='adam', loss='categorical_crossentropy',\n",
    "              metrics=['accuracy'])\n",
    "\n",
    "hist_model_3 = model.fit(X_train2, y_train2,batch_size, epochs=20, verbose=1,validation_data =val_data)"
   ]
  },
  {
   "cell_type": "code",
   "execution_count": 33,
   "metadata": {},
   "outputs": [
    {
     "name": "stdout",
     "output_type": "stream",
     "text": [
      "3/3 [==============================] - 0s 9ms/step - loss: 1.1557 - accuracy: 0.7812\n"
     ]
    },
    {
     "data": {
      "image/png": "[encoded data removed]",
      "text/plain": [
       "<Figure size 432x288 with 1 Axes>"
      ]
     },
     "metadata": {
      "needs_background": "light"
     },
     "output_type": "display_data"
    }
   ],
   "source": [
    "score2 = model.evaluate(X_test, y_test, verbose=1)\n",
    "history_dict2=hist_model_3.history\n",
    "history_dict2.keys()\n",
    "\n",
    "train_loss_values2 = history_dict2['loss']\n",
    "val_loss_values2 = history_dict2['val_loss']\n",
    "\n",
    "epochs2 = range(1, len(history_dict2['accuracy']) + 1)\n",
    "\n",
    "plt.plot(epochs2, train_loss_values2, 'r', label='Training loss')\n",
    "plt.plot(epochs2, val_loss_values2, 'b', label='Validation loss')\n",
    "plt.title('Training and validation loss')\n",
    "plt.xlabel('Epochs')\n",
    "plt.ylabel('Loss')\n",
    "plt.legend()\n",
    "plt.show()"
   ]
  },
  {
   "cell_type": "code",
   "execution_count": 35,
   "metadata": {},
   "outputs": [
    {
     "data": {
      "text/html": [
       "<div>\n",
       "<style scoped>\n",
       "    .dataframe tbody tr th:only-of-type {\n",
       "        vertical-align: middle;\n",
       "    }\n",
       "\n",
       "    .dataframe tbody tr th {\n",
       "        vertical-align: top;\n",
       "    }\n",
       "\n",
       "    .dataframe thead th {\n",
       "        text-align: right;\n",
       "    }\n",
       "</style>\n",
       "<table border=\"1\" class=\"dataframe\">\n",
       "  <thead>\n",
       "    <tr style=\"text-align: right;\">\n",
       "      <th></th>\n",
       "      <th>model1</th>\n",
       "      <th>model2</th>\n",
       "    </tr>\n",
       "  </thead>\n",
       "  <tbody>\n",
       "    <tr>\n",
       "      <th>precision</th>\n",
       "      <td>0.916667</td>\n",
       "      <td>0.979745</td>\n",
       "    </tr>\n",
       "    <tr>\n",
       "      <th>recall</th>\n",
       "      <td>0.916667</td>\n",
       "      <td>0.979167</td>\n",
       "    </tr>\n",
       "    <tr>\n",
       "      <th>fscore</th>\n",
       "      <td>0.916667</td>\n",
       "      <td>0.979257</td>\n",
       "    </tr>\n",
       "    <tr>\n",
       "      <th>accuracy</th>\n",
       "      <td>0.916667</td>\n",
       "      <td>0.979167</td>\n",
       "    </tr>\n",
       "    <tr>\n",
       "      <th>auc</th>\n",
       "      <td>0.981812</td>\n",
       "      <td>0.998512</td>\n",
       "    </tr>\n",
       "  </tbody>\n",
       "</table>\n",
       "</div>"
      ],
      "text/plain": [
       "             model1    model2\n",
       "precision  0.916667  0.979745\n",
       "recall     0.916667  0.979167\n",
       "fscore     0.916667  0.979257\n",
       "accuracy   0.916667  0.979167\n",
       "auc        0.981812  0.998512"
      ]
     },
     "execution_count": 35,
     "metadata": {},
     "output_type": "execute_result"
    }
   ],
   "source": [
    "metrics = list()\n",
    "cm = dict()\n",
    "y_pred = model_3.predict(X_test)\n",
    "y_pred_class = model_3.predict_classes(X_test, verbose=0)\n",
    "rounded_labels = np.argmax(y_test, axis=1)\n",
    "\n",
    "precision, recall, fscore, _ = score(rounded_labels, y_pred_class, average='weighted')\n",
    "accuracy = accuracy_score(rounded_labels, y_pred_class)\n",
    "auc = roc_auc_score(y_test, y_pred)\n",
    "metrics.append(pd.Series({'precision':precision, 'recall':recall, 'fscore':fscore, 'accuracy':accuracy, 'auc':auc}, name=\"model1\"))\n",
    "cm = confusion_matrix(rounded_labels,y_pred_class)\n",
    "\n",
    "metrics2 = list()\n",
    "cm2 = dict()\n",
    "y_pred2 = model.predict(X_test2)\n",
    "y_pred_class2 = model.predict_classes(X_test2, verbose=0)\n",
    "rounded_labels2 = np.argmax(y_test2, axis=1)\n",
    "\n",
    "precision2, recall2, fscore2, _ = score(rounded_labels2, y_pred_class2, average='weighted')\n",
    "accuracy2 = accuracy_score(rounded_labels2, y_pred_class2)\n",
    "auc2 = roc_auc_score(y_test2, y_pred2)\n",
    "metrics2.append(pd.Series({'precision':precision2, 'recall':recall2, 'fscore':fscore2, 'accuracy':accuracy2, 'auc':auc2}, name=\"model2\"))\n",
    "cm2 = confusion_matrix(rounded_labels2,y_pred_class2)\n",
    "m = metrics + metrics2\n",
    "metrics = pd.concat(m, axis=1)\n",
    "\n",
    "metrics"
   ]
  },
  {
   "cell_type": "code",
   "execution_count": 44,
   "metadata": {},
   "outputs": [
    {
     "name": "stdout",
     "output_type": "stream",
     "text": [
      "Wall time: 67 ms\n"
     ]
    },
    {
     "data": {
      "text/plain": [
       "array([1, 0, 2, 3, 1, 2, 2, 1, 2, 1, 0, 0, 2, 0, 2, 0, 2, 2, 2, 1, 0, 2,\n",
       "       2, 2, 2, 1, 3, 2, 2, 2, 2, 3, 3, 0, 2, 1, 1, 2, 2, 2, 0, 0, 2, 3,\n",
       "       1, 3, 2, 3, 2, 0, 3, 1, 1, 1, 0, 2, 0, 1, 0, 1, 1, 1, 3, 2, 3, 2,\n",
       "       0, 2, 0, 1, 2, 1, 2, 1, 1, 3, 3, 0, 1, 1, 2, 1, 2, 3, 1, 0, 1, 3,\n",
       "       1, 0, 3, 2, 1, 3, 3, 3], dtype=int64)"
      ]
     },
     "execution_count": 44,
     "metadata": {},
     "output_type": "execute_result"
    }
   ],
   "source": [
    "%%time\n",
    "\n",
    "model.predict_classes(X_test, verbose=0)\n",
    "# model.compile(optimizer='adam', loss='categorical_crossentropy',\n",
    "#               metrics=['accuracy'])\n",
    "\n",
    "# hist_model_3 = model.fit(X_train, y_train,batch_size, epochs=20, verbose=1,validation_data =val_data)"
   ]
  },
  {
   "cell_type": "code",
   "execution_count": 25,
   "metadata": {},
   "outputs": [
    {
     "name": "stdout",
     "output_type": "stream",
     "text": [
      "Wall time: 83.3 ms\n"
     ]
    }
   ],
   "source": [
    "%%time\n",
    "model = Sequential()\n",
    "model.add(Conv2D(32, (5, 5), strides = (1,1), padding='same', input_shape=input_shape))\n",
    "model.add(Activation('relu'))\n",
    "\n",
    "model.add(Conv2D(32, (5, 5), strides = (1,1)))\n",
    "model.add(Activation('relu'))\n",
    "\n",
    "model.add(MaxPooling2D(pool_size=(2, 2)))\n",
    "model.add(Dropout(0.25))\n",
    "\n",
    "model.add(Conv2D(32, (5, 5), strides = (1,1)))\n",
    "model.add(Activation('relu'))\n",
    "\n",
    "model.add(Conv2D(32, (5, 5), strides = (1,1)))\n",
    "model.add(Activation('relu'))\n",
    "\n",
    "model.add(MaxPooling2D(pool_size=(2, 2)))\n",
    "model.add(Dropout(0.25))\n",
    "\n",
    "\n",
    "model.add(Conv2D(32, (5, 5), strides = (1,1)))\n",
    "model.add(Activation('relu'))\n",
    "\n",
    "model.add(MaxPooling2D(pool_size=(2, 2)))\n",
    "model.add(Dropout(0.25))\n",
    "\n",
    "\n",
    "model.add(Flatten())\n",
    "model.add(Dense(512))\n",
    "model.add(Activation('relu'))\n",
    "model.add(Dropout(0.5))\n",
    "model.add(Dense(num_classes))\n",
    "model.add(Activation('softmax'))"
   ]
  },
  {
   "cell_type": "code",
   "execution_count": 26,
   "metadata": {},
   "outputs": [
    {
     "name": "stdout",
     "output_type": "stream",
     "text": [
      "Epoch 1/20\n",
      "12/12 [==============================] - 1s 107ms/step - loss: 1.3183 - accuracy: 0.3620 - val_loss: 1.3255 - val_accuracy: 0.4375\n",
      "Epoch 2/20\n",
      "12/12 [==============================] - 1s 100ms/step - loss: 1.2667 - accuracy: 0.4271 - val_loss: 1.2612 - val_accuracy: 0.4375\n",
      "Epoch 3/20\n",
      "12/12 [==============================] - 1s 97ms/step - loss: 1.2738 - accuracy: 0.4297 - val_loss: 1.2345 - val_accuracy: 0.4375\n",
      "Epoch 4/20\n",
      "12/12 [==============================] - 1s 101ms/step - loss: 1.2001 - accuracy: 0.4349 - val_loss: 1.1412 - val_accuracy: 0.4375\n",
      "Epoch 5/20\n",
      "12/12 [==============================] - 1s 97ms/step - loss: 0.9792 - accuracy: 0.5599 - val_loss: 0.8319 - val_accuracy: 0.6979\n",
      "Epoch 6/20\n",
      "12/12 [==============================] - 1s 96ms/step - loss: 0.7928 - accuracy: 0.6484 - val_loss: 0.7358 - val_accuracy: 0.6667\n",
      "Epoch 7/20\n",
      "12/12 [==============================] - 1s 101ms/step - loss: 0.7660 - accuracy: 0.6510 - val_loss: 0.7537 - val_accuracy: 0.6667\n",
      "Epoch 8/20\n",
      "12/12 [==============================] - 1s 101ms/step - loss: 0.6727 - accuracy: 0.7057 - val_loss: 0.6500 - val_accuracy: 0.6562\n",
      "Epoch 9/20\n",
      "12/12 [==============================] - 1s 98ms/step - loss: 0.6430 - accuracy: 0.7214 - val_loss: 0.6522 - val_accuracy: 0.6667\n",
      "Epoch 10/20\n",
      "12/12 [==============================] - 1s 100ms/step - loss: 0.5441 - accuracy: 0.7578 - val_loss: 0.6200 - val_accuracy: 0.7188\n",
      "Epoch 11/20\n",
      "12/12 [==============================] - 1s 95ms/step - loss: 0.4800 - accuracy: 0.7865 - val_loss: 0.5336 - val_accuracy: 0.7292\n",
      "Epoch 12/20\n",
      "12/12 [==============================] - 1s 97ms/step - loss: 0.4717 - accuracy: 0.7865 - val_loss: 0.5326 - val_accuracy: 0.7188\n",
      "Epoch 13/20\n",
      "12/12 [==============================] - 1s 99ms/step - loss: 0.4896 - accuracy: 0.7734 - val_loss: 0.6602 - val_accuracy: 0.6979\n",
      "Epoch 14/20\n",
      "12/12 [==============================] - 1s 99ms/step - loss: 0.4715 - accuracy: 0.8073 - val_loss: 0.5312 - val_accuracy: 0.7292\n",
      "Epoch 15/20\n",
      "12/12 [==============================] - 1s 96ms/step - loss: 0.4453 - accuracy: 0.8047 - val_loss: 0.6030 - val_accuracy: 0.7396\n",
      "Epoch 16/20\n",
      "12/12 [==============================] - 1s 97ms/step - loss: 0.4038 - accuracy: 0.8464 - val_loss: 0.3922 - val_accuracy: 0.8438\n",
      "Epoch 17/20\n",
      "12/12 [==============================] - 1s 95ms/step - loss: 0.3393 - accuracy: 0.8776 - val_loss: 0.4395 - val_accuracy: 0.8229\n",
      "Epoch 18/20\n",
      "12/12 [==============================] - 1s 97ms/step - loss: 0.3128 - accuracy: 0.8906 - val_loss: 0.3429 - val_accuracy: 0.8438\n",
      "Epoch 19/20\n",
      "12/12 [==============================] - 1s 96ms/step - loss: 0.2783 - accuracy: 0.9010 - val_loss: 0.2751 - val_accuracy: 0.8854\n",
      "Epoch 20/20\n",
      "12/12 [==============================] - 1s 96ms/step - loss: 0.2720 - accuracy: 0.8802 - val_loss: 0.2841 - val_accuracy: 0.8646\n"
     ]
    }
   ],
   "source": [
    "model.compile(optimizer='adam', loss='categorical_crossentropy',\n",
    "              metrics=['accuracy'])\n",
    "\n",
    "hist_model_3 = model.fit(X_train, y_train,batch_size, epochs=20, verbose=1,validation_data =val_data)"
   ]
  },
  {
   "cell_type": "code",
   "execution_count": 27,
   "metadata": {},
   "outputs": [
    {
     "name": "stdout",
     "output_type": "stream",
     "text": [
      "3/3 [==============================] - 0s 9ms/step - loss: 0.2841 - accuracy: 0.8646\n"
     ]
    },
    {
     "data": {
      "image/png": "[encoded data removed]",
      "text/plain": [
       "<Figure size 432x288 with 1 Axes>"
      ]
     },
     "metadata": {
      "needs_background": "light"
     },
     "output_type": "display_data"
    }
   ],
   "source": [
    "score2 = model.evaluate(X_test, y_test, verbose=1)\n",
    "history_dict2=hist_model_3.history\n",
    "history_dict2.keys()\n",
    "\n",
    "train_loss_values2 = history_dict2['loss']\n",
    "val_loss_values2 = history_dict2['val_loss']\n",
    "\n",
    "epochs2 = range(1, len(history_dict2['accuracy']) + 1)\n",
    "\n",
    "plt.plot(epochs2, train_loss_values2, 'r', label='Training loss')\n",
    "plt.plot(epochs2, val_loss_values2, 'b', label='Validation loss')\n",
    "plt.title('Training and validation loss')\n",
    "plt.xlabel('Epochs')\n",
    "plt.ylabel('Loss')\n",
    "plt.legend()\n",
    "plt.show()"
   ]
  },
  {
   "cell_type": "code",
   "execution_count": null,
   "metadata": {},
   "outputs": [],
   "source": []
  }
 ],
 "metadata": {
  "kernelspec": {
   "display_name": "Python 3",
   "language": "python",
   "name": "python3"
  },
  "language_info": {
   "codemirror_mode": {
    "name": "ipython",
    "version": 3
   },
   "file_extension": ".py",
   "mimetype": "text/x-python",
   "name": "python",
   "nbconvert_exporter": "python",
   "pygments_lexer": "ipython3",
   "version": "3.8.8"
  }
 },
 "nbformat": 4,
 "nbformat_minor": 1
}
