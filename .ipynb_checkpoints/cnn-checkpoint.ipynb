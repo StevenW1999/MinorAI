{
 "cells": [
  {
   "cell_type": "markdown",
   "metadata": {
    "collapsed": true,
    "pycharm": {
     "name": "#%% md\n"
    }
   },
   "source": [
    "import the modules and get dataset"
   ]
  },
  {
   "cell_type": "code",
   "execution_count": 1,
   "metadata": {
    "pycharm": {
     "name": "#%%\n"
    }
   },
   "outputs": [],
   "source": [
    "import pandas as pd\n",
    "import numpy as np\n",
    "import warnings\n",
    "import cv2\n",
    "import data\n",
    "from PIL import Image\n",
    "import dlib\n",
    "import data_process\n",
    "from sklearn.model_selection import train_test_split\n",
    "warnings.filterwarnings(\"ignore\")\n"
   ]
  },
  {
   "cell_type": "code",
   "execution_count": 2,
   "metadata": {
    "pycharm": {
     "name": "#%%\n"
    }
   },
   "outputs": [],
   "source": [
    "x, y = data_process.process_data('dataset.csv', \"CNN\")\n",
    "X_train, X_test, y_train, y_test = train_test_split(x, y, test_size=0.33, random_state=42)\n",
    "val_data = (X_test,y_test)"
   ]
  },
  {
   "cell_type": "markdown",
   "metadata": {},
   "source": [
    "import keras for the model training and layers"
   ]
  },
  {
   "cell_type": "code",
   "execution_count": 3,
   "metadata": {
    "pycharm": {
     "name": "#%%\n"
    }
   },
   "outputs": [],
   "source": [
    "from keras.layers import Activation, Convolution2D, Dropout, Conv2D\n",
    "from keras.layers import AveragePooling2D, BatchNormalization\n",
    "from keras.layers import GlobalAveragePooling2D\n",
    "from keras.models import Sequential\n",
    "from keras.layers import Flatten, Dense\n",
    "from keras.models import Model\n",
    "from keras.layers import Input\n",
    "from keras.layers import MaxPooling2D\n",
    "from keras.layers import SeparableConv2D\n",
    "from keras import layers\n",
    "from keras.regularizers import l2\n",
    "from tensorflow.keras.optimizers import RMSprop"
   ]
  },
  {
   "cell_type": "markdown",
   "metadata": {},
   "source": [
    "create the model with it's layers:"
   ]
  },
  {
   "cell_type": "code",
   "execution_count": 4,
   "metadata": {
    "pycharm": {
     "name": "#%%\n"
    }
   },
   "outputs": [
    {
     "name": "stdout",
     "output_type": "stream",
     "text": [
      "Model: \"sequential\"\n",
      "_________________________________________________________________\n",
      "Layer (type)                 Output Shape              Param #   \n",
      "=================================================================\n",
      "conv2d (Conv2D)              (None, 24, 24, 32)        832       \n",
      "_________________________________________________________________\n",
      "activation (Activation)      (None, 24, 24, 32)        0         \n",
      "_________________________________________________________________\n",
      "conv2d_1 (Conv2D)            (None, 10, 10, 32)        25632     \n",
      "_________________________________________________________________\n",
      "activation_1 (Activation)    (None, 10, 10, 32)        0         \n",
      "_________________________________________________________________\n",
      "max_pooling2d (MaxPooling2D) (None, 5, 5, 32)          0         \n",
      "_________________________________________________________________\n",
      "dropout (Dropout)            (None, 5, 5, 32)          0         \n",
      "_________________________________________________________________\n",
      "flatten (Flatten)            (None, 800)               0         \n",
      "_________________________________________________________________\n",
      "dense (Dense)                (None, 512)               410112    \n",
      "_________________________________________________________________\n",
      "activation_2 (Activation)    (None, 512)               0         \n",
      "_________________________________________________________________\n",
      "dropout_1 (Dropout)          (None, 512)               0         \n",
      "_________________________________________________________________\n",
      "dense_1 (Dense)              (None, 4)                 2052      \n",
      "_________________________________________________________________\n",
      "activation_3 (Activation)    (None, 4)                 0         \n",
      "=================================================================\n",
      "Total params: 438,628\n",
      "Trainable params: 438,628\n",
      "Non-trainable params: 0\n",
      "_________________________________________________________________\n"
     ]
    }
   ],
   "source": [
    "input_shape=(48, 48, 1)\n",
    "num_classes = 4\n",
    "\n",
    "model_1 = Sequential()\n",
    "\n",
    "## 5x5 convolution with 2x2 stride and 32 filters\n",
    "model_1.add(Conv2D(32, (5, 5), strides = (2,2), padding='same', input_shape=input_shape))\n",
    "model_1.add(Activation('relu'))\n",
    "\n",
    "## Another 5x5 convolution with 2x2 stride and 32 filters\n",
    "model_1.add(Conv2D(32, (5, 5), strides = (2,2)))\n",
    "model_1.add(Activation('relu'))\n",
    "\n",
    "## 2x2 max pooling reduces to 3 x 3 x 32\n",
    "model_1.add(MaxPooling2D(pool_size=(2, 2)))\n",
    "model_1.add(Dropout(0.25))\n",
    "\n",
    "## Flatten turns 3x3x32 into 288x1\n",
    "model_1.add(Flatten())\n",
    "model_1.add(Dense(512))\n",
    "model_1.add(Activation('relu'))\n",
    "model_1.add(Dropout(0.5))\n",
    "model_1.add(Dense(num_classes))\n",
    "model_1.add(Activation('softmax'))\n",
    "\n",
    "model_1.summary()"
   ]
  },
  {
   "cell_type": "markdown",
   "metadata": {},
   "source": [
    "the parameters:"
   ]
  },
  {
   "cell_type": "code",
   "execution_count": null,
   "metadata": {
    "pycharm": {
     "name": "#%%\n"
    }
   },
   "outputs": [],
   "source": []
  },
  {
   "cell_type": "markdown",
   "metadata": {},
   "source": [
    "import data generator"
   ]
  },
  {
   "cell_type": "code",
   "execution_count": 5,
   "metadata": {
    "pycharm": {
     "name": "#%%\n"
    }
   },
   "outputs": [],
   "source": [
    "from keras.preprocessing.image import ImageDataGenerator\n"
   ]
  },
  {
   "cell_type": "markdown",
   "metadata": {},
   "source": [
    "compile the model:"
   ]
  },
  {
   "cell_type": "code",
   "execution_count": 6,
   "metadata": {
    "pycharm": {
     "name": "#%%\n"
    }
   },
   "outputs": [
    {
     "name": "stdout",
     "output_type": "stream",
     "text": [
      "WARNING:tensorflow:From <ipython-input-6-8b4be2f2ddad>:16: Model.fit_generator (from tensorflow.python.keras.engine.training) is deprecated and will be removed in a future version.\n",
      "Instructions for updating:\n",
      "Please use Model.fit, which supports generators.\n",
      "Epoch 1/100\n",
      "11/11 [==============================] - 0s 25ms/step - loss: 1.2786 - accuracy: 0.4143 - val_loss: 1.2359 - val_accuracy: 0.4717\n",
      "Epoch 2/100\n",
      "11/11 [==============================] - 0s 13ms/step - loss: 1.2473 - accuracy: 0.4330 - val_loss: 1.1947 - val_accuracy: 0.4843\n",
      "Epoch 3/100\n",
      "11/11 [==============================] - 0s 14ms/step - loss: 1.1846 - accuracy: 0.5016 - val_loss: 1.1310 - val_accuracy: 0.5031\n",
      "Epoch 4/100\n",
      "11/11 [==============================] - 0s 13ms/step - loss: 1.1332 - accuracy: 0.4984 - val_loss: 1.0532 - val_accuracy: 0.5786\n",
      "Epoch 5/100\n",
      "11/11 [==============================] - 0s 13ms/step - loss: 1.0394 - accuracy: 0.6012 - val_loss: 0.9305 - val_accuracy: 0.6415\n",
      "Epoch 6/100\n",
      "11/11 [==============================] - 0s 13ms/step - loss: 1.0026 - accuracy: 0.5888 - val_loss: 0.8724 - val_accuracy: 0.6541\n",
      "Epoch 7/100\n",
      "11/11 [==============================] - 0s 14ms/step - loss: 0.9767 - accuracy: 0.6012 - val_loss: 0.7824 - val_accuracy: 0.6604\n",
      "Epoch 8/100\n",
      "11/11 [==============================] - 0s 13ms/step - loss: 0.9029 - accuracy: 0.6044 - val_loss: 0.7919 - val_accuracy: 0.6541\n",
      "Epoch 9/100\n",
      "11/11 [==============================] - 0s 13ms/step - loss: 0.8707 - accuracy: 0.6324 - val_loss: 0.6771 - val_accuracy: 0.7296\n",
      "Epoch 10/100\n",
      "11/11 [==============================] - 0s 13ms/step - loss: 0.8386 - accuracy: 0.6293 - val_loss: 0.6327 - val_accuracy: 0.7610\n",
      "Epoch 11/100\n",
      "11/11 [==============================] - 0s 13ms/step - loss: 0.7825 - accuracy: 0.6667 - val_loss: 0.6152 - val_accuracy: 0.7421\n",
      "Epoch 12/100\n",
      "11/11 [==============================] - 0s 13ms/step - loss: 0.7054 - accuracy: 0.7040 - val_loss: 0.5590 - val_accuracy: 0.7862\n",
      "Epoch 13/100\n",
      "11/11 [==============================] - 0s 13ms/step - loss: 0.6934 - accuracy: 0.7165 - val_loss: 0.5381 - val_accuracy: 0.7862\n",
      "Epoch 14/100\n",
      "11/11 [==============================] - 0s 13ms/step - loss: 0.6704 - accuracy: 0.7103 - val_loss: 0.4957 - val_accuracy: 0.7987\n",
      "Epoch 15/100\n",
      "11/11 [==============================] - 0s 13ms/step - loss: 0.6190 - accuracy: 0.7539 - val_loss: 0.5303 - val_accuracy: 0.7484\n",
      "Epoch 16/100\n",
      "11/11 [==============================] - 0s 14ms/step - loss: 0.6523 - accuracy: 0.7196 - val_loss: 0.4380 - val_accuracy: 0.8113\n",
      "Epoch 17/100\n",
      "11/11 [==============================] - 0s 13ms/step - loss: 0.5644 - accuracy: 0.7570 - val_loss: 0.4390 - val_accuracy: 0.8239\n",
      "Epoch 18/100\n",
      "11/11 [==============================] - 0s 13ms/step - loss: 0.6163 - accuracy: 0.7227 - val_loss: 0.4661 - val_accuracy: 0.8239\n",
      "Epoch 19/100\n",
      "11/11 [==============================] - 0s 13ms/step - loss: 0.5763 - accuracy: 0.7445 - val_loss: 0.4564 - val_accuracy: 0.7987\n",
      "Epoch 20/100\n",
      "11/11 [==============================] - 0s 13ms/step - loss: 0.6075 - accuracy: 0.7508 - val_loss: 0.4734 - val_accuracy: 0.7673\n",
      "Epoch 21/100\n",
      "11/11 [==============================] - 0s 13ms/step - loss: 0.5909 - accuracy: 0.7227 - val_loss: 0.4704 - val_accuracy: 0.7610\n",
      "Epoch 22/100\n",
      "11/11 [==============================] - 0s 13ms/step - loss: 0.5131 - accuracy: 0.7757 - val_loss: 0.4375 - val_accuracy: 0.7925\n",
      "Epoch 23/100\n",
      "11/11 [==============================] - 0s 13ms/step - loss: 0.4961 - accuracy: 0.8162 - val_loss: 0.3649 - val_accuracy: 0.8365\n",
      "Epoch 24/100\n",
      "11/11 [==============================] - 0s 14ms/step - loss: 0.5283 - accuracy: 0.7726 - val_loss: 0.3589 - val_accuracy: 0.8365\n",
      "Epoch 25/100\n",
      "11/11 [==============================] - 0s 13ms/step - loss: 0.4502 - accuracy: 0.8131 - val_loss: 0.3329 - val_accuracy: 0.8302\n",
      "Epoch 26/100\n",
      "11/11 [==============================] - 0s 13ms/step - loss: 0.4617 - accuracy: 0.8006 - val_loss: 0.3169 - val_accuracy: 0.8302\n",
      "Epoch 27/100\n",
      "11/11 [==============================] - 0s 13ms/step - loss: 0.4182 - accuracy: 0.8380 - val_loss: 0.3879 - val_accuracy: 0.8050\n",
      "Epoch 28/100\n",
      "11/11 [==============================] - 0s 13ms/step - loss: 0.4346 - accuracy: 0.8380 - val_loss: 0.3033 - val_accuracy: 0.8491\n",
      "Epoch 29/100\n",
      "11/11 [==============================] - 0s 13ms/step - loss: 0.4047 - accuracy: 0.8318 - val_loss: 0.3110 - val_accuracy: 0.8553\n",
      "Epoch 30/100\n",
      "11/11 [==============================] - 0s 13ms/step - loss: 0.4092 - accuracy: 0.8318 - val_loss: 0.2912 - val_accuracy: 0.8616\n",
      "Epoch 31/100\n",
      "11/11 [==============================] - 0s 13ms/step - loss: 0.4092 - accuracy: 0.8255 - val_loss: 0.3000 - val_accuracy: 0.8679\n",
      "Epoch 32/100\n",
      "11/11 [==============================] - 0s 13ms/step - loss: 0.4185 - accuracy: 0.8255 - val_loss: 0.3008 - val_accuracy: 0.8553\n",
      "Epoch 33/100\n",
      "11/11 [==============================] - 0s 13ms/step - loss: 0.3779 - accuracy: 0.8131 - val_loss: 0.2771 - val_accuracy: 0.8553\n",
      "Epoch 34/100\n",
      "11/11 [==============================] - 0s 13ms/step - loss: 0.4746 - accuracy: 0.8131 - val_loss: 0.3115 - val_accuracy: 0.8616\n",
      "Epoch 35/100\n",
      "11/11 [==============================] - 0s 14ms/step - loss: 0.4456 - accuracy: 0.8318 - val_loss: 0.3090 - val_accuracy: 0.8742\n",
      "Epoch 36/100\n",
      "11/11 [==============================] - 0s 13ms/step - loss: 0.4590 - accuracy: 0.7944 - val_loss: 0.3882 - val_accuracy: 0.8239\n",
      "Epoch 37/100\n",
      "11/11 [==============================] - 0s 13ms/step - loss: 0.4469 - accuracy: 0.8193 - val_loss: 0.2990 - val_accuracy: 0.8553\n",
      "Epoch 38/100\n",
      "11/11 [==============================] - 0s 13ms/step - loss: 0.4181 - accuracy: 0.8255 - val_loss: 0.2907 - val_accuracy: 0.8679\n",
      "Epoch 39/100\n",
      "11/11 [==============================] - 0s 14ms/step - loss: 0.4081 - accuracy: 0.8318 - val_loss: 0.2669 - val_accuracy: 0.8931\n",
      "Epoch 40/100\n",
      "11/11 [==============================] - 0s 13ms/step - loss: 0.3244 - accuracy: 0.8754 - val_loss: 0.2833 - val_accuracy: 0.8491\n",
      "Epoch 41/100\n",
      "11/11 [==============================] - 0s 14ms/step - loss: 0.3266 - accuracy: 0.8785 - val_loss: 0.2689 - val_accuracy: 0.8491\n",
      "Epoch 42/100\n",
      "11/11 [==============================] - 0s 14ms/step - loss: 0.4205 - accuracy: 0.8380 - val_loss: 0.2940 - val_accuracy: 0.8742\n",
      "Epoch 43/100\n",
      "11/11 [==============================] - 0s 14ms/step - loss: 0.3954 - accuracy: 0.8162 - val_loss: 0.3050 - val_accuracy: 0.8742\n",
      "Epoch 44/100\n",
      "11/11 [==============================] - 0s 13ms/step - loss: 0.3748 - accuracy: 0.8598 - val_loss: 0.3864 - val_accuracy: 0.8239\n",
      "Epoch 45/100\n",
      "11/11 [==============================] - 0s 13ms/step - loss: 0.4146 - accuracy: 0.8193 - val_loss: 0.3505 - val_accuracy: 0.8491\n",
      "Epoch 46/100\n",
      "11/11 [==============================] - 0s 13ms/step - loss: 0.3645 - accuracy: 0.8505 - val_loss: 0.3078 - val_accuracy: 0.8679\n",
      "Epoch 47/100\n",
      "11/11 [==============================] - 0s 12ms/step - loss: 0.3234 - accuracy: 0.8536 - val_loss: 0.2889 - val_accuracy: 0.8428\n",
      "Epoch 48/100\n",
      "11/11 [==============================] - 0s 13ms/step - loss: 0.3355 - accuracy: 0.8380 - val_loss: 0.2938 - val_accuracy: 0.8553\n",
      "Epoch 49/100\n",
      "11/11 [==============================] - 0s 13ms/step - loss: 0.3131 - accuracy: 0.8754 - val_loss: 0.2714 - val_accuracy: 0.8491\n",
      "Epoch 50/100\n",
      "11/11 [==============================] - 0s 14ms/step - loss: 0.3963 - accuracy: 0.8224 - val_loss: 0.2643 - val_accuracy: 0.8616\n",
      "Epoch 51/100\n",
      "11/11 [==============================] - 0s 13ms/step - loss: 0.3110 - accuracy: 0.8598 - val_loss: 0.2592 - val_accuracy: 0.8868\n",
      "Epoch 52/100\n",
      "11/11 [==============================] - 0s 13ms/step - loss: 0.3504 - accuracy: 0.8692 - val_loss: 0.2523 - val_accuracy: 0.8616\n",
      "Epoch 53/100\n",
      "11/11 [==============================] - 0s 13ms/step - loss: 0.3482 - accuracy: 0.8536 - val_loss: 0.2530 - val_accuracy: 0.8616\n",
      "Epoch 54/100\n",
      "11/11 [==============================] - 0s 13ms/step - loss: 0.2549 - accuracy: 0.9159 - val_loss: 0.2464 - val_accuracy: 0.8868\n",
      "Epoch 55/100\n",
      "11/11 [==============================] - 0s 15ms/step - loss: 0.2705 - accuracy: 0.8847 - val_loss: 0.2296 - val_accuracy: 0.8805\n",
      "Epoch 56/100\n",
      "11/11 [==============================] - 0s 13ms/step - loss: 0.2975 - accuracy: 0.8754 - val_loss: 0.2312 - val_accuracy: 0.8868\n",
      "Epoch 57/100\n",
      "11/11 [==============================] - 0s 13ms/step - loss: 0.3890 - accuracy: 0.8380 - val_loss: 0.2626 - val_accuracy: 0.8742\n",
      "Epoch 58/100\n",
      "11/11 [==============================] - 0s 14ms/step - loss: 0.3621 - accuracy: 0.8536 - val_loss: 0.2738 - val_accuracy: 0.8491\n",
      "Epoch 59/100\n",
      "11/11 [==============================] - 0s 13ms/step - loss: 0.3337 - accuracy: 0.8785 - val_loss: 0.3112 - val_accuracy: 0.8868\n",
      "Epoch 60/100\n",
      "11/11 [==============================] - 0s 13ms/step - loss: 0.3354 - accuracy: 0.8598 - val_loss: 0.2433 - val_accuracy: 0.8868\n",
      "Epoch 61/100\n",
      "11/11 [==============================] - 0s 13ms/step - loss: 0.2612 - accuracy: 0.9003 - val_loss: 0.2509 - val_accuracy: 0.8805\n",
      "Epoch 62/100\n",
      "11/11 [==============================] - 0s 13ms/step - loss: 0.2827 - accuracy: 0.8816 - val_loss: 0.2543 - val_accuracy: 0.8805\n",
      "Epoch 63/100\n",
      "11/11 [==============================] - 0s 13ms/step - loss: 0.2412 - accuracy: 0.8972 - val_loss: 0.2438 - val_accuracy: 0.8742\n",
      "Epoch 64/100\n",
      "11/11 [==============================] - 0s 14ms/step - loss: 0.2780 - accuracy: 0.8910 - val_loss: 0.2348 - val_accuracy: 0.8994\n",
      "Epoch 65/100\n",
      "11/11 [==============================] - 0s 13ms/step - loss: 0.2747 - accuracy: 0.8910 - val_loss: 0.2209 - val_accuracy: 0.8994\n",
      "Epoch 66/100\n",
      "11/11 [==============================] - 0s 13ms/step - loss: 0.2422 - accuracy: 0.9034 - val_loss: 0.2197 - val_accuracy: 0.8994\n",
      "Epoch 67/100\n",
      "11/11 [==============================] - 0s 13ms/step - loss: 0.2757 - accuracy: 0.8910 - val_loss: 0.2163 - val_accuracy: 0.8931\n",
      "Epoch 68/100\n",
      "11/11 [==============================] - 0s 12ms/step - loss: 0.2372 - accuracy: 0.9128 - val_loss: 0.2146 - val_accuracy: 0.8805\n",
      "Epoch 69/100\n",
      "11/11 [==============================] - 0s 12ms/step - loss: 0.2772 - accuracy: 0.8816 - val_loss: 0.2268 - val_accuracy: 0.8931\n",
      "Epoch 70/100\n",
      "11/11 [==============================] - 0s 13ms/step - loss: 0.2815 - accuracy: 0.8754 - val_loss: 0.2075 - val_accuracy: 0.8994\n",
      "Epoch 71/100\n",
      "11/11 [==============================] - 0s 13ms/step - loss: 0.3029 - accuracy: 0.8910 - val_loss: 0.3547 - val_accuracy: 0.8679\n",
      "Epoch 72/100\n",
      "11/11 [==============================] - 0s 13ms/step - loss: 0.4238 - accuracy: 0.8193 - val_loss: 0.3345 - val_accuracy: 0.8553\n",
      "Epoch 73/100\n",
      "11/11 [==============================] - 0s 12ms/step - loss: 0.3205 - accuracy: 0.8754 - val_loss: 0.2588 - val_accuracy: 0.9182\n",
      "Epoch 74/100\n",
      "11/11 [==============================] - 0s 13ms/step - loss: 0.3546 - accuracy: 0.8567 - val_loss: 0.2636 - val_accuracy: 0.8994\n",
      "Epoch 75/100\n",
      "11/11 [==============================] - 0s 13ms/step - loss: 0.3186 - accuracy: 0.8910 - val_loss: 0.2846 - val_accuracy: 0.8616\n",
      "Epoch 76/100\n",
      "11/11 [==============================] - 0s 13ms/step - loss: 0.3275 - accuracy: 0.8785 - val_loss: 0.1988 - val_accuracy: 0.9057\n",
      "Epoch 77/100\n",
      "11/11 [==============================] - 0s 13ms/step - loss: 0.2569 - accuracy: 0.9003 - val_loss: 0.1991 - val_accuracy: 0.9245\n",
      "Epoch 78/100\n",
      "11/11 [==============================] - 0s 13ms/step - loss: 0.2586 - accuracy: 0.9003 - val_loss: 0.2030 - val_accuracy: 0.8994\n",
      "Epoch 79/100\n",
      "11/11 [==============================] - 0s 14ms/step - loss: 0.2856 - accuracy: 0.8972 - val_loss: 0.2325 - val_accuracy: 0.8742\n",
      "Epoch 80/100\n",
      "11/11 [==============================] - 0s 13ms/step - loss: 0.2758 - accuracy: 0.8816 - val_loss: 0.2220 - val_accuracy: 0.8742\n",
      "Epoch 81/100\n",
      "11/11 [==============================] - 0s 13ms/step - loss: 0.2654 - accuracy: 0.8910 - val_loss: 0.1917 - val_accuracy: 0.8868\n",
      "Epoch 82/100\n",
      "11/11 [==============================] - 0s 13ms/step - loss: 0.2223 - accuracy: 0.9097 - val_loss: 0.1874 - val_accuracy: 0.9057\n",
      "Epoch 83/100\n",
      "11/11 [==============================] - 0s 13ms/step - loss: 0.3372 - accuracy: 0.8754 - val_loss: 0.2389 - val_accuracy: 0.8931\n",
      "Epoch 84/100\n",
      "11/11 [==============================] - 0s 14ms/step - loss: 0.3029 - accuracy: 0.8847 - val_loss: 0.1924 - val_accuracy: 0.9057\n",
      "Epoch 85/100\n",
      "11/11 [==============================] - 0s 13ms/step - loss: 0.2389 - accuracy: 0.8972 - val_loss: 0.1910 - val_accuracy: 0.9308\n",
      "Epoch 86/100\n",
      "11/11 [==============================] - 0s 14ms/step - loss: 0.2376 - accuracy: 0.8816 - val_loss: 0.1831 - val_accuracy: 0.9308\n",
      "Epoch 87/100\n",
      "11/11 [==============================] - 0s 13ms/step - loss: 0.2585 - accuracy: 0.8941 - val_loss: 0.3850 - val_accuracy: 0.8616\n",
      "Epoch 88/100\n",
      "11/11 [==============================] - 0s 13ms/step - loss: 0.7214 - accuracy: 0.7664 - val_loss: 0.4242 - val_accuracy: 0.8113\n",
      "Epoch 89/100\n",
      "11/11 [==============================] - 0s 13ms/step - loss: 0.4793 - accuracy: 0.8069 - val_loss: 0.3259 - val_accuracy: 0.8742\n",
      "Epoch 90/100\n",
      "11/11 [==============================] - 0s 13ms/step - loss: 0.5488 - accuracy: 0.8006 - val_loss: 0.3546 - val_accuracy: 0.8553\n",
      "Epoch 91/100\n",
      "11/11 [==============================] - 0s 13ms/step - loss: 0.4706 - accuracy: 0.8006 - val_loss: 0.3176 - val_accuracy: 0.8742\n",
      "Epoch 92/100\n",
      "11/11 [==============================] - 0s 13ms/step - loss: 0.4591 - accuracy: 0.8380 - val_loss: 0.4449 - val_accuracy: 0.8365\n",
      "Epoch 93/100\n",
      "11/11 [==============================] - 0s 14ms/step - loss: 0.7003 - accuracy: 0.7383 - val_loss: 0.3330 - val_accuracy: 0.8742\n",
      "Epoch 94/100\n",
      "11/11 [==============================] - 0s 13ms/step - loss: 0.6410 - accuracy: 0.7570 - val_loss: 0.3833 - val_accuracy: 0.8428\n",
      "Epoch 95/100\n",
      "11/11 [==============================] - 0s 13ms/step - loss: 0.4029 - accuracy: 0.8411 - val_loss: 0.3123 - val_accuracy: 0.8994\n",
      "Epoch 96/100\n",
      "11/11 [==============================] - 0s 13ms/step - loss: 0.4284 - accuracy: 0.8037 - val_loss: 0.2250 - val_accuracy: 0.9182\n",
      "Epoch 97/100\n",
      "11/11 [==============================] - 0s 13ms/step - loss: 0.3326 - accuracy: 0.8505 - val_loss: 0.2191 - val_accuracy: 0.9119\n",
      "Epoch 98/100\n",
      "11/11 [==============================] - 0s 14ms/step - loss: 0.3063 - accuracy: 0.8785 - val_loss: 0.2141 - val_accuracy: 0.9057\n",
      "Epoch 99/100\n",
      "11/11 [==============================] - 0s 14ms/step - loss: 0.2900 - accuracy: 0.8879 - val_loss: 0.1794 - val_accuracy: 0.9371\n",
      "Epoch 100/100\n",
      "11/11 [==============================] - 0s 13ms/step - loss: 0.2704 - accuracy: 0.8972 - val_loss: 0.1708 - val_accuracy: 0.9434\n"
     ]
    }
   ],
   "source": [
    "# data generator Generate batches of tensor image data with real-time data augmentation\n",
    "data_generator = ImageDataGenerator(\n",
    "                        featurewise_center=False,\n",
    "                        featurewise_std_normalization=False,\n",
    "                        rotation_range=10,\n",
    "                        width_shift_range=0.1,\n",
    "                        height_shift_range=0.1,\n",
    "                        zoom_range=.1,\n",
    "                        horizontal_flip=True)\n",
    "batch_size = 32\n",
    "opt = RMSprop(lr=0.0005, decay=1e-6)\n",
    "\n",
    "model_1.compile(optimizer='adam', loss='categorical_crossentropy',\n",
    "              metrics=['accuracy'])\n",
    "\n",
    "hist_model_1 = model_1.fit_generator(data_generator.flow(X_train, y_train,\n",
    "                                            batch_size),\n",
    "                        epochs=100, verbose=1,validation_data =val_data)"
   ]
  },
  {
   "cell_type": "markdown",
   "metadata": {},
   "source": [
    "Plot"
   ]
  },
  {
   "cell_type": "code",
   "execution_count": 7,
   "metadata": {
    "pycharm": {
     "name": "#%%\n"
    }
   },
   "outputs": [
    {
     "name": "stdout",
     "output_type": "stream",
     "text": [
      "5/5 [==============================] - 0s 3ms/step - loss: 0.1708 - accuracy: 0.9434\n"
     ]
    },
    {
     "data": {
      "image/png": "[encoded data removed]",
      "text/plain": [
       "<Figure size 432x288 with 1 Axes>"
      ]
     },
     "metadata": {
      "needs_background": "light"
     },
     "output_type": "display_data"
    }
   ],
   "source": [
    "import matplotlib.pyplot as plt\n",
    "%matplotlib inline\n",
    "score = model_1.evaluate(X_test, y_test, verbose=1)\n",
    "history_dict=hist_model_1.history\n",
    "history_dict.keys()\n",
    "\n",
    "train_loss_values = history_dict['loss']\n",
    "val_loss_values = history_dict['val_loss']\n",
    "\n",
    "epochs = range(1, len(history_dict['accuracy']) + 1)\n",
    "\n",
    "plt.plot(epochs, train_loss_values, 'bo', label='Training loss')\n",
    "plt.plot(epochs, val_loss_values, 'b', label='Validation loss')\n",
    "plt.title('Training and validation loss')\n",
    "plt.xlabel('Epochs')\n",
    "plt.ylabel('Loss')\n",
    "plt.legend()\n",
    "plt.show()"
   ]
  },
  {
   "cell_type": "markdown",
   "metadata": {},
   "source": [
    "do the same with dataset2.csv"
   ]
  },
  {
   "cell_type": "code",
   "execution_count": 8,
   "metadata": {
    "pycharm": {
     "name": "#%%\n"
    }
   },
   "outputs": [],
   "source": [
    "x2, y2 = data_process.process_data('dataset2.csv', \"CNN\")\n",
    "X_train2, X_test2, y_train2, y_test2 = train_test_split(x2, y2, test_size=0.33, random_state=42)\n",
    "val_data2 = (X_test2,y_test2)\n"
   ]
  },
  {
   "cell_type": "markdown",
   "metadata": {
    "pycharm": {
     "name": "#%% md\n"
    }
   },
   "source": [
    "model:"
   ]
  },
  {
   "cell_type": "code",
   "execution_count": 9,
   "metadata": {
    "pycharm": {
     "name": "#%%\n"
    }
   },
   "outputs": [
    {
     "name": "stdout",
     "output_type": "stream",
     "text": [
      "Model: \"sequential_1\"\n",
      "_________________________________________________________________\n",
      "Layer (type)                 Output Shape              Param #   \n",
      "=================================================================\n",
      "conv2d_2 (Conv2D)            (None, 24, 24, 32)        832       \n",
      "_________________________________________________________________\n",
      "activation_4 (Activation)    (None, 24, 24, 32)        0         \n",
      "_________________________________________________________________\n",
      "conv2d_3 (Conv2D)            (None, 10, 10, 32)        25632     \n",
      "_________________________________________________________________\n",
      "activation_5 (Activation)    (None, 10, 10, 32)        0         \n",
      "_________________________________________________________________\n",
      "max_pooling2d_1 (MaxPooling2 (None, 5, 5, 32)          0         \n",
      "_________________________________________________________________\n",
      "dropout_2 (Dropout)          (None, 5, 5, 32)          0         \n",
      "_________________________________________________________________\n",
      "flatten_1 (Flatten)          (None, 800)               0         \n",
      "_________________________________________________________________\n",
      "dense_2 (Dense)              (None, 512)               410112    \n",
      "_________________________________________________________________\n",
      "activation_6 (Activation)    (None, 512)               0         \n",
      "_________________________________________________________________\n",
      "dropout_3 (Dropout)          (None, 512)               0         \n",
      "_________________________________________________________________\n",
      "dense_3 (Dense)              (None, 4)                 2052      \n",
      "_________________________________________________________________\n",
      "activation_7 (Activation)    (None, 4)                 0         \n",
      "=================================================================\n",
      "Total params: 438,628\n",
      "Trainable params: 438,628\n",
      "Non-trainable params: 0\n",
      "_________________________________________________________________\n"
     ]
    }
   ],
   "source": [
    "input_shape=(48, 48, 1)\n",
    "num_classes = 4\n",
    "\n",
    "model_2 = Sequential()\n",
    "\n",
    "## 5x5 convolution with 2x2 stride and 32 filters\n",
    "model_2.add(Conv2D(32, (5, 5), strides = (2,2), padding='same', input_shape=input_shape))\n",
    "model_2.add(Activation('relu'))\n",
    "\n",
    "## Another 5x5 convolution with 2x2 stride and 32 filters\n",
    "model_2.add(Conv2D(32, (5, 5), strides = (2,2)))\n",
    "model_2.add(Activation('relu'))\n",
    "\n",
    "## 2x2 max pooling reduces to 3 x 3 x 32\n",
    "model_2.add(MaxPooling2D(pool_size=(2, 2)))\n",
    "model_2.add(Dropout(0.25))\n",
    "\n",
    "## Flatten turns 3x3x32 into 288x1\n",
    "model_2.add(Flatten())\n",
    "model_2.add(Dense(512))\n",
    "model_2.add(Activation('relu'))\n",
    "model_2.add(Dropout(0.5))\n",
    "model_2.add(Dense(num_classes))\n",
    "model_2.add(Activation('softmax'))\n",
    "\n",
    "model_2.summary()"
   ]
  },
  {
   "cell_type": "markdown",
   "metadata": {},
   "source": [
    "data generator"
   ]
  },
  {
   "cell_type": "code",
   "execution_count": 10,
   "metadata": {
    "pycharm": {
     "name": "#%%\n"
    }
   },
   "outputs": [
    {
     "name": "stdout",
     "output_type": "stream",
     "text": [
      "Epoch 1/100\n",
      "11/11 [==============================] - 0s 23ms/step - loss: 1.2911 - accuracy: 0.3988 - val_loss: 1.2124 - val_accuracy: 0.4403\n",
      "Epoch 2/100\n",
      "11/11 [==============================] - 0s 13ms/step - loss: 1.2363 - accuracy: 0.4361 - val_loss: 1.1612 - val_accuracy: 0.4654\n",
      "Epoch 3/100\n",
      "11/11 [==============================] - 0s 13ms/step - loss: 1.1988 - accuracy: 0.4704 - val_loss: 1.1070 - val_accuracy: 0.5786\n",
      "Epoch 4/100\n",
      "11/11 [==============================] - 0s 13ms/step - loss: 1.1397 - accuracy: 0.4922 - val_loss: 1.0212 - val_accuracy: 0.5535\n",
      "Epoch 5/100\n",
      "11/11 [==============================] - 0s 13ms/step - loss: 1.0790 - accuracy: 0.5421 - val_loss: 0.8906 - val_accuracy: 0.6981\n",
      "Epoch 6/100\n",
      "11/11 [==============================] - 0s 13ms/step - loss: 0.9812 - accuracy: 0.6075 - val_loss: 0.8081 - val_accuracy: 0.6918\n",
      "Epoch 7/100\n",
      "11/11 [==============================] - 0s 14ms/step - loss: 0.9080 - accuracy: 0.6106 - val_loss: 0.7228 - val_accuracy: 0.7170\n",
      "Epoch 8/100\n",
      "11/11 [==============================] - 0s 13ms/step - loss: 0.8442 - accuracy: 0.6573 - val_loss: 0.6527 - val_accuracy: 0.7107\n",
      "Epoch 9/100\n",
      "11/11 [==============================] - 0s 13ms/step - loss: 0.7976 - accuracy: 0.6698 - val_loss: 0.6360 - val_accuracy: 0.6918\n",
      "Epoch 10/100\n",
      "11/11 [==============================] - 0s 13ms/step - loss: 0.8117 - accuracy: 0.6480 - val_loss: 0.6048 - val_accuracy: 0.7484\n",
      "Epoch 11/100\n",
      "11/11 [==============================] - 0s 13ms/step - loss: 0.7387 - accuracy: 0.6854 - val_loss: 0.5511 - val_accuracy: 0.7862\n",
      "Epoch 12/100\n",
      "11/11 [==============================] - 0s 13ms/step - loss: 0.7611 - accuracy: 0.6542 - val_loss: 0.7360 - val_accuracy: 0.6981\n",
      "Epoch 13/100\n",
      "11/11 [==============================] - 0s 13ms/step - loss: 0.7869 - accuracy: 0.6729 - val_loss: 0.5490 - val_accuracy: 0.7925\n",
      "Epoch 14/100\n",
      "11/11 [==============================] - 0s 13ms/step - loss: 0.7125 - accuracy: 0.6885 - val_loss: 0.5086 - val_accuracy: 0.7547\n",
      "Epoch 15/100\n",
      "11/11 [==============================] - 0s 13ms/step - loss: 0.7133 - accuracy: 0.6698 - val_loss: 0.4942 - val_accuracy: 0.7736\n",
      "Epoch 16/100\n",
      "11/11 [==============================] - 0s 13ms/step - loss: 0.6609 - accuracy: 0.7040 - val_loss: 0.4474 - val_accuracy: 0.8113\n",
      "Epoch 17/100\n",
      "11/11 [==============================] - 0s 12ms/step - loss: 0.6299 - accuracy: 0.7196 - val_loss: 0.4335 - val_accuracy: 0.8365\n",
      "Epoch 18/100\n",
      "11/11 [==============================] - 0s 13ms/step - loss: 0.6850 - accuracy: 0.6636 - val_loss: 0.4449 - val_accuracy: 0.8113\n",
      "Epoch 19/100\n",
      "11/11 [==============================] - 0s 14ms/step - loss: 0.6638 - accuracy: 0.7103 - val_loss: 0.4547 - val_accuracy: 0.8176\n",
      "Epoch 20/100\n",
      "11/11 [==============================] - 0s 13ms/step - loss: 0.5972 - accuracy: 0.7196 - val_loss: 0.4669 - val_accuracy: 0.8113\n",
      "Epoch 21/100\n",
      "11/11 [==============================] - 0s 13ms/step - loss: 0.6674 - accuracy: 0.7072 - val_loss: 0.4929 - val_accuracy: 0.7673\n",
      "Epoch 22/100\n",
      "11/11 [==============================] - 0s 13ms/step - loss: 0.6854 - accuracy: 0.6978 - val_loss: 0.3995 - val_accuracy: 0.8365\n",
      "Epoch 23/100\n",
      "11/11 [==============================] - 0s 13ms/step - loss: 0.5847 - accuracy: 0.7445 - val_loss: 0.3923 - val_accuracy: 0.8679\n",
      "Epoch 24/100\n",
      "11/11 [==============================] - 0s 12ms/step - loss: 0.5752 - accuracy: 0.7290 - val_loss: 0.3683 - val_accuracy: 0.8679\n",
      "Epoch 25/100\n",
      "11/11 [==============================] - 0s 13ms/step - loss: 0.6313 - accuracy: 0.7103 - val_loss: 0.3809 - val_accuracy: 0.8491\n",
      "Epoch 26/100\n",
      "11/11 [==============================] - 0s 13ms/step - loss: 0.4989 - accuracy: 0.7975 - val_loss: 0.3792 - val_accuracy: 0.8491\n",
      "Epoch 27/100\n",
      "11/11 [==============================] - 0s 13ms/step - loss: 0.5912 - accuracy: 0.7321 - val_loss: 0.4185 - val_accuracy: 0.7925\n",
      "Epoch 28/100\n",
      "11/11 [==============================] - 0s 13ms/step - loss: 0.5433 - accuracy: 0.7508 - val_loss: 0.3665 - val_accuracy: 0.8742\n",
      "Epoch 29/100\n",
      "11/11 [==============================] - 0s 12ms/step - loss: 0.5399 - accuracy: 0.7632 - val_loss: 0.3302 - val_accuracy: 0.8994\n",
      "Epoch 30/100\n",
      "11/11 [==============================] - 0s 12ms/step - loss: 0.5228 - accuracy: 0.7570 - val_loss: 0.3629 - val_accuracy: 0.8616\n",
      "Epoch 31/100\n",
      "11/11 [==============================] - 0s 12ms/step - loss: 0.4942 - accuracy: 0.7882 - val_loss: 0.3169 - val_accuracy: 0.8931\n",
      "Epoch 32/100\n",
      "11/11 [==============================] - 0s 12ms/step - loss: 0.5115 - accuracy: 0.7695 - val_loss: 0.3291 - val_accuracy: 0.8616\n",
      "Epoch 33/100\n",
      "11/11 [==============================] - 0s 13ms/step - loss: 0.5500 - accuracy: 0.7850 - val_loss: 0.3769 - val_accuracy: 0.8553\n",
      "Epoch 34/100\n",
      "11/11 [==============================] - 0s 13ms/step - loss: 0.5379 - accuracy: 0.7819 - val_loss: 0.3852 - val_accuracy: 0.8239\n",
      "Epoch 35/100\n",
      "11/11 [==============================] - 0s 13ms/step - loss: 0.5775 - accuracy: 0.7383 - val_loss: 0.3512 - val_accuracy: 0.8679\n",
      "Epoch 36/100\n",
      "11/11 [==============================] - 0s 12ms/step - loss: 0.4961 - accuracy: 0.7664 - val_loss: 0.3378 - val_accuracy: 0.8553\n",
      "Epoch 37/100\n",
      "11/11 [==============================] - 0s 13ms/step - loss: 0.4418 - accuracy: 0.8100 - val_loss: 0.3076 - val_accuracy: 0.8679\n",
      "Epoch 38/100\n",
      "11/11 [==============================] - 0s 13ms/step - loss: 0.5170 - accuracy: 0.7601 - val_loss: 0.3115 - val_accuracy: 0.8553\n",
      "Epoch 39/100\n",
      "11/11 [==============================] - 0s 12ms/step - loss: 0.4577 - accuracy: 0.7944 - val_loss: 0.3328 - val_accuracy: 0.8616\n",
      "Epoch 40/100\n",
      "11/11 [==============================] - 0s 13ms/step - loss: 0.4438 - accuracy: 0.8162 - val_loss: 0.3142 - val_accuracy: 0.8491\n",
      "Epoch 41/100\n",
      "11/11 [==============================] - 0s 13ms/step - loss: 0.4385 - accuracy: 0.8380 - val_loss: 0.4777 - val_accuracy: 0.8176\n",
      "Epoch 42/100\n",
      "11/11 [==============================] - 0s 13ms/step - loss: 0.4449 - accuracy: 0.8162 - val_loss: 0.3162 - val_accuracy: 0.8679\n",
      "Epoch 43/100\n",
      "11/11 [==============================] - 0s 12ms/step - loss: 0.4445 - accuracy: 0.8193 - val_loss: 0.2781 - val_accuracy: 0.8931\n",
      "Epoch 44/100\n",
      "11/11 [==============================] - 0s 13ms/step - loss: 0.3865 - accuracy: 0.8567 - val_loss: 0.2451 - val_accuracy: 0.9245\n",
      "Epoch 45/100\n",
      "11/11 [==============================] - 0s 13ms/step - loss: 0.4317 - accuracy: 0.8349 - val_loss: 0.2641 - val_accuracy: 0.8679\n",
      "Epoch 46/100\n",
      "11/11 [==============================] - 0s 13ms/step - loss: 0.4209 - accuracy: 0.8224 - val_loss: 0.2634 - val_accuracy: 0.8931\n",
      "Epoch 47/100\n",
      "11/11 [==============================] - 0s 13ms/step - loss: 0.3713 - accuracy: 0.8442 - val_loss: 0.2359 - val_accuracy: 0.9119\n",
      "Epoch 48/100\n",
      "11/11 [==============================] - 0s 13ms/step - loss: 0.4393 - accuracy: 0.8100 - val_loss: 0.2821 - val_accuracy: 0.8679\n",
      "Epoch 49/100\n",
      "11/11 [==============================] - 0s 13ms/step - loss: 0.4267 - accuracy: 0.8162 - val_loss: 0.2336 - val_accuracy: 0.9057\n",
      "Epoch 50/100\n",
      "11/11 [==============================] - 0s 12ms/step - loss: 0.3866 - accuracy: 0.8224 - val_loss: 0.2485 - val_accuracy: 0.9119\n",
      "Epoch 51/100\n",
      "11/11 [==============================] - 0s 13ms/step - loss: 0.3851 - accuracy: 0.8380 - val_loss: 0.2052 - val_accuracy: 0.9308\n",
      "Epoch 52/100\n",
      "11/11 [==============================] - 0s 12ms/step - loss: 0.3791 - accuracy: 0.8380 - val_loss: 0.2317 - val_accuracy: 0.8994\n",
      "Epoch 53/100\n",
      "11/11 [==============================] - 0s 12ms/step - loss: 0.4133 - accuracy: 0.8505 - val_loss: 0.2214 - val_accuracy: 0.9182\n",
      "Epoch 54/100\n",
      "11/11 [==============================] - 0s 13ms/step - loss: 0.3623 - accuracy: 0.8505 - val_loss: 0.2217 - val_accuracy: 0.9119\n",
      "Epoch 55/100\n",
      "11/11 [==============================] - 0s 13ms/step - loss: 0.4692 - accuracy: 0.7975 - val_loss: 0.2363 - val_accuracy: 0.9119\n",
      "Epoch 56/100\n",
      "11/11 [==============================] - 0s 13ms/step - loss: 0.3937 - accuracy: 0.8318 - val_loss: 0.2651 - val_accuracy: 0.8805\n",
      "Epoch 57/100\n",
      "11/11 [==============================] - 0s 12ms/step - loss: 0.3449 - accuracy: 0.8692 - val_loss: 0.2303 - val_accuracy: 0.9057\n",
      "Epoch 58/100\n",
      "11/11 [==============================] - 0s 13ms/step - loss: 0.3349 - accuracy: 0.8660 - val_loss: 0.2177 - val_accuracy: 0.9057\n",
      "Epoch 59/100\n",
      "11/11 [==============================] - 0s 13ms/step - loss: 0.3409 - accuracy: 0.8567 - val_loss: 0.1931 - val_accuracy: 0.9119\n",
      "Epoch 60/100\n",
      "11/11 [==============================] - 0s 13ms/step - loss: 0.3343 - accuracy: 0.8411 - val_loss: 0.2116 - val_accuracy: 0.8931\n",
      "Epoch 61/100\n",
      "11/11 [==============================] - 0s 13ms/step - loss: 0.2987 - accuracy: 0.8816 - val_loss: 0.2159 - val_accuracy: 0.8931\n",
      "Epoch 62/100\n",
      "11/11 [==============================] - 0s 13ms/step - loss: 0.3399 - accuracy: 0.8723 - val_loss: 0.2639 - val_accuracy: 0.9057\n",
      "Epoch 63/100\n",
      "11/11 [==============================] - 0s 13ms/step - loss: 0.4321 - accuracy: 0.8131 - val_loss: 0.3091 - val_accuracy: 0.8805\n",
      "Epoch 64/100\n",
      "11/11 [==============================] - 0s 13ms/step - loss: 0.3522 - accuracy: 0.8598 - val_loss: 0.2295 - val_accuracy: 0.8994\n",
      "Epoch 65/100\n",
      "11/11 [==============================] - 0s 13ms/step - loss: 0.3444 - accuracy: 0.8785 - val_loss: 0.1971 - val_accuracy: 0.9182\n",
      "Epoch 66/100\n",
      "11/11 [==============================] - 0s 12ms/step - loss: 0.3336 - accuracy: 0.8660 - val_loss: 0.1736 - val_accuracy: 0.9371\n",
      "Epoch 67/100\n",
      "11/11 [==============================] - 0s 13ms/step - loss: 0.2672 - accuracy: 0.9065 - val_loss: 0.2632 - val_accuracy: 0.8491\n",
      "Epoch 68/100\n",
      "11/11 [==============================] - 0s 12ms/step - loss: 0.3263 - accuracy: 0.8474 - val_loss: 0.1725 - val_accuracy: 0.9371\n",
      "Epoch 69/100\n",
      "11/11 [==============================] - 0s 13ms/step - loss: 0.3394 - accuracy: 0.8629 - val_loss: 0.1684 - val_accuracy: 0.9434\n",
      "Epoch 70/100\n",
      "11/11 [==============================] - 0s 12ms/step - loss: 0.3710 - accuracy: 0.8380 - val_loss: 0.2609 - val_accuracy: 0.8868\n",
      "Epoch 71/100\n",
      "11/11 [==============================] - 0s 14ms/step - loss: 0.3875 - accuracy: 0.8318 - val_loss: 0.2808 - val_accuracy: 0.8742\n",
      "Epoch 72/100\n",
      "11/11 [==============================] - 0s 13ms/step - loss: 0.4684 - accuracy: 0.7913 - val_loss: 0.2393 - val_accuracy: 0.8994\n",
      "Epoch 73/100\n",
      "11/11 [==============================] - 0s 14ms/step - loss: 0.3155 - accuracy: 0.8754 - val_loss: 0.2159 - val_accuracy: 0.9245\n",
      "Epoch 74/100\n",
      "11/11 [==============================] - 0s 13ms/step - loss: 0.3187 - accuracy: 0.8910 - val_loss: 0.1965 - val_accuracy: 0.8994\n",
      "Epoch 75/100\n",
      "11/11 [==============================] - 0s 13ms/step - loss: 0.2675 - accuracy: 0.8910 - val_loss: 0.1767 - val_accuracy: 0.9434\n",
      "Epoch 76/100\n",
      "11/11 [==============================] - 0s 12ms/step - loss: 0.2842 - accuracy: 0.8785 - val_loss: 0.1577 - val_accuracy: 0.9434\n",
      "Epoch 77/100\n",
      "11/11 [==============================] - 0s 13ms/step - loss: 0.2777 - accuracy: 0.8972 - val_loss: 0.1469 - val_accuracy: 0.9308\n",
      "Epoch 78/100\n",
      "11/11 [==============================] - 0s 13ms/step - loss: 0.3049 - accuracy: 0.8941 - val_loss: 0.2003 - val_accuracy: 0.8994\n",
      "Epoch 79/100\n",
      "11/11 [==============================] - 0s 13ms/step - loss: 0.3157 - accuracy: 0.8754 - val_loss: 0.1653 - val_accuracy: 0.9497\n",
      "Epoch 80/100\n",
      "11/11 [==============================] - 0s 12ms/step - loss: 0.2871 - accuracy: 0.8941 - val_loss: 0.1782 - val_accuracy: 0.9308\n",
      "Epoch 81/100\n",
      "11/11 [==============================] - 0s 13ms/step - loss: 0.2559 - accuracy: 0.9065 - val_loss: 0.1374 - val_accuracy: 0.9497\n",
      "Epoch 82/100\n",
      "11/11 [==============================] - 0s 12ms/step - loss: 0.2911 - accuracy: 0.8910 - val_loss: 0.1555 - val_accuracy: 0.9308\n",
      "Epoch 83/100\n",
      "11/11 [==============================] - 0s 14ms/step - loss: 0.4353 - accuracy: 0.8131 - val_loss: 0.2929 - val_accuracy: 0.8679\n",
      "Epoch 84/100\n",
      "11/11 [==============================] - 0s 12ms/step - loss: 0.4204 - accuracy: 0.8598 - val_loss: 0.2632 - val_accuracy: 0.9119\n",
      "Epoch 85/100\n",
      "11/11 [==============================] - 0s 13ms/step - loss: 0.3894 - accuracy: 0.8318 - val_loss: 0.2261 - val_accuracy: 0.9182\n",
      "Epoch 86/100\n",
      "11/11 [==============================] - 0s 13ms/step - loss: 0.3146 - accuracy: 0.8785 - val_loss: 0.1670 - val_accuracy: 0.9434\n",
      "Epoch 87/100\n",
      "11/11 [==============================] - 0s 14ms/step - loss: 0.3806 - accuracy: 0.8255 - val_loss: 0.1870 - val_accuracy: 0.9057\n",
      "Epoch 88/100\n",
      "11/11 [==============================] - 0s 13ms/step - loss: 0.3901 - accuracy: 0.8380 - val_loss: 0.1785 - val_accuracy: 0.9119\n",
      "Epoch 89/100\n",
      "11/11 [==============================] - 0s 14ms/step - loss: 0.2905 - accuracy: 0.8692 - val_loss: 0.1825 - val_accuracy: 0.9119\n",
      "Epoch 90/100\n",
      "11/11 [==============================] - 0s 13ms/step - loss: 0.2994 - accuracy: 0.8692 - val_loss: 0.1499 - val_accuracy: 0.9434\n",
      "Epoch 91/100\n",
      "11/11 [==============================] - 0s 13ms/step - loss: 0.2769 - accuracy: 0.8847 - val_loss: 0.1476 - val_accuracy: 0.9371\n",
      "Epoch 92/100\n",
      "11/11 [==============================] - 0s 13ms/step - loss: 0.2706 - accuracy: 0.8847 - val_loss: 0.2529 - val_accuracy: 0.8868\n",
      "Epoch 93/100\n",
      "11/11 [==============================] - 0s 13ms/step - loss: 0.3711 - accuracy: 0.8567 - val_loss: 0.2185 - val_accuracy: 0.8994\n",
      "Epoch 94/100\n",
      "11/11 [==============================] - 0s 13ms/step - loss: 0.3727 - accuracy: 0.8318 - val_loss: 0.2063 - val_accuracy: 0.9182\n",
      "Epoch 95/100\n",
      "11/11 [==============================] - 0s 13ms/step - loss: 0.3814 - accuracy: 0.8505 - val_loss: 0.1849 - val_accuracy: 0.9057\n",
      "Epoch 96/100\n",
      "11/11 [==============================] - 0s 14ms/step - loss: 0.4307 - accuracy: 0.8193 - val_loss: 0.1705 - val_accuracy: 0.9434\n",
      "Epoch 97/100\n",
      "11/11 [==============================] - 0s 13ms/step - loss: 0.3119 - accuracy: 0.8629 - val_loss: 0.1569 - val_accuracy: 0.9434\n",
      "Epoch 98/100\n",
      "11/11 [==============================] - 0s 14ms/step - loss: 0.2843 - accuracy: 0.9034 - val_loss: 0.1484 - val_accuracy: 0.9245\n",
      "Epoch 99/100\n",
      "11/11 [==============================] - 0s 13ms/step - loss: 0.3044 - accuracy: 0.8629 - val_loss: 0.2299 - val_accuracy: 0.8994\n",
      "Epoch 100/100\n",
      "11/11 [==============================] - 0s 13ms/step - loss: 0.3314 - accuracy: 0.8816 - val_loss: 0.1741 - val_accuracy: 0.9245\n"
     ]
    }
   ],
   "source": [
    "data_generator2 = ImageDataGenerator(\n",
    "                        featurewise_center=False,\n",
    "                        featurewise_std_normalization=False,\n",
    "                        rotation_range=10,\n",
    "                        width_shift_range=0.1,\n",
    "                        height_shift_range=0.1,\n",
    "                        zoom_range=.1,\n",
    "                        horizontal_flip=True)\n",
    "batch_size = 32\n",
    "opt2 = RMSprop(lr=0.0005, decay=1e-6)\n",
    "\n",
    "model_2.compile(optimizer='adam', loss='categorical_crossentropy',\n",
    "              metrics=['accuracy'])\n",
    "\n",
    "hist_model_2 = model_2.fit_generator(data_generator2.flow(X_train2, y_train2,\n",
    "                                            batch_size),\n",
    "                        epochs=100, verbose=1,validation_data =val_data2)"
   ]
  },
  {
   "cell_type": "markdown",
   "metadata": {},
   "source": [
    "plot"
   ]
  },
  {
   "cell_type": "code",
   "execution_count": 11,
   "metadata": {
    "pycharm": {
     "name": "#%%\n"
    }
   },
   "outputs": [
    {
     "name": "stdout",
     "output_type": "stream",
     "text": [
      "5/5 [==============================] - 0s 3ms/step - loss: 0.1741 - accuracy: 0.9245\n"
     ]
    },
    {
     "data": {
      "image/png": "[encoded data removed]",
      "text/plain": [
       "<Figure size 432x288 with 1 Axes>"
      ]
     },
     "metadata": {
      "needs_background": "light"
     },
     "output_type": "display_data"
    }
   ],
   "source": [
    "score2 = model_2.evaluate(X_test2, y_test2, verbose=1)\n",
    "history_dict2=hist_model_2.history\n",
    "history_dict2.keys()\n",
    "\n",
    "train_loss_values2 = history_dict2['loss']\n",
    "val_loss_values2 = history_dict2['val_loss']\n",
    "\n",
    "epochs2 = range(1, len(history_dict2['accuracy']) + 1)\n",
    "\n",
    "plt.plot(epochs2, train_loss_values2, 'bo', label='Training loss')\n",
    "plt.plot(epochs2, val_loss_values2, 'b', label='Validation loss')\n",
    "plt.title('Training and validation loss')\n",
    "plt.xlabel('Epochs')\n",
    "plt.ylabel('Loss')\n",
    "plt.legend()\n",
    "plt.show()"
   ]
  },
  {
   "cell_type": "markdown",
   "metadata": {
    "pycharm": {
     "name": "#%% md\n"
    }
   },
   "source": [
    "compare classification metrics\n"
   ]
  },
  {
   "cell_type": "code",
   "execution_count": 43,
   "metadata": {
    "pycharm": {
     "name": "#%%\n"
    }
   },
   "outputs": [
    {
     "data": {
      "text/html": [
       "<div>\n",
       "<style scoped>\n",
       "    .dataframe tbody tr th:only-of-type {\n",
       "        vertical-align: middle;\n",
       "    }\n",
       "\n",
       "    .dataframe tbody tr th {\n",
       "        vertical-align: top;\n",
       "    }\n",
       "\n",
       "    .dataframe thead th {\n",
       "        text-align: right;\n",
       "    }\n",
       "</style>\n",
       "<table border=\"1\" class=\"dataframe\">\n",
       "  <thead>\n",
       "    <tr style=\"text-align: right;\">\n",
       "      <th></th>\n",
       "      <th>model1</th>\n",
       "      <th>model2</th>\n",
       "    </tr>\n",
       "  </thead>\n",
       "  <tbody>\n",
       "    <tr>\n",
       "      <th>precision</th>\n",
       "      <td>0.955357</td>\n",
       "      <td>0.937402</td>\n",
       "    </tr>\n",
       "    <tr>\n",
       "      <th>recall</th>\n",
       "      <td>0.943396</td>\n",
       "      <td>0.924528</td>\n",
       "    </tr>\n",
       "    <tr>\n",
       "      <th>fscore</th>\n",
       "      <td>0.944369</td>\n",
       "      <td>0.926432</td>\n",
       "    </tr>\n",
       "    <tr>\n",
       "      <th>accuracy</th>\n",
       "      <td>0.943396</td>\n",
       "      <td>0.924528</td>\n",
       "    </tr>\n",
       "    <tr>\n",
       "      <th>auc</th>\n",
       "      <td>0.993524</td>\n",
       "      <td>0.994805</td>\n",
       "    </tr>\n",
       "  </tbody>\n",
       "</table>\n",
       "</div>"
      ],
      "text/plain": [
       "             model1    model2\n",
       "precision  0.955357  0.937402\n",
       "recall     0.943396  0.924528\n",
       "fscore     0.944369  0.926432\n",
       "accuracy   0.943396  0.924528\n",
       "auc        0.993524  0.994805"
      ]
     },
     "execution_count": 43,
     "metadata": {},
     "output_type": "execute_result"
    }
   ],
   "source": [
    "from sklearn.metrics import precision_recall_fscore_support as score\n",
    "from sklearn.metrics import confusion_matrix, accuracy_score, roc_auc_score\n",
    "import seaborn as sns\n",
    "\n",
    "metrics = list()\n",
    "cm = dict()\n",
    "y_pred = model_1.predict(X_test)\n",
    "y_pred_class = model_1.predict_classes(X_test, verbose=0)\n",
    "rounded_labels = np.argmax(y_test, axis=1)\n",
    "\n",
    "precision, recall, fscore, _ = score(rounded_labels, y_pred_class, average='weighted')\n",
    "accuracy = accuracy_score(rounded_labels, y_pred_class)\n",
    "auc = roc_auc_score(y_test, y_pred)\n",
    "metrics.append(pd.Series({'precision':precision, 'recall':recall, 'fscore':fscore, 'accuracy':accuracy, 'auc':auc}, name=\"model1\"))\n",
    "cm = confusion_matrix(rounded_labels,y_pred_class)\n",
    "\n",
    "metrics2 = list()\n",
    "cm2 = dict()\n",
    "y_pred2 = model_2.predict(X_test2)\n",
    "y_pred_class2 = model_2.predict_classes(X_test2, verbose=0)\n",
    "rounded_labels2 = np.argmax(y_test2, axis=1)\n",
    "\n",
    "precision2, recall2, fscore2, _ = score(rounded_labels2, y_pred_class2, average='weighted')\n",
    "accuracy2 = accuracy_score(rounded_labels2, y_pred_class2)\n",
    "auc2 = roc_auc_score(y_test2, y_pred2)\n",
    "metrics2.append(pd.Series({'precision':precision2, 'recall':recall2, 'fscore':fscore2, 'accuracy':accuracy2, 'auc':auc2}, name=\"model2\"))\n",
    "cm2 = confusion_matrix(rounded_labels2,y_pred_class2)\n",
    "m = metrics + metrics2\n",
    "metrics = pd.concat(m, axis=1)\n",
    "\n",
    "metrics\n"
   ]
  },
  {
   "cell_type": "code",
   "execution_count": 48,
   "metadata": {},
   "outputs": [
    {
     "ename": "AttributeError",
     "evalue": "'AxesSubplot' object has no attribute 'flatten'",
     "output_type": "error",
     "traceback": [
      "\u001b[1;31m---------------------------------------------------------------------------\u001b[0m",
      "\u001b[1;31mAttributeError\u001b[0m                            Traceback (most recent call last)",
      "\u001b[1;32m<ipython-input-48-1793759c57f7>\u001b[0m in \u001b[0;36m<module>\u001b[1;34m\u001b[0m\n\u001b[0;32m      1\u001b[0m \u001b[0mfig\u001b[0m\u001b[1;33m,\u001b[0m \u001b[0maxList\u001b[0m \u001b[1;33m=\u001b[0m \u001b[0mplt\u001b[0m\u001b[1;33m.\u001b[0m\u001b[0msubplots\u001b[0m\u001b[1;33m(\u001b[0m\u001b[0mnrows\u001b[0m\u001b[1;33m=\u001b[0m\u001b[1;36m1\u001b[0m\u001b[1;33m)\u001b[0m\u001b[1;33m\u001b[0m\u001b[1;33m\u001b[0m\u001b[0m\n\u001b[1;32m----> 2\u001b[1;33m \u001b[0maxList\u001b[0m \u001b[1;33m=\u001b[0m \u001b[0maxList\u001b[0m\u001b[1;33m.\u001b[0m\u001b[0mflatten\u001b[0m\u001b[1;33m(\u001b[0m\u001b[1;33m)\u001b[0m\u001b[1;33m\u001b[0m\u001b[1;33m\u001b[0m\u001b[0m\n\u001b[0m\u001b[0;32m      3\u001b[0m \u001b[0mfig\u001b[0m\u001b[1;33m.\u001b[0m\u001b[0mset_size_inches\u001b[0m\u001b[1;33m(\u001b[0m\u001b[1;36m18\u001b[0m\u001b[1;33m,\u001b[0m \u001b[1;36m6\u001b[0m\u001b[1;33m)\u001b[0m\u001b[1;33m\u001b[0m\u001b[1;33m\u001b[0m\u001b[0m\n\u001b[0;32m      4\u001b[0m \u001b[1;33m\u001b[0m\u001b[0m\n\u001b[0;32m      5\u001b[0m \u001b[1;32mfor\u001b[0m \u001b[0max\u001b[0m \u001b[1;32min\u001b[0m \u001b[0maxList\u001b[0m\u001b[1;33m:\u001b[0m\u001b[1;33m\u001b[0m\u001b[1;33m\u001b[0m\u001b[0m\n",
      "\u001b[1;31mAttributeError\u001b[0m: 'AxesSubplot' object has no attribute 'flatten'"
     ]
    },
    {
     "data": {
      "image/png": "[encoded data removed]",
      "text/plain": [
       "<Figure size 432x288 with 1 Axes>"
      ]
     },
     "metadata": {
      "needs_background": "light"
     },
     "output_type": "display_data"
    }
   ],
   "source": [
    "fig, axList = plt.subplots(nrows=1, ncols=3)\n",
    "axList = axList.flatten()\n",
    "fig.set_size_inches(18, 6)\n",
    "\n",
    "for ax in axList:\n",
    "    sns.heatmap(cm, ax = ax, annot=True, fmt='d')\n",
    "    ax.set(title='model 1')\n",
    "\n",
    "plt.tight_layout()\n",
    "\n",
    "fig2, axList2 = plt.subplots(nrows=1, ncols=3)\n",
    "axList2 = axList2.flatten()\n",
    "fig2.set_size_inches(18, 6)\n",
    "\n",
    "for ax in axList2:\n",
    "    sns.heatmap(cm2, ax = ax, annot=True, fmt='d')\n",
    "    ax.set(title='model 2')\n",
    "\n",
    "plt.tight_layout()"
   ]
  },
  {
   "cell_type": "code",
   "execution_count": null,
   "metadata": {},
   "outputs": [],
   "source": []
  }
 ],
 "metadata": {
  "kernelspec": {
   "display_name": "Python 3",
   "language": "python",
   "name": "python3"
  },
  "language_info": {
   "codemirror_mode": {
    "name": "ipython",
    "version": 3
   },
   "file_extension": ".py",
   "mimetype": "text/x-python",
   "name": "python",
   "nbconvert_exporter": "python",
   "pygments_lexer": "ipython3",
   "version": "3.8.8"
  }
 },
 "nbformat": 4,
 "nbformat_minor": 1
}
