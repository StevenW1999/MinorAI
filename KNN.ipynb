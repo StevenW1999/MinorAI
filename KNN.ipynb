{
 "cells": [
  {
   "cell_type": "markdown",
   "metadata": {
    "pycharm": {
     "name": "#%% md\n"
    }
   },
   "source": [
    "Model :"
   ]
  },
  {
   "cell_type": "code",
   "execution_count": 1,
   "metadata": {
    "pycharm": {
     "name": "#%%\n"
    }
   },
   "outputs": [],
   "source": [
    "import math\n",
    "import cv2\n",
    "import dlib\n",
    "import time\n",
    "from collections import Counter\n",
    "import pandas as pd\n",
    "from PIL import Image\n",
    "import numpy as np\n",
    "\n",
    "from sklearn.model_selection import train_test_split\n",
    "import seaborn as sns\n",
    "\n",
    "import data_process\n",
    "\n",
    "\n",
    "class ModelKNN:\n",
    "    def __init__(self, train_x, train_y):\n",
    "        self.training_x = train_x\n",
    "        self.training_t = train_y\n",
    "        self.emotion_data = self.initial_data()\n",
    "\n",
    "    def initial_data(self):\n",
    "        data = {'pixels': [], 'emotion': ''}\n",
    "        t = pd.DataFrame(data=data)\n",
    "        return t\n",
    "\n",
    "    def detect_face(self, img_path):\n",
    "        detector = dlib.get_frontal_face_detector()\n",
    "        predictor = dlib.shape_predictor(\"shape_predictor_68_face_landmarks.dat\")\n",
    "        emotions = ['anger', 'contempt', 'happy', 'sadness']\n",
    "        faceDet = cv2.CascadeClassifier(\"haarcascade\\haarcascade_frontalface_default.xml\")\n",
    "        if img_path == 'video':\n",
    "            cap = cv2.VideoCapture(0)\n",
    "            while True:\n",
    "                k = cv2.waitKey(1)\n",
    "                ret, img = cap.read()\n",
    "                # img = cv2.rotate(img, cv2.ROTATE_90_COUNTERCLOCKWISE)\n",
    "                # img = cv2.flip(img, 1)\n",
    "                gray = cv2.cvtColor(img, cv2.COLOR_BGR2GRAY)\n",
    "                faces = faceDet.detectMultiScale(\n",
    "                    gray,\n",
    "                    scaleFactor=1.1,\n",
    "                    minNeighbors=5,\n",
    "                    minSize=(20, 20)\n",
    "                )\n",
    "                for (x, y, w, h) in faces:\n",
    "                    cv2.rectangle(img, (x, y), (x + w, y + h), (255, 0, 0), 2)\n",
    "                    gray = gray[y:y + h, x:x + w]\n",
    "                    # get_landmarks(img)\n",
    "\n",
    "                cv2.imshow('video', img)\n",
    "\n",
    "                if k == 32:\n",
    "                    try:\n",
    "                        gray = cv2.resize(gray, (350, 350))\n",
    "                        print(self.predict(gray, 5))\n",
    "                    except:\n",
    "                        print('error')\n",
    "                if k == 27:\n",
    "                    break\n",
    "            cap.release()\n",
    "            cv2.destroyAllWindows()\n",
    "            return 'close'\n",
    "\n",
    "        else:\n",
    "                frame = cv2.imread(img_path)\n",
    "\n",
    "                gray = cv2.cvtColor(frame, cv2.COLOR_BGR2GRAY)\n",
    "\n",
    "                face = faceDet.detectMultiScale(gray, scaleFactor=1.1, minNeighbors=10, minSize=(5, 5),\n",
    "                                                flags=cv2.CASCADE_SCALE_IMAGE)\n",
    "                if len(face) == 1:\n",
    "                    facefeatures = face\n",
    "                else:\n",
    "                    facefeatures = \"\"\n",
    "\n",
    "                for (x, y, w, h) in facefeatures:\n",
    "                    if facefeatures == \"\":\n",
    "                        print(\"no face found in file: %s\" % img_path)\n",
    "                    else:\n",
    "                        gray = gray[y:y + h, x:x + w]\n",
    "\n",
    "                detections = detector(gray, 1)\n",
    "                for k, d in enumerate(detections):\n",
    "                    shape = predictor(gray, d)\n",
    "                    for i in range(1, 68):\n",
    "                        cv2.circle(gray, (shape.part(i).x, shape.part(i).y), 1, (0, 0, 255), thickness=1)\n",
    "                gray = cv2.resize(gray, (48, 48))\n",
    "                cv2.imwrite(img_path, gray)\n",
    "\n",
    "\n",
    "    def train(self, t_data, label):\n",
    "        for f, b in zip(t_data, label):\n",
    "            try:\n",
    "                self.emotion_data.loc[-1] = [f, b]\n",
    "                self.emotion_data.index = self.emotion_data.index + 1\n",
    "                self.emotion_data = self.emotion_data.sort_index()\n",
    "            except:\n",
    "                print('error in \"' + b)\n",
    "\n",
    "    def euclidean_distance(self, row1, row2):\n",
    "        distance_x = 0.0\n",
    "        distance_x += (row1 - row2)**2\n",
    "        return sum(sum(sum(np.sqrt(distance_x))))\n",
    "\n",
    "\n",
    "    def predict(self, face, k):\n",
    "        distance_d = {'distance': [], 'emotion': ''}\n",
    "        df = pd.DataFrame(data=distance_d)\n",
    "        for i, r in self.emotion_data.iterrows():\n",
    "            distance = self.euclidean_distance(self.emotion_data.iloc[i]['pixels'], face)\n",
    "            df.loc[-1] = [distance, self.emotion_data.iloc[i]['emotion']]\n",
    "            df.index = df.index + 1\n",
    "            df = df.sort_index()\n",
    "        df2 = df.sort_values(by=['distance'], ascending=True, axis=0)[:k]\n",
    "        counter = Counter(df2['emotion'])\n",
    "        prediction = counter.most_common()[0][0]\n",
    "        return prediction\n",
    "\n",
    "\n",
    "    def test(self, p_data, label):\n",
    "        correct = 0\n",
    "        incorrect = 0\n",
    "        for f, b in zip(p_data, label):\n",
    "            predict_face = self.predict(f, 5)\n",
    "            if b == predict_face:\n",
    "                correct += 1\n",
    "            else:\n",
    "                incorrect += 1\n",
    "        accuracy = (1 / (correct + incorrect)) * correct\n",
    "        print('correct: ' + str(correct) + '\\n' + 'incorrect: ' + str(incorrect) + '\\n' + 'accuracy: ' + str(accuracy))"
   ]
  },
  {
   "cell_type": "markdown",
   "metadata": {},
   "source": [
    "get training data and test data from dataset 1:"
   ]
  },
  {
   "cell_type": "code",
   "execution_count": 2,
   "metadata": {
    "pycharm": {
     "name": "#%%\n"
    }
   },
   "outputs": [],
   "source": [
    "x,y = data_process.process_data('dataset.csv', \"KNN\")\n",
    "X_train, X_test, y_train, y_test = train_test_split(x, y, test_size=0.33, random_state=42)"
   ]
  },
  {
   "cell_type": "markdown",
   "metadata": {},
   "source": [
    "create model and train it with training data, test it afterwards."
   ]
  },
  {
   "cell_type": "code",
   "execution_count": 3,
   "metadata": {
    "pycharm": {
     "name": "#%%\n"
    }
   },
   "outputs": [
    {
     "name": "stdout",
     "output_type": "stream",
     "text": [
      "correct: 115\n",
      "incorrect: 44\n",
      "accuracy: 0.7232704402515724\n"
     ]
    }
   ],
   "source": [
    "model_1 = ModelKNN(X_train, y_train)\n",
    "model_1.train(X_train, y_train)\n",
    "model_1.test(X_test,y_test)"
   ]
  },
  {
   "cell_type": "markdown",
   "metadata": {},
   "source": [
    "do the same with data from dataset 2"
   ]
  },
  {
   "cell_type": "code",
   "execution_count": 4,
   "metadata": {
    "pycharm": {
     "name": "#%%\n"
    }
   },
   "outputs": [],
   "source": [
    "x2,y2 = data_process.process_data('dataset2.csv', \"KNN\")\n",
    "X_train2, X_test2, y_train2, y_test2 = train_test_split(x2, y2, test_size=0.33, random_state=42)"
   ]
  },
  {
   "cell_type": "markdown",
   "metadata": {
    "pycharm": {
     "name": "#%% md\n"
    }
   },
   "source": [
    "train and test it again"
   ]
  },
  {
   "cell_type": "code",
   "execution_count": 5,
   "metadata": {
    "pycharm": {
     "name": "#%%\n"
    }
   },
   "outputs": [
    {
     "name": "stdout",
     "output_type": "stream",
     "text": [
      "correct: 106\n",
      "incorrect: 53\n",
      "accuracy: 0.6666666666666667\n"
     ]
    }
   ],
   "source": [
    "\n",
    "model_2 = ModelKNN(X_train2, y_train2)\n",
    "model_2.train(X_train2, y_train2)\n",
    "model_2.test(X_test2,y_test2)"
   ]
  },
  {
   "cell_type": "markdown",
   "metadata": {},
   "source": [
    "metrics for both models"
   ]
  },
  {
   "cell_type": "code",
   "execution_count": null,
   "metadata": {
    "pycharm": {
     "name": "#%%\n"
    }
   },
   "outputs": [],
   "source": [
    "from sklearn.metrics import precision_recall_fscore_support as score, plot_confusion_matrix\n",
    "from sklearn.metrics import confusion_matrix, accuracy_score, roc_auc_score\n",
    "import seaborn as sns\n",
    "\n",
    "metrics = list()\n",
    "cm = dict()\n",
    "\n",
    "y_pred = list()\n",
    "y_pred2 = list()\n",
    "for a in X_test:\n",
    "    y_pred.append(model_1.predict(a,5))\n",
    "\n",
    "for a in X_test2:\n",
    "      y_pred2.append(model_2.predict(a,5))\n"
   ]
  },
  {
   "cell_type": "code",
   "execution_count": null,
   "metadata": {
    "pycharm": {
     "name": "#%%\n"
    }
   },
   "outputs": [],
   "source": [
    "from sklearn.preprocessing import LabelEncoder, label_binarize\n",
    "\n",
    "enc = LabelEncoder()\n",
    "y_test = enc.fit_transform(y_test)\n",
    "y_pred = enc.fit_transform(y_pred)\n",
    "\n",
    "y_test2 = enc.fit_transform(y_test2)\n",
    "y_pred2 = enc.fit_transform(y_pred2)\n",
    "\n",
    "precision, recall, fscore, _ = score(y_test, y_pred, average='weighted')\n",
    "accuracy = accuracy_score(y_test, y_pred)\n",
    "auc = roc_auc_score(label_binarize(y_test, classes=[0,1,2]),\n",
    "        label_binarize(y_pred, classes=[0,1,2]),\n",
    "        average='weighted', multi_class='ovr')\n",
    "metrics.append(pd.Series({'precision':precision, 'recall':recall, 'fscore':fscore, 'accuracy':accuracy, 'AUC':auc}, name=\"model1\"))\n",
    "cm = confusion_matrix(y_test,y_pred)\n",
    "\n",
    "metrics2 = list()\n",
    "cm2 = dict()\n",
    "\n",
    "precision2, recall2, fscore2, _ = score(y_test2, y_pred2, average='weighted')\n",
    "accuracy2 = accuracy_score(y_test2, y_pred2)\n",
    "auc2 = roc_auc_score(label_binarize(y_test2, classes=[0,1,2]),\n",
    "        label_binarize(y_pred2, classes=[0,1,2]),\n",
    "        average='weighted', multi_class='ovr')\n",
    "metrics2.append(pd.Series({'precision':precision2, 'recall':recall2, 'fscore':fscore2, 'accuracy':accuracy2,'AUC':auc2}, name=\"model2\"))\n",
    "cm2 = confusion_matrix(y_test2,y_pred2)\n",
    "m = metrics + metrics2\n",
    "metrics = pd.concat(m, axis=1)\n",
    "\n",
    "metrics"
   ]
  },
  {
   "cell_type": "code",
   "execution_count": null,
   "metadata": {},
   "outputs": [],
   "source": [
    "def get_unique_N(iterable):\n",
    "    seen = set()\n",
    "    for e in iterable:\n",
    "        if e in seen:\n",
    "            continue\n",
    "        seen.add(e)\n",
    "        yield e\n",
    "\n",
    "k = get_unique_N(y_test)\n",
    "print(list(k))\n",
    "\n",
    "%matplotlib inline\n",
    "\n",
    "ax = sns.heatmap(cm, annot=True, fmt='d')\n",
    "\n"
   ]
  },
  {
   "cell_type": "code",
   "execution_count": null,
   "metadata": {
    "pycharm": {
     "name": "#%%\n"
    }
   },
   "outputs": [],
   "source": [
    "k2= get_unique_N(y_test2)\n",
    "print(list(k2))\n",
    "\n",
    "ax2 = sns.heatmap(cm2, annot=True, fmt='d')"
   ]
  },
  {
   "cell_type": "code",
   "execution_count": null,
   "metadata": {},
   "outputs": [],
   "source": []
  }
 ],
 "metadata": {
  "kernelspec": {
   "display_name": "Python 3",
   "language": "python",
   "name": "python3"
  },
  "language_info": {
   "codemirror_mode": {
    "name": "ipython",
    "version": 3
   },
   "file_extension": ".py",
   "mimetype": "text/x-python",
   "name": "python",
   "nbconvert_exporter": "python",
   "pygments_lexer": "ipython3",
   "version": "3.8.8"
  }
 },
 "nbformat": 4,
 "nbformat_minor": 1
}