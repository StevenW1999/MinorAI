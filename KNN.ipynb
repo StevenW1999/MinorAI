{
 "cells": [
  {
   "cell_type": "markdown",
   "metadata": {
    "pycharm": {
     "name": "#%% md\n"
    }
   },
   "source": [
    "Model :"
   ]
  },
  {
   "cell_type": "code",
   "execution_count": 30,
   "metadata": {
    "pycharm": {
     "name": "#%%\n"
    }
   },
   "outputs": [],
   "source": [
    "import math\n",
    "import cv2\n",
    "import dlib\n",
    "import time\n",
    "from collections import Counter\n",
    "import pandas as pd\n",
    "from PIL import Image\n",
    "import numpy as np\n",
    "import data_process\n",
    "\n",
    "\n",
    "class ModelKNN:\n",
    "    def __init__(self, train_x, train_y):\n",
    "        self.training_x = train_x\n",
    "        self.training_t = train_y\n",
    "        self.emotion_data = self.initial_data()\n",
    "\n",
    "    def initial_data(self):\n",
    "        data = {'pixels': [], 'emotion': ''}\n",
    "        t = pd.DataFrame(data=data)\n",
    "        return t\n",
    "\n",
    "    def detect_face(self, img_path):\n",
    "        detector = dlib.get_frontal_face_detector()\n",
    "        predictor = dlib.shape_predictor(\"shape_predictor_68_face_landmarks.dat\")\n",
    "        emotions = ['anger', 'contempt', 'happy', 'sadness']\n",
    "        faceDet = cv2.CascadeClassifier(\"haarcascade_frontalface_default.xml\")\n",
    "        if img_path == 'video':\n",
    "            cap = cv2.VideoCapture(0)\n",
    "            while True:\n",
    "                k = cv2.waitKey(1)\n",
    "                ret, img = cap.read()\n",
    "                # img = cv2.rotate(img, cv2.ROTATE_90_COUNTERCLOCKWISE)\n",
    "                # img = cv2.flip(img, 1)\n",
    "                gray = cv2.cvtColor(img, cv2.COLOR_BGR2GRAY)\n",
    "                faces = faceDet.detectMultiScale(\n",
    "                    gray,\n",
    "                    scaleFactor=1.1,\n",
    "                    minNeighbors=5,\n",
    "                    minSize=(20, 20)\n",
    "                )\n",
    "                for (x, y, w, h) in faces:\n",
    "                    cv2.rectangle(img, (x, y), (x + w, y + h), (255, 0, 0), 2)\n",
    "                    gray = gray[y:y + h, x:x + w]\n",
    "                    # get_landmarks(img)\n",
    "\n",
    "                cv2.imshow('video', img)\n",
    "\n",
    "                if k == 32:\n",
    "                    try:\n",
    "                        gray = cv2.resize(gray, (350, 350))\n",
    "                        print(self.predict(gray, 5))\n",
    "                    except:\n",
    "                        print('error')\n",
    "                if k == 27:\n",
    "                    break\n",
    "            cap.release()\n",
    "            cv2.destroyAllWindows()\n",
    "            return 'close'\n",
    "\n",
    "        else:\n",
    "                frame = cv2.imread(img_path)\n",
    "\n",
    "                gray = cv2.cvtColor(frame, cv2.COLOR_BGR2GRAY)\n",
    "\n",
    "                face = faceDet.detectMultiScale(gray, scaleFactor=1.1, minNeighbors=10, minSize=(5, 5),\n",
    "                                                flags=cv2.CASCADE_SCALE_IMAGE)\n",
    "                if len(face) == 1:\n",
    "                    facefeatures = face\n",
    "                else:\n",
    "                    facefeatures = \"\"\n",
    "\n",
    "                for (x, y, w, h) in facefeatures:\n",
    "                    if facefeatures == \"\":\n",
    "                        print(\"no face found in file: %s\" % img_path)\n",
    "                    else:\n",
    "                        gray = gray[y:y + h, x:x + w]\n",
    "\n",
    "                detections = detector(gray, 1)\n",
    "                for k, d in enumerate(detections):\n",
    "                    shape = predictor(gray, d)\n",
    "                    for i in range(1, 68):\n",
    "                        cv2.circle(gray, (shape.part(i).x, shape.part(i).y), 1, (0, 0, 255), thickness=1)\n",
    "                gray = cv2.resize(gray, (48, 48))\n",
    "                cv2.imwrite(img_path, gray)\n",
    "\n",
    "\n",
    "    def train(self, t_data, label):\n",
    "        for f, b in zip(t_data, label):\n",
    "            try:\n",
    "                self.emotion_data.loc[-1] = [f, b]\n",
    "                self.emotion_data.index = self.emotion_data.index + 1\n",
    "                self.emotion_data = self.emotion_data.sort_index()\n",
    "            except:\n",
    "                print('error in \"' + b)\n",
    "\n",
    "    def euclidean_distance(self, row1, row2):\n",
    "        distance_x = 0.0\n",
    "        distance_x += (row1 - row2)**2\n",
    "        return sum(sum(sum(np.sqrt(distance_x))))\n",
    "\n",
    "\n",
    "    def predict(self, face, k):\n",
    "        distance_d = {'distance': [], 'emotion': ''}\n",
    "        df = pd.DataFrame(data=distance_d)\n",
    "        for i, r in self.emotion_data.iterrows():\n",
    "            distance = self.euclidean_distance(self.emotion_data.iloc[i]['pixels'], face)\n",
    "            df.loc[-1] = [distance, self.emotion_data.iloc[i]['emotion']]\n",
    "            df.index = df.index + 1\n",
    "            df = df.sort_index()\n",
    "        df2 = df.sort_values(by=['distance'], ascending=True, axis=0)[:k]\n",
    "        counter = Counter(df2['emotion'])\n",
    "        prediction = counter.most_common()[0][0]\n",
    "        return prediction\n",
    "\n",
    "\n",
    "    def test(self, p_data, label):\n",
    "        correct = 0\n",
    "        incorrect = 0\n",
    "        for f, b in zip(p_data, label):\n",
    "            predict_face = self.predict(f, 5)\n",
    "            if b == predict_face:\n",
    "                correct += 1\n",
    "            else:\n",
    "                incorrect += 1\n",
    "        accuracy = (1 / (correct + incorrect)) * correct\n",
    "        print('correct: ' + str(correct) + '\\n' + 'incorrect: ' + str(incorrect) + '\\n' + 'accuracy: ' + str(accuracy))"
   ]
  },
  {
   "cell_type": "markdown",
   "metadata": {},
   "source": [
    "get training data and test data from dataset 1:"
   ]
  },
  {
   "cell_type": "code",
   "execution_count": 32,
   "metadata": {
    "pycharm": {
     "name": "#%%\n"
    }
   },
   "outputs": [],
   "source": [
    "train_x, train_y, val_x, val_y = data_process.process_data('dataset.csv', \"KNN\")"
   ]
  },
  {
   "cell_type": "markdown",
   "metadata": {},
   "source": [
    "create model and train it with training data, test it afterwards."
   ]
  },
  {
   "cell_type": "code",
   "execution_count": 34,
   "metadata": {
    "pycharm": {
     "name": "#%%\n"
    }
   },
   "outputs": [
    {
     "name": "stdout",
     "output_type": "stream",
     "text": [
      "correct: 71\n",
      "incorrect: 25\n",
      "accuracy: 0.7395833333333333\n"
     ]
    }
   ],
   "source": [
    "model_1 = ModelKNN(train_x, train_y)\n",
    "model_1.train(train_x, train_y)\n",
    "model_1.test(val_x,val_y)"
   ]
  },
  {
   "cell_type": "markdown",
   "metadata": {},
   "source": [
    "do the same with data from dataset 2"
   ]
  },
  {
   "cell_type": "code",
   "execution_count": 35,
   "metadata": {
    "pycharm": {
     "name": "#%%\n"
    }
   },
   "outputs": [],
   "source": [
    "train_x2, train_y2, val_x2, val_y2 = data_process.process_data('dataset2.csv', \"KNN\")\n"
   ]
  },
  {
   "cell_type": "markdown",
   "metadata": {
    "pycharm": {
     "name": "#%% md\n"
    }
   },
   "source": [
    "train and test it again"
   ]
  },
  {
   "cell_type": "code",
   "execution_count": 36,
   "metadata": {
    "pycharm": {
     "name": "#%%\n"
    }
   },
   "outputs": [
    {
     "name": "stdout",
     "output_type": "stream",
     "text": [
      "correct: 62\n",
      "incorrect: 34\n",
      "accuracy: 0.6458333333333333\n"
     ]
    }
   ],
   "source": [
    "\n",
    "model_2 = ModelKNN(train_x2, train_y2)\n",
    "model_2.train(train_x2, train_y2)\n",
    "model_2.test(val_x2,val_y2)"
   ]
  },
  {
   "cell_type": "code",
   "execution_count": null,
   "metadata": {},
   "outputs": [],
   "source": []
  }
 ],
 "metadata": {
  "kernelspec": {
   "display_name": "Python 3",
   "language": "python",
   "name": "python3"
  },
  "language_info": {
   "codemirror_mode": {
    "name": "ipython",
    "version": 3
   },
   "file_extension": ".py",
   "mimetype": "text/x-python",
   "name": "python",
   "nbconvert_exporter": "python",
   "pygments_lexer": "ipython3",
   "version": "3.8.8"
  }
 },
 "nbformat": 4,
 "nbformat_minor": 1
}
