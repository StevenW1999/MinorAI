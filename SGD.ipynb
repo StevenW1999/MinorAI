{
 "metadata": {
  "language_info": {
   "codemirror_mode": {
    "name": "ipython",
    "version": 3
   },
   "file_extension": ".py",
   "mimetype": "text/x-python",
   "name": "python",
   "nbconvert_exporter": "python",
   "pygments_lexer": "ipython3",
   "version": "3.6.13"
  },
  "orig_nbformat": 2,
  "kernelspec": {
   "name": "python3613jvsc74a57bd06128589b61bf91c06c908a5adf3e04acf2f3d4b9eb5a5a0b1fc91837167538da",
   "display_name": "Python 3.6.13 64-bit ('env_dlib': conda)"
  }
 },
 "nbformat": 4,
 "nbformat_minor": 2,
 "cells": [
  {
   "cell_type": "code",
   "execution_count": 37,
   "metadata": {},
   "outputs": [
    {
     "output_type": "execute_result",
     "data": {
      "text/plain": [
       "                                              pixels  emotion\n",
       "0  6 5 3 3 5 9 11 11 13 17 22 24 31 32 38 37 34 3...    happy\n",
       "1  42 19 2 2 9 10 4 2 6 8 10 15 9 12 14 15 19 35 ...  sadness\n",
       "2  10 0 0 1 0 1 3 4 6 10 21 56 93 117 161 182 195...  sadness\n",
       "3  172 186 186 145 103 120 202 242 195 180 150 82...  sadness\n",
       "4  216 218 214 216 215 223 193 67 52 58 65 60 57 ...  sadness"
      ],
      "text/html": "<div>\n<style scoped>\n    .dataframe tbody tr th:only-of-type {\n        vertical-align: middle;\n    }\n\n    .dataframe tbody tr th {\n        vertical-align: top;\n    }\n\n    .dataframe thead th {\n        text-align: right;\n    }\n</style>\n<table border=\"1\" class=\"dataframe\">\n  <thead>\n    <tr style=\"text-align: right;\">\n      <th></th>\n      <th>pixels</th>\n      <th>emotion</th>\n    </tr>\n  </thead>\n  <tbody>\n    <tr>\n      <th>0</th>\n      <td>6 5 3 3 5 9 11 11 13 17 22 24 31 32 38 37 34 3...</td>\n      <td>happy</td>\n    </tr>\n    <tr>\n      <th>1</th>\n      <td>42 19 2 2 9 10 4 2 6 8 10 15 9 12 14 15 19 35 ...</td>\n      <td>sadness</td>\n    </tr>\n    <tr>\n      <th>2</th>\n      <td>10 0 0 1 0 1 3 4 6 10 21 56 93 117 161 182 195...</td>\n      <td>sadness</td>\n    </tr>\n    <tr>\n      <th>3</th>\n      <td>172 186 186 145 103 120 202 242 195 180 150 82...</td>\n      <td>sadness</td>\n    </tr>\n    <tr>\n      <th>4</th>\n      <td>216 218 214 216 215 223 193 67 52 58 65 60 57 ...</td>\n      <td>sadness</td>\n    </tr>\n  </tbody>\n</table>\n</div>"
     },
     "metadata": {},
     "execution_count": 37
    }
   ],
   "source": [
    "import pandas as pd\n",
    "import math\n",
    "import cv2\n",
    "import dlib\n",
    "import time\n",
    "from collections import Counter\n",
    "import pandas as pd\n",
    "from PIL import Image\n",
    "import numpy as np\n",
    "\n",
    "data = pd.read_csv('MinorAI/dataset.csv')\n",
    "data.head()"
   ]
  },
  {
   "cell_type": "code",
   "execution_count": 75,
   "metadata": {},
   "outputs": [],
   "source": [
    "from sklearn.linear_model import SGDClassifier\n",
    "\n",
    "SDGclass = SGDClassifier(loss='log', alpha=0.1, penalty='l2')"
   ]
  },
  {
   "cell_type": "code",
   "execution_count": 89,
   "metadata": {
    "tags": []
   },
   "outputs": [],
   "source": [
    "from sklearn.model_selection import train_test_split\n",
    "from sklearn.preprocessing import LabelEncoder\n",
    "\n",
    "enc = LabelEncoder()\n",
    "X_new = enc.fit_transform(data.pixels)\n",
    "\n",
    "X_train,X_test,y_train,y_test = train_test_split(X_new.reshape(-1,1),data.emotion,test_size=0.30,random_state=21)\n",
    "\n",
    "SDGclass = SDGclass.fit(X_train, y_train)\n",
    "y_pred = SDGclass.predict(X_test)"
   ]
  },
  {
   "cell_type": "code",
   "execution_count": 90,
   "metadata": {},
   "outputs": [
    {
     "output_type": "stream",
     "name": "stdout",
     "text": [
      "30.555555555555557\n"
     ]
    }
   ],
   "source": [
    "from sklearn.metrics import accuracy_score\n",
    "print(accuracy_score(y_test, y_pred)*100)"
   ]
  },
  {
   "cell_type": "code",
   "execution_count": null,
   "metadata": {},
   "outputs": [],
   "source": []
  }
 ]
}