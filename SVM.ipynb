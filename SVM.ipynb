{
 "cells": [
  {
   "cell_type": "markdown",
   "metadata": {
    "collapsed": true,
    "pycharm": {
     "name": "#%% md\n"
    }
   },
   "source": [
    "get dataset and order data"
   ]
  },
  {
   "cell_type": "code",
   "execution_count": 1,
   "metadata": {
    "pycharm": {
     "name": "#%%\n"
    }
   },
   "outputs": [],
   "source": [
    "import numpy as np\n",
    "import pandas as pd\n",
    "from matplotlib import pyplot as plt\n",
    "\n",
    "import data_process\n",
    "from sklearn.model_selection import train_test_split\n",
    "\n",
    "\n",
    "x, y = data_process.process_data('dataset.csv', \"OTHER\")"
   ]
  },
  {
   "cell_type": "markdown",
   "metadata": {
    "pycharm": {
     "name": "#%% md\n"
    }
   },
   "source": [
    "import SVC"
   ]
  },
  {
   "cell_type": "code",
   "execution_count": 2,
   "metadata": {
    "pycharm": {
     "name": "#%%\n"
    }
   },
   "outputs": [],
   "source": [
    "from sklearn import svm\n",
    "from sklearn.metrics import accuracy_score, roc_curve\n",
    "from sklearn.model_selection import train_test_split"
   ]
  },
  {
   "cell_type": "markdown",
   "metadata": {
    "pycharm": {
     "name": "#%% md\n"
    }
   },
   "source": [
    "split data in train and test etc"
   ]
  },
  {
   "cell_type": "code",
   "execution_count": 3,
   "metadata": {
    "pycharm": {
     "name": "#%%\n"
    }
   },
   "outputs": [],
   "source": [
    "\n",
    "X_train, X_test, y_train, y_test = train_test_split(x, y, test_size=0.33, random_state=42)"
   ]
  },
  {
   "cell_type": "markdown",
   "metadata": {
    "pycharm": {
     "name": "#%% md\n"
    }
   },
   "source": [
    "fit model and train and compare accuracy\n"
   ]
  },
  {
   "cell_type": "code",
   "execution_count": 4,
   "metadata": {
    "pycharm": {
     "name": "#%%\n"
    }
   },
   "outputs": [],
   "source": [
    "\n",
    "linear = svm.SVC(kernel='linear', C=1, decision_function_shape='ovo').fit(X_train, y_train)\n",
    "rbf = svm.SVC(kernel='rbf', gamma=1, C=1, decision_function_shape='ovo').fit(X_train, y_train)\n",
    "poly = svm.SVC(kernel='poly', degree=3, C=1, decision_function_shape='ovo').fit(X_train, y_train)\n",
    "sig = svm.SVC(kernel='sigmoid', C=1, decision_function_shape='ovo').fit(X_train, y_train)"
   ]
  },
  {
   "cell_type": "code",
   "execution_count": 5,
   "metadata": {},
   "outputs": [],
   "source": [
    "linear_pred = linear.predict(X_test)\n",
    "poly_pred = poly.predict(X_test)\n",
    "rbf_pred = rbf.predict(X_test)\n",
    "sig_pred = sig.predict(X_test)"
   ]
  },
  {
   "cell_type": "code",
   "execution_count": 6,
   "metadata": {},
   "outputs": [
    {
     "name": "stdout",
     "output_type": "stream",
     "text": [
      "Accuracy Linear Kernel:  0.9245283018867925\n",
      "Accuracy Polynomial Kernel:  0.7861635220125787\n",
      "Accuracy Radial Basis Kernel:  0.4591194968553459\n",
      "Accuracy Sigmoid Kernel:  0.7169811320754716\n"
     ]
    }
   ],
   "source": [
    "accuracy_lin = linear.score(X_test, y_test)\n",
    "accuracy_poly = poly.score(X_test, y_test)\n",
    "accuracy_rbf = rbf.score(X_test, y_test)\n",
    "accuracy_sig = sig.score(X_test, y_test)\n",
    "\n",
    "print('Accuracy Linear Kernel: ' , accuracy_lin)\n",
    "print('Accuracy Polynomial Kernel: ', accuracy_poly)\n",
    "print('Accuracy Radial Basis Kernel: ', accuracy_rbf)\n",
    "print('Accuracy Sigmoid Kernel: ', accuracy_sig)"
   ]
  },
  {
   "cell_type": "markdown",
   "metadata": {
    "pycharm": {
     "name": "#%% md\n"
    }
   },
   "source": [
    "do the same for dataset2.csv"
   ]
  },
  {
   "cell_type": "code",
   "execution_count": 7,
   "metadata": {
    "pycharm": {
     "name": "#%%\n"
    }
   },
   "outputs": [],
   "source": [
    "x2, y2 = data_process.process_data('dataset2.csv', \"OTHER\")"
   ]
  },
  {
   "cell_type": "code",
   "execution_count": 8,
   "metadata": {
    "pycharm": {
     "name": "#%%\n"
    }
   },
   "outputs": [],
   "source": [
    "X_train2, X_test2, y_train2, y_test2 = train_test_split(x2, y2, test_size=0.2, random_state=42)"
   ]
  },
  {
   "cell_type": "code",
   "execution_count": 9,
   "metadata": {
    "pycharm": {
     "name": "#%%\n"
    }
   },
   "outputs": [],
   "source": [
    "\n",
    "linear2 = svm.SVC(kernel='linear', C=1, decision_function_shape='ovo').fit(X_train2, y_train2)\n",
    "rbf2 = svm.SVC(kernel='rbf', gamma=1, C=1, decision_function_shape='ovo').fit(X_train2, y_train2)\n",
    "poly2 = svm.SVC(kernel='poly', degree=3, C=1, decision_function_shape='ovo').fit(X_train2, y_train2)\n",
    "sig2 = svm.SVC(kernel='sigmoid', C=1, decision_function_shape='ovo').fit(X_train2, y_train2)"
   ]
  },
  {
   "cell_type": "code",
   "execution_count": 10,
   "metadata": {
    "pycharm": {
     "name": "#%%\n"
    }
   },
   "outputs": [],
   "source": [
    "linear_pred2 = linear2.predict(X_test2)\n",
    "poly_pred2 = poly2.predict(X_test2)\n",
    "rbf_pred2 = rbf2.predict(X_test2)\n",
    "sig_pred2 = sig2.predict(X_test2)"
   ]
  },
  {
   "cell_type": "code",
   "execution_count": 11,
   "metadata": {
    "pycharm": {
     "name": "#%%\n"
    }
   },
   "outputs": [
    {
     "name": "stdout",
     "output_type": "stream",
     "text": [
      "Accuracy Linear Kernel:  0.9895833333333334\n",
      "Accuracy Polynomial Kernel:  0.8229166666666666\n",
      "Accuracy Radial Basis Kernel:  0.4895833333333333\n",
      "Accuracy Sigmoid Kernel:  0.6770833333333334\n"
     ]
    }
   ],
   "source": [
    "accuracy_lin2 = linear2.score(X_test2, y_test2)\n",
    "accuracy_poly2 = poly2.score(X_test2, y_test2)\n",
    "accuracy_rbf2 = rbf2.score(X_test2, y_test2)\n",
    "accuracy_sig2 = sig2.score(X_test2, y_test2)\n",
    "\n",
    "print('Accuracy Linear Kernel: ' , accuracy_lin2)\n",
    "print('Accuracy Polynomial Kernel: ', accuracy_poly2)\n",
    "print('Accuracy Radial Basis Kernel: ', accuracy_rbf2)\n",
    "print('Accuracy Sigmoid Kernel: ', accuracy_sig2)"
   ]
  },
  {
   "cell_type": "code",
   "execution_count": 12,
   "metadata": {
    "pycharm": {
     "name": "#%%\n"
    }
   },
   "outputs": [],
   "source": [
    "from sklearn.metrics import precision_recall_fscore_support as score\n",
    "from sklearn.metrics import confusion_matrix, accuracy_score, roc_auc_score\n",
    "import seaborn as sns\n",
    "\n",
    "y_test_true = y_test\n",
    "y_test_true2 = y_test2\n",
    "#\n",
    "# y_pred = list()\n",
    "# y_pred2 = list()\n",
    "# for a in X_test:\n",
    "#     y_pred.append(linear.predict(a))\n",
    "#\n",
    "# for a in X_test2:\n",
    "#       y_pred2.append(linear2.predict(a))\n"
   ]
  },
  {
   "cell_type": "code",
   "execution_count": 13,
   "metadata": {
    "pycharm": {
     "name": "#%%\n"
    }
   },
   "outputs": [
    {
     "data": {
      "text/html": [
       "<div>\n",
       "<style scoped>\n",
       "    .dataframe tbody tr th:only-of-type {\n",
       "        vertical-align: middle;\n",
       "    }\n",
       "\n",
       "    .dataframe tbody tr th {\n",
       "        vertical-align: top;\n",
       "    }\n",
       "\n",
       "    .dataframe thead th {\n",
       "        text-align: right;\n",
       "    }\n",
       "</style>\n",
       "<table border=\"1\" class=\"dataframe\">\n",
       "  <thead>\n",
       "    <tr style=\"text-align: right;\">\n",
       "      <th></th>\n",
       "      <th>Linear</th>\n",
       "      <th>Polynomial</th>\n",
       "      <th>Radial Basis</th>\n",
       "      <th>Sigmoid</th>\n",
       "    </tr>\n",
       "  </thead>\n",
       "  <tbody>\n",
       "    <tr>\n",
       "      <th>precision</th>\n",
       "      <td>0.925367</td>\n",
       "      <td>0.827703</td>\n",
       "      <td>0.076579</td>\n",
       "      <td>0.695842</td>\n",
       "    </tr>\n",
       "    <tr>\n",
       "      <th>recall</th>\n",
       "      <td>0.924528</td>\n",
       "      <td>0.786164</td>\n",
       "      <td>0.276730</td>\n",
       "      <td>0.716981</td>\n",
       "    </tr>\n",
       "    <tr>\n",
       "      <th>fscore</th>\n",
       "      <td>0.924895</td>\n",
       "      <td>0.776938</td>\n",
       "      <td>0.119962</td>\n",
       "      <td>0.690508</td>\n",
       "    </tr>\n",
       "    <tr>\n",
       "      <th>accuracy</th>\n",
       "      <td>0.924528</td>\n",
       "      <td>0.786164</td>\n",
       "      <td>0.276730</td>\n",
       "      <td>0.716981</td>\n",
       "    </tr>\n",
       "    <tr>\n",
       "      <th>auc</th>\n",
       "      <td>0.952173</td>\n",
       "      <td>0.855665</td>\n",
       "      <td>0.500000</td>\n",
       "      <td>0.810860</td>\n",
       "    </tr>\n",
       "  </tbody>\n",
       "</table>\n",
       "</div>"
      ],
      "text/plain": [
       "             Linear  Polynomial  Radial Basis   Sigmoid\n",
       "precision  0.925367    0.827703      0.076579  0.695842\n",
       "recall     0.924528    0.786164      0.276730  0.716981\n",
       "fscore     0.924895    0.776938      0.119962  0.690508\n",
       "accuracy   0.924528    0.786164      0.276730  0.716981\n",
       "auc        0.952173    0.855665      0.500000  0.810860"
      ]
     },
     "execution_count": 13,
     "metadata": {},
     "output_type": "execute_result"
    }
   ],
   "source": [
    "from sklearn.preprocessing import label_binarize\n",
    "from sklearn.preprocessing import LabelEncoder\n",
    "\n",
    "enc = LabelEncoder()\n",
    "\n",
    "labels = ['Linear', 'Polynomial', 'Radial Basis', 'Sigmoid']\n",
    "models = [linear, poly, rbf, sig]\n",
    "\n",
    "\n",
    "y_pred = list()\n",
    "for label, model in zip(labels, models):\n",
    "    y_pred.append(pd.Series(enc.fit_transform(model.predict(X_test)), name=label))\n",
    "y_pred = pd.concat(y_pred, axis=1)\n",
    "y_test = enc.fit_transform(y_test)\n",
    "\n",
    "metrics = list()\n",
    "cm = dict()\n",
    "\n",
    "for label in labels:\n",
    "\n",
    "    precision, recall, fscore, _ = score(y_test, y_pred[label], average='weighted')\n",
    "\n",
    "    accuracy = accuracy_score(y_test, y_pred[label])\n",
    "\n",
    "    auc = roc_auc_score(label_binarize(y_test, classes=[0,1,2,3]),\n",
    "              label_binarize(y_pred[label], classes=[0,1,2,3]),\n",
    "              average='weighted', multi_class='ovr')\n",
    "\n",
    "    cm[label] = confusion_matrix(y_test, y_pred[label])\n",
    "\n",
    "    metrics.append(pd.Series({'precision':precision, 'recall':recall, 'fscore':fscore, 'accuracy':accuracy, 'auc':auc }, name=label))\n",
    "\n",
    "metrics = pd.concat(metrics, axis=1)\n",
    "\n",
    "metrics\n"
   ]
  },
  {
   "cell_type": "code",
   "execution_count": 14,
   "metadata": {
    "pycharm": {
     "name": "#%%\n"
    }
   },
   "outputs": [
    {
     "data": {
      "text/html": [
       "<div>\n",
       "<style scoped>\n",
       "    .dataframe tbody tr th:only-of-type {\n",
       "        vertical-align: middle;\n",
       "    }\n",
       "\n",
       "    .dataframe tbody tr th {\n",
       "        vertical-align: top;\n",
       "    }\n",
       "\n",
       "    .dataframe thead th {\n",
       "        text-align: right;\n",
       "    }\n",
       "</style>\n",
       "<table border=\"1\" class=\"dataframe\">\n",
       "  <thead>\n",
       "    <tr style=\"text-align: right;\">\n",
       "      <th></th>\n",
       "      <th>Linear</th>\n",
       "      <th>Polynomial</th>\n",
       "      <th>Radial Basis</th>\n",
       "      <th>Sigmoid</th>\n",
       "    </tr>\n",
       "  </thead>\n",
       "  <tbody>\n",
       "    <tr>\n",
       "      <th>precision</th>\n",
       "      <td>0.990162</td>\n",
       "      <td>0.871441</td>\n",
       "      <td>0.245124</td>\n",
       "      <td>0.719151</td>\n",
       "    </tr>\n",
       "    <tr>\n",
       "      <th>recall</th>\n",
       "      <td>0.989583</td>\n",
       "      <td>0.822917</td>\n",
       "      <td>0.145833</td>\n",
       "      <td>0.677083</td>\n",
       "    </tr>\n",
       "    <tr>\n",
       "      <th>fscore</th>\n",
       "      <td>0.989506</td>\n",
       "      <td>0.813850</td>\n",
       "      <td>0.066496</td>\n",
       "      <td>0.681670</td>\n",
       "    </tr>\n",
       "    <tr>\n",
       "      <th>accuracy</th>\n",
       "      <td>0.989583</td>\n",
       "      <td>0.822917</td>\n",
       "      <td>0.145833</td>\n",
       "      <td>0.677083</td>\n",
       "    </tr>\n",
       "    <tr>\n",
       "      <th>auc</th>\n",
       "      <td>0.993671</td>\n",
       "      <td>0.901996</td>\n",
       "      <td>0.514467</td>\n",
       "      <td>0.817616</td>\n",
       "    </tr>\n",
       "  </tbody>\n",
       "</table>\n",
       "</div>"
      ],
      "text/plain": [
       "             Linear  Polynomial  Radial Basis   Sigmoid\n",
       "precision  0.990162    0.871441      0.245124  0.719151\n",
       "recall     0.989583    0.822917      0.145833  0.677083\n",
       "fscore     0.989506    0.813850      0.066496  0.681670\n",
       "accuracy   0.989583    0.822917      0.145833  0.677083\n",
       "auc        0.993671    0.901996      0.514467  0.817616"
      ]
     },
     "execution_count": 14,
     "metadata": {},
     "output_type": "execute_result"
    }
   ],
   "source": [
    "labels2 = ['Linear', 'Polynomial', 'Radial Basis', 'Sigmoid']\n",
    "models2 = [linear2, poly2, rbf2, sig2]\n",
    "\n",
    "\n",
    "\n",
    "y_pred2 = list()\n",
    "\n",
    "y_test2 = enc.fit_transform(y_test2)\n",
    "\n",
    "for label, model in zip(labels2, models2):\n",
    "    y_pred2.append(pd.Series(enc.fit_transform(model.predict(X_test2)), name=label))\n",
    "y_pred2 = pd.concat(y_pred2, axis=1)\n",
    "\n",
    "metrics2 = list()\n",
    "cm2 = dict()\n",
    "\n",
    "for label in labels2:\n",
    "\n",
    "    precision, recall, fscore, _ = score(y_test2, y_pred2[label], average='weighted')\n",
    "\n",
    "    accuracy = accuracy_score(y_test2, y_pred2[label])\n",
    "\n",
    "    auc = roc_auc_score(label_binarize(y_test2, classes=[0,1,2]),\n",
    "              label_binarize(y_pred2[label], classes=[0,1,2]),\n",
    "              average='weighted', multi_class='ovr')\n",
    "\n",
    "    cm2[label] = confusion_matrix(y_test2, y_pred2[label])\n",
    "\n",
    "    metrics2.append(pd.Series({'precision':precision, 'recall':recall, 'fscore':fscore, 'accuracy':accuracy, 'auc':auc }, name=label))\n",
    "\n",
    "metrics2 = pd.concat(metrics2, axis=1)\n",
    "\n",
    "metrics2\n",
    "\n"
   ]
  },
  {
   "cell_type": "code",
   "execution_count": 15,
   "metadata": {
    "pycharm": {
     "name": "#%%\n"
    }
   },
   "outputs": [
    {
     "data": {
      "image/png": "[encoded data removed]",
      "text/plain": [
       "<Figure size 1296x432 with 8 Axes>"
      ]
     },
     "metadata": {
      "needs_background": "light"
     },
     "output_type": "display_data"
    }
   ],
   "source": [
    "from sklearn.metrics import plot_confusion_matrix\n",
    "from sklearn import metrics\n",
    "\n",
    "fig, axList = plt.subplots(nrows=2, ncols=2)\n",
    "axList = axList.flatten()\n",
    "fig.set_size_inches(18, 6)\n",
    "\n",
    "for ax,label,model in zip(axList, labels, models):\n",
    "    plot_confusion_matrix(model, X_test, y_test_true, ax=ax)\n",
    "    ax.set(title=label)\n",
    "\n",
    "plt.tight_layout()"
   ]
  },
  {
   "cell_type": "code",
   "execution_count": 16,
   "metadata": {
    "pycharm": {
     "name": "#%%\n"
    }
   },
   "outputs": [
    {
     "data": {
      "image/png": "[encoded data removed]",
      "text/plain": [
       "<Figure size 1296x432 with 8 Axes>"
      ]
     },
     "metadata": {
      "needs_background": "light"
     },
     "output_type": "display_data"
    }
   ],
   "source": [
    "fig, axList = plt.subplots(nrows=2, ncols=2)\n",
    "axList = axList.flatten()\n",
    "fig.set_size_inches(18, 6)\n",
    "\n",
    "for ax,label,model in zip(axList, labels, models2):\n",
    "    plot_confusion_matrix(model, X_test2, y_test_true2, ax=ax)\n",
    "    ax.set(title=label)\n",
    "\n",
    "\n",
    "plt.tight_layout()"
   ]
  },
  {
   "cell_type": "code",
   "execution_count": null,
   "metadata": {
    "pycharm": {
     "name": "#%%\n"
    }
   },
   "outputs": [],
   "source": []
  }
 ],
 "metadata": {
  "kernelspec": {
   "display_name": "Python 3",
   "language": "python",
   "name": "python3"
  },
  "language_info": {
   "codemirror_mode": {
    "name": "ipython",
    "version": 3
   },
   "file_extension": ".py",
   "mimetype": "text/x-python",
   "name": "python",
   "nbconvert_exporter": "python",
   "pygments_lexer": "ipython3",
   "version": "3.8.8"
  }
 },
 "nbformat": 4,
 "nbformat_minor": 1
}