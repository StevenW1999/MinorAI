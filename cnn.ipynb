{
 "cells": [
  {
   "cell_type": "markdown",
   "metadata": {
    "collapsed": true,
    "pycharm": {
     "name": "#%% md\n"
    }
   },
   "source": [
    "import the modules and get dataset"
   ]
  },
  {
   "cell_type": "code",
   "execution_count": 1,
   "metadata": {
    "pycharm": {
     "name": "#%%\n"
    }
   },
   "outputs": [],
   "source": [
    "import pandas as pd\n",
    "import numpy as np\n",
    "import warnings\n",
    "import cv2\n",
    "import data\n",
    "from PIL import Image\n",
    "import dlib\n",
    "import data_process\n",
    "from sklearn.model_selection import train_test_split\n",
    "warnings.filterwarnings(\"ignore\")\n"
   ]
  },
  {
   "cell_type": "code",
   "execution_count": 2,
   "metadata": {
    "pycharm": {
     "name": "#%%\n"
    }
   },
   "outputs": [],
   "source": [
    "x,y, a = data_process.process_data('dataset.csv', \"CNN\")\n",
    "\n",
    "X_train, X_test, y_train, y_test = train_test_split(x, y, test_size=0.2, random_state=42)\n",
    "val_data = (X_test,y_test)"
   ]
  },
  {
   "cell_type": "markdown",
   "metadata": {},
   "source": [
    "import keras for the model training and layers"
   ]
  },
  {
   "cell_type": "code",
   "execution_count": 3,
   "metadata": {
    "pycharm": {
     "name": "#%%\n"
    }
   },
   "outputs": [],
   "source": [
    "from keras.layers import Activation, Convolution2D, Dropout, Conv2D\n",
    "from keras.layers import AveragePooling2D, BatchNormalization\n",
    "from keras.layers import GlobalAveragePooling2D\n",
    "from keras.models import Sequential\n",
    "from keras.layers import Flatten, Dense\n",
    "from keras.models import Model\n",
    "from keras.layers import Input\n",
    "from keras.layers import MaxPooling2D,ZeroPadding2D, MaxPool2D\n",
    "from keras.layers import SeparableConv2D\n",
    "from keras import layers\n",
    "from keras.regularizers import l2\n",
    "from tensorflow.keras.optimizers import RMSprop"
   ]
  },
  {
   "cell_type": "markdown",
   "metadata": {},
   "source": [
    "create the model with it's layers:"
   ]
  },
  {
   "cell_type": "code",
   "execution_count": 4,
   "metadata": {
    "pycharm": {
     "name": "#%%\n"
    }
   },
   "outputs": [
    {
     "name": "stdout",
     "output_type": "stream",
     "text": [
      "Model: \"sequential\"\n",
      "_________________________________________________________________\n",
      "Layer (type)                 Output Shape              Param #   \n",
      "=================================================================\n",
      "conv2d (Conv2D)              (None, 48, 48, 32)        832       \n",
      "_________________________________________________________________\n",
      "activation (Activation)      (None, 48, 48, 32)        0         \n",
      "_________________________________________________________________\n",
      "conv2d_1 (Conv2D)            (None, 44, 44, 32)        25632     \n",
      "_________________________________________________________________\n",
      "activation_1 (Activation)    (None, 44, 44, 32)        0         \n",
      "_________________________________________________________________\n",
      "max_pooling2d (MaxPooling2D) (None, 22, 22, 32)        0         \n",
      "_________________________________________________________________\n",
      "dropout (Dropout)            (None, 22, 22, 32)        0         \n",
      "_________________________________________________________________\n",
      "flatten (Flatten)            (None, 15488)             0         \n",
      "_________________________________________________________________\n",
      "dense (Dense)                (None, 512)               7930368   \n",
      "_________________________________________________________________\n",
      "activation_2 (Activation)    (None, 512)               0         \n",
      "_________________________________________________________________\n",
      "dropout_1 (Dropout)          (None, 512)               0         \n",
      "_________________________________________________________________\n",
      "dense_1 (Dense)              (None, 4)                 2052      \n",
      "_________________________________________________________________\n",
      "activation_3 (Activation)    (None, 4)                 0         \n",
      "=================================================================\n",
      "Total params: 7,958,884\n",
      "Trainable params: 7,958,884\n",
      "Non-trainable params: 0\n",
      "_________________________________________________________________\n"
     ]
    }
   ],
   "source": [
    "input_shape=(48, 48, 1)\n",
    "num_classes = 4\n",
    "\n",
    "model_1 = Sequential()\n",
    "model_1.add(Conv2D(32, (5, 5), strides = (1,1), padding='same', input_shape=input_shape))\n",
    "model_1.add(Activation('relu'))\n",
    "model_1.add(Conv2D(32, (5, 5), strides = (1,1)))\n",
    "model_1.add(Activation('relu'))\n",
    "model_1.add(MaxPooling2D(pool_size=(2, 2)))\n",
    "model_1.add(Dropout(0.25))\n",
    "model_1.add(Flatten())\n",
    "model_1.add(Dense(512))\n",
    "model_1.add(Activation('relu'))\n",
    "model_1.add(Dropout(0.5))\n",
    "model_1.add(Dense(num_classes))\n",
    "model_1.add(Activation('softmax'))\n",
    "\n",
    "model_1.summary()"
   ]
  },
  {
   "cell_type": "markdown",
   "metadata": {},
   "source": [
    "import data generator"
   ]
  },
  {
   "cell_type": "code",
   "execution_count": 5,
   "metadata": {
    "pycharm": {
     "name": "#%%\n"
    }
   },
   "outputs": [],
   "source": [
    "from keras.preprocessing.image import ImageDataGenerator\n"
   ]
  },
  {
   "cell_type": "markdown",
   "metadata": {},
   "source": [
    "compile the model:"
   ]
  },
  {
   "cell_type": "code",
   "execution_count": 6,
   "metadata": {
    "pycharm": {
     "name": "#%%\n"
    }
   },
   "outputs": [
    {
     "name": "stdout",
     "output_type": "stream",
     "text": [
      "WARNING:tensorflow:From <timed exec>:13: Model.fit_generator (from tensorflow.python.keras.engine.training) is deprecated and will be removed in a future version.\n",
      "Instructions for updating:\n",
      "Please use Model.fit, which supports generators.\n",
      "Epoch 1/20\n",
      "12/12 [==============================] - 1s 107ms/step - loss: 1.7143 - accuracy: 0.3307 - val_loss: 1.3078 - val_accuracy: 0.4375\n",
      "Epoch 2/20\n",
      "12/12 [==============================] - 1s 97ms/step - loss: 1.2653 - accuracy: 0.4323 - val_loss: 1.2495 - val_accuracy: 0.4688\n",
      "Epoch 3/20\n",
      "12/12 [==============================] - 1s 97ms/step - loss: 1.1952 - accuracy: 0.4609 - val_loss: 1.2156 - val_accuracy: 0.4896\n",
      "Epoch 4/20\n",
      "12/12 [==============================] - 1s 97ms/step - loss: 1.1425 - accuracy: 0.4661 - val_loss: 1.1115 - val_accuracy: 0.5104\n",
      "Epoch 5/20\n",
      "12/12 [==============================] - 1s 95ms/step - loss: 1.0525 - accuracy: 0.5391 - val_loss: 0.9700 - val_accuracy: 0.5729\n",
      "Epoch 6/20\n",
      "12/12 [==============================] - 1s 96ms/step - loss: 0.9286 - accuracy: 0.6276 - val_loss: 0.9184 - val_accuracy: 0.5729\n",
      "Epoch 7/20\n",
      "12/12 [==============================] - 1s 95ms/step - loss: 0.8345 - accuracy: 0.6484 - val_loss: 0.7153 - val_accuracy: 0.6562\n",
      "Epoch 8/20\n",
      "12/12 [==============================] - 1s 96ms/step - loss: 0.8095 - accuracy: 0.6562 - val_loss: 0.8814 - val_accuracy: 0.5729\n",
      "Epoch 9/20\n",
      "12/12 [==============================] - 1s 95ms/step - loss: 0.7163 - accuracy: 0.7240 - val_loss: 0.8008 - val_accuracy: 0.6042\n",
      "Epoch 10/20\n",
      "12/12 [==============================] - 1s 99ms/step - loss: 0.7527 - accuracy: 0.6797 - val_loss: 0.5966 - val_accuracy: 0.7396\n",
      "Epoch 11/20\n",
      "12/12 [==============================] - 1s 100ms/step - loss: 0.6869 - accuracy: 0.6953 - val_loss: 0.5339 - val_accuracy: 0.8125\n",
      "Epoch 12/20\n",
      "12/12 [==============================] - 1s 98ms/step - loss: 0.5949 - accuracy: 0.7552 - val_loss: 0.5528 - val_accuracy: 0.7812\n",
      "Epoch 13/20\n",
      "12/12 [==============================] - 1s 99ms/step - loss: 0.5808 - accuracy: 0.7448 - val_loss: 0.6170 - val_accuracy: 0.7500\n",
      "Epoch 14/20\n",
      "12/12 [==============================] - 1s 100ms/step - loss: 0.5985 - accuracy: 0.7865 - val_loss: 0.5320 - val_accuracy: 0.7812\n",
      "Epoch 15/20\n",
      "12/12 [==============================] - 1s 99ms/step - loss: 0.5452 - accuracy: 0.7786 - val_loss: 0.4852 - val_accuracy: 0.8646\n",
      "Epoch 16/20\n",
      "12/12 [==============================] - 1s 100ms/step - loss: 0.5534 - accuracy: 0.7552 - val_loss: 0.4874 - val_accuracy: 0.8438\n",
      "Epoch 17/20\n",
      "12/12 [==============================] - 1s 96ms/step - loss: 0.4674 - accuracy: 0.8073 - val_loss: 0.4382 - val_accuracy: 0.8229\n",
      "Epoch 18/20\n",
      "12/12 [==============================] - 1s 96ms/step - loss: 0.4202 - accuracy: 0.8359 - val_loss: 0.5428 - val_accuracy: 0.7604\n",
      "Epoch 19/20\n",
      "12/12 [==============================] - 1s 99ms/step - loss: 0.4758 - accuracy: 0.7839 - val_loss: 0.5144 - val_accuracy: 0.8333\n",
      "Epoch 20/20\n",
      "12/12 [==============================] - 1s 101ms/step - loss: 0.4265 - accuracy: 0.8307 - val_loss: 0.4586 - val_accuracy: 0.8125\n",
      "Wall time: 26.4 s\n"
     ]
    }
   ],
   "source": [
    "%%time\n",
    "# data generator Generate batches of tensor image data with real-time data augmentation\n",
    "data_generator = ImageDataGenerator(\n",
    "                        rotation_range=10,\n",
    "                        width_shift_range=0.1,\n",
    "                        height_shift_range=0.1,\n",
    "                        horizontal_flip=True)\n",
    "batch_size = 32\n",
    "opt = RMSprop(lr=0.0005, decay=1e-6)\n",
    "\n",
    "model_1.compile(optimizer='adam', loss='categorical_crossentropy',\n",
    "              metrics=['accuracy'])\n",
    "\n",
    "hist_model_1 = model_1.fit_generator(data_generator.flow(X_train, y_train,\n",
    "                                            batch_size),\n",
    "                        epochs=20, verbose=1,validation_data =val_data)"
   ]
  },
  {
   "cell_type": "markdown",
   "metadata": {},
   "source": [
    "Plot"
   ]
  },
  {
   "cell_type": "code",
   "execution_count": 7,
   "metadata": {
    "pycharm": {
     "name": "#%%\n"
    }
   },
   "outputs": [
    {
     "name": "stdout",
     "output_type": "stream",
     "text": [
      "3/3 [==============================] - 0s 9ms/step - loss: 0.4586 - accuracy: 0.8125\n"
     ]
    },
    {
     "data": {
      "image/png": "[encoded data removed]",
      "text/plain": [
       "<Figure size 432x288 with 1 Axes>"
      ]
     },
     "metadata": {
      "needs_background": "light"
     },
     "output_type": "display_data"
    }
   ],
   "source": [
    "import matplotlib.pyplot as plt\n",
    "%matplotlib inline\n",
    "score = model_1.evaluate(X_test, y_test, verbose=1)\n",
    "history_dict=hist_model_1.history\n",
    "history_dict.keys()\n",
    "\n",
    "train_loss_values = history_dict['loss']\n",
    "val_loss_values = history_dict['val_loss']\n",
    "\n",
    "epochs = range(1, len(history_dict['accuracy']) + 1)\n",
    "\n",
    "plt.plot(epochs, train_loss_values, 'r', label='Training loss')\n",
    "plt.plot(epochs, val_loss_values, 'b', label='Validation loss')\n",
    "plt.title('Training and validation loss')\n",
    "plt.xlabel('Epochs')\n",
    "plt.ylabel('Loss')\n",
    "plt.legend()\n",
    "plt.show()"
   ]
  },
  {
   "cell_type": "markdown",
   "metadata": {},
   "source": [
    "do the same with dataset2.csv"
   ]
  },
  {
   "cell_type": "code",
   "execution_count": 8,
   "metadata": {
    "pycharm": {
     "name": "#%%\n"
    }
   },
   "outputs": [],
   "source": [
    "x2, y2, a2= data_process.process_data('dataset2.csv', \"CNN\")\n",
    "X_train2, X_test2, y_train2, y_test2 = train_test_split(x2, y2, test_size=0.2, random_state=42)\n",
    "val_data2 = (X_test2,y_test2)\n"
   ]
  },
  {
   "cell_type": "markdown",
   "metadata": {
    "pycharm": {
     "name": "#%% md\n"
    }
   },
   "source": [
    "model:"
   ]
  },
  {
   "cell_type": "code",
   "execution_count": 9,
   "metadata": {
    "pycharm": {
     "name": "#%%\n"
    }
   },
   "outputs": [
    {
     "name": "stdout",
     "output_type": "stream",
     "text": [
      "Model: \"sequential_1\"\n",
      "_________________________________________________________________\n",
      "Layer (type)                 Output Shape              Param #   \n",
      "=================================================================\n",
      "conv2d_2 (Conv2D)            (None, 48, 48, 32)        832       \n",
      "_________________________________________________________________\n",
      "activation_4 (Activation)    (None, 48, 48, 32)        0         \n",
      "_________________________________________________________________\n",
      "conv2d_3 (Conv2D)            (None, 44, 44, 32)        25632     \n",
      "_________________________________________________________________\n",
      "activation_5 (Activation)    (None, 44, 44, 32)        0         \n",
      "_________________________________________________________________\n",
      "max_pooling2d_1 (MaxPooling2 (None, 22, 22, 32)        0         \n",
      "_________________________________________________________________\n",
      "dropout_2 (Dropout)          (None, 22, 22, 32)        0         \n",
      "_________________________________________________________________\n",
      "flatten_1 (Flatten)          (None, 15488)             0         \n",
      "_________________________________________________________________\n",
      "dense_2 (Dense)              (None, 512)               7930368   \n",
      "_________________________________________________________________\n",
      "activation_6 (Activation)    (None, 512)               0         \n",
      "_________________________________________________________________\n",
      "dropout_3 (Dropout)          (None, 512)               0         \n",
      "_________________________________________________________________\n",
      "dense_3 (Dense)              (None, 4)                 2052      \n",
      "_________________________________________________________________\n",
      "activation_7 (Activation)    (None, 4)                 0         \n",
      "=================================================================\n",
      "Total params: 7,958,884\n",
      "Trainable params: 7,958,884\n",
      "Non-trainable params: 0\n",
      "_________________________________________________________________\n"
     ]
    }
   ],
   "source": [
    "input_shape=(48, 48, 1)\n",
    "num_classes = 4\n",
    "\n",
    "model_2 = Sequential()\n",
    "\n",
    "model_2.add(Conv2D(32, (5, 5), strides = (1,1), padding='same', input_shape=input_shape))\n",
    "model_2.add(Activation('relu'))\n",
    "\n",
    "model_2.add(Conv2D(32, (5, 5), strides = (1,1)))\n",
    "model_2.add(Activation('relu'))\n",
    "\n",
    "model_2.add(MaxPooling2D(pool_size=(2, 2)))\n",
    "model_2.add(Dropout(0.25))\n",
    "\n",
    "model_2.add(Flatten())\n",
    "model_2.add(Dense(512))\n",
    "model_2.add(Activation('relu'))\n",
    "model_2.add(Dropout(0.5))\n",
    "model_2.add(Dense(num_classes))\n",
    "model_2.add(Activation('softmax'))\n",
    "\n",
    "model_2.summary()"
   ]
  },
  {
   "cell_type": "markdown",
   "metadata": {},
   "source": [
    "data generator"
   ]
  },
  {
   "cell_type": "code",
   "execution_count": 10,
   "metadata": {
    "pycharm": {
     "name": "#%%\n"
    }
   },
   "outputs": [
    {
     "name": "stdout",
     "output_type": "stream",
     "text": [
      "Epoch 1/20\n",
      "12/12 [==============================] - 1s 110ms/step - loss: 1.7351 - accuracy: 0.3125 - val_loss: 1.3741 - val_accuracy: 0.4375\n",
      "Epoch 2/20\n",
      "12/12 [==============================] - 1s 99ms/step - loss: 1.3422 - accuracy: 0.3776 - val_loss: 1.2248 - val_accuracy: 0.5000\n",
      "Epoch 3/20\n",
      "12/12 [==============================] - 1s 100ms/step - loss: 1.2270 - accuracy: 0.4505 - val_loss: 1.1448 - val_accuracy: 0.5312\n",
      "Epoch 4/20\n",
      "12/12 [==============================] - 1s 98ms/step - loss: 1.1830 - accuracy: 0.4922 - val_loss: 1.1196 - val_accuracy: 0.5521\n",
      "Epoch 5/20\n",
      "12/12 [==============================] - 1s 97ms/step - loss: 1.1097 - accuracy: 0.5495 - val_loss: 0.9741 - val_accuracy: 0.6250\n",
      "Epoch 6/20\n",
      "12/12 [==============================] - 1s 98ms/step - loss: 1.0468 - accuracy: 0.5521 - val_loss: 0.8250 - val_accuracy: 0.7083\n",
      "Epoch 7/20\n",
      "12/12 [==============================] - 1s 98ms/step - loss: 0.9552 - accuracy: 0.5938 - val_loss: 0.7163 - val_accuracy: 0.7396\n",
      "Epoch 8/20\n",
      "12/12 [==============================] - 1s 98ms/step - loss: 0.9158 - accuracy: 0.6224 - val_loss: 0.7039 - val_accuracy: 0.6875\n",
      "Epoch 9/20\n",
      "12/12 [==============================] - 1s 96ms/step - loss: 0.8441 - accuracy: 0.6458 - val_loss: 0.5727 - val_accuracy: 0.7604\n",
      "Epoch 10/20\n",
      "12/12 [==============================] - 1s 97ms/step - loss: 0.8099 - accuracy: 0.6458 - val_loss: 0.5766 - val_accuracy: 0.7604\n",
      "Epoch 11/20\n",
      "12/12 [==============================] - 1s 96ms/step - loss: 0.7948 - accuracy: 0.6719 - val_loss: 0.5749 - val_accuracy: 0.7604\n",
      "Epoch 12/20\n",
      "12/12 [==============================] - 1s 97ms/step - loss: 0.7168 - accuracy: 0.7083 - val_loss: 0.5136 - val_accuracy: 0.7708\n",
      "Epoch 13/20\n",
      "12/12 [==============================] - 1s 97ms/step - loss: 0.7071 - accuracy: 0.6797 - val_loss: 0.5130 - val_accuracy: 0.7396\n",
      "Epoch 14/20\n",
      "12/12 [==============================] - 1s 98ms/step - loss: 0.6576 - accuracy: 0.7422 - val_loss: 0.5147 - val_accuracy: 0.7708\n",
      "Epoch 15/20\n",
      "12/12 [==============================] - 1s 97ms/step - loss: 0.7115 - accuracy: 0.6667 - val_loss: 0.5142 - val_accuracy: 0.7708\n",
      "Epoch 16/20\n",
      "12/12 [==============================] - 1s 96ms/step - loss: 0.6768 - accuracy: 0.7266 - val_loss: 0.4690 - val_accuracy: 0.7917\n",
      "Epoch 17/20\n",
      "12/12 [==============================] - 1s 96ms/step - loss: 0.6424 - accuracy: 0.7422 - val_loss: 0.4722 - val_accuracy: 0.7917\n",
      "Epoch 18/20\n",
      "12/12 [==============================] - 1s 97ms/step - loss: 0.6117 - accuracy: 0.7500 - val_loss: 0.4859 - val_accuracy: 0.7812\n",
      "Epoch 19/20\n",
      "12/12 [==============================] - 1s 95ms/step - loss: 0.6004 - accuracy: 0.7422 - val_loss: 0.4397 - val_accuracy: 0.8125\n",
      "Epoch 20/20\n",
      "12/12 [==============================] - 1s 98ms/step - loss: 0.5822 - accuracy: 0.7578 - val_loss: 0.4351 - val_accuracy: 0.7812\n",
      "Wall time: 26.3 s\n"
     ]
    }
   ],
   "source": [
    "%%time\n",
    "data_generator2 = ImageDataGenerator(\n",
    "                        rotation_range=10,\n",
    "                        width_shift_range=0.1,\n",
    "                        height_shift_range=0.1,\n",
    "                        horizontal_flip=True)\n",
    "batch_size = 32\n",
    "opt2 = RMSprop(lr=0.0005, decay=1e-6)\n",
    "\n",
    "model_2.compile(optimizer='adam', loss='categorical_crossentropy',\n",
    "              metrics=['accuracy'])\n",
    "\n",
    "hist_model_2 = model_2.fit_generator(data_generator2.flow(X_train2, y_train2,\n",
    "                                            batch_size),\n",
    "                        epochs=20, verbose=1,validation_data =val_data2)"
   ]
  },
  {
   "cell_type": "markdown",
   "metadata": {},
   "source": [
    "plot"
   ]
  },
  {
   "cell_type": "code",
   "execution_count": 11,
   "metadata": {
    "pycharm": {
     "name": "#%%\n"
    }
   },
   "outputs": [
    {
     "name": "stdout",
     "output_type": "stream",
     "text": [
      "3/3 [==============================] - 0s 10ms/step - loss: 0.4351 - accuracy: 0.7812\n"
     ]
    },
    {
     "data": {
      "image/png": "[encoded data removed]",
      "text/plain": [
       "<Figure size 432x288 with 1 Axes>"
      ]
     },
     "metadata": {
      "needs_background": "light"
     },
     "output_type": "display_data"
    }
   ],
   "source": [
    "score2 = model_2.evaluate(X_test2, y_test2, verbose=1)\n",
    "history_dict2=hist_model_2.history\n",
    "history_dict2.keys()\n",
    "\n",
    "train_loss_values2 = history_dict2['loss']\n",
    "val_loss_values2 = history_dict2['val_loss']\n",
    "\n",
    "epochs2 = range(1, len(history_dict2['accuracy']) + 1)\n",
    "\n",
    "plt.plot(epochs2, train_loss_values2, 'r', label='Training loss')\n",
    "plt.plot(epochs2, val_loss_values2, 'b', label='Validation loss')\n",
    "plt.title('Training and validation loss')\n",
    "plt.xlabel('Epochs')\n",
    "plt.ylabel('Loss')\n",
    "plt.legend()\n",
    "plt.show()"
   ]
  },
  {
   "cell_type": "markdown",
   "metadata": {
    "pycharm": {
     "name": "#%% md\n"
    }
   },
   "source": [
    "compare classification metrics\n"
   ]
  },
  {
   "cell_type": "code",
   "execution_count": 12,
   "metadata": {
    "pycharm": {
     "name": "#%%\n"
    }
   },
   "outputs": [
    {
     "name": "stdout",
     "output_type": "stream",
     "text": [
      "WARNING:tensorflow:From <ipython-input-12-e8cedda58543>:8: Sequential.predict_classes (from tensorflow.python.keras.engine.sequential) is deprecated and will be removed after 2021-01-01.\n",
      "Instructions for updating:\n",
      "Please use instead:* `np.argmax(model.predict(x), axis=-1)`,   if your model does multi-class classification   (e.g. if it uses a `softmax` last-layer activation).* `(model.predict(x) > 0.5).astype(\"int32\")`,   if your model does binary classification   (e.g. if it uses a `sigmoid` last-layer activation).\n"
     ]
    },
    {
     "data": {
      "text/html": [
       "<div>\n",
       "<style scoped>\n",
       "    .dataframe tbody tr th:only-of-type {\n",
       "        vertical-align: middle;\n",
       "    }\n",
       "\n",
       "    .dataframe tbody tr th {\n",
       "        vertical-align: top;\n",
       "    }\n",
       "\n",
       "    .dataframe thead th {\n",
       "        text-align: right;\n",
       "    }\n",
       "</style>\n",
       "<table border=\"1\" class=\"dataframe\">\n",
       "  <thead>\n",
       "    <tr style=\"text-align: right;\">\n",
       "      <th></th>\n",
       "      <th>model1</th>\n",
       "      <th>model2</th>\n",
       "    </tr>\n",
       "  </thead>\n",
       "  <tbody>\n",
       "    <tr>\n",
       "      <th>precision</th>\n",
       "      <td>0.800347</td>\n",
       "      <td>0.764686</td>\n",
       "    </tr>\n",
       "    <tr>\n",
       "      <th>recall</th>\n",
       "      <td>0.812500</td>\n",
       "      <td>0.781250</td>\n",
       "    </tr>\n",
       "    <tr>\n",
       "      <th>fscore</th>\n",
       "      <td>0.800083</td>\n",
       "      <td>0.743241</td>\n",
       "    </tr>\n",
       "    <tr>\n",
       "      <th>accuracy</th>\n",
       "      <td>0.812500</td>\n",
       "      <td>0.781250</td>\n",
       "    </tr>\n",
       "    <tr>\n",
       "      <th>auc</th>\n",
       "      <td>0.953304</td>\n",
       "      <td>0.968493</td>\n",
       "    </tr>\n",
       "  </tbody>\n",
       "</table>\n",
       "</div>"
      ],
      "text/plain": [
       "             model1    model2\n",
       "precision  0.800347  0.764686\n",
       "recall     0.812500  0.781250\n",
       "fscore     0.800083  0.743241\n",
       "accuracy   0.812500  0.781250\n",
       "auc        0.953304  0.968493"
      ]
     },
     "execution_count": 12,
     "metadata": {},
     "output_type": "execute_result"
    }
   ],
   "source": [
    "from sklearn.metrics import precision_recall_fscore_support as score\n",
    "from sklearn.metrics import confusion_matrix, accuracy_score, roc_auc_score\n",
    "import seaborn as sns\n",
    "\n",
    "metrics = list()\n",
    "cm = dict()\n",
    "y_pred = model_1.predict(X_test)\n",
    "y_pred_class = model_1.predict_classes(X_test, verbose=0)\n",
    "rounded_labels = np.argmax(y_test, axis=1)\n",
    "\n",
    "precision, recall, fscore, _ = score(rounded_labels, y_pred_class, average='weighted')\n",
    "accuracy = accuracy_score(rounded_labels, y_pred_class)\n",
    "auc = roc_auc_score(y_test, y_pred)\n",
    "metrics.append(pd.Series({'precision':precision, 'recall':recall, 'fscore':fscore, 'accuracy':accuracy, 'auc':auc}, name=\"model1\"))\n",
    "cm = confusion_matrix(rounded_labels,y_pred_class)\n",
    "\n",
    "metrics2 = list()\n",
    "cm2 = dict()\n",
    "y_pred2 = model_2.predict(X_test2)\n",
    "y_pred_class2 = model_2.predict_classes(X_test2, verbose=0)\n",
    "rounded_labels2 = np.argmax(y_test2, axis=1)\n",
    "\n",
    "precision2, recall2, fscore2, _ = score(rounded_labels2, y_pred_class2, average='weighted')\n",
    "accuracy2 = accuracy_score(rounded_labels2, y_pred_class2)\n",
    "auc2 = roc_auc_score(y_test2, y_pred2)\n",
    "metrics2.append(pd.Series({'precision':precision2, 'recall':recall2, 'fscore':fscore2, 'accuracy':accuracy2, 'auc':auc2}, name=\"model2\"))\n",
    "cm2 = confusion_matrix(rounded_labels2,y_pred_class2)\n",
    "m = metrics + metrics2\n",
    "metrics = pd.concat(m, axis=1)\n",
    "\n",
    "metrics\n"
   ]
  },
  {
   "cell_type": "code",
   "execution_count": 13,
   "metadata": {},
   "outputs": [
    {
     "name": "stdout",
     "output_type": "stream",
     "text": [
      "['happy', 'sadness', 'contempt', 'anger']\n"
     ]
    }
   ],
   "source": [
    "\n",
    "def get_unique_N(iterable):\n",
    "    seen = set()\n",
    "    for e in iterable:\n",
    "        if e in seen:\n",
    "            continue\n",
    "        seen.add(e)\n",
    "        yield e\n",
    "\n",
    "k = get_unique_N(a)\n",
    "print(list(k))"
   ]
  },
  {
   "cell_type": "code",
   "execution_count": 14,
   "metadata": {
    "pycharm": {
     "name": "#%%\n"
    }
   },
   "outputs": [
    {
     "data": {
      "image/png": "[encoded data removed]",
      "text/plain": [
       "<Figure size 432x288 with 2 Axes>"
      ]
     },
     "metadata": {
      "needs_background": "light"
     },
     "output_type": "display_data"
    }
   ],
   "source": [
    "ax = sns.heatmap(cm, annot=True, fmt='d')"
   ]
  },
  {
   "cell_type": "code",
   "execution_count": 15,
   "metadata": {},
   "outputs": [
    {
     "name": "stdout",
     "output_type": "stream",
     "text": [
      "['happy', 'sadness', 'anger', 'contempt']\n"
     ]
    }
   ],
   "source": [
    "k2 = get_unique_N(a2)\n",
    "print(list(k2))"
   ]
  },
  {
   "cell_type": "code",
   "execution_count": 16,
   "metadata": {},
   "outputs": [
    {
     "data": {
      "image/png": "[encoded data removed]",
      "text/plain": [
       "<Figure size 432x288 with 2 Axes>"
      ]
     },
     "metadata": {
      "needs_background": "light"
     },
     "output_type": "display_data"
    }
   ],
   "source": [
    "ax2 = sns.heatmap(cm2, annot=True, fmt='d')\n"
   ]
  },
  {
   "cell_type": "code",
   "execution_count": 17,
   "metadata": {},
   "outputs": [
    {
     "name": "stdout",
     "output_type": "stream",
     "text": [
      "Model: \"sequential_2\"\n",
      "_________________________________________________________________\n",
      "Layer (type)                 Output Shape              Param #   \n",
      "=================================================================\n",
      "conv2d_4 (Conv2D)            (None, 48, 48, 32)        832       \n",
      "_________________________________________________________________\n",
      "activation_8 (Activation)    (None, 48, 48, 32)        0         \n",
      "_________________________________________________________________\n",
      "conv2d_5 (Conv2D)            (None, 44, 44, 32)        25632     \n",
      "_________________________________________________________________\n",
      "activation_9 (Activation)    (None, 44, 44, 32)        0         \n",
      "_________________________________________________________________\n",
      "max_pooling2d_2 (MaxPooling2 (None, 22, 22, 32)        0         \n",
      "_________________________________________________________________\n",
      "dropout_4 (Dropout)          (None, 22, 22, 32)        0         \n",
      "_________________________________________________________________\n",
      "flatten_2 (Flatten)          (None, 15488)             0         \n",
      "_________________________________________________________________\n",
      "dense_4 (Dense)              (None, 512)               7930368   \n",
      "_________________________________________________________________\n",
      "activation_10 (Activation)   (None, 512)               0         \n",
      "_________________________________________________________________\n",
      "dropout_5 (Dropout)          (None, 512)               0         \n",
      "_________________________________________________________________\n",
      "dense_5 (Dense)              (None, 4)                 2052      \n",
      "_________________________________________________________________\n",
      "activation_11 (Activation)   (None, 4)                 0         \n",
      "=================================================================\n",
      "Total params: 7,958,884\n",
      "Trainable params: 7,958,884\n",
      "Non-trainable params: 0\n",
      "_________________________________________________________________\n"
     ]
    }
   ],
   "source": [
    "input_shape=(48, 48, 1)\n",
    "num_classes = 4\n",
    "\n",
    "model_3 = Sequential()\n",
    "\n",
    "model_3.add(Conv2D(32, (5, 5), strides = (1,1), padding='same', input_shape=input_shape))\n",
    "model_3.add(Activation('relu'))\n",
    "\n",
    "model_3.add(Conv2D(32, (5, 5), strides = (1,1)))\n",
    "model_3.add(Activation('relu'))\n",
    "\n",
    "model_3.add(MaxPooling2D(pool_size=(2, 2)))\n",
    "model_3.add(Dropout(0.25))\n",
    "\n",
    "model_3.add(Flatten())\n",
    "model_3.add(Dense(512))\n",
    "model_3.add(Activation('relu'))\n",
    "model_3.add(Dropout(0.5))\n",
    "model_3.add(Dense(num_classes))\n",
    "model_3.add(Activation('softmax'))\n",
    "\n",
    "model_3.summary()"
   ]
  },
  {
   "cell_type": "code",
   "execution_count": 18,
   "metadata": {},
   "outputs": [
    {
     "name": "stdout",
     "output_type": "stream",
     "text": [
      "Epoch 1/20\n",
      "12/12 [==============================] - 1s 103ms/step - loss: 1.4552 - accuracy: 0.4401 - val_loss: 1.1613 - val_accuracy: 0.5000\n",
      "Epoch 2/20\n",
      "12/12 [==============================] - 1s 95ms/step - loss: 0.8724 - accuracy: 0.6432 - val_loss: 0.7401 - val_accuracy: 0.6771\n",
      "Epoch 3/20\n",
      "12/12 [==============================] - 1s 96ms/step - loss: 0.4616 - accuracy: 0.8203 - val_loss: 0.5562 - val_accuracy: 0.7604\n",
      "Epoch 4/20\n",
      "12/12 [==============================] - 1s 96ms/step - loss: 0.2520 - accuracy: 0.9089 - val_loss: 0.4713 - val_accuracy: 0.8021\n",
      "Epoch 5/20\n",
      "12/12 [==============================] - 1s 98ms/step - loss: 0.1801 - accuracy: 0.9375 - val_loss: 0.4036 - val_accuracy: 0.8646\n",
      "Epoch 6/20\n",
      "12/12 [==============================] - 1s 98ms/step - loss: 0.1244 - accuracy: 0.9635 - val_loss: 0.4428 - val_accuracy: 0.8646\n",
      "Epoch 7/20\n",
      "12/12 [==============================] - 1s 97ms/step - loss: 0.0940 - accuracy: 0.9635 - val_loss: 0.3448 - val_accuracy: 0.9062\n",
      "Epoch 8/20\n",
      "12/12 [==============================] - 1s 95ms/step - loss: 0.0675 - accuracy: 0.9870 - val_loss: 0.2842 - val_accuracy: 0.9062\n",
      "Epoch 9/20\n",
      "12/12 [==============================] - 1s 95ms/step - loss: 0.0397 - accuracy: 0.9922 - val_loss: 0.3084 - val_accuracy: 0.9271\n",
      "Epoch 10/20\n",
      "12/12 [==============================] - 1s 94ms/step - loss: 0.0260 - accuracy: 0.9922 - val_loss: 0.3389 - val_accuracy: 0.9375\n",
      "Epoch 11/20\n",
      "12/12 [==============================] - 1s 97ms/step - loss: 0.0226 - accuracy: 0.9948 - val_loss: 0.3124 - val_accuracy: 0.9271\n",
      "Epoch 12/20\n",
      "12/12 [==============================] - 1s 96ms/step - loss: 0.0163 - accuracy: 0.9974 - val_loss: 0.3790 - val_accuracy: 0.9375\n",
      "Epoch 13/20\n",
      "12/12 [==============================] - 1s 95ms/step - loss: 0.0123 - accuracy: 1.0000 - val_loss: 0.3265 - val_accuracy: 0.9271\n",
      "Epoch 14/20\n",
      "12/12 [==============================] - 1s 96ms/step - loss: 0.0212 - accuracy: 0.9922 - val_loss: 0.2959 - val_accuracy: 0.9271\n",
      "Epoch 15/20\n",
      "12/12 [==============================] - 1s 96ms/step - loss: 0.0095 - accuracy: 1.0000 - val_loss: 0.3148 - val_accuracy: 0.9375\n",
      "Epoch 16/20\n",
      "12/12 [==============================] - 1s 95ms/step - loss: 0.0092 - accuracy: 1.0000 - val_loss: 0.3476 - val_accuracy: 0.9375\n",
      "Epoch 17/20\n",
      "12/12 [==============================] - 1s 95ms/step - loss: 0.0067 - accuracy: 1.0000 - val_loss: 0.3459 - val_accuracy: 0.9271\n",
      "Epoch 18/20\n",
      "12/12 [==============================] - 1s 98ms/step - loss: 0.0037 - accuracy: 1.0000 - val_loss: 0.3717 - val_accuracy: 0.9375\n",
      "Epoch 19/20\n",
      "12/12 [==============================] - 1s 97ms/step - loss: 0.0032 - accuracy: 1.0000 - val_loss: 0.3825 - val_accuracy: 0.9271\n",
      "Epoch 20/20\n",
      "12/12 [==============================] - 1s 102ms/step - loss: 0.0040 - accuracy: 1.0000 - val_loss: 0.4110 - val_accuracy: 0.9375\n",
      "Wall time: 25.6 s\n"
     ]
    }
   ],
   "source": [
    "%%time\n",
    "model_3.compile(optimizer='adam', loss='categorical_crossentropy',\n",
    "              metrics=['accuracy'])\n",
    "\n",
    "hist_model_3 = model_3.fit(X_train, y_train,batch_size, epochs=20, verbose=1,validation_data =val_data)"
   ]
  },
  {
   "cell_type": "code",
   "execution_count": 19,
   "metadata": {},
   "outputs": [
    {
     "name": "stdout",
     "output_type": "stream",
     "text": [
      "3/3 [==============================] - 0s 11ms/step - loss: 0.4110 - accuracy: 0.9375\n"
     ]
    },
    {
     "data": {
      "image/png": "[encoded data removed]",
      "text/plain": [
       "<Figure size 432x288 with 1 Axes>"
      ]
     },
     "metadata": {
      "needs_background": "light"
     },
     "output_type": "display_data"
    }
   ],
   "source": [
    "score2 = model_3.evaluate(X_test, y_test, verbose=1)\n",
    "history_dict2=hist_model_3.history\n",
    "history_dict2.keys()\n",
    "\n",
    "train_loss_values2 = history_dict2['loss']\n",
    "val_loss_values2 = history_dict2['val_loss']\n",
    "\n",
    "epochs2 = range(1, len(history_dict2['accuracy']) + 1)\n",
    "\n",
    "plt.plot(epochs2, train_loss_values2, 'r', label='Training loss')\n",
    "plt.plot(epochs2, val_loss_values2, 'b', label='Validation loss')\n",
    "plt.title('Training and validation loss')\n",
    "plt.xlabel('Epochs')\n",
    "plt.ylabel('Loss')\n",
    "plt.legend()\n",
    "plt.show()"
   ]
  },
  {
   "cell_type": "code",
   "execution_count": 20,
   "metadata": {},
   "outputs": [
    {
     "name": "stdout",
     "output_type": "stream",
     "text": [
      "Wall time: 79 ms\n"
     ]
    }
   ],
   "source": [
    "%%time\n",
    "model = Sequential()\n",
    "model.add(Conv2D(32, (5, 5), strides = (1,1), padding='same', input_shape=input_shape))\n",
    "model.add(Activation('relu'))\n",
    "\n",
    "model.add(Conv2D(32, (5, 5), strides = (1,1)))\n",
    "model.add(Activation('relu'))\n",
    "\n",
    "model.add(MaxPooling2D(pool_size=(2, 2)))\n",
    "model.add(Dropout(0.25))\n",
    "\n",
    "model.add(Conv2D(32, (5, 5), strides = (1,1)))\n",
    "model.add(Activation('relu'))\n",
    "\n",
    "model.add(Conv2D(32, (5, 5), strides = (1,1)))\n",
    "model.add(Activation('relu'))\n",
    "\n",
    "model.add(MaxPooling2D(pool_size=(2, 2)))\n",
    "model.add(Dropout(0.25))\n",
    "\n",
    "model.add(Flatten())\n",
    "model.add(Dense(512))\n",
    "model.add(Activation('relu'))\n",
    "model.add(Dropout(0.5))\n",
    "model.add(Dense(num_classes))\n",
    "model.add(Activation('softmax'))"
   ]
  },
  {
   "cell_type": "code",
   "execution_count": 21,
   "metadata": {},
   "outputs": [
    {
     "name": "stdout",
     "output_type": "stream",
     "text": [
      "Epoch 1/20\n",
      "12/12 [==============================] - 1s 111ms/step - loss: 1.2522 - accuracy: 0.4271 - val_loss: 1.1995 - val_accuracy: 0.5312\n",
      "Epoch 2/20\n",
      "12/12 [==============================] - 1s 103ms/step - loss: 1.0742 - accuracy: 0.5573 - val_loss: 0.7896 - val_accuracy: 0.6667\n",
      "Epoch 3/20\n",
      "12/12 [==============================] - 1s 102ms/step - loss: 0.7610 - accuracy: 0.6719 - val_loss: 0.5363 - val_accuracy: 0.7188\n",
      "Epoch 4/20\n",
      "12/12 [==============================] - 1s 99ms/step - loss: 0.5072 - accuracy: 0.7865 - val_loss: 0.4208 - val_accuracy: 0.7812\n",
      "Epoch 5/20\n",
      "12/12 [==============================] - 1s 102ms/step - loss: 0.4381 - accuracy: 0.8073 - val_loss: 0.2996 - val_accuracy: 0.8958\n",
      "Epoch 6/20\n",
      "12/12 [==============================] - 1s 102ms/step - loss: 0.3836 - accuracy: 0.8255 - val_loss: 0.2949 - val_accuracy: 0.8958\n",
      "Epoch 7/20\n",
      "12/12 [==============================] - 1s 102ms/step - loss: 0.2849 - accuracy: 0.9010 - val_loss: 0.2026 - val_accuracy: 0.8958\n",
      "Epoch 8/20\n",
      "12/12 [==============================] - 1s 103ms/step - loss: 0.2149 - accuracy: 0.9167 - val_loss: 0.1695 - val_accuracy: 0.9479\n",
      "Epoch 9/20\n",
      "12/12 [==============================] - 1s 107ms/step - loss: 0.1846 - accuracy: 0.9271 - val_loss: 0.1319 - val_accuracy: 0.9375\n",
      "Epoch 10/20\n",
      "12/12 [==============================] - 1s 102ms/step - loss: 0.1242 - accuracy: 0.9583 - val_loss: 0.1106 - val_accuracy: 0.9583\n",
      "Epoch 11/20\n",
      "12/12 [==============================] - 1s 101ms/step - loss: 0.0866 - accuracy: 0.9740 - val_loss: 0.0691 - val_accuracy: 0.9792\n",
      "Epoch 12/20\n",
      "12/12 [==============================] - 1s 103ms/step - loss: 0.0805 - accuracy: 0.9688 - val_loss: 0.0563 - val_accuracy: 0.9688\n",
      "Epoch 13/20\n",
      "12/12 [==============================] - 1s 105ms/step - loss: 0.0346 - accuracy: 0.9922 - val_loss: 0.0288 - val_accuracy: 0.9896\n",
      "Epoch 14/20\n",
      "12/12 [==============================] - 1s 105ms/step - loss: 0.0714 - accuracy: 0.9714 - val_loss: 0.0317 - val_accuracy: 1.0000\n",
      "Epoch 15/20\n",
      "12/12 [==============================] - 1s 101ms/step - loss: 0.0611 - accuracy: 0.9818 - val_loss: 0.0473 - val_accuracy: 0.9896\n",
      "Epoch 16/20\n",
      "12/12 [==============================] - 1s 99ms/step - loss: 0.0593 - accuracy: 0.9766 - val_loss: 0.0860 - val_accuracy: 0.9583\n",
      "Epoch 17/20\n",
      "12/12 [==============================] - 1s 97ms/step - loss: 0.0667 - accuracy: 0.9766 - val_loss: 0.0203 - val_accuracy: 0.9896\n",
      "Epoch 18/20\n",
      "12/12 [==============================] - 1s 100ms/step - loss: 0.0262 - accuracy: 0.9948 - val_loss: 0.0095 - val_accuracy: 1.0000\n",
      "Epoch 19/20\n",
      "12/12 [==============================] - 1s 100ms/step - loss: 0.0179 - accuracy: 0.9948 - val_loss: 0.0431 - val_accuracy: 0.9792\n",
      "Epoch 20/20\n",
      "12/12 [==============================] - 1s 103ms/step - loss: 0.0407 - accuracy: 0.9844 - val_loss: 0.0120 - val_accuracy: 1.0000\n"
     ]
    }
   ],
   "source": [
    "model.compile(optimizer='adam', loss='categorical_crossentropy',\n",
    "              metrics=['accuracy'])\n",
    "\n",
    "hist_model_3 = model.fit(X_train2, y_train2,batch_size, epochs=20, verbose=1,validation_data =val_data2)"
   ]
  },
  {
   "cell_type": "code",
   "execution_count": 22,
   "metadata": {},
   "outputs": [
    {
     "name": "stdout",
     "output_type": "stream",
     "text": [
      "3/3 [==============================] - 0s 10ms/step - loss: 0.0120 - accuracy: 1.0000\n"
     ]
    },
    {
     "data": {
      "image/png": "[encoded data removed]",
      "text/plain": [
       "<Figure size 432x288 with 1 Axes>"
      ]
     },
     "metadata": {
      "needs_background": "light"
     },
     "output_type": "display_data"
    }
   ],
   "source": [
    "score2 = model.evaluate(X_test2, y_test2, verbose=1)\n",
    "history_dict2=hist_model_3.history\n",
    "history_dict2.keys()\n",
    "\n",
    "train_loss_values2 = history_dict2['loss']\n",
    "val_loss_values2 = history_dict2['val_loss']\n",
    "\n",
    "epochs2 = range(1, len(history_dict2['accuracy']) + 1)\n",
    "\n",
    "plt.plot(epochs2, train_loss_values2, 'r', label='Training loss')\n",
    "plt.plot(epochs2, val_loss_values2, 'b', label='Validation loss')\n",
    "plt.title('Training and validation loss')\n",
    "plt.xlabel('Epochs')\n",
    "plt.ylabel('Loss')\n",
    "plt.legend()\n",
    "plt.show()"
   ]
  },
  {
   "cell_type": "code",
   "execution_count": 23,
   "metadata": {},
   "outputs": [
    {
     "data": {
      "text/html": [
       "<div>\n",
       "<style scoped>\n",
       "    .dataframe tbody tr th:only-of-type {\n",
       "        vertical-align: middle;\n",
       "    }\n",
       "\n",
       "    .dataframe tbody tr th {\n",
       "        vertical-align: top;\n",
       "    }\n",
       "\n",
       "    .dataframe thead th {\n",
       "        text-align: right;\n",
       "    }\n",
       "</style>\n",
       "<table border=\"1\" class=\"dataframe\">\n",
       "  <thead>\n",
       "    <tr style=\"text-align: right;\">\n",
       "      <th></th>\n",
       "      <th>model1</th>\n",
       "      <th>model2</th>\n",
       "    </tr>\n",
       "  </thead>\n",
       "  <tbody>\n",
       "    <tr>\n",
       "      <th>precision</th>\n",
       "      <td>0.939872</td>\n",
       "      <td>1.0</td>\n",
       "    </tr>\n",
       "    <tr>\n",
       "      <th>recall</th>\n",
       "      <td>0.937500</td>\n",
       "      <td>1.0</td>\n",
       "    </tr>\n",
       "    <tr>\n",
       "      <th>fscore</th>\n",
       "      <td>0.937567</td>\n",
       "      <td>1.0</td>\n",
       "    </tr>\n",
       "    <tr>\n",
       "      <th>accuracy</th>\n",
       "      <td>0.937500</td>\n",
       "      <td>1.0</td>\n",
       "    </tr>\n",
       "    <tr>\n",
       "      <th>auc</th>\n",
       "      <td>0.984972</td>\n",
       "      <td>1.0</td>\n",
       "    </tr>\n",
       "  </tbody>\n",
       "</table>\n",
       "</div>"
      ],
      "text/plain": [
       "             model1  model2\n",
       "precision  0.939872     1.0\n",
       "recall     0.937500     1.0\n",
       "fscore     0.937567     1.0\n",
       "accuracy   0.937500     1.0\n",
       "auc        0.984972     1.0"
      ]
     },
     "execution_count": 23,
     "metadata": {},
     "output_type": "execute_result"
    }
   ],
   "source": [
    "metrics = list()\n",
    "cm = dict()\n",
    "y_pred = model_3.predict(X_test)\n",
    "y_pred_class = model_3.predict_classes(X_test, verbose=0)\n",
    "rounded_labels = np.argmax(y_test, axis=1)\n",
    "\n",
    "precision, recall, fscore, _ = score(rounded_labels, y_pred_class, average='weighted')\n",
    "accuracy = accuracy_score(rounded_labels, y_pred_class)\n",
    "auc = roc_auc_score(y_test, y_pred)\n",
    "metrics.append(pd.Series({'precision':precision, 'recall':recall, 'fscore':fscore, 'accuracy':accuracy, 'auc':auc}, name=\"model1\"))\n",
    "cm = confusion_matrix(rounded_labels,y_pred_class)\n",
    "\n",
    "metrics2 = list()\n",
    "cm2 = dict()\n",
    "y_pred2 = model.predict(X_test2)\n",
    "y_pred_class2 = model.predict_classes(X_test2, verbose=0)\n",
    "rounded_labels2 = np.argmax(y_test2, axis=1)\n",
    "\n",
    "precision2, recall2, fscore2, _ = score(rounded_labels2, y_pred_class2, average='weighted')\n",
    "accuracy2 = accuracy_score(rounded_labels2, y_pred_class2)\n",
    "auc2 = roc_auc_score(y_test2, y_pred2)\n",
    "metrics2.append(pd.Series({'precision':precision2, 'recall':recall2, 'fscore':fscore2, 'accuracy':accuracy2, 'auc':auc2}, name=\"model2\"))\n",
    "cm2 = confusion_matrix(rounded_labels2,y_pred_class2)\n",
    "m = metrics + metrics2\n",
    "metrics = pd.concat(m, axis=1)\n",
    "\n",
    "metrics"
   ]
  },
  {
   "cell_type": "code",
   "execution_count": 24,
   "metadata": {},
   "outputs": [
    {
     "name": "stdout",
     "output_type": "stream",
     "text": [
      "Wall time: 66 ms\n"
     ]
    },
    {
     "data": {
      "text/plain": [
       "array([1, 0, 2, 3, 1, 2, 2, 2, 2, 1, 0, 0, 2, 0, 2, 3, 2, 2, 2, 1, 0, 2,\n",
       "       2, 2, 2, 0, 3, 2, 2, 2, 2, 3, 0, 0, 2, 2, 1, 2, 2, 2, 0, 0, 2, 3,\n",
       "       2, 3, 2, 3, 2, 0, 3, 1, 2, 0, 0, 2, 0, 1, 0, 1, 1, 1, 3, 2, 3, 2,\n",
       "       0, 2, 0, 1, 2, 1, 2, 1, 2, 3, 0, 1, 1, 1, 2, 2, 2, 3, 2, 0, 1, 0,\n",
       "       1, 0, 3, 2, 1, 3, 3, 3], dtype=int64)"
      ]
     },
     "execution_count": 24,
     "metadata": {},
     "output_type": "execute_result"
    }
   ],
   "source": [
    "%%time\n",
    "\n",
    "model.predict_classes(X_test, verbose=0)\n",
    "# model.compile(optimizer='adam', loss='categorical_crossentropy',\n",
    "#               metrics=['accuracy'])\n",
    "\n",
    "# hist_model_3 = model.fit(X_train, y_train,batch_size, epochs=20, verbose=1,validation_data =val_data)"
   ]
  },
  {
   "cell_type": "code",
   "execution_count": 25,
   "metadata": {},
   "outputs": [
    {
     "name": "stdout",
     "output_type": "stream",
     "text": [
      "Wall time: 89 ms\n"
     ]
    }
   ],
   "source": [
    "%%time\n",
    "model = Sequential()\n",
    "model.add(Conv2D(32, (5, 5), strides = (1,1), padding='same', input_shape=input_shape))\n",
    "model.add(Activation('relu'))\n",
    "\n",
    "model.add(Conv2D(32, (5, 5), strides = (1,1)))\n",
    "model.add(Activation('relu'))\n",
    "\n",
    "model.add(MaxPooling2D(pool_size=(2, 2)))\n",
    "model.add(Dropout(0.25))\n",
    "\n",
    "model.add(Conv2D(32, (5, 5), strides = (1,1)))\n",
    "model.add(Activation('relu'))\n",
    "\n",
    "model.add(Conv2D(32, (5, 5), strides = (1,1)))\n",
    "model.add(Activation('relu'))\n",
    "\n",
    "model.add(MaxPooling2D(pool_size=(2, 2)))\n",
    "model.add(Dropout(0.25))\n",
    "\n",
    "\n",
    "model.add(Conv2D(32, (5, 5), strides = (1,1)))\n",
    "model.add(Activation('relu'))\n",
    "\n",
    "model.add(MaxPooling2D(pool_size=(2, 2)))\n",
    "model.add(Dropout(0.25))\n",
    "\n",
    "\n",
    "model.add(Flatten())\n",
    "model.add(Dense(512))\n",
    "model.add(Activation('relu'))\n",
    "model.add(Dropout(0.5))\n",
    "model.add(Dense(num_classes))\n",
    "model.add(Activation('softmax'))"
   ]
  },
  {
   "cell_type": "code",
   "execution_count": null,
   "metadata": {},
   "outputs": [
    {
     "name": "stdout",
     "output_type": "stream",
     "text": [
      "Epoch 1/20\n",
      "12/12 [==============================] - ETA: 0s - loss: 1.3180 - accuracy: 0.4010"
     ]
    }
   ],
   "source": [
    "model.compile(optimizer='adam', loss='categorical_crossentropy',\n",
    "              metrics=['accuracy'])\n",
    "\n",
    "hist_model_3 = model.fit(X_train, y_train,batch_size, epochs=20, verbose=1,validation_data =val_data)"
   ]
  },
  {
   "cell_type": "code",
   "execution_count": null,
   "metadata": {},
   "outputs": [],
   "source": [
    "score2 = model.evaluate(X_test, y_test, verbose=1)\n",
    "history_dict2=hist_model_3.history\n",
    "history_dict2.keys()\n",
    "\n",
    "train_loss_values2 = history_dict2['loss']\n",
    "val_loss_values2 = history_dict2['val_loss']\n",
    "\n",
    "epochs2 = range(1, len(history_dict2['accuracy']) + 1)\n",
    "\n",
    "plt.plot(epochs2, train_loss_values2, 'r', label='Training loss')\n",
    "plt.plot(epochs2, val_loss_values2, 'b', label='Validation loss')\n",
    "plt.title('Training and validation loss')\n",
    "plt.xlabel('Epochs')\n",
    "plt.ylabel('Loss')\n",
    "plt.legend()\n",
    "plt.show()"
   ]
  },
  {
   "cell_type": "code",
   "execution_count": null,
   "metadata": {},
   "outputs": [],
   "source": [
    "model_2 = Sequential()\n",
    "model_2.add(Conv2D(32, (5, 5), strides = (1,1), padding='same', input_shape=input_shape))\n",
    "model_2.add(Activation('relu'))\n",
    "\n",
    "model_2.add(Conv2D(32, (5, 5), strides = (1,1)))\n",
    "model_2.add(Activation('relu'))\n",
    "\n",
    "model_2.add(MaxPooling2D(pool_size=(2, 2)))\n",
    "model_2.add(Dropout(0.25))\n",
    "\n",
    "model_2.add(Conv2D(32, (5, 5), strides = (1,1)))\n",
    "model_2.add(Activation('relu'))\n",
    "\n",
    "model_2.add(Conv2D(32, (5, 5), strides = (1,1)))\n",
    "model_2.add(Activation('relu'))\n",
    "\n",
    "model_2.add(MaxPooling2D(pool_size=(2, 2)))\n",
    "model_2.add(Dropout(0.25))\n",
    "\n",
    "\n",
    "model_2.add(Conv2D(32, (5, 5), strides = (1,1)))\n",
    "model_2.add(Activation('relu'))\n",
    "\n",
    "model_2.add(MaxPooling2D(pool_size=(2, 2)))\n",
    "model_2.add(Dropout(0.25))\n",
    "\n",
    "\n",
    "model_2.add(Flatten())\n",
    "model_2.add(Dense(512))\n",
    "model_2.add(Activation('relu'))\n",
    "model_2.add(Dropout(0.5))\n",
    "model_2.add(Dense(num_classes))\n",
    "model_2.add(Activation('softmax'))"
   ]
  },
  {
   "cell_type": "code",
   "execution_count": null,
   "metadata": {},
   "outputs": [],
   "source": [
    "model_2.compile(optimizer='adam', loss='categorical_crossentropy',\n",
    "              metrics=['accuracy'])\n",
    "\n",
    "hist_model_3 = model_2.fit(X_train2, y_train2,batch_size, epochs=20, verbose=1,validation_data =val_data2)"
   ]
  },
  {
   "cell_type": "code",
   "execution_count": null,
   "metadata": {},
   "outputs": [],
   "source": [
    "score2 = model_2.evaluate(X_test, y_test, verbose=1)\n",
    "history_dict2=hist_model_3.history\n",
    "history_dict2.keys()\n",
    "\n",
    "train_loss_values2 = history_dict2['loss']\n",
    "val_loss_values2 = history_dict2['val_loss']\n",
    "\n",
    "epochs2 = range(1, len(history_dict2['accuracy']) + 1)\n",
    "\n",
    "plt.plot(epochs2, train_loss_values2, 'r', label='Training loss')\n",
    "plt.plot(epochs2, val_loss_values2, 'b', label='Validation loss')\n",
    "plt.title('Training and validation loss')\n",
    "plt.xlabel('Epochs')\n",
    "plt.ylabel('Loss')\n",
    "plt.legend()\n",
    "plt.show()"
   ]
  },
  {
   "cell_type": "code",
   "execution_count": null,
   "metadata": {},
   "outputs": [],
   "source": [
    "metrics = list()\n",
    "cm = dict()\n",
    "y_pred = model.predict(X_test)\n",
    "y_pred_class = model.predict_classes(X_test, verbose=0)\n",
    "rounded_labels = np.argmax(y_test, axis=1)\n",
    "\n",
    "precision, recall, fscore, _ = score(rounded_labels, y_pred_class, average='weighted')\n",
    "accuracy = accuracy_score(rounded_labels, y_pred_class)\n",
    "auc = roc_auc_score(y_test, y_pred)\n",
    "metrics.append(pd.Series({'precision':precision, 'recall':recall, 'fscore':fscore, 'accuracy':accuracy, 'auc':auc}, name=\"model1\"))\n",
    "cm = confusion_matrix(rounded_labels,y_pred_class)\n",
    "\n",
    "metrics2 = list()\n",
    "cm2 = dict()\n",
    "y_pred2 = model_2.predict(X_test2)\n",
    "y_pred_class2 = model_2.predict_classes(X_test2, verbose=0)\n",
    "rounded_labels2 = np.argmax(y_test2, axis=1)\n",
    "\n",
    "precision2, recall2, fscore2, _ = score(rounded_labels2, y_pred_class2, average='weighted')\n",
    "accuracy2 = accuracy_score(rounded_labels2, y_pred_class2)\n",
    "auc2 = roc_auc_score(y_test2, y_pred2)\n",
    "metrics2.append(pd.Series({'precision':precision2, 'recall':recall2, 'fscore':fscore2, 'accuracy':accuracy2, 'auc':auc2}, name=\"model2\"))\n",
    "cm2 = confusion_matrix(rounded_labels2,y_pred_class2)\n",
    "m = metrics + metrics2\n",
    "metrics = pd.concat(m, axis=1)\n",
    "\n",
    "metrics"
   ]
  },
  {
   "cell_type": "code",
   "execution_count": null,
   "metadata": {},
   "outputs": [],
   "source": [
    "model = Sequential()\n",
    "model.add(Conv2D(32, (5, 5), strides = (1,1), padding='same', input_shape=input_shape))\n",
    "model.add(Activation('relu'))\n",
    "\n",
    "model.add(Conv2D(32, (5, 5), strides = (1,1)))\n",
    "model.add(Activation('relu'))\n",
    "\n",
    "model.add(MaxPooling2D(pool_size=(2, 2)))\n",
    "model.add(Dropout(0.25))\n",
    "\n",
    "model.add(Conv2D(32, (5, 5), strides = (1,1)))\n",
    "model.add(Activation('relu'))\n",
    "\n",
    "model.add(Conv2D(32, (5, 5), strides = (1,1)))\n",
    "model.add(Activation('relu'))\n",
    "\n",
    "model.add(MaxPooling2D(pool_size=(2, 2)))\n",
    "model.add(Dropout(0.25))\n",
    "\n",
    "\n",
    "model.add(Conv2D(32, (5, 5), strides = (1,1)))\n",
    "model.add(Activation('relu'))\n",
    "\n",
    "model.add(MaxPooling2D(pool_size=(2, 2)))\n",
    "model.add(Dropout(0.25))\n",
    "\n",
    "\n",
    "model.add(Flatten())\n",
    "model.add(Dense(512))\n",
    "model.add(Activation('relu'))\n",
    "model.add(Dropout(0.5))\n",
    "model.add(Dense(num_classes))\n",
    "model.add(Activation('softmax'))\n",
    "model.summary()"
   ]
  },
  {
   "cell_type": "code",
   "execution_count": null,
   "metadata": {},
   "outputs": [],
   "source": [
    "model.compile(optimizer='adam', loss='categorical_crossentropy',\n",
    "              metrics=['accuracy'])\n",
    "\n",
    "hist_model_1 = model.fit_generator(data_generator.flow(X_train, y_train,\n",
    "                                            batch_size),\n",
    "                        epochs=20, verbose=1,validation_data =val_data)"
   ]
  },
  {
   "cell_type": "code",
   "execution_count": null,
   "metadata": {},
   "outputs": [],
   "source": [
    "score2 = model.evaluate(X_test, y_test, verbose=1)\n",
    "history_dict2=hist_model_1.history\n",
    "history_dict2.keys()\n",
    "\n",
    "train_loss_values2 = history_dict2['loss']\n",
    "val_loss_values2 = history_dict2['val_loss']\n",
    "\n",
    "epochs2 = range(1, len(history_dict2['accuracy']) + 1)\n",
    "\n",
    "plt.plot(epochs2, train_loss_values2, 'r', label='Training loss')\n",
    "plt.plot(epochs2, val_loss_values2, 'b', label='Validation loss')\n",
    "plt.title('Training and validation loss')\n",
    "plt.xlabel('Epochs')\n",
    "plt.ylabel('Loss')\n",
    "plt.legend()\n",
    "plt.show()"
   ]
  },
  {
   "cell_type": "code",
   "execution_count": null,
   "metadata": {},
   "outputs": [],
   "source": [
    "model_2 = Sequential()\n",
    "model_2.add(Conv2D(32, (5, 5), strides = (1,1), padding='same', input_shape=input_shape))\n",
    "model_2.add(Activation('relu'))\n",
    "\n",
    "model_2.add(Conv2D(32, (5, 5), strides = (1,1)))\n",
    "model_2.add(Activation('relu'))\n",
    "\n",
    "model_2.add(MaxPooling2D(pool_size=(2, 2)))\n",
    "model_2.add(Dropout(0.25))\n",
    "\n",
    "model_2.add(Conv2D(32, (5, 5), strides = (1,1)))\n",
    "model_2.add(Activation('relu'))\n",
    "\n",
    "model_2.add(Conv2D(32, (5, 5), strides = (1,1)))\n",
    "model_2.add(Activation('relu'))\n",
    "\n",
    "model_2.add(MaxPooling2D(pool_size=(2, 2)))\n",
    "model_2.add(Dropout(0.25))\n",
    "\n",
    "\n",
    "model_2.add(Conv2D(32, (5, 5), strides = (1,1)))\n",
    "model_2.add(Activation('relu'))\n",
    "\n",
    "model_2.add(MaxPooling2D(pool_size=(2, 2)))\n",
    "model_2.add(Dropout(0.25))\n",
    "\n",
    "\n",
    "model_2.add(Flatten())\n",
    "model_2.add(Dense(512))\n",
    "model_2.add(Activation('relu'))\n",
    "model_2.add(Dropout(0.5))\n",
    "model_2.add(Dense(num_classes))\n",
    "model_2.add(Activation('softmax'))"
   ]
  },
  {
   "cell_type": "code",
   "execution_count": null,
   "metadata": {},
   "outputs": [],
   "source": [
    "model_2.compile(optimizer='adam', loss='categorical_crossentropy',\n",
    "              metrics=['accuracy'])\n",
    "\n",
    "hist_model_2 = model_2.fit_generator(data_generator2.flow(X_train2, y_train2,\n",
    "                                            batch_size),\n",
    "                        epochs=20, verbose=1,validation_data =val_data2)"
   ]
  },
  {
   "cell_type": "code",
   "execution_count": null,
   "metadata": {},
   "outputs": [],
   "source": [
    "score2 = model_2.evaluate(X_test, y_test, verbose=1)\n",
    "history_dict2=hist_model_2.history\n",
    "history_dict2.keys()\n",
    "\n",
    "train_loss_values2 = history_dict2['loss']\n",
    "val_loss_values2 = history_dict2['val_loss']\n",
    "\n",
    "epochs2 = range(1, len(history_dict2['accuracy']) + 1)\n",
    "\n",
    "plt.plot(epochs2, train_loss_values2, 'r', label='Training loss')\n",
    "plt.plot(epochs2, val_loss_values2, 'b', label='Validation loss')\n",
    "plt.title('Training and validation loss')\n",
    "plt.xlabel('Epochs')\n",
    "plt.ylabel('Loss')\n",
    "plt.legend()\n",
    "plt.show()"
   ]
  },
  {
   "cell_type": "code",
   "execution_count": null,
   "metadata": {},
   "outputs": [],
   "source": [
    "metrics = list()\n",
    "cm = dict()\n",
    "y_pred = model.predict(X_test)\n",
    "y_pred_class = model.predict_classes(X_test, verbose=0)\n",
    "rounded_labels = np.argmax(y_test, axis=1)\n",
    "\n",
    "precision, recall, fscore, _ = score(rounded_labels, y_pred_class, average='weighted')\n",
    "accuracy = accuracy_score(rounded_labels, y_pred_class)\n",
    "auc = roc_auc_score(y_test, y_pred)\n",
    "metrics.append(pd.Series({'precision':precision, 'recall':recall, 'fscore':fscore, 'accuracy':accuracy, 'auc':auc}, name=\"model1\"))\n",
    "cm = confusion_matrix(rounded_labels,y_pred_class)\n",
    "\n",
    "metrics2 = list()\n",
    "cm2 = dict()\n",
    "y_pred2 = model_2.predict(X_test2)\n",
    "y_pred_class2 = model_2.predict_classes(X_test2, verbose=0)\n",
    "rounded_labels2 = np.argmax(y_test2, axis=1)\n",
    "\n",
    "precision2, recall2, fscore2, _ = score(rounded_labels2, y_pred_class2, average='weighted')\n",
    "accuracy2 = accuracy_score(rounded_labels2, y_pred_class2)\n",
    "auc2 = roc_auc_score(y_test2, y_pred2)\n",
    "metrics2.append(pd.Series({'precision':precision2, 'recall':recall2, 'fscore':fscore2, 'accuracy':accuracy2, 'auc':auc2}, name=\"model2\"))\n",
    "cm2 = confusion_matrix(rounded_labels2,y_pred_class2)\n",
    "m = metrics + metrics2\n",
    "metrics = pd.concat(m, axis=1)\n",
    "\n",
    "metrics"
   ]
  },
  {
   "cell_type": "code",
   "execution_count": null,
   "metadata": {},
   "outputs": [],
   "source": []
  }
 ],
 "metadata": {
  "kernelspec": {
   "display_name": "Python 3",
   "language": "python",
   "name": "python3"
  },
  "language_info": {
   "codemirror_mode": {
    "name": "ipython",
    "version": 3
   },
   "file_extension": ".py",
   "mimetype": "text/x-python",
   "name": "python",
   "nbconvert_exporter": "python",
   "pygments_lexer": "ipython3",
   "version": "3.8.8"
  }
 },
 "nbformat": 4,
 "nbformat_minor": 1
}