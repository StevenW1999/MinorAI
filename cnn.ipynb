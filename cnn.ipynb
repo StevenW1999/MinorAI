{
 "cells": [
  {
   "cell_type": "markdown",
   "metadata": {
    "collapsed": true,
    "pycharm": {
     "name": "#%% md\n"
    }
   },
   "source": [
    "import the modules and get dataset"
   ]
  },
  {
   "cell_type": "code",
   "execution_count": 12,
   "metadata": {
    "pycharm": {
     "name": "#%%\n"
    }
   },
   "outputs": [],
   "source": [
    "import pandas as pd\n",
    "import numpy as np\n",
    "import warnings\n",
    "import cv2\n",
    "import data\n",
    "from PIL import Image\n",
    "import dlib\n",
    "import data_process\n",
    "warnings.filterwarnings(\"ignore\")\n"
   ]
  },
  {
   "cell_type": "code",
   "execution_count": 13,
   "metadata": {
    "pycharm": {
     "name": "#%%\n"
    }
   },
   "outputs": [],
   "source": [
    "train_x, train_y, val_x, val_y = data_process.process_data('dataset.csv', \"CNN\")\n",
    "train_data = (train_x, train_y)\n",
    "val_data = (val_x,val_y)"
   ]
  },
  {
   "cell_type": "markdown",
   "metadata": {},
   "source": [
    "import keras for the model training and layers"
   ]
  },
  {
   "cell_type": "code",
   "execution_count": 14,
   "metadata": {
    "pycharm": {
     "name": "#%%\n"
    }
   },
   "outputs": [],
   "source": [
    "from keras.layers import Activation, Convolution2D, Dropout, Conv2D\n",
    "from keras.layers import AveragePooling2D, BatchNormalization\n",
    "from keras.layers import GlobalAveragePooling2D\n",
    "from keras.models import Sequential\n",
    "from keras.layers import Flatten, Dense\n",
    "from keras.models import Model\n",
    "from keras.layers import Input\n",
    "from keras.layers import MaxPooling2D\n",
    "from keras.layers import SeparableConv2D\n",
    "from keras import layers\n",
    "from keras.regularizers import l2\n",
    "from tensorflow.keras.optimizers import RMSprop"
   ]
  },
  {
   "cell_type": "markdown",
   "metadata": {},
   "source": [
    "create the model with it's layers:"
   ]
  },
  {
   "cell_type": "code",
   "execution_count": 15,
   "metadata": {
    "pycharm": {
     "name": "#%%\n"
    }
   },
   "outputs": [
    {
     "name": "stdout",
     "output_type": "stream",
     "text": [
      "Model: \"sequential_2\"\n",
      "_________________________________________________________________\n",
      "Layer (type)                 Output Shape              Param #   \n",
      "=================================================================\n",
      "conv2d_4 (Conv2D)            (None, 24, 24, 32)        832       \n",
      "_________________________________________________________________\n",
      "activation_8 (Activation)    (None, 24, 24, 32)        0         \n",
      "_________________________________________________________________\n",
      "conv2d_5 (Conv2D)            (None, 10, 10, 32)        25632     \n",
      "_________________________________________________________________\n",
      "activation_9 (Activation)    (None, 10, 10, 32)        0         \n",
      "_________________________________________________________________\n",
      "max_pooling2d_2 (MaxPooling2 (None, 5, 5, 32)          0         \n",
      "_________________________________________________________________\n",
      "dropout_4 (Dropout)          (None, 5, 5, 32)          0         \n",
      "_________________________________________________________________\n",
      "flatten_2 (Flatten)          (None, 800)               0         \n",
      "_________________________________________________________________\n",
      "dense_4 (Dense)              (None, 512)               410112    \n",
      "_________________________________________________________________\n",
      "activation_10 (Activation)   (None, 512)               0         \n",
      "_________________________________________________________________\n",
      "dropout_5 (Dropout)          (None, 512)               0         \n",
      "_________________________________________________________________\n",
      "dense_5 (Dense)              (None, 4)                 2052      \n",
      "_________________________________________________________________\n",
      "activation_11 (Activation)   (None, 4)                 0         \n",
      "=================================================================\n",
      "Total params: 438,628\n",
      "Trainable params: 438,628\n",
      "Non-trainable params: 0\n",
      "_________________________________________________________________\n"
     ]
    }
   ],
   "source": [
    "input_shape=(48, 48, 1)\n",
    "num_classes = 4\n",
    "\n",
    "model_1 = Sequential()\n",
    "\n",
    "## 5x5 convolution with 2x2 stride and 32 filters\n",
    "model_1.add(Conv2D(32, (5, 5), strides = (2,2), padding='same', input_shape=input_shape))\n",
    "model_1.add(Activation('relu'))\n",
    "\n",
    "## Another 5x5 convolution with 2x2 stride and 32 filters\n",
    "model_1.add(Conv2D(32, (5, 5), strides = (2,2)))\n",
    "model_1.add(Activation('relu'))\n",
    "\n",
    "## 2x2 max pooling reduces to 3 x 3 x 32\n",
    "model_1.add(MaxPooling2D(pool_size=(2, 2)))\n",
    "model_1.add(Dropout(0.25))\n",
    "\n",
    "## Flatten turns 3x3x32 into 288x1\n",
    "model_1.add(Flatten())\n",
    "model_1.add(Dense(512))\n",
    "model_1.add(Activation('relu'))\n",
    "model_1.add(Dropout(0.5))\n",
    "model_1.add(Dense(num_classes))\n",
    "model_1.add(Activation('softmax'))\n",
    "\n",
    "model_1.summary()"
   ]
  },
  {
   "cell_type": "markdown",
   "metadata": {},
   "source": [
    "the parameters:"
   ]
  },
  {
   "cell_type": "code",
   "execution_count": null,
   "metadata": {
    "pycharm": {
     "name": "#%%\n"
    }
   },
   "outputs": [],
   "source": []
  },
  {
   "cell_type": "markdown",
   "metadata": {},
   "source": [
    "import data generator"
   ]
  },
  {
   "cell_type": "code",
   "execution_count": 16,
   "metadata": {
    "pycharm": {
     "name": "#%%\n"
    }
   },
   "outputs": [],
   "source": [
    "from keras.preprocessing.image import ImageDataGenerator\n"
   ]
  },
  {
   "cell_type": "markdown",
   "metadata": {},
   "source": [
    "compile the model:"
   ]
  },
  {
   "cell_type": "code",
   "execution_count": 17,
   "metadata": {
    "pycharm": {
     "name": "#%%\n"
    }
   },
   "outputs": [
    {
     "name": "stdout",
     "output_type": "stream",
     "text": [
      "Epoch 1/100\n",
      "12/12 [==============================] - 0s 20ms/step - loss: 1.2863 - accuracy: 0.3828 - val_loss: 1.2523 - val_accuracy: 0.4792\n",
      "Epoch 2/100\n",
      "12/12 [==============================] - 0s 12ms/step - loss: 1.2175 - accuracy: 0.4661 - val_loss: 1.1514 - val_accuracy: 0.4688\n",
      "Epoch 3/100\n",
      "12/12 [==============================] - 0s 13ms/step - loss: 1.1737 - accuracy: 0.5078 - val_loss: 1.0554 - val_accuracy: 0.6042\n",
      "Epoch 4/100\n",
      "12/12 [==============================] - 0s 12ms/step - loss: 1.0444 - accuracy: 0.5651 - val_loss: 0.8491 - val_accuracy: 0.6562\n",
      "Epoch 5/100\n",
      "12/12 [==============================] - 0s 12ms/step - loss: 0.9380 - accuracy: 0.6589 - val_loss: 0.6655 - val_accuracy: 0.7083\n",
      "Epoch 6/100\n",
      "12/12 [==============================] - 0s 12ms/step - loss: 0.8489 - accuracy: 0.6719 - val_loss: 0.5768 - val_accuracy: 0.7396\n",
      "Epoch 7/100\n",
      "12/12 [==============================] - 0s 12ms/step - loss: 0.7419 - accuracy: 0.6797 - val_loss: 0.5415 - val_accuracy: 0.7083\n",
      "Epoch 8/100\n",
      "12/12 [==============================] - 0s 12ms/step - loss: 0.7702 - accuracy: 0.7031 - val_loss: 0.5140 - val_accuracy: 0.7500\n",
      "Epoch 9/100\n",
      "12/12 [==============================] - 0s 12ms/step - loss: 0.6339 - accuracy: 0.7240 - val_loss: 0.4667 - val_accuracy: 0.7917\n",
      "Epoch 10/100\n",
      "12/12 [==============================] - 0s 13ms/step - loss: 0.6504 - accuracy: 0.7161 - val_loss: 0.4611 - val_accuracy: 0.7500\n",
      "Epoch 11/100\n",
      "12/12 [==============================] - 0s 13ms/step - loss: 0.6025 - accuracy: 0.7188 - val_loss: 0.4049 - val_accuracy: 0.8125\n",
      "Epoch 12/100\n",
      "12/12 [==============================] - 0s 12ms/step - loss: 0.6097 - accuracy: 0.7344 - val_loss: 0.3818 - val_accuracy: 0.8229\n",
      "Epoch 13/100\n",
      "12/12 [==============================] - 0s 13ms/step - loss: 0.5318 - accuracy: 0.7734 - val_loss: 0.3642 - val_accuracy: 0.8125\n",
      "Epoch 14/100\n",
      "12/12 [==============================] - 0s 13ms/step - loss: 0.4922 - accuracy: 0.8021 - val_loss: 0.3305 - val_accuracy: 0.8438\n",
      "Epoch 15/100\n",
      "12/12 [==============================] - 0s 12ms/step - loss: 0.5176 - accuracy: 0.7500 - val_loss: 0.3841 - val_accuracy: 0.7917\n",
      "Epoch 16/100\n",
      "12/12 [==============================] - 0s 13ms/step - loss: 0.5149 - accuracy: 0.7812 - val_loss: 0.2911 - val_accuracy: 0.8958\n",
      "Epoch 17/100\n",
      "12/12 [==============================] - 0s 12ms/step - loss: 0.4742 - accuracy: 0.8099 - val_loss: 0.3119 - val_accuracy: 0.8646\n",
      "Epoch 18/100\n",
      "12/12 [==============================] - 0s 12ms/step - loss: 0.4557 - accuracy: 0.7943 - val_loss: 0.3268 - val_accuracy: 0.8646\n",
      "Epoch 19/100\n",
      "12/12 [==============================] - 0s 12ms/step - loss: 0.4101 - accuracy: 0.7995 - val_loss: 0.2862 - val_accuracy: 0.8646\n",
      "Epoch 20/100\n",
      "12/12 [==============================] - 0s 13ms/step - loss: 0.4110 - accuracy: 0.8411 - val_loss: 0.2397 - val_accuracy: 0.9167\n",
      "Epoch 21/100\n",
      "12/12 [==============================] - 0s 12ms/step - loss: 0.4313 - accuracy: 0.8177 - val_loss: 0.2467 - val_accuracy: 0.9479\n",
      "Epoch 22/100\n",
      "12/12 [==============================] - 0s 12ms/step - loss: 0.3899 - accuracy: 0.8359 - val_loss: 0.2508 - val_accuracy: 0.8958\n",
      "Epoch 23/100\n",
      "12/12 [==============================] - 0s 13ms/step - loss: 0.3882 - accuracy: 0.8411 - val_loss: 0.2631 - val_accuracy: 0.8854\n",
      "Epoch 24/100\n",
      "12/12 [==============================] - 0s 12ms/step - loss: 0.3624 - accuracy: 0.8594 - val_loss: 0.2244 - val_accuracy: 0.9167\n",
      "Epoch 25/100\n",
      "12/12 [==============================] - 0s 13ms/step - loss: 0.3681 - accuracy: 0.8594 - val_loss: 0.2445 - val_accuracy: 0.8750\n",
      "Epoch 26/100\n",
      "12/12 [==============================] - 0s 12ms/step - loss: 0.3375 - accuracy: 0.8385 - val_loss: 0.2016 - val_accuracy: 0.9375\n",
      "Epoch 27/100\n",
      "12/12 [==============================] - 0s 12ms/step - loss: 0.3421 - accuracy: 0.8542 - val_loss: 0.1970 - val_accuracy: 0.9479\n",
      "Epoch 28/100\n",
      "12/12 [==============================] - 0s 12ms/step - loss: 0.3489 - accuracy: 0.8594 - val_loss: 0.2476 - val_accuracy: 0.8542\n",
      "Epoch 29/100\n",
      "12/12 [==============================] - 0s 12ms/step - loss: 0.3625 - accuracy: 0.8255 - val_loss: 0.2123 - val_accuracy: 0.9167\n",
      "Epoch 30/100\n",
      "12/12 [==============================] - 0s 12ms/step - loss: 0.3145 - accuracy: 0.8698 - val_loss: 0.2021 - val_accuracy: 0.9062\n",
      "Epoch 31/100\n",
      "12/12 [==============================] - 0s 13ms/step - loss: 0.3110 - accuracy: 0.8724 - val_loss: 0.1804 - val_accuracy: 0.9375\n",
      "Epoch 32/100\n",
      "12/12 [==============================] - 0s 12ms/step - loss: 0.3261 - accuracy: 0.8646 - val_loss: 0.2293 - val_accuracy: 0.9062\n",
      "Epoch 33/100\n",
      "12/12 [==============================] - 0s 12ms/step - loss: 0.3043 - accuracy: 0.8646 - val_loss: 0.1842 - val_accuracy: 0.9375\n",
      "Epoch 34/100\n",
      "12/12 [==============================] - 0s 12ms/step - loss: 0.3274 - accuracy: 0.8724 - val_loss: 0.2676 - val_accuracy: 0.8750\n",
      "Epoch 35/100\n",
      "12/12 [==============================] - 0s 12ms/step - loss: 0.3288 - accuracy: 0.8490 - val_loss: 0.1920 - val_accuracy: 0.9271\n",
      "Epoch 36/100\n",
      "12/12 [==============================] - 0s 12ms/step - loss: 0.3380 - accuracy: 0.8516 - val_loss: 0.1854 - val_accuracy: 0.9271\n",
      "Epoch 37/100\n",
      "12/12 [==============================] - 0s 13ms/step - loss: 0.2928 - accuracy: 0.8698 - val_loss: 0.1429 - val_accuracy: 0.9479\n",
      "Epoch 38/100\n",
      "12/12 [==============================] - 0s 12ms/step - loss: 0.2949 - accuracy: 0.8828 - val_loss: 0.1687 - val_accuracy: 0.8958\n",
      "Epoch 39/100\n",
      "12/12 [==============================] - 0s 12ms/step - loss: 0.2701 - accuracy: 0.8932 - val_loss: 0.1374 - val_accuracy: 0.9479\n",
      "Epoch 40/100\n",
      "12/12 [==============================] - 0s 13ms/step - loss: 0.2595 - accuracy: 0.9062 - val_loss: 0.1273 - val_accuracy: 0.9583\n",
      "Epoch 41/100\n",
      "12/12 [==============================] - 0s 12ms/step - loss: 0.2102 - accuracy: 0.9193 - val_loss: 0.1427 - val_accuracy: 0.9167\n",
      "Epoch 42/100\n",
      "12/12 [==============================] - 0s 13ms/step - loss: 0.2742 - accuracy: 0.8958 - val_loss: 0.1162 - val_accuracy: 0.9688\n",
      "Epoch 43/100\n",
      "12/12 [==============================] - 0s 13ms/step - loss: 0.2301 - accuracy: 0.9141 - val_loss: 0.1352 - val_accuracy: 0.9375\n",
      "Epoch 44/100\n",
      "12/12 [==============================] - 0s 13ms/step - loss: 0.2185 - accuracy: 0.9141 - val_loss: 0.1583 - val_accuracy: 0.9062\n",
      "Epoch 45/100\n",
      "12/12 [==============================] - 0s 12ms/step - loss: 0.2698 - accuracy: 0.8984 - val_loss: 0.1235 - val_accuracy: 0.9688\n",
      "Epoch 46/100\n",
      "12/12 [==============================] - 0s 13ms/step - loss: 0.2450 - accuracy: 0.9036 - val_loss: 0.1359 - val_accuracy: 0.9479\n",
      "Epoch 47/100\n",
      "12/12 [==============================] - 0s 13ms/step - loss: 0.2608 - accuracy: 0.8958 - val_loss: 0.0958 - val_accuracy: 0.9688\n",
      "Epoch 48/100\n",
      "12/12 [==============================] - 0s 12ms/step - loss: 0.2307 - accuracy: 0.9193 - val_loss: 0.1086 - val_accuracy: 0.9583\n",
      "Epoch 49/100\n",
      "12/12 [==============================] - 0s 13ms/step - loss: 0.2520 - accuracy: 0.8984 - val_loss: 0.1107 - val_accuracy: 0.9896\n",
      "Epoch 50/100\n",
      "12/12 [==============================] - 0s 12ms/step - loss: 0.2613 - accuracy: 0.8958 - val_loss: 0.0914 - val_accuracy: 0.9896\n",
      "Epoch 51/100\n",
      "12/12 [==============================] - 0s 13ms/step - loss: 0.2322 - accuracy: 0.9089 - val_loss: 0.2140 - val_accuracy: 0.8958\n",
      "Epoch 52/100\n",
      "12/12 [==============================] - 0s 13ms/step - loss: 0.2293 - accuracy: 0.9141 - val_loss: 0.1172 - val_accuracy: 0.9792\n",
      "Epoch 53/100\n",
      "12/12 [==============================] - 0s 13ms/step - loss: 0.2833 - accuracy: 0.8828 - val_loss: 0.1191 - val_accuracy: 0.9688\n",
      "Epoch 54/100\n",
      "12/12 [==============================] - 0s 12ms/step - loss: 0.2119 - accuracy: 0.9141 - val_loss: 0.1427 - val_accuracy: 0.9479\n",
      "Epoch 55/100\n",
      "12/12 [==============================] - 0s 12ms/step - loss: 0.2320 - accuracy: 0.8958 - val_loss: 0.1171 - val_accuracy: 0.9688\n",
      "Epoch 56/100\n",
      "12/12 [==============================] - 0s 12ms/step - loss: 0.2020 - accuracy: 0.9219 - val_loss: 0.0879 - val_accuracy: 1.0000\n",
      "Epoch 57/100\n",
      "12/12 [==============================] - 0s 13ms/step - loss: 0.2118 - accuracy: 0.9193 - val_loss: 0.1067 - val_accuracy: 0.9583\n",
      "Epoch 58/100\n"
     ]
    },
    {
     "name": "stdout",
     "output_type": "stream",
     "text": [
      "12/12 [==============================] - 0s 15ms/step - loss: 0.1803 - accuracy: 0.9193 - val_loss: 0.0805 - val_accuracy: 0.9896\n",
      "Epoch 59/100\n",
      "12/12 [==============================] - 0s 14ms/step - loss: 0.1551 - accuracy: 0.9453 - val_loss: 0.0955 - val_accuracy: 0.9688\n",
      "Epoch 60/100\n",
      "12/12 [==============================] - 0s 13ms/step - loss: 0.2184 - accuracy: 0.9036 - val_loss: 0.0953 - val_accuracy: 0.9688\n",
      "Epoch 61/100\n",
      "12/12 [==============================] - 0s 13ms/step - loss: 0.2102 - accuracy: 0.9219 - val_loss: 0.1038 - val_accuracy: 0.9792\n",
      "Epoch 62/100\n",
      "12/12 [==============================] - 0s 12ms/step - loss: 0.2377 - accuracy: 0.9010 - val_loss: 0.0923 - val_accuracy: 0.9896\n",
      "Epoch 63/100\n",
      "12/12 [==============================] - 0s 13ms/step - loss: 0.2009 - accuracy: 0.9036 - val_loss: 0.0964 - val_accuracy: 0.9688\n",
      "Epoch 64/100\n",
      "12/12 [==============================] - 0s 13ms/step - loss: 0.2131 - accuracy: 0.9115 - val_loss: 0.2125 - val_accuracy: 0.8750\n",
      "Epoch 65/100\n",
      "12/12 [==============================] - 0s 12ms/step - loss: 0.2722 - accuracy: 0.8854 - val_loss: 0.1210 - val_accuracy: 0.9375\n",
      "Epoch 66/100\n",
      "12/12 [==============================] - 0s 12ms/step - loss: 0.1705 - accuracy: 0.9453 - val_loss: 0.1538 - val_accuracy: 0.9167\n",
      "Epoch 67/100\n",
      "12/12 [==============================] - 0s 12ms/step - loss: 0.2384 - accuracy: 0.8958 - val_loss: 0.2139 - val_accuracy: 0.8750\n",
      "Epoch 68/100\n",
      "12/12 [==============================] - 0s 13ms/step - loss: 0.2123 - accuracy: 0.9141 - val_loss: 0.0987 - val_accuracy: 0.9688\n",
      "Epoch 69/100\n",
      "12/12 [==============================] - 0s 13ms/step - loss: 0.1690 - accuracy: 0.9427 - val_loss: 0.1216 - val_accuracy: 0.9271\n",
      "Epoch 70/100\n",
      "12/12 [==============================] - 0s 13ms/step - loss: 0.1986 - accuracy: 0.9167 - val_loss: 0.1034 - val_accuracy: 0.9688\n",
      "Epoch 71/100\n",
      "12/12 [==============================] - 0s 12ms/step - loss: 0.1358 - accuracy: 0.9583 - val_loss: 0.0613 - val_accuracy: 0.9792\n",
      "Epoch 72/100\n",
      "12/12 [==============================] - 0s 12ms/step - loss: 0.1850 - accuracy: 0.9141 - val_loss: 0.0652 - val_accuracy: 0.9792\n",
      "Epoch 73/100\n",
      "12/12 [==============================] - 0s 12ms/step - loss: 0.1852 - accuracy: 0.9141 - val_loss: 0.0728 - val_accuracy: 0.9792\n",
      "Epoch 74/100\n",
      "12/12 [==============================] - 0s 12ms/step - loss: 0.1938 - accuracy: 0.9219 - val_loss: 0.1272 - val_accuracy: 0.9479\n",
      "Epoch 75/100\n",
      "12/12 [==============================] - 0s 13ms/step - loss: 0.1903 - accuracy: 0.9271 - val_loss: 0.1255 - val_accuracy: 0.9688\n",
      "Epoch 76/100\n",
      "12/12 [==============================] - 0s 13ms/step - loss: 0.1548 - accuracy: 0.9297 - val_loss: 0.0619 - val_accuracy: 1.0000\n",
      "Epoch 77/100\n",
      "12/12 [==============================] - 0s 12ms/step - loss: 0.2058 - accuracy: 0.9167 - val_loss: 0.0646 - val_accuracy: 0.9792\n",
      "Epoch 78/100\n",
      "12/12 [==============================] - 0s 12ms/step - loss: 0.2209 - accuracy: 0.9089 - val_loss: 0.1342 - val_accuracy: 0.9271\n",
      "Epoch 79/100\n",
      "12/12 [==============================] - 0s 13ms/step - loss: 0.1574 - accuracy: 0.9349 - val_loss: 0.0832 - val_accuracy: 0.9792\n",
      "Epoch 80/100\n",
      "12/12 [==============================] - 0s 13ms/step - loss: 0.1146 - accuracy: 0.9635 - val_loss: 0.0747 - val_accuracy: 0.9792\n",
      "Epoch 81/100\n",
      "12/12 [==============================] - 0s 13ms/step - loss: 0.1491 - accuracy: 0.9427 - val_loss: 0.0840 - val_accuracy: 0.9688\n",
      "Epoch 82/100\n",
      "12/12 [==============================] - 0s 12ms/step - loss: 0.1943 - accuracy: 0.9193 - val_loss: 0.0612 - val_accuracy: 0.9896\n",
      "Epoch 83/100\n",
      "12/12 [==============================] - 0s 13ms/step - loss: 0.1552 - accuracy: 0.9323 - val_loss: 0.1066 - val_accuracy: 0.9479\n",
      "Epoch 84/100\n",
      "12/12 [==============================] - 0s 13ms/step - loss: 0.2006 - accuracy: 0.9193 - val_loss: 0.0599 - val_accuracy: 0.9896\n",
      "Epoch 85/100\n",
      "12/12 [==============================] - 0s 12ms/step - loss: 0.1763 - accuracy: 0.9193 - val_loss: 0.0639 - val_accuracy: 0.9896\n",
      "Epoch 86/100\n",
      "12/12 [==============================] - 0s 13ms/step - loss: 0.1716 - accuracy: 0.9375 - val_loss: 0.0690 - val_accuracy: 0.9792\n",
      "Epoch 87/100\n",
      "12/12 [==============================] - 0s 12ms/step - loss: 0.1380 - accuracy: 0.9453 - val_loss: 0.0671 - val_accuracy: 0.9792\n",
      "Epoch 88/100\n",
      "12/12 [==============================] - 0s 12ms/step - loss: 0.1651 - accuracy: 0.9453 - val_loss: 0.0752 - val_accuracy: 0.9792\n",
      "Epoch 89/100\n",
      "12/12 [==============================] - 0s 12ms/step - loss: 0.1502 - accuracy: 0.9349 - val_loss: 0.0756 - val_accuracy: 0.9583\n",
      "Epoch 90/100\n",
      "12/12 [==============================] - 0s 12ms/step - loss: 0.1106 - accuracy: 0.9375 - val_loss: 0.0428 - val_accuracy: 1.0000\n",
      "Epoch 91/100\n",
      "12/12 [==============================] - 0s 13ms/step - loss: 0.1616 - accuracy: 0.9323 - val_loss: 0.0548 - val_accuracy: 0.9792\n",
      "Epoch 92/100\n",
      "12/12 [==============================] - 0s 15ms/step - loss: 0.1361 - accuracy: 0.9479 - val_loss: 0.0602 - val_accuracy: 0.9792\n",
      "Epoch 93/100\n",
      "12/12 [==============================] - 0s 13ms/step - loss: 0.1552 - accuracy: 0.9271 - val_loss: 0.0536 - val_accuracy: 0.9896\n",
      "Epoch 94/100\n",
      "12/12 [==============================] - 0s 13ms/step - loss: 0.1542 - accuracy: 0.9375 - val_loss: 0.0492 - val_accuracy: 0.9896\n",
      "Epoch 95/100\n",
      "12/12 [==============================] - 0s 13ms/step - loss: 0.1842 - accuracy: 0.9245 - val_loss: 0.0587 - val_accuracy: 0.9896\n",
      "Epoch 96/100\n",
      "12/12 [==============================] - 0s 14ms/step - loss: 0.1623 - accuracy: 0.9323 - val_loss: 0.0769 - val_accuracy: 0.9792\n",
      "Epoch 97/100\n",
      "12/12 [==============================] - 0s 14ms/step - loss: 0.1532 - accuracy: 0.9557 - val_loss: 0.0642 - val_accuracy: 0.9896\n",
      "Epoch 98/100\n",
      "12/12 [==============================] - 0s 13ms/step - loss: 0.1601 - accuracy: 0.9479 - val_loss: 0.0677 - val_accuracy: 0.9792\n",
      "Epoch 99/100\n",
      "12/12 [==============================] - 0s 12ms/step - loss: 0.1249 - accuracy: 0.9557 - val_loss: 0.0560 - val_accuracy: 0.9792\n",
      "Epoch 100/100\n",
      "12/12 [==============================] - 0s 13ms/step - loss: 0.1449 - accuracy: 0.9453 - val_loss: 0.0776 - val_accuracy: 0.9792\n"
     ]
    }
   ],
   "source": [
    "# data generator Generate batches of tensor image data with real-time data augmentation\n",
    "data_generator = ImageDataGenerator(\n",
    "                        featurewise_center=False,\n",
    "                        featurewise_std_normalization=False,\n",
    "                        rotation_range=10,\n",
    "                        width_shift_range=0.1,\n",
    "                        height_shift_range=0.1,\n",
    "                        zoom_range=.1,\n",
    "                        horizontal_flip=True)\n",
    "batch_size = 32\n",
    "opt = RMSprop(lr=0.0005, decay=1e-6)\n",
    "\n",
    "model_1.compile(optimizer='adam', loss='categorical_crossentropy',\n",
    "              metrics=['accuracy'])\n",
    "\n",
    "hist_model_1 = model_1.fit_generator(data_generator.flow(train_x, train_y,\n",
    "                                            batch_size),\n",
    "                        epochs=100, verbose=1,validation_data =val_data)"
   ]
  },
  {
   "cell_type": "markdown",
   "metadata": {},
   "source": [
    "Plot"
   ]
  },
  {
   "cell_type": "code",
   "execution_count": 18,
   "metadata": {
    "pycharm": {
     "name": "#%%\n"
    }
   },
   "outputs": [
    {
     "name": "stdout",
     "output_type": "stream",
     "text": [
      "3/3 [==============================] - 0s 2ms/step - loss: 0.0776 - accuracy: 0.9792\n"
     ]
    },
    {
     "data": {
      "image/png": "[encoded data removed]",
      "text/plain": [
       "<Figure size 432x288 with 1 Axes>"
      ]
     },
     "metadata": {
      "needs_background": "light"
     },
     "output_type": "display_data"
    }
   ],
   "source": [
    "import matplotlib.pyplot as plt\n",
    "%matplotlib inline\n",
    "score = model_1.evaluate(val_x, val_y, verbose=1)\n",
    "history_dict=hist_model_1.history\n",
    "history_dict.keys()\n",
    "\n",
    "train_loss_values = history_dict['loss']\n",
    "val_loss_values = history_dict['val_loss']\n",
    "\n",
    "epochs = range(1, len(history_dict['accuracy']) + 1)\n",
    "\n",
    "plt.plot(epochs, train_loss_values, 'bo', label='Training loss')\n",
    "plt.plot(epochs, val_loss_values, 'b', label='Validation loss')\n",
    "plt.title('Training and validation loss')\n",
    "plt.xlabel('Epochs')\n",
    "plt.ylabel('Loss')\n",
    "plt.legend()\n",
    "plt.show()"
   ]
  },
  {
   "cell_type": "markdown",
   "metadata": {},
   "source": [
    "do the same with dataset2.csv"
   ]
  },
  {
   "cell_type": "code",
   "execution_count": 20,
   "metadata": {
    "pycharm": {
     "name": "#%%\n"
    }
   },
   "outputs": [],
   "source": [
    "train_x2, train_y2, val_x2, val_y2 = data_process.process_data('dataset2.csv', \"CNN\")\n",
    "train_data2 = (train_x2, train_y2)\n",
    "val_data2 = (val_x2,val_y2)\n"
   ]
  },
  {
   "cell_type": "markdown",
   "metadata": {
    "pycharm": {
     "name": "#%% md\n"
    }
   },
   "source": [
    "model:"
   ]
  },
  {
   "cell_type": "code",
   "execution_count": 21,
   "metadata": {
    "pycharm": {
     "name": "#%%\n"
    }
   },
   "outputs": [
    {
     "name": "stdout",
     "output_type": "stream",
     "text": [
      "Model: \"sequential_3\"\n",
      "_________________________________________________________________\n",
      "Layer (type)                 Output Shape              Param #   \n",
      "=================================================================\n",
      "conv2d_6 (Conv2D)            (None, 24, 24, 32)        832       \n",
      "_________________________________________________________________\n",
      "activation_12 (Activation)   (None, 24, 24, 32)        0         \n",
      "_________________________________________________________________\n",
      "conv2d_7 (Conv2D)            (None, 10, 10, 32)        25632     \n",
      "_________________________________________________________________\n",
      "activation_13 (Activation)   (None, 10, 10, 32)        0         \n",
      "_________________________________________________________________\n",
      "max_pooling2d_3 (MaxPooling2 (None, 5, 5, 32)          0         \n",
      "_________________________________________________________________\n",
      "dropout_6 (Dropout)          (None, 5, 5, 32)          0         \n",
      "_________________________________________________________________\n",
      "flatten_3 (Flatten)          (None, 800)               0         \n",
      "_________________________________________________________________\n",
      "dense_6 (Dense)              (None, 512)               410112    \n",
      "_________________________________________________________________\n",
      "activation_14 (Activation)   (None, 512)               0         \n",
      "_________________________________________________________________\n",
      "dropout_7 (Dropout)          (None, 512)               0         \n",
      "_________________________________________________________________\n",
      "dense_7 (Dense)              (None, 4)                 2052      \n",
      "_________________________________________________________________\n",
      "activation_15 (Activation)   (None, 4)                 0         \n",
      "=================================================================\n",
      "Total params: 438,628\n",
      "Trainable params: 438,628\n",
      "Non-trainable params: 0\n",
      "_________________________________________________________________\n"
     ]
    }
   ],
   "source": [
    "input_shape=(48, 48, 1)\n",
    "num_classes = 4\n",
    "\n",
    "model_2 = Sequential()\n",
    "\n",
    "## 5x5 convolution with 2x2 stride and 32 filters\n",
    "model_2.add(Conv2D(32, (5, 5), strides = (2,2), padding='same', input_shape=input_shape))\n",
    "model_2.add(Activation('relu'))\n",
    "\n",
    "## Another 5x5 convolution with 2x2 stride and 32 filters\n",
    "model_2.add(Conv2D(32, (5, 5), strides = (2,2)))\n",
    "model_2.add(Activation('relu'))\n",
    "\n",
    "## 2x2 max pooling reduces to 3 x 3 x 32\n",
    "model_2.add(MaxPooling2D(pool_size=(2, 2)))\n",
    "model_2.add(Dropout(0.25))\n",
    "\n",
    "## Flatten turns 3x3x32 into 288x1\n",
    "model_2.add(Flatten())\n",
    "model_2.add(Dense(512))\n",
    "model_2.add(Activation('relu'))\n",
    "model_2.add(Dropout(0.5))\n",
    "model_2.add(Dense(num_classes))\n",
    "model_2.add(Activation('softmax'))\n",
    "\n",
    "model_2.summary()"
   ]
  },
  {
   "cell_type": "markdown",
   "metadata": {},
   "source": [
    "data generator"
   ]
  },
  {
   "cell_type": "code",
   "execution_count": 23,
   "metadata": {
    "pycharm": {
     "name": "#%%\n"
    }
   },
   "outputs": [
    {
     "name": "stdout",
     "output_type": "stream",
     "text": [
      "Epoch 1/100\n",
      "12/12 [==============================] - 0s 19ms/step - loss: 0.4175 - accuracy: 0.8411 - val_loss: 0.1867 - val_accuracy: 0.9479\n",
      "Epoch 2/100\n",
      "12/12 [==============================] - 0s 13ms/step - loss: 0.3286 - accuracy: 0.8568 - val_loss: 0.1122 - val_accuracy: 0.9583\n",
      "Epoch 3/100\n",
      "12/12 [==============================] - 0s 12ms/step - loss: 0.3322 - accuracy: 0.8516 - val_loss: 0.1181 - val_accuracy: 0.9479\n",
      "Epoch 4/100\n",
      "12/12 [==============================] - 0s 12ms/step - loss: 0.3021 - accuracy: 0.8984 - val_loss: 0.1417 - val_accuracy: 0.9271\n",
      "Epoch 5/100\n",
      "12/12 [==============================] - 0s 12ms/step - loss: 0.3078 - accuracy: 0.8646 - val_loss: 0.1165 - val_accuracy: 0.9583\n",
      "Epoch 6/100\n",
      "12/12 [==============================] - 0s 12ms/step - loss: 0.2565 - accuracy: 0.8932 - val_loss: 0.1662 - val_accuracy: 0.9062\n",
      "Epoch 7/100\n",
      "12/12 [==============================] - 0s 12ms/step - loss: 0.2977 - accuracy: 0.8802 - val_loss: 0.1606 - val_accuracy: 0.9062\n",
      "Epoch 8/100\n",
      "12/12 [==============================] - 0s 13ms/step - loss: 0.2622 - accuracy: 0.9010 - val_loss: 0.1435 - val_accuracy: 0.9167\n",
      "Epoch 9/100\n",
      "12/12 [==============================] - 0s 13ms/step - loss: 0.2222 - accuracy: 0.9167 - val_loss: 0.1589 - val_accuracy: 0.9167\n",
      "Epoch 10/100\n",
      "12/12 [==============================] - 0s 12ms/step - loss: 0.1926 - accuracy: 0.9219 - val_loss: 0.1343 - val_accuracy: 0.9375\n",
      "Epoch 11/100\n",
      "12/12 [==============================] - 0s 12ms/step - loss: 0.2892 - accuracy: 0.9010 - val_loss: 0.1778 - val_accuracy: 0.9271\n",
      "Epoch 12/100\n",
      "12/12 [==============================] - 0s 12ms/step - loss: 0.1965 - accuracy: 0.9141 - val_loss: 0.2777 - val_accuracy: 0.8854\n",
      "Epoch 13/100\n",
      "12/12 [==============================] - 0s 12ms/step - loss: 0.2361 - accuracy: 0.8932 - val_loss: 0.2463 - val_accuracy: 0.9062\n",
      "Epoch 14/100\n",
      "12/12 [==============================] - 0s 12ms/step - loss: 0.1860 - accuracy: 0.9219 - val_loss: 0.3079 - val_accuracy: 0.9062\n",
      "Epoch 15/100\n",
      "12/12 [==============================] - 0s 12ms/step - loss: 0.2598 - accuracy: 0.8828 - val_loss: 0.2762 - val_accuracy: 0.8958\n",
      "Epoch 16/100\n",
      "12/12 [==============================] - 0s 12ms/step - loss: 0.2320 - accuracy: 0.9062 - val_loss: 0.3354 - val_accuracy: 0.8958\n",
      "Epoch 17/100\n",
      "12/12 [==============================] - 0s 12ms/step - loss: 0.2005 - accuracy: 0.9167 - val_loss: 0.4017 - val_accuracy: 0.8750\n",
      "Epoch 18/100\n",
      "12/12 [==============================] - 0s 12ms/step - loss: 0.2146 - accuracy: 0.9167 - val_loss: 0.4031 - val_accuracy: 0.8854\n",
      "Epoch 19/100\n",
      "12/12 [==============================] - 0s 13ms/step - loss: 0.1686 - accuracy: 0.9323 - val_loss: 0.4758 - val_accuracy: 0.8958\n",
      "Epoch 20/100\n",
      "12/12 [==============================] - 0s 12ms/step - loss: 0.1793 - accuracy: 0.9401 - val_loss: 0.4059 - val_accuracy: 0.8958\n",
      "Epoch 21/100\n",
      "12/12 [==============================] - 0s 12ms/step - loss: 0.1849 - accuracy: 0.9271 - val_loss: 0.3124 - val_accuracy: 0.8854\n",
      "Epoch 22/100\n",
      "12/12 [==============================] - 0s 12ms/step - loss: 0.1958 - accuracy: 0.9323 - val_loss: 0.4512 - val_accuracy: 0.8646\n",
      "Epoch 23/100\n",
      "12/12 [==============================] - 0s 12ms/step - loss: 0.1835 - accuracy: 0.9141 - val_loss: 0.3648 - val_accuracy: 0.8854\n",
      "Epoch 24/100\n",
      "12/12 [==============================] - 0s 12ms/step - loss: 0.1541 - accuracy: 0.9401 - val_loss: 0.3921 - val_accuracy: 0.8750\n",
      "Epoch 25/100\n",
      "12/12 [==============================] - 0s 13ms/step - loss: 0.2425 - accuracy: 0.8932 - val_loss: 0.3407 - val_accuracy: 0.8854\n",
      "Epoch 26/100\n",
      "12/12 [==============================] - 0s 12ms/step - loss: 0.1785 - accuracy: 0.9375 - val_loss: 0.4022 - val_accuracy: 0.8854\n",
      "Epoch 27/100\n",
      "12/12 [==============================] - 0s 12ms/step - loss: 0.2005 - accuracy: 0.9323 - val_loss: 0.2730 - val_accuracy: 0.9062\n",
      "Epoch 28/100\n",
      "12/12 [==============================] - 0s 13ms/step - loss: 0.2008 - accuracy: 0.9297 - val_loss: 0.4280 - val_accuracy: 0.8542\n",
      "Epoch 29/100\n",
      "12/12 [==============================] - 0s 12ms/step - loss: 0.2364 - accuracy: 0.9036 - val_loss: 0.2645 - val_accuracy: 0.8958\n",
      "Epoch 30/100\n",
      "12/12 [==============================] - 0s 13ms/step - loss: 0.1943 - accuracy: 0.9193 - val_loss: 0.3194 - val_accuracy: 0.8854\n",
      "Epoch 31/100\n",
      "12/12 [==============================] - 0s 12ms/step - loss: 0.1522 - accuracy: 0.9349 - val_loss: 0.3142 - val_accuracy: 0.9062\n",
      "Epoch 32/100\n",
      "12/12 [==============================] - 0s 12ms/step - loss: 0.1600 - accuracy: 0.9349 - val_loss: 0.4859 - val_accuracy: 0.8854\n",
      "Epoch 33/100\n",
      "12/12 [==============================] - 0s 12ms/step - loss: 0.1504 - accuracy: 0.9401 - val_loss: 0.4638 - val_accuracy: 0.8646\n",
      "Epoch 34/100\n",
      "12/12 [==============================] - 0s 12ms/step - loss: 0.1305 - accuracy: 0.9505 - val_loss: 0.5606 - val_accuracy: 0.8750\n",
      "Epoch 35/100\n",
      "12/12 [==============================] - 0s 12ms/step - loss: 0.1182 - accuracy: 0.9479 - val_loss: 0.3891 - val_accuracy: 0.8854\n",
      "Epoch 36/100\n",
      "12/12 [==============================] - 0s 12ms/step - loss: 0.2004 - accuracy: 0.9271 - val_loss: 0.5265 - val_accuracy: 0.8646\n",
      "Epoch 37/100\n",
      "12/12 [==============================] - 0s 12ms/step - loss: 0.1698 - accuracy: 0.9271 - val_loss: 0.3685 - val_accuracy: 0.8854\n",
      "Epoch 38/100\n",
      "12/12 [==============================] - 0s 12ms/step - loss: 0.1491 - accuracy: 0.9427 - val_loss: 0.4685 - val_accuracy: 0.8438\n",
      "Epoch 39/100\n",
      "12/12 [==============================] - 0s 12ms/step - loss: 0.1276 - accuracy: 0.9583 - val_loss: 0.3573 - val_accuracy: 0.8958\n",
      "Epoch 40/100\n",
      "12/12 [==============================] - 0s 12ms/step - loss: 0.1451 - accuracy: 0.9453 - val_loss: 0.4609 - val_accuracy: 0.8646\n",
      "Epoch 41/100\n",
      "12/12 [==============================] - 0s 12ms/step - loss: 0.1662 - accuracy: 0.9297 - val_loss: 0.3977 - val_accuracy: 0.9062\n",
      "Epoch 42/100\n",
      "12/12 [==============================] - 0s 12ms/step - loss: 0.1122 - accuracy: 0.9531 - val_loss: 0.4905 - val_accuracy: 0.8958\n",
      "Epoch 43/100\n",
      "12/12 [==============================] - 0s 13ms/step - loss: 0.1662 - accuracy: 0.9323 - val_loss: 0.3182 - val_accuracy: 0.9062\n",
      "Epoch 44/100\n",
      "12/12 [==============================] - 0s 12ms/step - loss: 0.1152 - accuracy: 0.9505 - val_loss: 0.4223 - val_accuracy: 0.8750\n",
      "Epoch 45/100\n",
      "12/12 [==============================] - 0s 12ms/step - loss: 0.1135 - accuracy: 0.9661 - val_loss: 0.5600 - val_accuracy: 0.8750\n",
      "Epoch 46/100\n",
      "12/12 [==============================] - 0s 12ms/step - loss: 0.1311 - accuracy: 0.9401 - val_loss: 0.5333 - val_accuracy: 0.8646\n",
      "Epoch 47/100\n",
      "12/12 [==============================] - 0s 13ms/step - loss: 0.1779 - accuracy: 0.9193 - val_loss: 0.3789 - val_accuracy: 0.8958\n",
      "Epoch 48/100\n",
      "12/12 [==============================] - 0s 12ms/step - loss: 0.1771 - accuracy: 0.9323 - val_loss: 0.4990 - val_accuracy: 0.8958\n",
      "Epoch 49/100\n",
      "12/12 [==============================] - 0s 12ms/step - loss: 0.1415 - accuracy: 0.9453 - val_loss: 0.4975 - val_accuracy: 0.8750\n",
      "Epoch 50/100\n",
      "12/12 [==============================] - 0s 12ms/step - loss: 0.1383 - accuracy: 0.9609 - val_loss: 0.5675 - val_accuracy: 0.8750\n",
      "Epoch 51/100\n",
      "12/12 [==============================] - 0s 12ms/step - loss: 0.1272 - accuracy: 0.9531 - val_loss: 0.3352 - val_accuracy: 0.9375\n",
      "Epoch 52/100\n",
      "12/12 [==============================] - 0s 12ms/step - loss: 0.1149 - accuracy: 0.9505 - val_loss: 0.5769 - val_accuracy: 0.8854\n",
      "Epoch 53/100\n",
      "12/12 [==============================] - 0s 13ms/step - loss: 0.1412 - accuracy: 0.9375 - val_loss: 0.3427 - val_accuracy: 0.9271\n",
      "Epoch 54/100\n",
      "12/12 [==============================] - 0s 12ms/step - loss: 0.1592 - accuracy: 0.9453 - val_loss: 0.5028 - val_accuracy: 0.8438\n",
      "Epoch 55/100\n",
      "12/12 [==============================] - 0s 12ms/step - loss: 0.1524 - accuracy: 0.9401 - val_loss: 0.6686 - val_accuracy: 0.8021\n",
      "Epoch 56/100\n",
      "12/12 [==============================] - 0s 12ms/step - loss: 0.1429 - accuracy: 0.9453 - val_loss: 0.3223 - val_accuracy: 0.8958\n",
      "Epoch 57/100\n",
      "12/12 [==============================] - 0s 12ms/step - loss: 0.1214 - accuracy: 0.9427 - val_loss: 0.5605 - val_accuracy: 0.8542\n",
      "Epoch 58/100\n"
     ]
    },
    {
     "name": "stdout",
     "output_type": "stream",
     "text": [
      "12/12 [==============================] - 0s 12ms/step - loss: 0.1153 - accuracy: 0.9531 - val_loss: 0.5684 - val_accuracy: 0.8646\n",
      "Epoch 59/100\n",
      "12/12 [==============================] - 0s 13ms/step - loss: 0.1143 - accuracy: 0.9557 - val_loss: 0.3301 - val_accuracy: 0.9062\n",
      "Epoch 60/100\n",
      "12/12 [==============================] - 0s 12ms/step - loss: 0.1191 - accuracy: 0.9635 - val_loss: 0.4141 - val_accuracy: 0.8958\n",
      "Epoch 61/100\n",
      "12/12 [==============================] - 0s 12ms/step - loss: 0.1730 - accuracy: 0.9297 - val_loss: 0.7498 - val_accuracy: 0.8438\n",
      "Epoch 62/100\n",
      "12/12 [==============================] - 0s 12ms/step - loss: 0.1243 - accuracy: 0.9531 - val_loss: 0.9004 - val_accuracy: 0.8021\n",
      "Epoch 63/100\n",
      "12/12 [==============================] - 0s 12ms/step - loss: 0.1123 - accuracy: 0.9531 - val_loss: 0.4254 - val_accuracy: 0.8958\n",
      "Epoch 64/100\n",
      "12/12 [==============================] - 0s 12ms/step - loss: 0.1431 - accuracy: 0.9375 - val_loss: 0.6162 - val_accuracy: 0.8646\n",
      "Epoch 65/100\n",
      "12/12 [==============================] - 0s 13ms/step - loss: 0.1470 - accuracy: 0.9297 - val_loss: 0.5705 - val_accuracy: 0.8646\n",
      "Epoch 66/100\n",
      "12/12 [==============================] - 0s 12ms/step - loss: 0.1431 - accuracy: 0.9375 - val_loss: 0.3898 - val_accuracy: 0.8854\n",
      "Epoch 67/100\n",
      "12/12 [==============================] - 0s 12ms/step - loss: 0.1678 - accuracy: 0.9375 - val_loss: 0.7405 - val_accuracy: 0.8646\n",
      "Epoch 68/100\n",
      "12/12 [==============================] - 0s 12ms/step - loss: 0.1663 - accuracy: 0.9349 - val_loss: 0.4938 - val_accuracy: 0.8646\n",
      "Epoch 69/100\n",
      "12/12 [==============================] - 0s 12ms/step - loss: 0.1369 - accuracy: 0.9453 - val_loss: 0.4870 - val_accuracy: 0.8542\n",
      "Epoch 70/100\n",
      "12/12 [==============================] - 0s 13ms/step - loss: 0.1349 - accuracy: 0.9609 - val_loss: 0.4208 - val_accuracy: 0.8854\n",
      "Epoch 71/100\n",
      "12/12 [==============================] - 0s 12ms/step - loss: 0.1039 - accuracy: 0.9609 - val_loss: 0.5700 - val_accuracy: 0.8750\n",
      "Epoch 72/100\n",
      "12/12 [==============================] - 0s 12ms/step - loss: 0.1118 - accuracy: 0.9505 - val_loss: 0.5429 - val_accuracy: 0.8854\n",
      "Epoch 73/100\n",
      "12/12 [==============================] - 0s 12ms/step - loss: 0.0916 - accuracy: 0.9635 - val_loss: 0.3566 - val_accuracy: 0.9062\n",
      "Epoch 74/100\n",
      "12/12 [==============================] - 0s 13ms/step - loss: 0.1346 - accuracy: 0.9635 - val_loss: 0.4557 - val_accuracy: 0.9062\n",
      "Epoch 75/100\n",
      "12/12 [==============================] - 0s 13ms/step - loss: 0.1411 - accuracy: 0.9427 - val_loss: 0.4244 - val_accuracy: 0.8750\n",
      "Epoch 76/100\n",
      "12/12 [==============================] - 0s 12ms/step - loss: 0.1491 - accuracy: 0.9453 - val_loss: 0.3118 - val_accuracy: 0.9167\n",
      "Epoch 77/100\n",
      "12/12 [==============================] - 0s 13ms/step - loss: 0.1390 - accuracy: 0.9505 - val_loss: 0.6386 - val_accuracy: 0.8333\n",
      "Epoch 78/100\n",
      "12/12 [==============================] - 0s 12ms/step - loss: 0.1309 - accuracy: 0.9479 - val_loss: 0.4770 - val_accuracy: 0.8854\n",
      "Epoch 79/100\n",
      "12/12 [==============================] - 0s 12ms/step - loss: 0.0847 - accuracy: 0.9609 - val_loss: 0.5416 - val_accuracy: 0.8646\n",
      "Epoch 80/100\n",
      "12/12 [==============================] - 0s 12ms/step - loss: 0.1043 - accuracy: 0.9635 - val_loss: 0.6863 - val_accuracy: 0.8438\n",
      "Epoch 81/100\n",
      "12/12 [==============================] - 0s 12ms/step - loss: 0.1133 - accuracy: 0.9505 - val_loss: 0.3835 - val_accuracy: 0.9062\n",
      "Epoch 82/100\n",
      "12/12 [==============================] - 0s 12ms/step - loss: 0.1008 - accuracy: 0.9583 - val_loss: 0.4386 - val_accuracy: 0.8750\n",
      "Epoch 83/100\n",
      "12/12 [==============================] - 0s 12ms/step - loss: 0.0904 - accuracy: 0.9688 - val_loss: 0.4527 - val_accuracy: 0.8854\n",
      "Epoch 84/100\n",
      "12/12 [==============================] - 0s 12ms/step - loss: 0.1065 - accuracy: 0.9714 - val_loss: 0.4837 - val_accuracy: 0.8854\n",
      "Epoch 85/100\n",
      "12/12 [==============================] - 0s 12ms/step - loss: 0.0970 - accuracy: 0.9635 - val_loss: 0.7565 - val_accuracy: 0.8229\n",
      "Epoch 86/100\n",
      "12/12 [==============================] - 0s 12ms/step - loss: 0.1146 - accuracy: 0.9479 - val_loss: 0.4402 - val_accuracy: 0.9062\n",
      "Epoch 87/100\n",
      "12/12 [==============================] - 0s 13ms/step - loss: 0.0976 - accuracy: 0.9635 - val_loss: 0.6394 - val_accuracy: 0.8438\n",
      "Epoch 88/100\n",
      "12/12 [==============================] - 0s 12ms/step - loss: 0.1058 - accuracy: 0.9661 - val_loss: 0.7833 - val_accuracy: 0.8125\n",
      "Epoch 89/100\n",
      "12/12 [==============================] - 0s 12ms/step - loss: 0.1069 - accuracy: 0.9766 - val_loss: 0.6156 - val_accuracy: 0.8542\n",
      "Epoch 90/100\n",
      "12/12 [==============================] - 0s 12ms/step - loss: 0.0962 - accuracy: 0.9557 - val_loss: 0.8280 - val_accuracy: 0.8229\n",
      "Epoch 91/100\n",
      "12/12 [==============================] - 0s 12ms/step - loss: 0.1278 - accuracy: 0.9583 - val_loss: 0.8039 - val_accuracy: 0.8229\n",
      "Epoch 92/100\n",
      "12/12 [==============================] - 0s 12ms/step - loss: 0.0656 - accuracy: 0.9766 - val_loss: 0.4422 - val_accuracy: 0.8646\n",
      "Epoch 93/100\n",
      "12/12 [==============================] - 0s 12ms/step - loss: 0.1025 - accuracy: 0.9609 - val_loss: 0.6678 - val_accuracy: 0.8438\n",
      "Epoch 94/100\n",
      "12/12 [==============================] - 0s 12ms/step - loss: 0.1290 - accuracy: 0.9531 - val_loss: 0.5354 - val_accuracy: 0.8750\n",
      "Epoch 95/100\n",
      "12/12 [==============================] - 0s 13ms/step - loss: 0.1171 - accuracy: 0.9531 - val_loss: 0.6033 - val_accuracy: 0.8646\n",
      "Epoch 96/100\n",
      "12/12 [==============================] - 0s 12ms/step - loss: 0.1171 - accuracy: 0.9479 - val_loss: 0.6573 - val_accuracy: 0.8438\n",
      "Epoch 97/100\n",
      "12/12 [==============================] - 0s 12ms/step - loss: 0.0702 - accuracy: 0.9844 - val_loss: 0.4498 - val_accuracy: 0.8750\n",
      "Epoch 98/100\n",
      "12/12 [==============================] - 0s 13ms/step - loss: 0.0759 - accuracy: 0.9766 - val_loss: 0.5767 - val_accuracy: 0.8646\n",
      "Epoch 99/100\n",
      "12/12 [==============================] - 0s 12ms/step - loss: 0.0701 - accuracy: 0.9740 - val_loss: 0.4705 - val_accuracy: 0.8958\n",
      "Epoch 100/100\n",
      "12/12 [==============================] - 0s 12ms/step - loss: 0.1247 - accuracy: 0.9557 - val_loss: 0.6547 - val_accuracy: 0.8750\n"
     ]
    }
   ],
   "source": [
    "data_generator2 = ImageDataGenerator(\n",
    "                        featurewise_center=False,\n",
    "                        featurewise_std_normalization=False,\n",
    "                        rotation_range=10,\n",
    "                        width_shift_range=0.1,\n",
    "                        height_shift_range=0.1,\n",
    "                        zoom_range=.1,\n",
    "                        horizontal_flip=True)\n",
    "batch_size = 32\n",
    "opt2 = RMSprop(lr=0.0005, decay=1e-6)\n",
    "\n",
    "model_2.compile(optimizer='adam', loss='categorical_crossentropy',\n",
    "              metrics=['accuracy'])\n",
    "\n",
    "hist_model_2 = model_2.fit_generator(data_generator2.flow(train_x2, train_y2,\n",
    "                                            batch_size),\n",
    "                        epochs=100, verbose=1,validation_data =val_data2)"
   ]
  },
  {
   "cell_type": "markdown",
   "metadata": {},
   "source": [
    "plot"
   ]
  },
  {
   "cell_type": "code",
   "execution_count": 24,
   "metadata": {
    "pycharm": {
     "name": "#%%\n"
    }
   },
   "outputs": [
    {
     "name": "stdout",
     "output_type": "stream",
     "text": [
      "3/3 [==============================] - 0s 2ms/step - loss: 0.0235 - accuracy: 0.9896\n"
     ]
    },
    {
     "data": {
      "image/png": "[encoded data removed]",
      "text/plain": [
       "<Figure size 432x288 with 1 Axes>"
      ]
     },
     "metadata": {
      "needs_background": "light"
     },
     "output_type": "display_data"
    }
   ],
   "source": [
    "score2 = model_2.evaluate(val_x2, val_y2, verbose=1)\n",
    "history_dict2=hist_model_2.history\n",
    "history_dict2.keys()\n",
    "\n",
    "train_loss_values2 = history_dict2['loss']\n",
    "val_loss_values2 = history_dict2['val_loss']\n",
    "\n",
    "epochs2 = range(1, len(history_dict2['accuracy']) + 1)\n",
    "\n",
    "plt.plot(epochs2, train_loss_values2, 'bo', label='Training loss')\n",
    "plt.plot(epochs2, val_loss_values2, 'b', label='Validation loss')\n",
    "plt.title('Training and validation loss')\n",
    "plt.xlabel('Epochs')\n",
    "plt.ylabel('Loss')\n",
    "plt.legend()\n",
    "plt.show()"
   ]
  },
  {
   "cell_type": "code",
   "execution_count": null,
   "metadata": {},
   "outputs": [],
   "source": []
  }
 ],
 "metadata": {
  "kernelspec": {
   "display_name": "Python 3",
   "language": "python",
   "name": "python3"
  },
  "language_info": {
   "codemirror_mode": {
    "name": "ipython",
    "version": 3
   },
   "file_extension": ".py",
   "mimetype": "text/x-python",
   "name": "python",
   "nbconvert_exporter": "python",
   "pygments_lexer": "ipython3",
   "version": "3.8.8"
  }
 },
 "nbformat": 4,
 "nbformat_minor": 1
}