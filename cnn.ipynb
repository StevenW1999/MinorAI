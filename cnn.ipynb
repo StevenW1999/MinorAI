{
 "cells": [
  {
   "cell_type": "markdown",
   "metadata": {
    "collapsed": true,
    "pycharm": {
     "name": "#%% md\n"
    }
   },
   "source": [
    "import the modules and get dataset"
   ]
  },
  {
   "cell_type": "code",
   "execution_count": 1,
   "metadata": {
    "pycharm": {
     "name": "#%%\n"
    }
   },
   "outputs": [],
   "source": [
    "import pandas as pd\n",
    "import numpy as np\n",
    "import warnings\n",
    "import cv2\n",
    "import data\n",
    "from PIL import Image\n",
    "import dlib\n",
    "import data_process\n",
    "from sklearn.model_selection import train_test_split\n",
    "warnings.filterwarnings(\"ignore\")\n"
   ]
  },
  {
   "cell_type": "code",
   "execution_count": 2,
   "metadata": {
    "pycharm": {
     "name": "#%%\n"
    }
   },
   "outputs": [],
   "source": [
    "x,y, a = data_process.process_data('dataset.csv', \"CNN\")\n",
    "\n",
    "X_train, X_test, y_train, y_test = train_test_split(x, y, test_size=0.2, random_state=42)\n",
    "val_data = (X_test,y_test)"
   ]
  },
  {
   "cell_type": "markdown",
   "metadata": {},
   "source": [
    "import keras for the model training and layers"
   ]
  },
  {
   "cell_type": "code",
   "execution_count": 34,
   "metadata": {
    "pycharm": {
     "name": "#%%\n"
    }
   },
   "outputs": [],
   "source": [
    "from keras.layers import Activation, Convolution2D, Dropout, Conv2D\n",
    "from keras.layers import AveragePooling2D, BatchNormalization\n",
    "from keras.layers import GlobalAveragePooling2D\n",
    "from keras.models import Sequential\n",
    "from keras.layers import Flatten, Dense\n",
    "from keras.models import Model\n",
    "from keras.layers import Input\n",
    "from keras.layers import MaxPooling2D,ZeroPadding2D, MaxPool2D\n",
    "from keras.layers import SeparableConv2D\n",
    "from keras import layers\n",
    "from keras.regularizers import l2\n",
    "from tensorflow.keras.optimizers import RMSprop"
   ]
  },
  {
   "cell_type": "markdown",
   "metadata": {},
   "source": [
    "create the model with it's layers:"
   ]
  },
  {
   "cell_type": "code",
   "execution_count": 4,
   "metadata": {
    "pycharm": {
     "name": "#%%\n"
    }
   },
   "outputs": [
    {
     "name": "stdout",
     "output_type": "stream",
     "text": [
      "Model: \"sequential\"\n",
      "_________________________________________________________________\n",
      "Layer (type)                 Output Shape              Param #   \n",
      "=================================================================\n",
      "conv2d (Conv2D)              (None, 24, 24, 32)        832       \n",
      "_________________________________________________________________\n",
      "activation (Activation)      (None, 24, 24, 32)        0         \n",
      "_________________________________________________________________\n",
      "conv2d_1 (Conv2D)            (None, 10, 10, 32)        25632     \n",
      "_________________________________________________________________\n",
      "activation_1 (Activation)    (None, 10, 10, 32)        0         \n",
      "_________________________________________________________________\n",
      "max_pooling2d (MaxPooling2D) (None, 5, 5, 32)          0         \n",
      "_________________________________________________________________\n",
      "dropout (Dropout)            (None, 5, 5, 32)          0         \n",
      "_________________________________________________________________\n",
      "flatten (Flatten)            (None, 800)               0         \n",
      "_________________________________________________________________\n",
      "dense (Dense)                (None, 512)               410112    \n",
      "_________________________________________________________________\n",
      "activation_2 (Activation)    (None, 512)               0         \n",
      "_________________________________________________________________\n",
      "dropout_1 (Dropout)          (None, 512)               0         \n",
      "_________________________________________________________________\n",
      "dense_1 (Dense)              (None, 4)                 2052      \n",
      "_________________________________________________________________\n",
      "activation_3 (Activation)    (None, 4)                 0         \n",
      "=================================================================\n",
      "Total params: 438,628\n",
      "Trainable params: 438,628\n",
      "Non-trainable params: 0\n",
      "_________________________________________________________________\n"
     ]
    }
   ],
   "source": [
    "input_shape=(48, 48, 1)\n",
    "num_classes = 4\n",
    "\n",
    "model_1 = Sequential()\n",
    "\n",
    "## 5x5 convolution with 2x2 stride and 32 filters\n",
    "model_1.add(Conv2D(32, (5, 5), strides = (2,2), padding='same', input_shape=input_shape))\n",
    "model_1.add(Activation('relu'))\n",
    "\n",
    "## Another 5x5 convolution with 2x2 stride and 32 filters\n",
    "model_1.add(Conv2D(32, (5, 5), strides = (2,2)))\n",
    "model_1.add(Activation('relu'))\n",
    "\n",
    "## 2x2 max pooling reduces to 3 x 3 x 32\n",
    "model_1.add(MaxPooling2D(pool_size=(2, 2)))\n",
    "model_1.add(Dropout(0.25))\n",
    "\n",
    "## Flatten turns 3x3x32 into 288x1\n",
    "model_1.add(Flatten())\n",
    "model_1.add(Dense(512))\n",
    "model_1.add(Activation('relu'))\n",
    "model_1.add(Dropout(0.5))\n",
    "model_1.add(Dense(num_classes))\n",
    "model_1.add(Activation('softmax'))\n",
    "\n",
    "model_1.summary()"
   ]
  },
  {
   "cell_type": "markdown",
   "metadata": {},
   "source": [
    "import data generator"
   ]
  },
  {
   "cell_type": "code",
   "execution_count": 5,
   "metadata": {
    "pycharm": {
     "name": "#%%\n"
    }
   },
   "outputs": [],
   "source": [
    "from keras.preprocessing.image import ImageDataGenerator\n"
   ]
  },
  {
   "cell_type": "markdown",
   "metadata": {},
   "source": [
    "compile the model:"
   ]
  },
  {
   "cell_type": "code",
   "execution_count": 46,
   "metadata": {
    "pycharm": {
     "name": "#%%\n"
    }
   },
   "outputs": [
    {
     "name": "stdout",
     "output_type": "stream",
     "text": [
      "Epoch 1/20\n",
      "11/11 [==============================] - 0s 23ms/step - loss: 0.4355 - accuracy: 0.8131 - val_loss: 0.2863 - val_accuracy: 0.8679\n",
      "Epoch 2/20\n",
      "11/11 [==============================] - 0s 13ms/step - loss: 0.3717 - accuracy: 0.8598 - val_loss: 0.3731 - val_accuracy: 0.8239\n",
      "Epoch 3/20\n",
      "11/11 [==============================] - 0s 13ms/step - loss: 0.3478 - accuracy: 0.8629 - val_loss: 0.2621 - val_accuracy: 0.8302\n",
      "Epoch 4/20\n",
      "11/11 [==============================] - 0s 12ms/step - loss: 0.3429 - accuracy: 0.8536 - val_loss: 0.2776 - val_accuracy: 0.8616\n",
      "Epoch 5/20\n",
      "11/11 [==============================] - 0s 13ms/step - loss: 0.4443 - accuracy: 0.8131 - val_loss: 0.3453 - val_accuracy: 0.8428\n",
      "Epoch 6/20\n",
      "11/11 [==============================] - 0s 14ms/step - loss: 0.3290 - accuracy: 0.8723 - val_loss: 0.2683 - val_accuracy: 0.8742\n",
      "Epoch 7/20\n",
      "11/11 [==============================] - 0s 13ms/step - loss: 0.3004 - accuracy: 0.8629 - val_loss: 0.2867 - val_accuracy: 0.8679\n",
      "Epoch 8/20\n",
      "11/11 [==============================] - 0s 14ms/step - loss: 0.3571 - accuracy: 0.8380 - val_loss: 0.2563 - val_accuracy: 0.8616\n",
      "Epoch 9/20\n",
      "11/11 [==============================] - 0s 13ms/step - loss: 0.3172 - accuracy: 0.8660 - val_loss: 0.3982 - val_accuracy: 0.8679\n",
      "Epoch 10/20\n",
      "11/11 [==============================] - 0s 13ms/step - loss: 0.3319 - accuracy: 0.8567 - val_loss: 0.3936 - val_accuracy: 0.8302\n",
      "Epoch 11/20\n",
      "11/11 [==============================] - 0s 13ms/step - loss: 0.3834 - accuracy: 0.8474 - val_loss: 0.2911 - val_accuracy: 0.8742\n",
      "Epoch 12/20\n",
      "11/11 [==============================] - 0s 13ms/step - loss: 0.3074 - accuracy: 0.8629 - val_loss: 0.2916 - val_accuracy: 0.8742\n",
      "Epoch 13/20\n",
      "11/11 [==============================] - 0s 12ms/step - loss: 0.3864 - accuracy: 0.8287 - val_loss: 0.3284 - val_accuracy: 0.8805\n",
      "Epoch 14/20\n",
      "11/11 [==============================] - 0s 12ms/step - loss: 0.3228 - accuracy: 0.8816 - val_loss: 0.3392 - val_accuracy: 0.8491\n",
      "Epoch 15/20\n",
      "11/11 [==============================] - 0s 13ms/step - loss: 0.3252 - accuracy: 0.8505 - val_loss: 0.3238 - val_accuracy: 0.8679\n",
      "Epoch 16/20\n",
      "11/11 [==============================] - 0s 13ms/step - loss: 0.2915 - accuracy: 0.8785 - val_loss: 0.2603 - val_accuracy: 0.8805\n",
      "Epoch 17/20\n",
      "11/11 [==============================] - 0s 13ms/step - loss: 0.3064 - accuracy: 0.8723 - val_loss: 0.2714 - val_accuracy: 0.8742\n",
      "Epoch 18/20\n",
      "11/11 [==============================] - 0s 13ms/step - loss: 0.2696 - accuracy: 0.8972 - val_loss: 0.2280 - val_accuracy: 0.8868\n",
      "Epoch 19/20\n",
      "11/11 [==============================] - 0s 13ms/step - loss: 0.3246 - accuracy: 0.8754 - val_loss: 0.2220 - val_accuracy: 0.8742\n",
      "Epoch 20/20\n",
      "11/11 [==============================] - 0s 13ms/step - loss: 0.3289 - accuracy: 0.8723 - val_loss: 0.2583 - val_accuracy: 0.8868\n",
      "Wall time: 4 s\n"
     ]
    }
   ],
   "source": [
    "%%time\n",
    "# data generator Generate batches of tensor image data with real-time data augmentation\n",
    "data_generator = ImageDataGenerator(\n",
    "                        rotation_range=10,\n",
    "                        width_shift_range=0.1,\n",
    "                        height_shift_range=0.1,\n",
    "                        horizontal_flip=True)\n",
    "batch_size = 32\n",
    "opt = RMSprop(lr=0.0005, decay=1e-6)\n",
    "\n",
    "model_1.compile(optimizer='adam', loss='categorical_crossentropy',\n",
    "              metrics=['accuracy'])\n",
    "\n",
    "hist_model_1 = model_1.fit_generator(data_generator.flow(X_train, y_train,\n",
    "                                            batch_size),\n",
    "                        epochs=20, verbose=1,validation_data =val_data)"
   ]
  },
  {
   "cell_type": "markdown",
   "metadata": {},
   "source": [
    "Plot"
   ]
  },
  {
   "cell_type": "code",
   "execution_count": 25,
   "metadata": {
    "pycharm": {
     "name": "#%%\n"
    }
   },
   "outputs": [
    {
     "name": "stdout",
     "output_type": "stream",
     "text": [
      "5/5 [==============================] - 0s 2ms/step - loss: 0.3894 - accuracy: 0.8491\n"
     ]
    },
    {
     "data": {
      "image/png": "[encoded data removed]",
      "text/plain": [
       "<Figure size 432x288 with 1 Axes>"
      ]
     },
     "metadata": {
      "needs_background": "light"
     },
     "output_type": "display_data"
    }
   ],
   "source": [
    "import matplotlib.pyplot as plt\n",
    "%matplotlib inline\n",
    "score = model_1.evaluate(X_test, y_test, verbose=1)\n",
    "history_dict=hist_model_1.history\n",
    "history_dict.keys()\n",
    "\n",
    "train_loss_values = history_dict['loss']\n",
    "val_loss_values = history_dict['val_loss']\n",
    "\n",
    "epochs = range(1, len(history_dict['accuracy']) + 1)\n",
    "\n",
    "plt.plot(epochs, train_loss_values, 'r', label='Training loss')\n",
    "plt.plot(epochs, val_loss_values, 'b', label='Validation loss')\n",
    "plt.title('Training and validation loss')\n",
    "plt.xlabel('Epochs')\n",
    "plt.ylabel('Loss')\n",
    "plt.legend()\n",
    "plt.show()"
   ]
  },
  {
   "cell_type": "markdown",
   "metadata": {},
   "source": [
    "do the same with dataset2.csv"
   ]
  },
  {
   "cell_type": "code",
   "execution_count": 8,
   "metadata": {
    "pycharm": {
     "name": "#%%\n"
    }
   },
   "outputs": [],
   "source": [
    "x2, y2, a2= data_process.process_data('dataset2.csv', \"CNN\")\n",
    "X_train2, X_test2, y_train2, y_test2 = train_test_split(x2, y2, test_size=0.2, random_state=42)\n",
    "val_data2 = (X_test2,y_test2)\n"
   ]
  },
  {
   "cell_type": "markdown",
   "metadata": {
    "pycharm": {
     "name": "#%% md\n"
    }
   },
   "source": [
    "model:"
   ]
  },
  {
   "cell_type": "code",
   "execution_count": 9,
   "metadata": {
    "pycharm": {
     "name": "#%%\n"
    }
   },
   "outputs": [
    {
     "name": "stdout",
     "output_type": "stream",
     "text": [
      "Model: \"sequential_1\"\n",
      "_________________________________________________________________\n",
      "Layer (type)                 Output Shape              Param #   \n",
      "=================================================================\n",
      "conv2d_2 (Conv2D)            (None, 48, 48, 32)        832       \n",
      "_________________________________________________________________\n",
      "activation_4 (Activation)    (None, 48, 48, 32)        0         \n",
      "_________________________________________________________________\n",
      "conv2d_3 (Conv2D)            (None, 44, 44, 32)        25632     \n",
      "_________________________________________________________________\n",
      "activation_5 (Activation)    (None, 44, 44, 32)        0         \n",
      "_________________________________________________________________\n",
      "max_pooling2d_1 (MaxPooling2 (None, 22, 22, 32)        0         \n",
      "_________________________________________________________________\n",
      "dropout_2 (Dropout)          (None, 22, 22, 32)        0         \n",
      "_________________________________________________________________\n",
      "flatten_1 (Flatten)          (None, 15488)             0         \n",
      "_________________________________________________________________\n",
      "dense_2 (Dense)              (None, 512)               7930368   \n",
      "_________________________________________________________________\n",
      "activation_6 (Activation)    (None, 512)               0         \n",
      "_________________________________________________________________\n",
      "dropout_3 (Dropout)          (None, 512)               0         \n",
      "_________________________________________________________________\n",
      "dense_3 (Dense)              (None, 4)                 2052      \n",
      "_________________________________________________________________\n",
      "activation_7 (Activation)    (None, 4)                 0         \n",
      "=================================================================\n",
      "Total params: 7,958,884\n",
      "Trainable params: 7,958,884\n",
      "Non-trainable params: 0\n",
      "_________________________________________________________________\n"
     ]
    }
   ],
   "source": [
    "input_shape=(48, 48, 1)\n",
    "num_classes = 4\n",
    "\n",
    "model_2 = Sequential()\n",
    "\n",
    "model_2.add(Conv2D(32, (5, 5), strides = (1,1), padding='same', input_shape=input_shape))\n",
    "model_2.add(Activation('relu'))\n",
    "\n",
    "model_2.add(Conv2D(32, (5, 5), strides = (1,1)))\n",
    "model_2.add(Activation('relu'))\n",
    "\n",
    "model_2.add(MaxPooling2D(pool_size=(2, 2)))\n",
    "model_2.add(Dropout(0.25))\n",
    "\n",
    "model_2.add(Flatten())\n",
    "model_2.add(Dense(512))\n",
    "model_2.add(Activation('relu'))\n",
    "model_2.add(Dropout(0.5))\n",
    "model_2.add(Dense(num_classes))\n",
    "model_2.add(Activation('softmax'))\n",
    "\n",
    "model_2.summary()"
   ]
  },
  {
   "cell_type": "markdown",
   "metadata": {},
   "source": [
    "data generator"
   ]
  },
  {
   "cell_type": "code",
   "execution_count": 47,
   "metadata": {
    "pycharm": {
     "name": "#%%\n"
    }
   },
   "outputs": [
    {
     "name": "stdout",
     "output_type": "stream",
     "text": [
      "Epoch 1/20\n",
      "11/11 [==============================] - 1s 103ms/step - loss: 0.3696 - accuracy: 0.8629 - val_loss: 0.1678 - val_accuracy: 0.9371\n",
      "Epoch 2/20\n",
      "11/11 [==============================] - 1s 93ms/step - loss: 0.3233 - accuracy: 0.8847 - val_loss: 0.2164 - val_accuracy: 0.8994\n",
      "Epoch 3/20\n",
      "11/11 [==============================] - 1s 93ms/step - loss: 0.2765 - accuracy: 0.8879 - val_loss: 0.1794 - val_accuracy: 0.9119\n",
      "Epoch 4/20\n",
      "11/11 [==============================] - 1s 92ms/step - loss: 0.4183 - accuracy: 0.8380 - val_loss: 0.2015 - val_accuracy: 0.9119\n",
      "Epoch 5/20\n",
      "11/11 [==============================] - 1s 92ms/step - loss: 0.3184 - accuracy: 0.8754 - val_loss: 0.1782 - val_accuracy: 0.9371\n",
      "Epoch 6/20\n",
      "11/11 [==============================] - 1s 89ms/step - loss: 0.2791 - accuracy: 0.8910 - val_loss: 0.1690 - val_accuracy: 0.9371\n",
      "Epoch 7/20\n",
      "11/11 [==============================] - 1s 92ms/step - loss: 0.3097 - accuracy: 0.8785 - val_loss: 0.1733 - val_accuracy: 0.9245\n",
      "Epoch 8/20\n",
      "11/11 [==============================] - 1s 89ms/step - loss: 0.4097 - accuracy: 0.8754 - val_loss: 0.1926 - val_accuracy: 0.9182\n",
      "Epoch 9/20\n",
      "11/11 [==============================] - 1s 90ms/step - loss: 0.3080 - accuracy: 0.8692 - val_loss: 0.1664 - val_accuracy: 0.9308\n",
      "Epoch 10/20\n",
      "11/11 [==============================] - 1s 90ms/step - loss: 0.3143 - accuracy: 0.8972 - val_loss: 0.1511 - val_accuracy: 0.9434\n",
      "Epoch 11/20\n",
      "11/11 [==============================] - 1s 89ms/step - loss: 0.2351 - accuracy: 0.9097 - val_loss: 0.1623 - val_accuracy: 0.9119\n",
      "Epoch 12/20\n",
      "11/11 [==============================] - 1s 89ms/step - loss: 0.2739 - accuracy: 0.8816 - val_loss: 0.1782 - val_accuracy: 0.9308\n",
      "Epoch 13/20\n",
      "11/11 [==============================] - 1s 89ms/step - loss: 0.2522 - accuracy: 0.9097 - val_loss: 0.1394 - val_accuracy: 0.9497\n",
      "Epoch 14/20\n",
      "11/11 [==============================] - 1s 90ms/step - loss: 0.2554 - accuracy: 0.9221 - val_loss: 0.1922 - val_accuracy: 0.9308\n",
      "Epoch 15/20\n",
      "11/11 [==============================] - 1s 90ms/step - loss: 0.5134 - accuracy: 0.7850 - val_loss: 0.1972 - val_accuracy: 0.9497\n",
      "Epoch 16/20\n",
      "11/11 [==============================] - 1s 93ms/step - loss: 0.5010 - accuracy: 0.8006 - val_loss: 0.2116 - val_accuracy: 0.9308\n",
      "Epoch 17/20\n",
      "11/11 [==============================] - 1s 90ms/step - loss: 0.4205 - accuracy: 0.8318 - val_loss: 0.1614 - val_accuracy: 0.9371\n",
      "Epoch 18/20\n",
      "11/11 [==============================] - 1s 91ms/step - loss: 0.3411 - accuracy: 0.8754 - val_loss: 0.2058 - val_accuracy: 0.8994\n",
      "Epoch 19/20\n",
      "11/11 [==============================] - 1s 89ms/step - loss: 0.3160 - accuracy: 0.8847 - val_loss: 0.1407 - val_accuracy: 0.9371\n",
      "Epoch 20/20\n",
      "11/11 [==============================] - 1s 91ms/step - loss: 0.2780 - accuracy: 0.8941 - val_loss: 0.1202 - val_accuracy: 0.9560\n",
      "Wall time: 22.8 s\n"
     ]
    }
   ],
   "source": [
    "%%time\n",
    "data_generator2 = ImageDataGenerator(\n",
    "                        rotation_range=10,\n",
    "                        width_shift_range=0.1,\n",
    "                        height_shift_range=0.1,\n",
    "                        horizontal_flip=True)\n",
    "batch_size = 32\n",
    "opt2 = RMSprop(lr=0.0005, decay=1e-6)\n",
    "\n",
    "model_2.compile(optimizer='adam', loss='categorical_crossentropy',\n",
    "              metrics=['accuracy'])\n",
    "\n",
    "hist_model_2 = model_2.fit_generator(data_generator2.flow(X_train2, y_train2,\n",
    "                                            batch_size),\n",
    "                        epochs=20, verbose=1,validation_data =val_data2)"
   ]
  },
  {
   "cell_type": "markdown",
   "metadata": {},
   "source": [
    "plot"
   ]
  },
  {
   "cell_type": "code",
   "execution_count": 11,
   "metadata": {
    "pycharm": {
     "name": "#%%\n"
    }
   },
   "outputs": [
    {
     "name": "stdout",
     "output_type": "stream",
     "text": [
      "5/5 [==============================] - 0s 11ms/step - loss: 0.3334 - accuracy: 0.8679\n"
     ]
    },
    {
     "data": {
      "image/png": "[encoded data removed]",
      "text/plain": [
       "<Figure size 432x288 with 1 Axes>"
      ]
     },
     "metadata": {
      "needs_background": "light"
     },
     "output_type": "display_data"
    }
   ],
   "source": [
    "score2 = model_2.evaluate(X_test2, y_test2, verbose=1)\n",
    "history_dict2=hist_model_2.history\n",
    "history_dict2.keys()\n",
    "\n",
    "train_loss_values2 = history_dict2['loss']\n",
    "val_loss_values2 = history_dict2['val_loss']\n",
    "\n",
    "epochs2 = range(1, len(history_dict2['accuracy']) + 1)\n",
    "\n",
    "plt.plot(epochs2, train_loss_values2, 'r', label='Training loss')\n",
    "plt.plot(epochs2, val_loss_values2, 'b', label='Validation loss')\n",
    "plt.title('Training and validation loss')\n",
    "plt.xlabel('Epochs')\n",
    "plt.ylabel('Loss')\n",
    "plt.legend()\n",
    "plt.show()"
   ]
  },
  {
   "cell_type": "markdown",
   "metadata": {
    "pycharm": {
     "name": "#%% md\n"
    }
   },
   "source": [
    "compare classification metrics\n"
   ]
  },
  {
   "cell_type": "code",
   "execution_count": 12,
   "metadata": {
    "pycharm": {
     "name": "#%%\n"
    }
   },
   "outputs": [
    {
     "name": "stdout",
     "output_type": "stream",
     "text": [
      "WARNING:tensorflow:From <ipython-input-12-e8cedda58543>:8: Sequential.predict_classes (from tensorflow.python.keras.engine.sequential) is deprecated and will be removed after 2021-01-01.\n",
      "Instructions for updating:\n",
      "Please use instead:* `np.argmax(model.predict(x), axis=-1)`,   if your model does multi-class classification   (e.g. if it uses a `softmax` last-layer activation).* `(model.predict(x) > 0.5).astype(\"int32\")`,   if your model does binary classification   (e.g. if it uses a `sigmoid` last-layer activation).\n"
     ]
    },
    {
     "data": {
      "text/html": [
       "<div>\n",
       "<style scoped>\n",
       "    .dataframe tbody tr th:only-of-type {\n",
       "        vertical-align: middle;\n",
       "    }\n",
       "\n",
       "    .dataframe tbody tr th {\n",
       "        vertical-align: top;\n",
       "    }\n",
       "\n",
       "    .dataframe thead th {\n",
       "        text-align: right;\n",
       "    }\n",
       "</style>\n",
       "<table border=\"1\" class=\"dataframe\">\n",
       "  <thead>\n",
       "    <tr style=\"text-align: right;\">\n",
       "      <th></th>\n",
       "      <th>model1</th>\n",
       "      <th>model2</th>\n",
       "    </tr>\n",
       "  </thead>\n",
       "  <tbody>\n",
       "    <tr>\n",
       "      <th>precision</th>\n",
       "      <td>0.833893</td>\n",
       "      <td>0.875667</td>\n",
       "    </tr>\n",
       "    <tr>\n",
       "      <th>recall</th>\n",
       "      <td>0.805031</td>\n",
       "      <td>0.867925</td>\n",
       "    </tr>\n",
       "    <tr>\n",
       "      <th>fscore</th>\n",
       "      <td>0.768867</td>\n",
       "      <td>0.860301</td>\n",
       "    </tr>\n",
       "    <tr>\n",
       "      <th>accuracy</th>\n",
       "      <td>0.805031</td>\n",
       "      <td>0.867925</td>\n",
       "    </tr>\n",
       "    <tr>\n",
       "      <th>auc</th>\n",
       "      <td>0.957184</td>\n",
       "      <td>0.974758</td>\n",
       "    </tr>\n",
       "  </tbody>\n",
       "</table>\n",
       "</div>"
      ],
      "text/plain": [
       "             model1    model2\n",
       "precision  0.833893  0.875667\n",
       "recall     0.805031  0.867925\n",
       "fscore     0.768867  0.860301\n",
       "accuracy   0.805031  0.867925\n",
       "auc        0.957184  0.974758"
      ]
     },
     "execution_count": 12,
     "metadata": {},
     "output_type": "execute_result"
    }
   ],
   "source": [
    "from sklearn.metrics import precision_recall_fscore_support as score\n",
    "from sklearn.metrics import confusion_matrix, accuracy_score, roc_auc_score\n",
    "import seaborn as sns\n",
    "\n",
    "metrics = list()\n",
    "cm = dict()\n",
    "y_pred = model_1.predict(X_test)\n",
    "y_pred_class = model_1.predict_classes(X_test, verbose=0)\n",
    "rounded_labels = np.argmax(y_test, axis=1)\n",
    "\n",
    "precision, recall, fscore, _ = score(rounded_labels, y_pred_class, average='weighted')\n",
    "accuracy = accuracy_score(rounded_labels, y_pred_class)\n",
    "auc = roc_auc_score(y_test, y_pred)\n",
    "metrics.append(pd.Series({'precision':precision, 'recall':recall, 'fscore':fscore, 'accuracy':accuracy, 'auc':auc}, name=\"model1\"))\n",
    "cm = confusion_matrix(rounded_labels,y_pred_class)\n",
    "\n",
    "metrics2 = list()\n",
    "cm2 = dict()\n",
    "y_pred2 = model_2.predict(X_test2)\n",
    "y_pred_class2 = model_2.predict_classes(X_test2, verbose=0)\n",
    "rounded_labels2 = np.argmax(y_test2, axis=1)\n",
    "\n",
    "precision2, recall2, fscore2, _ = score(rounded_labels2, y_pred_class2, average='weighted')\n",
    "accuracy2 = accuracy_score(rounded_labels2, y_pred_class2)\n",
    "auc2 = roc_auc_score(y_test2, y_pred2)\n",
    "metrics2.append(pd.Series({'precision':precision2, 'recall':recall2, 'fscore':fscore2, 'accuracy':accuracy2, 'auc':auc2}, name=\"model2\"))\n",
    "cm2 = confusion_matrix(rounded_labels2,y_pred_class2)\n",
    "m = metrics + metrics2\n",
    "metrics = pd.concat(m, axis=1)\n",
    "\n",
    "metrics\n"
   ]
  },
  {
   "cell_type": "code",
   "execution_count": 13,
   "metadata": {},
   "outputs": [
    {
     "name": "stdout",
     "output_type": "stream",
     "text": [
      "['happy', 'sadness', 'contempt', 'anger']\n"
     ]
    }
   ],
   "source": [
    "\n",
    "def get_unique_N(iterable):\n",
    "    seen = set()\n",
    "    for e in iterable:\n",
    "        if e in seen:\n",
    "            continue\n",
    "        seen.add(e)\n",
    "        yield e\n",
    "\n",
    "k = get_unique_N(a)\n",
    "print(list(k))"
   ]
  },
  {
   "cell_type": "code",
   "execution_count": 14,
   "metadata": {
    "pycharm": {
     "name": "#%%\n"
    }
   },
   "outputs": [
    {
     "data": {
      "image/png": "[encoded data removed]",
      "text/plain": [
       "<Figure size 432x288 with 2 Axes>"
      ]
     },
     "metadata": {
      "needs_background": "light"
     },
     "output_type": "display_data"
    }
   ],
   "source": [
    "ax = sns.heatmap(cm, annot=True, fmt='d')"
   ]
  },
  {
   "cell_type": "code",
   "execution_count": 15,
   "metadata": {},
   "outputs": [
    {
     "name": "stdout",
     "output_type": "stream",
     "text": [
      "['happy', 'sadness', 'anger', 'contempt']\n"
     ]
    }
   ],
   "source": [
    "k2 = get_unique_N(a2)\n",
    "print(list(k2))"
   ]
  },
  {
   "cell_type": "code",
   "execution_count": 16,
   "metadata": {},
   "outputs": [
    {
     "data": {
      "image/png": "[encoded data removed]",
      "text/plain": [
       "<Figure size 432x288 with 2 Axes>"
      ]
     },
     "metadata": {
      "needs_background": "light"
     },
     "output_type": "display_data"
    }
   ],
   "source": [
    "ax2 = sns.heatmap(cm2, annot=True, fmt='d')\n"
   ]
  },
  {
   "cell_type": "code",
   "execution_count": 17,
   "metadata": {},
   "outputs": [
    {
     "name": "stdout",
     "output_type": "stream",
     "text": [
      "Model: \"sequential_2\"\n",
      "_________________________________________________________________\n",
      "Layer (type)                 Output Shape              Param #   \n",
      "=================================================================\n",
      "conv2d_4 (Conv2D)            (None, 24, 24, 32)        832       \n",
      "_________________________________________________________________\n",
      "activation_8 (Activation)    (None, 24, 24, 32)        0         \n",
      "_________________________________________________________________\n",
      "conv2d_5 (Conv2D)            (None, 10, 10, 32)        25632     \n",
      "_________________________________________________________________\n",
      "activation_9 (Activation)    (None, 10, 10, 32)        0         \n",
      "_________________________________________________________________\n",
      "max_pooling2d_2 (MaxPooling2 (None, 5, 5, 32)          0         \n",
      "_________________________________________________________________\n",
      "dropout_4 (Dropout)          (None, 5, 5, 32)          0         \n",
      "_________________________________________________________________\n",
      "flatten_2 (Flatten)          (None, 800)               0         \n",
      "_________________________________________________________________\n",
      "dense_4 (Dense)              (None, 512)               410112    \n",
      "_________________________________________________________________\n",
      "activation_10 (Activation)   (None, 512)               0         \n",
      "_________________________________________________________________\n",
      "dropout_5 (Dropout)          (None, 512)               0         \n",
      "_________________________________________________________________\n",
      "dense_5 (Dense)              (None, 4)                 2052      \n",
      "_________________________________________________________________\n",
      "activation_11 (Activation)   (None, 4)                 0         \n",
      "=================================================================\n",
      "Total params: 438,628\n",
      "Trainable params: 438,628\n",
      "Non-trainable params: 0\n",
      "_________________________________________________________________\n"
     ]
    }
   ],
   "source": [
    "input_shape=(48, 48, 1)\n",
    "num_classes = 4\n",
    "\n",
    "model_3 = Sequential()\n",
    "\n",
    "model_3.add(Conv2D(32, (5, 5), strides = (2,2), padding='same', input_shape=input_shape))\n",
    "model_3.add(Activation('relu'))\n",
    "\n",
    "model_3.add(Conv2D(32, (5, 5), strides = (2,2)))\n",
    "model_3.add(Activation('relu'))\n",
    "\n",
    "model_3.add(MaxPooling2D(pool_size=(2, 2)))\n",
    "model_3.add(Dropout(0.25))\n",
    "\n",
    "model_3.add(Flatten())\n",
    "model_3.add(Dense(512))\n",
    "model_3.add(Activation('relu'))\n",
    "model_3.add(Dropout(0.5))\n",
    "model_3.add(Dense(num_classes))\n",
    "model_3.add(Activation('softmax'))\n",
    "\n",
    "model_3.summary()"
   ]
  },
  {
   "cell_type": "code",
   "execution_count": 21,
   "metadata": {},
   "outputs": [
    {
     "name": "stdout",
     "output_type": "stream",
     "text": [
      "Epoch 1/20\n",
      "11/11 [==============================] - 0s 22ms/step - loss: 1.2468 - accuracy: 0.4237 - val_loss: 1.1243 - val_accuracy: 0.4654\n",
      "Epoch 2/20\n",
      "11/11 [==============================] - 0s 12ms/step - loss: 1.0470 - accuracy: 0.5358 - val_loss: 0.9447 - val_accuracy: 0.6289\n",
      "Epoch 3/20\n",
      "11/11 [==============================] - 0s 12ms/step - loss: 0.8399 - accuracy: 0.6667 - val_loss: 0.7320 - val_accuracy: 0.7170\n",
      "Epoch 4/20\n",
      "11/11 [==============================] - 0s 13ms/step - loss: 0.6783 - accuracy: 0.7196 - val_loss: 0.6126 - val_accuracy: 0.7358\n",
      "Epoch 5/20\n",
      "11/11 [==============================] - 0s 12ms/step - loss: 0.6312 - accuracy: 0.7601 - val_loss: 0.6438 - val_accuracy: 0.7044\n",
      "Epoch 6/20\n",
      "11/11 [==============================] - 0s 13ms/step - loss: 0.5316 - accuracy: 0.8100 - val_loss: 0.5726 - val_accuracy: 0.7547\n",
      "Epoch 7/20\n",
      "11/11 [==============================] - 0s 12ms/step - loss: 0.4848 - accuracy: 0.7850 - val_loss: 0.5188 - val_accuracy: 0.7862\n",
      "Epoch 8/20\n",
      "11/11 [==============================] - 0s 13ms/step - loss: 0.4365 - accuracy: 0.8069 - val_loss: 0.4478 - val_accuracy: 0.8113\n",
      "Epoch 9/20\n",
      "11/11 [==============================] - 0s 12ms/step - loss: 0.3457 - accuracy: 0.8660 - val_loss: 0.4042 - val_accuracy: 0.7987\n",
      "Epoch 10/20\n",
      "11/11 [==============================] - 0s 12ms/step - loss: 0.2555 - accuracy: 0.9159 - val_loss: 0.3143 - val_accuracy: 0.8616\n",
      "Epoch 11/20\n",
      "11/11 [==============================] - 0s 13ms/step - loss: 0.2255 - accuracy: 0.9065 - val_loss: 0.2858 - val_accuracy: 0.8679\n",
      "Epoch 12/20\n",
      "11/11 [==============================] - 0s 12ms/step - loss: 0.1593 - accuracy: 0.9564 - val_loss: 0.3323 - val_accuracy: 0.8553\n",
      "Epoch 13/20\n",
      "11/11 [==============================] - 0s 12ms/step - loss: 0.1604 - accuracy: 0.9470 - val_loss: 0.2366 - val_accuracy: 0.9057\n",
      "Epoch 14/20\n",
      "11/11 [==============================] - 0s 12ms/step - loss: 0.0986 - accuracy: 0.9626 - val_loss: 0.2915 - val_accuracy: 0.8679\n",
      "Epoch 15/20\n",
      "11/11 [==============================] - 0s 12ms/step - loss: 0.1727 - accuracy: 0.9346 - val_loss: 0.3449 - val_accuracy: 0.8491\n",
      "Epoch 16/20\n",
      "11/11 [==============================] - 0s 13ms/step - loss: 0.2048 - accuracy: 0.9221 - val_loss: 0.3104 - val_accuracy: 0.8679\n",
      "Epoch 17/20\n",
      "11/11 [==============================] - 0s 12ms/step - loss: 0.1304 - accuracy: 0.9626 - val_loss: 0.2341 - val_accuracy: 0.8931\n",
      "Epoch 18/20\n",
      "11/11 [==============================] - 0s 12ms/step - loss: 0.1038 - accuracy: 0.9720 - val_loss: 0.2661 - val_accuracy: 0.8931\n",
      "Epoch 19/20\n",
      "11/11 [==============================] - 0s 12ms/step - loss: 0.0668 - accuracy: 0.9782 - val_loss: 0.2119 - val_accuracy: 0.8931\n",
      "Epoch 20/20\n",
      "11/11 [==============================] - 0s 12ms/step - loss: 0.0721 - accuracy: 0.9813 - val_loss: 0.2292 - val_accuracy: 0.9182\n"
     ]
    }
   ],
   "source": [
    "%%time\n",
    "model_3.compile(optimizer='adam', loss='categorical_crossentropy',\n",
    "              metrics=['accuracy'])\n",
    "\n",
    "hist_model_3 = model_3.fit(X_train, y_train,batch_size, epochs=20, verbose=1,validation_data =val_data)"
   ]
  },
  {
   "cell_type": "code",
   "execution_count": 22,
   "metadata": {},
   "outputs": [
    {
     "name": "stdout",
     "output_type": "stream",
     "text": [
      "5/5 [==============================] - 0s 3ms/step - loss: 0.2292 - accuracy: 0.9182\n"
     ]
    },
    {
     "data": {
      "image/png": "[encoded data removed]",
      "text/plain": [
       "<Figure size 432x288 with 1 Axes>"
      ]
     },
     "metadata": {
      "needs_background": "light"
     },
     "output_type": "display_data"
    }
   ],
   "source": [
    "score2 = model_3.evaluate(X_test, y_test, verbose=1)\n",
    "history_dict2=hist_model_3.history\n",
    "history_dict2.keys()\n",
    "\n",
    "train_loss_values2 = history_dict2['loss']\n",
    "val_loss_values2 = history_dict2['val_loss']\n",
    "\n",
    "epochs2 = range(1, len(history_dict2['accuracy']) + 1)\n",
    "\n",
    "plt.plot(epochs2, train_loss_values2, 'r', label='Training loss')\n",
    "plt.plot(epochs2, val_loss_values2, 'b', label='Validation loss')\n",
    "plt.title('Training and validation loss')\n",
    "plt.xlabel('Epochs')\n",
    "plt.ylabel('Loss')\n",
    "plt.legend()\n",
    "plt.show()"
   ]
  },
  {
   "cell_type": "code",
   "execution_count": 30,
   "metadata": {},
   "outputs": [],
   "source": [
    "%%time\n",
    "model = Sequential()\n",
    "model.add(Conv2D(32, (5, 5), strides = (1,1), padding='same', input_shape=input_shape))\n",
    "model.add(Activation('relu'))\n",
    "\n",
    "model.add(Conv2D(32, (5, 5), strides = (1,1)))\n",
    "model.add(Activation('relu'))\n",
    "\n",
    "model.add(MaxPooling2D(pool_size=(2, 2)))\n",
    "model.add(Dropout(0.25))\n",
    "\n",
    "model.add(Conv2D(32, (5, 5), strides = (1,1)))\n",
    "model.add(Activation('relu'))\n",
    "\n",
    "model.add(Conv2D(32, (5, 5), strides = (1,1)))\n",
    "model.add(Activation('relu'))\n",
    "\n",
    "model.add(MaxPooling2D(pool_size=(2, 2)))\n",
    "model.add(Dropout(0.25))\n",
    "\n",
    "model.add(Flatten())\n",
    "model.add(Dense(512))\n",
    "model.add(Activation('relu'))\n",
    "model.add(Dropout(0.5))\n",
    "model.add(Dense(num_classes))\n",
    "model.add(Activation('softmax'))"
   ]
  },
  {
   "cell_type": "code",
   "execution_count": 31,
   "metadata": {},
   "outputs": [
    {
     "name": "stdout",
     "output_type": "stream",
     "text": [
      "Epoch 1/20\n",
      "11/11 [==============================] - 1s 105ms/step - loss: 1.2983 - accuracy: 0.3925 - val_loss: 1.2401 - val_accuracy: 0.4654\n",
      "Epoch 2/20\n",
      "11/11 [==============================] - 1s 94ms/step - loss: 1.2138 - accuracy: 0.5202 - val_loss: 1.1632 - val_accuracy: 0.4591\n",
      "Epoch 3/20\n",
      "11/11 [==============================] - 1s 91ms/step - loss: 1.0980 - accuracy: 0.5607 - val_loss: 0.8380 - val_accuracy: 0.6667\n",
      "Epoch 4/20\n",
      "11/11 [==============================] - 1s 90ms/step - loss: 0.8597 - accuracy: 0.6199 - val_loss: 0.7133 - val_accuracy: 0.7233\n",
      "Epoch 5/20\n",
      "11/11 [==============================] - 1s 92ms/step - loss: 0.5996 - accuracy: 0.7570 - val_loss: 0.5166 - val_accuracy: 0.7736\n",
      "Epoch 6/20\n",
      "11/11 [==============================] - 1s 91ms/step - loss: 0.5130 - accuracy: 0.7944 - val_loss: 0.5042 - val_accuracy: 0.7673\n",
      "Epoch 7/20\n",
      "11/11 [==============================] - 1s 93ms/step - loss: 0.4746 - accuracy: 0.7944 - val_loss: 0.5031 - val_accuracy: 0.7610\n",
      "Epoch 8/20\n",
      "11/11 [==============================] - 1s 91ms/step - loss: 0.4730 - accuracy: 0.7975 - val_loss: 0.4136 - val_accuracy: 0.8113\n",
      "Epoch 9/20\n",
      "11/11 [==============================] - 1s 92ms/step - loss: 0.3694 - accuracy: 0.8536 - val_loss: 0.3527 - val_accuracy: 0.8365\n",
      "Epoch 10/20\n",
      "11/11 [==============================] - 1s 92ms/step - loss: 0.3903 - accuracy: 0.8193 - val_loss: 0.3772 - val_accuracy: 0.8805\n",
      "Epoch 11/20\n",
      "11/11 [==============================] - 1s 91ms/step - loss: 0.4075 - accuracy: 0.8536 - val_loss: 0.3657 - val_accuracy: 0.8553\n",
      "Epoch 12/20\n",
      "11/11 [==============================] - 1s 91ms/step - loss: 0.2806 - accuracy: 0.8941 - val_loss: 0.2526 - val_accuracy: 0.8994\n",
      "Epoch 13/20\n",
      "11/11 [==============================] - 1s 92ms/step - loss: 0.2047 - accuracy: 0.9221 - val_loss: 0.2765 - val_accuracy: 0.9057\n",
      "Epoch 14/20\n",
      "11/11 [==============================] - 1s 91ms/step - loss: 0.1709 - accuracy: 0.9346 - val_loss: 0.2536 - val_accuracy: 0.9057\n",
      "Epoch 15/20\n",
      "11/11 [==============================] - 1s 91ms/step - loss: 0.1801 - accuracy: 0.9315 - val_loss: 0.2760 - val_accuracy: 0.8994\n",
      "Epoch 16/20\n",
      "11/11 [==============================] - 1s 93ms/step - loss: 0.1733 - accuracy: 0.9283 - val_loss: 0.2156 - val_accuracy: 0.8931\n",
      "Epoch 17/20\n",
      "11/11 [==============================] - 1s 90ms/step - loss: 0.1264 - accuracy: 0.9533 - val_loss: 0.2453 - val_accuracy: 0.9182\n",
      "Epoch 18/20\n",
      "11/11 [==============================] - 1s 91ms/step - loss: 0.1571 - accuracy: 0.9190 - val_loss: 0.2541 - val_accuracy: 0.8994\n",
      "Epoch 19/20\n",
      "11/11 [==============================] - 1s 91ms/step - loss: 0.1170 - accuracy: 0.9595 - val_loss: 0.2653 - val_accuracy: 0.9182\n",
      "Epoch 20/20\n",
      "11/11 [==============================] - 1s 92ms/step - loss: 0.1107 - accuracy: 0.9626 - val_loss: 0.1954 - val_accuracy: 0.9308\n"
     ]
    }
   ],
   "source": [
    "model.compile(optimizer='adam', loss='categorical_crossentropy',\n",
    "              metrics=['accuracy'])\n",
    "\n",
    "hist_model_3 = model.fit(X_train, y_train,batch_size, epochs=20, verbose=1,validation_data =val_data)"
   ]
  },
  {
   "cell_type": "code",
   "execution_count": 32,
   "metadata": {},
   "outputs": [
    {
     "name": "stdout",
     "output_type": "stream",
     "text": [
      "5/5 [==============================] - 0s 11ms/step - loss: 0.1954 - accuracy: 0.9308\n"
     ]
    },
    {
     "data": {
      "image/png": "[encoded data removed]",
      "text/plain": [
       "<Figure size 432x288 with 1 Axes>"
      ]
     },
     "metadata": {
      "needs_background": "light"
     },
     "output_type": "display_data"
    }
   ],
   "source": [
    "score2 = model.evaluate(X_test, y_test, verbose=1)\n",
    "history_dict2=hist_model_3.history\n",
    "history_dict2.keys()\n",
    "\n",
    "train_loss_values2 = history_dict2['loss']\n",
    "val_loss_values2 = history_dict2['val_loss']\n",
    "\n",
    "epochs2 = range(1, len(history_dict2['accuracy']) + 1)\n",
    "\n",
    "plt.plot(epochs2, train_loss_values2, 'r', label='Training loss')\n",
    "plt.plot(epochs2, val_loss_values2, 'b', label='Validation loss')\n",
    "plt.title('Training and validation loss')\n",
    "plt.xlabel('Epochs')\n",
    "plt.ylabel('Loss')\n",
    "plt.legend()\n",
    "plt.show()"
   ]
  },
  {
   "cell_type": "code",
   "execution_count": 35,
   "metadata": {},
   "outputs": [],
   "source": [
    "%%time\n",
    "model = Sequential()\n",
    "model.add(Conv2D(32, (5, 5), strides = (1,1), padding='same', input_shape=input_shape))\n",
    "model.add(Activation('relu'))\n",
    "\n",
    "model.add(Conv2D(32, (5, 5), strides = (1,1)))\n",
    "model.add(Activation('relu'))\n",
    "\n",
    "model.add(MaxPooling2D(pool_size=(2, 2)))\n",
    "model.add(Dropout(0.25))\n",
    "\n",
    "model.add(Conv2D(32, (5, 5), strides = (1,1)))\n",
    "model.add(Activation('relu'))\n",
    "\n",
    "model.add(Conv2D(32, (5, 5), strides = (1,1)))\n",
    "model.add(Activation('relu'))\n",
    "\n",
    "model.add(MaxPooling2D(pool_size=(2, 2)))\n",
    "model.add(Dropout(0.25))\n",
    "\n",
    "model.add(Flatten())\n",
    "model.add(Dense(512))\n",
    "model.add(Activation('relu'))\n",
    "model.add(Dropout(0.5))\n",
    "model.add(Dense(num_classes))\n",
    "model.add(Activation('softmax'))"
   ]
  },
  {
   "cell_type": "code",
   "execution_count": 37,
   "metadata": {},
   "outputs": [
    {
     "name": "stdout",
     "output_type": "stream",
     "text": [
      "Epoch 1/20\n",
      "11/11 [==============================] - 8s 692ms/step - loss: 2.1952 - accuracy: 0.3583 - val_loss: 1.3362 - val_accuracy: 0.2767\n",
      "Epoch 2/20\n",
      "11/11 [==============================] - 8s 689ms/step - loss: 1.3104 - accuracy: 0.3240 - val_loss: 1.2709 - val_accuracy: 0.4591\n",
      "Epoch 3/20\n",
      "11/11 [==============================] - 8s 690ms/step - loss: 1.2808 - accuracy: 0.4174 - val_loss: 1.2710 - val_accuracy: 0.4591\n",
      "Epoch 4/20\n",
      "11/11 [==============================] - 8s 686ms/step - loss: 1.2833 - accuracy: 0.4174 - val_loss: 1.2697 - val_accuracy: 0.4591\n",
      "Epoch 5/20\n",
      "11/11 [==============================] - 8s 694ms/step - loss: 1.2857 - accuracy: 0.4174 - val_loss: 1.3098 - val_accuracy: 0.4591\n",
      "Epoch 6/20\n",
      "11/11 [==============================] - 8s 694ms/step - loss: 1.2940 - accuracy: 0.4174 - val_loss: 1.3079 - val_accuracy: 0.4591\n",
      "Epoch 7/20\n",
      "11/11 [==============================] - 8s 698ms/step - loss: 1.2866 - accuracy: 0.4174 - val_loss: 1.2774 - val_accuracy: 0.4591\n",
      "Epoch 8/20\n",
      "11/11 [==============================] - 8s 689ms/step - loss: 1.2876 - accuracy: 0.4174 - val_loss: 1.2667 - val_accuracy: 0.4591\n",
      "Epoch 9/20\n",
      "11/11 [==============================] - 7s 679ms/step - loss: 1.2785 - accuracy: 0.4174 - val_loss: 1.2899 - val_accuracy: 0.4591\n",
      "Epoch 10/20\n",
      "11/11 [==============================] - 7s 671ms/step - loss: 1.2867 - accuracy: 0.4174 - val_loss: 1.2876 - val_accuracy: 0.4591\n",
      "Epoch 11/20\n",
      "11/11 [==============================] - 7s 667ms/step - loss: 1.2757 - accuracy: 0.4174 - val_loss: 1.2754 - val_accuracy: 0.4591\n",
      "Epoch 12/20\n",
      "11/11 [==============================] - 8s 682ms/step - loss: 1.2847 - accuracy: 0.4174 - val_loss: 1.2921 - val_accuracy: 0.4591\n",
      "Epoch 13/20\n",
      "11/11 [==============================] - 7s 672ms/step - loss: 1.2899 - accuracy: 0.4174 - val_loss: 1.2895 - val_accuracy: 0.4591\n",
      "Epoch 14/20\n",
      "11/11 [==============================] - 8s 693ms/step - loss: 1.2865 - accuracy: 0.4174 - val_loss: 1.2719 - val_accuracy: 0.4591\n",
      "Epoch 15/20\n",
      "11/11 [==============================] - 7s 676ms/step - loss: 1.2871 - accuracy: 0.4174 - val_loss: 1.2671 - val_accuracy: 0.4591\n",
      "Epoch 16/20\n",
      "11/11 [==============================] - 8s 696ms/step - loss: 1.2823 - accuracy: 0.4174 - val_loss: 1.2568 - val_accuracy: 0.4591\n",
      "Epoch 17/20\n",
      "11/11 [==============================] - 8s 719ms/step - loss: 1.2911 - accuracy: 0.4174 - val_loss: 1.2613 - val_accuracy: 0.4591\n",
      "Epoch 18/20\n",
      "11/11 [==============================] - 8s 682ms/step - loss: 1.2779 - accuracy: 0.4174 - val_loss: 1.2780 - val_accuracy: 0.4591\n",
      "Epoch 19/20\n",
      "11/11 [==============================] - 7s 668ms/step - loss: 1.2843 - accuracy: 0.4174 - val_loss: 1.2633 - val_accuracy: 0.4591\n",
      "Epoch 20/20\n",
      "11/11 [==============================] - 7s 676ms/step - loss: 1.2736 - accuracy: 0.4174 - val_loss: 1.2633 - val_accuracy: 0.4591\n"
     ]
    }
   ],
   "source": [
    "model.compile(optimizer='adam', loss='categorical_crossentropy',\n",
    "              metrics=['accuracy'])\n",
    "\n",
    "hist_model_3 = model.fit(X_train, y_train,batch_size, epochs=20, verbose=1,validation_data =val_data)"
   ]
  },
  {
   "cell_type": "code",
   "execution_count": 43,
   "metadata": {},
   "outputs": [],
   "source": [
    "%%time\n",
    "model = Sequential()\n",
    "model.add(Conv2D(32, (5, 5), strides = (1,1), padding='same', input_shape=input_shape))\n",
    "model.add(Activation('relu'))\n",
    "\n",
    "model.add(Conv2D(32, (5, 5), strides = (1,1)))\n",
    "model.add(Activation('relu'))\n",
    "\n",
    "model.add(MaxPooling2D(pool_size=(2, 2)))\n",
    "model.add(Dropout(0.25))\n",
    "\n",
    "model.add(Conv2D(32, (5, 5), strides = (1,1)))\n",
    "model.add(Activation('relu'))\n",
    "\n",
    "model.add(Conv2D(32, (5, 5), strides = (1,1)))\n",
    "model.add(Activation('relu'))\n",
    "\n",
    "model.add(MaxPooling2D(pool_size=(2, 2)))\n",
    "model.add(Dropout(0.25))\n",
    "\n",
    "\n",
    "model.add(Conv2D(32, (5, 5), strides = (1,1)))\n",
    "model.add(Activation('relu'))\n",
    "\n",
    "model.add(MaxPooling2D(pool_size=(2, 2)))\n",
    "model.add(Dropout(0.25))\n",
    "\n",
    "\n",
    "model.add(Flatten())\n",
    "model.add(Dense(512))\n",
    "model.add(Activation('relu'))\n",
    "model.add(Dropout(0.5))\n",
    "model.add(Dense(num_classes))\n",
    "model.add(Activation('softmax'))"
   ]
  },
  {
   "cell_type": "code",
   "execution_count": 44,
   "metadata": {},
   "outputs": [
    {
     "name": "stdout",
     "output_type": "stream",
     "text": [
      "Epoch 1/20\n",
      "11/11 [==============================] - 1s 102ms/step - loss: 1.3250 - accuracy: 0.3614 - val_loss: 1.2605 - val_accuracy: 0.4591\n",
      "Epoch 2/20\n",
      "11/11 [==============================] - 1s 91ms/step - loss: 1.2574 - accuracy: 0.4143 - val_loss: 1.2445 - val_accuracy: 0.4591\n",
      "Epoch 3/20\n",
      "11/11 [==============================] - 1s 90ms/step - loss: 1.2568 - accuracy: 0.4206 - val_loss: 1.2180 - val_accuracy: 0.4591\n",
      "Epoch 4/20\n",
      "11/11 [==============================] - 1s 91ms/step - loss: 1.2866 - accuracy: 0.4143 - val_loss: 1.2094 - val_accuracy: 0.4591\n",
      "Epoch 5/20\n",
      "11/11 [==============================] - 1s 89ms/step - loss: 1.1089 - accuracy: 0.4642 - val_loss: 0.9508 - val_accuracy: 0.6792\n",
      "Epoch 6/20\n",
      "11/11 [==============================] - 1s 90ms/step - loss: 1.1408 - accuracy: 0.5452 - val_loss: 1.0765 - val_accuracy: 0.5786\n",
      "Epoch 7/20\n",
      "11/11 [==============================] - 1s 91ms/step - loss: 0.9934 - accuracy: 0.6044 - val_loss: 0.8252 - val_accuracy: 0.6855\n",
      "Epoch 8/20\n",
      "11/11 [==============================] - 1s 89ms/step - loss: 0.8500 - accuracy: 0.6012 - val_loss: 0.8061 - val_accuracy: 0.7296\n",
      "Epoch 9/20\n",
      "11/11 [==============================] - 1s 91ms/step - loss: 0.7467 - accuracy: 0.6480 - val_loss: 0.8332 - val_accuracy: 0.6792\n",
      "Epoch 10/20\n",
      "11/11 [==============================] - 1s 89ms/step - loss: 0.7159 - accuracy: 0.6729 - val_loss: 0.7277 - val_accuracy: 0.6792\n",
      "Epoch 11/20\n",
      "11/11 [==============================] - 1s 89ms/step - loss: 0.6600 - accuracy: 0.6916 - val_loss: 0.7784 - val_accuracy: 0.6981\n",
      "Epoch 12/20\n",
      "11/11 [==============================] - 1s 91ms/step - loss: 0.7244 - accuracy: 0.6854 - val_loss: 0.6398 - val_accuracy: 0.7296\n",
      "Epoch 13/20\n",
      "11/11 [==============================] - 1s 90ms/step - loss: 0.6380 - accuracy: 0.7009 - val_loss: 0.6131 - val_accuracy: 0.7358\n",
      "Epoch 14/20\n",
      "11/11 [==============================] - 1s 92ms/step - loss: 0.6108 - accuracy: 0.7134 - val_loss: 0.5528 - val_accuracy: 0.7421\n",
      "Epoch 15/20\n",
      "11/11 [==============================] - 1s 88ms/step - loss: 0.5753 - accuracy: 0.7601 - val_loss: 0.5325 - val_accuracy: 0.7610\n",
      "Epoch 16/20\n",
      "11/11 [==============================] - 1s 90ms/step - loss: 0.5406 - accuracy: 0.7788 - val_loss: 0.5836 - val_accuracy: 0.7107\n",
      "Epoch 17/20\n",
      "11/11 [==============================] - 1s 91ms/step - loss: 0.5633 - accuracy: 0.7259 - val_loss: 0.5520 - val_accuracy: 0.7799\n",
      "Epoch 18/20\n",
      "11/11 [==============================] - 1s 89ms/step - loss: 0.5473 - accuracy: 0.7290 - val_loss: 0.5518 - val_accuracy: 0.7358\n",
      "Epoch 19/20\n",
      "11/11 [==============================] - 1s 92ms/step - loss: 0.5734 - accuracy: 0.7414 - val_loss: 0.5801 - val_accuracy: 0.7421\n",
      "Epoch 20/20\n",
      "11/11 [==============================] - 1s 91ms/step - loss: 0.5137 - accuracy: 0.7819 - val_loss: 0.5221 - val_accuracy: 0.7610\n"
     ]
    }
   ],
   "source": [
    "model.compile(optimizer='adam', loss='categorical_crossentropy',\n",
    "              metrics=['accuracy'])\n",
    "\n",
    "hist_model_3 = model.fit(X_train, y_train,batch_size, epochs=20, verbose=1,validation_data =val_data)"
   ]
  },
  {
   "cell_type": "code",
   "execution_count": 45,
   "metadata": {},
   "outputs": [
    {
     "name": "stdout",
     "output_type": "stream",
     "text": [
      "5/5 [==============================] - 0s 11ms/step - loss: 0.5221 - accuracy: 0.7610\n"
     ]
    },
    {
     "data": {
      "image/png": "[encoded data removed]",
      "text/plain": [
       "<Figure size 432x288 with 1 Axes>"
      ]
     },
     "metadata": {
      "needs_background": "light"
     },
     "output_type": "display_data"
    }
   ],
   "source": [
    "score2 = model.evaluate(X_test, y_test, verbose=1)\n",
    "history_dict2=hist_model_3.history\n",
    "history_dict2.keys()\n",
    "\n",
    "train_loss_values2 = history_dict2['loss']\n",
    "val_loss_values2 = history_dict2['val_loss']\n",
    "\n",
    "epochs2 = range(1, len(history_dict2['accuracy']) + 1)\n",
    "\n",
    "plt.plot(epochs2, train_loss_values2, 'r', label='Training loss')\n",
    "plt.plot(epochs2, val_loss_values2, 'b', label='Validation loss')\n",
    "plt.title('Training and validation loss')\n",
    "plt.xlabel('Epochs')\n",
    "plt.ylabel('Loss')\n",
    "plt.legend()\n",
    "plt.show()"
   ]
  },
  {
   "cell_type": "code",
   "execution_count": null,
   "metadata": {},
   "outputs": [],
   "source": []
  }
 ],
 "metadata": {
  "kernelspec": {
   "display_name": "Python 3",
   "language": "python",
   "name": "python3"
  },
  "language_info": {
   "codemirror_mode": {
    "name": "ipython",
    "version": 3
   },
   "file_extension": ".py",
   "mimetype": "text/x-python",
   "name": "python",
   "nbconvert_exporter": "python",
   "pygments_lexer": "ipython3",
   "version": "3.8.8"
  }
 },
 "nbformat": 4,
 "nbformat_minor": 1
}