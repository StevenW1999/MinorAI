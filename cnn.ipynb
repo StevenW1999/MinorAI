{
 "cells": [
  {
   "cell_type": "markdown",
   "metadata": {
    "collapsed": true,
    "pycharm": {
     "name": "#%% md\n"
    }
   },
   "source": [
    "import the modules and get dataset"
   ]
  },
  {
   "cell_type": "code",
   "execution_count": 138,
   "metadata": {
    "pycharm": {
     "name": "#%%\n"
    }
   },
   "outputs": [
    {
     "name": "stdout",
     "output_type": "stream",
     "text": [
      "                                              pixels  emotion\n",
      "0  6 5 3 3 5 9 11 11 13 17 22 24 31 32 38 37 34 3...    happy\n",
      "1  42 19 2 2 9 10 4 2 6 8 10 15 9 12 14 15 19 35 ...  sadness\n",
      "2  10 0 0 1 0 1 3 4 6 10 21 56 93 117 161 182 195...  sadness\n",
      "3  172 186 186 145 103 120 202 242 195 180 150 82...  sadness\n",
      "4  216 218 214 216 215 223 193 67 52 58 65 60 57 ...  sadness\n"
     ]
    }
   ],
   "source": [
    "import pandas as pd\n",
    "import numpy as np\n",
    "import warnings\n",
    "import cv2\n",
    "import data\n",
    "import model\n",
    "from PIL import Image\n",
    "import dlib\n",
    "warnings.filterwarnings(\"ignore\")\n",
    "\n",
    "data.get_files_CNN()\n",
    "df = pd.read_csv(\"dataset.csv\")\n",
    "print(df.head())"
   ]
  },
  {
   "cell_type": "markdown",
   "metadata": {},
   "source": [
    "convert the dataset to data we can actually use"
   ]
  },
  {
   "cell_type": "code",
   "execution_count": 139,
   "metadata": {
    "pycharm": {
     "name": "#%%\n"
    }
   },
   "outputs": [
    {
     "name": "stdout",
     "output_type": "stream",
     "text": [
      "[[[  6.]\n",
      "  [  5.]\n",
      "  [  3.]\n",
      "  ...\n",
      "  [ 20.]\n",
      "  [ 34.]\n",
      "  [ 48.]]\n",
      "\n",
      " [[  2.]\n",
      "  [  1.]\n",
      "  [  3.]\n",
      "  ...\n",
      "  [ 25.]\n",
      "  [ 22.]\n",
      "  [ 37.]]\n",
      "\n",
      " [[  3.]\n",
      "  [  3.]\n",
      "  [  6.]\n",
      "  ...\n",
      "  [ 34.]\n",
      "  [ 21.]\n",
      "  [ 28.]]\n",
      "\n",
      " ...\n",
      "\n",
      " [[138.]\n",
      "  [135.]\n",
      "  [146.]\n",
      "  ...\n",
      "  [139.]\n",
      "  [140.]\n",
      "  [142.]]\n",
      "\n",
      " [[137.]\n",
      "  [138.]\n",
      "  [122.]\n",
      "  ...\n",
      "  [138.]\n",
      "  [149.]\n",
      "  [144.]]\n",
      "\n",
      " [[138.]\n",
      "  [115.]\n",
      "  [ 57.]\n",
      "  ...\n",
      "  [144.]\n",
      "  [138.]\n",
      "  [143.]]]\n"
     ]
    }
   ],
   "source": [
    "image_size = (48, 48)\n",
    "pixels = df['pixels'].tolist()  # Converting the relevant column element into a list for each row\n",
    "width, height = 48, 48\n",
    "faces = []\n",
    "for pixel_sequence in pixels:\n",
    "    face = [int(pixel) for pixel in pixel_sequence.split(' ')]  # Splitting the string by space character as a list\n",
    "    face = np.asarray(face).reshape(width, height)  # converting the list to numpy array in size of 48*48\n",
    "    face = cv2.resize(face.astype('uint8'), image_size)  # resize the image to have 48 cols (width) and 48 rows (height)\n",
    "    faces.append(face.astype('float32'))  # makes the list of each images of 48*48 and their pixels in numpyarray form\n",
    "\n",
    "faces = np.asarray(faces)  # converting the list into numpy array\n",
    "faces = np.expand_dims(faces, -1)  # Expand the shape of an array -1=last dimension => means color space\n",
    "emotions = pd.get_dummies(df['emotion']).to_numpy()  # doing the one hot encoding type on emotions\n",
    "\n",
    "print(faces[0])"
   ]
  },
  {
   "cell_type": "markdown",
   "metadata": {},
   "source": [
    "check how the faces look like:"
   ]
  },
  {
   "cell_type": "code",
   "execution_count": 140,
   "metadata": {
    "pycharm": {
     "name": "#%%\n"
    }
   },
   "outputs": [
    {
     "name": "stdout",
     "output_type": "stream",
     "text": [
      "(480, 48, 48, 1)\n",
      "3\n",
      "<class 'numpy.ndarray'>\n"
     ]
    }
   ],
   "source": [
    "print(faces.shape)\n",
    "print(faces[0].ndim)\n",
    "print(type(faces))"
   ]
  },
  {
   "cell_type": "markdown",
   "metadata": {},
   "source": [
    "the emotions after preprocessing:"
   ]
  },
  {
   "cell_type": "code",
   "execution_count": 141,
   "metadata": {
    "pycharm": {
     "name": "#%%\n"
    }
   },
   "outputs": [
    {
     "name": "stdout",
     "output_type": "stream",
     "text": [
      "[0 0 1 0]\n",
      "(480, 4)\n",
      "2\n",
      "<class 'numpy.ndarray'>\n"
     ]
    }
   ],
   "source": [
    "print(emotions[0]) #Emotion after preprocessing\n",
    "print(emotions.shape)\n",
    "print(emotions.ndim)\n",
    "print(type(emotions))"
   ]
  },
  {
   "cell_type": "markdown",
   "metadata": {},
   "source": [
    "time to scale the pixels and check if the min and max are -1.0 and 1.0"
   ]
  },
  {
   "cell_type": "code",
   "execution_count": 142,
   "metadata": {
    "pycharm": {
     "name": "#%%\n"
    }
   },
   "outputs": [
    {
     "name": "stdout",
     "output_type": "stream",
     "text": [
      "[[[-0.9529412 ]\n",
      "  [-0.9607843 ]\n",
      "  [-0.9764706 ]\n",
      "  ...\n",
      "  [-0.84313726]\n",
      "  [-0.73333335]\n",
      "  [-0.62352943]]\n",
      "\n",
      " [[-0.9843137 ]\n",
      "  [-0.99215686]\n",
      "  [-0.9764706 ]\n",
      "  ...\n",
      "  [-0.8039216 ]\n",
      "  [-0.827451  ]\n",
      "  [-0.70980394]]\n",
      "\n",
      " [[-0.9764706 ]\n",
      "  [-0.9764706 ]\n",
      "  [-0.9529412 ]\n",
      "  ...\n",
      "  [-0.73333335]\n",
      "  [-0.8352941 ]\n",
      "  [-0.78039217]]\n",
      "\n",
      " ...\n",
      "\n",
      " [[ 0.082353  ]\n",
      "  [ 0.05882359]\n",
      "  [ 0.14509809]\n",
      "  ...\n",
      "  [ 0.09019613]\n",
      "  [ 0.09803927]\n",
      "  [ 0.11372554]]\n",
      "\n",
      " [[ 0.07450986]\n",
      "  [ 0.082353  ]\n",
      "  [-0.04313725]\n",
      "  ...\n",
      "  [ 0.082353  ]\n",
      "  [ 0.1686275 ]\n",
      "  [ 0.12941182]]\n",
      "\n",
      " [[ 0.082353  ]\n",
      "  [-0.09803921]\n",
      "  [-0.5529412 ]\n",
      "  ...\n",
      "  [ 0.12941182]\n",
      "  [ 0.082353  ]\n",
      "  [ 0.12156868]]]\n",
      "-1.0 1.0\n"
     ]
    }
   ],
   "source": [
    "x = faces.astype('float32')\n",
    "x = x / 255.0 #Dividing the pixels by 255 for normalization  => range(0,1)\n",
    "\n",
    "# Scaling the pixels value in range(-1,1)\n",
    "x = x - 0.5\n",
    "x = x * 2.0\n",
    "print(x[0])\n",
    "print(x.min(),x.max())"
   ]
  },
  {
   "cell_type": "markdown",
   "metadata": {},
   "source": [
    "split data into train and test data"
   ]
  },
  {
   "cell_type": "code",
   "execution_count": 143,
   "metadata": {
    "pycharm": {
     "name": "#%%\n"
    }
   },
   "outputs": [
    {
     "name": "stdout",
     "output_type": "stream",
     "text": [
      "Training Pixels (384, 48, 48, 1)\n",
      "Training labels (384, 4)\n",
      "Validation Pixels (96, 48, 48, 1)\n",
      "Validation labels (96, 4)\n"
     ]
    }
   ],
   "source": [
    "num_samples, num_classes = emotions.shape\n",
    "\n",
    "num_samples = len(x)\n",
    "num_train_samples = int((1 - 0.2)*num_samples)\n",
    "\n",
    "# Traning data\n",
    "train_x = x[:num_train_samples]\n",
    "train_y = emotions[:num_train_samples]\n",
    "\n",
    "# Validation data\n",
    "val_x = x[num_train_samples:]\n",
    "val_y = emotions[num_train_samples:]\n",
    "\n",
    "train_data = (train_x, train_y)\n",
    "val_data = (val_x, val_y)\n",
    "\n",
    "print('Training Pixels',train_x.shape)  # ==> 4 dims -  no of images , width , height , color\n",
    "print('Training labels',train_y.shape)\n",
    "\n",
    "print('Validation Pixels',val_x.shape)\n",
    "print('Validation labels',val_y.shape)"
   ]
  },
  {
   "cell_type": "markdown",
   "metadata": {},
   "source": [
    "import keras for the model training and layers"
   ]
  },
  {
   "cell_type": "code",
   "execution_count": 144,
   "metadata": {
    "pycharm": {
     "name": "#%%\n"
    }
   },
   "outputs": [],
   "source": [
    "from keras.layers import Activation, Convolution2D, Dropout, Conv2D\n",
    "from keras.layers import AveragePooling2D, BatchNormalization\n",
    "from keras.layers import GlobalAveragePooling2D\n",
    "from keras.models import Sequential\n",
    "from keras.layers import Flatten, Dense\n",
    "from keras.models import Model\n",
    "from keras.layers import Input\n",
    "from keras.layers import MaxPooling2D\n",
    "from keras.layers import SeparableConv2D\n",
    "from keras import layers\n",
    "from keras.regularizers import l2\n",
    "from tensorflow.keras.optimizers import RMSprop"
   ]
  },
  {
   "cell_type": "markdown",
   "metadata": {},
   "source": [
    "create the model with it's layers:"
   ]
  },
  {
   "cell_type": "code",
   "execution_count": 145,
   "metadata": {
    "pycharm": {
     "name": "#%%\n"
    }
   },
   "outputs": [
    {
     "name": "stdout",
     "output_type": "stream",
     "text": [
      "Model: \"sequential_12\"\n",
      "_________________________________________________________________\n",
      "Layer (type)                 Output Shape              Param #   \n",
      "=================================================================\n",
      "conv2d_52 (Conv2D)           (None, 24, 24, 32)        832       \n",
      "_________________________________________________________________\n",
      "activation_48 (Activation)   (None, 24, 24, 32)        0         \n",
      "_________________________________________________________________\n",
      "conv2d_53 (Conv2D)           (None, 10, 10, 32)        25632     \n",
      "_________________________________________________________________\n",
      "activation_49 (Activation)   (None, 10, 10, 32)        0         \n",
      "_________________________________________________________________\n",
      "max_pooling2d_8 (MaxPooling2 (None, 5, 5, 32)          0         \n",
      "_________________________________________________________________\n",
      "dropout_32 (Dropout)         (None, 5, 5, 32)          0         \n",
      "_________________________________________________________________\n",
      "flatten_8 (Flatten)          (None, 800)               0         \n",
      "_________________________________________________________________\n",
      "dense_16 (Dense)             (None, 512)               410112    \n",
      "_________________________________________________________________\n",
      "activation_50 (Activation)   (None, 512)               0         \n",
      "_________________________________________________________________\n",
      "dropout_33 (Dropout)         (None, 512)               0         \n",
      "_________________________________________________________________\n",
      "dense_17 (Dense)             (None, 4)                 2052      \n",
      "_________________________________________________________________\n",
      "activation_51 (Activation)   (None, 4)                 0         \n",
      "=================================================================\n",
      "Total params: 438,628\n",
      "Trainable params: 438,628\n",
      "Non-trainable params: 0\n",
      "_________________________________________________________________\n"
     ]
    }
   ],
   "source": [
    "input_shape=(48, 48, 1)\n",
    "num_classes = 4\n",
    "\n",
    "model_1 = Sequential()\n",
    "\n",
    "## 5x5 convolution with 2x2 stride and 32 filters\n",
    "model_1.add(Conv2D(32, (5, 5), strides = (2,2), padding='same', input_shape=input_shape))\n",
    "model_1.add(Activation('relu'))\n",
    "\n",
    "## Another 5x5 convolution with 2x2 stride and 32 filters\n",
    "model_1.add(Conv2D(32, (5, 5), strides = (2,2)))\n",
    "model_1.add(Activation('relu'))\n",
    "\n",
    "## 2x2 max pooling reduces to 3 x 3 x 32\n",
    "model_1.add(MaxPooling2D(pool_size=(2, 2)))\n",
    "model_1.add(Dropout(0.25))\n",
    "\n",
    "## Flatten turns 3x3x32 into 288x1\n",
    "model_1.add(Flatten())\n",
    "model_1.add(Dense(512))\n",
    "model_1.add(Activation('relu'))\n",
    "model_1.add(Dropout(0.5))\n",
    "model_1.add(Dense(num_classes))\n",
    "model_1.add(Activation('softmax'))\n",
    "\n",
    "model_1.summary()"
   ]
  },
  {
   "cell_type": "markdown",
   "metadata": {},
   "source": [
    "the parameters:"
   ]
  },
  {
   "cell_type": "code",
   "execution_count": null,
   "metadata": {
    "pycharm": {
     "name": "#%%\n"
    }
   },
   "outputs": [],
   "source": []
  },
  {
   "cell_type": "markdown",
   "metadata": {},
   "source": [
    "import data generator"
   ]
  },
  {
   "cell_type": "code",
   "execution_count": 146,
   "metadata": {
    "pycharm": {
     "name": "#%%\n"
    }
   },
   "outputs": [],
   "source": [
    "from keras.preprocessing.image import ImageDataGenerator\n"
   ]
  },
  {
   "cell_type": "markdown",
   "metadata": {},
   "source": [
    "compile the model:"
   ]
  },
  {
   "cell_type": "code",
   "execution_count": 147,
   "metadata": {
    "pycharm": {
     "name": "#%%\n"
    }
   },
   "outputs": [
    {
     "name": "stdout",
     "output_type": "stream",
     "text": [
      "Epoch 1/100\n",
      "12/12 [==============================] - 0s 21ms/step - loss: 1.2665 - accuracy: 0.4271 - val_loss: 1.1900 - val_accuracy: 0.4583\n",
      "Epoch 2/100\n",
      "12/12 [==============================] - 0s 13ms/step - loss: 1.2148 - accuracy: 0.4635 - val_loss: 1.1184 - val_accuracy: 0.5417\n",
      "Epoch 3/100\n",
      "12/12 [==============================] - 0s 13ms/step - loss: 1.1331 - accuracy: 0.5026 - val_loss: 0.9763 - val_accuracy: 0.5938\n",
      "Epoch 4/100\n",
      "12/12 [==============================] - 0s 13ms/step - loss: 1.0079 - accuracy: 0.6042 - val_loss: 0.7816 - val_accuracy: 0.6979\n",
      "Epoch 5/100\n",
      "12/12 [==============================] - 0s 12ms/step - loss: 0.8605 - accuracy: 0.6250 - val_loss: 0.6345 - val_accuracy: 0.7083\n",
      "Epoch 6/100\n",
      "12/12 [==============================] - 0s 13ms/step - loss: 0.8318 - accuracy: 0.6641 - val_loss: 0.5815 - val_accuracy: 0.7292\n",
      "Epoch 7/100\n",
      "12/12 [==============================] - 0s 12ms/step - loss: 0.7519 - accuracy: 0.7031 - val_loss: 0.5681 - val_accuracy: 0.7812\n",
      "Epoch 8/100\n",
      "12/12 [==============================] - 0s 13ms/step - loss: 0.6643 - accuracy: 0.7161 - val_loss: 0.4786 - val_accuracy: 0.8125\n",
      "Epoch 9/100\n",
      "12/12 [==============================] - 0s 13ms/step - loss: 0.6868 - accuracy: 0.7083 - val_loss: 0.5182 - val_accuracy: 0.7500\n",
      "Epoch 10/100\n",
      "12/12 [==============================] - 0s 14ms/step - loss: 0.5666 - accuracy: 0.7474 - val_loss: 0.4006 - val_accuracy: 0.8646\n",
      "Epoch 11/100\n",
      "12/12 [==============================] - 0s 12ms/step - loss: 0.5355 - accuracy: 0.7812 - val_loss: 0.3766 - val_accuracy: 0.8333\n",
      "Epoch 12/100\n",
      "12/12 [==============================] - 0s 12ms/step - loss: 0.5685 - accuracy: 0.7630 - val_loss: 0.3605 - val_accuracy: 0.8229\n",
      "Epoch 13/100\n",
      "12/12 [==============================] - 0s 13ms/step - loss: 0.5322 - accuracy: 0.7526 - val_loss: 0.3806 - val_accuracy: 0.8021\n",
      "Epoch 14/100\n",
      "12/12 [==============================] - 0s 13ms/step - loss: 0.4996 - accuracy: 0.7917 - val_loss: 0.3222 - val_accuracy: 0.8438\n",
      "Epoch 15/100\n",
      "12/12 [==============================] - 0s 13ms/step - loss: 0.4874 - accuracy: 0.8073 - val_loss: 0.3022 - val_accuracy: 0.8854\n",
      "Epoch 16/100\n",
      "12/12 [==============================] - 0s 12ms/step - loss: 0.4757 - accuracy: 0.8125 - val_loss: 0.2794 - val_accuracy: 0.8646\n",
      "Epoch 17/100\n",
      "12/12 [==============================] - 0s 12ms/step - loss: 0.5113 - accuracy: 0.7682 - val_loss: 0.3714 - val_accuracy: 0.8021\n",
      "Epoch 18/100\n",
      "12/12 [==============================] - 0s 13ms/step - loss: 0.4693 - accuracy: 0.7943 - val_loss: 0.3038 - val_accuracy: 0.8646\n",
      "Epoch 19/100\n",
      "12/12 [==============================] - 0s 13ms/step - loss: 0.4695 - accuracy: 0.8099 - val_loss: 0.2893 - val_accuracy: 0.8958\n",
      "Epoch 20/100\n",
      "12/12 [==============================] - 0s 13ms/step - loss: 0.3942 - accuracy: 0.8151 - val_loss: 0.2646 - val_accuracy: 0.9271\n",
      "Epoch 21/100\n",
      "12/12 [==============================] - 0s 13ms/step - loss: 0.4237 - accuracy: 0.8125 - val_loss: 0.4110 - val_accuracy: 0.8021\n",
      "Epoch 22/100\n",
      "12/12 [==============================] - 0s 12ms/step - loss: 0.4211 - accuracy: 0.8151 - val_loss: 0.2479 - val_accuracy: 0.9062\n",
      "Epoch 23/100\n",
      "12/12 [==============================] - 0s 12ms/step - loss: 0.4275 - accuracy: 0.8203 - val_loss: 0.2964 - val_accuracy: 0.8542\n",
      "Epoch 24/100\n",
      "12/12 [==============================] - 0s 13ms/step - loss: 0.3883 - accuracy: 0.8281 - val_loss: 0.3735 - val_accuracy: 0.8333\n",
      "Epoch 25/100\n",
      "12/12 [==============================] - 0s 13ms/step - loss: 0.4116 - accuracy: 0.8229 - val_loss: 0.2463 - val_accuracy: 0.8750\n",
      "Epoch 26/100\n",
      "12/12 [==============================] - 0s 13ms/step - loss: 0.3385 - accuracy: 0.8672 - val_loss: 0.2097 - val_accuracy: 0.9062\n",
      "Epoch 27/100\n",
      "12/12 [==============================] - 0s 13ms/step - loss: 0.3856 - accuracy: 0.8281 - val_loss: 0.2071 - val_accuracy: 0.8958\n",
      "Epoch 28/100\n",
      "12/12 [==============================] - 0s 13ms/step - loss: 0.2953 - accuracy: 0.8802 - val_loss: 0.2162 - val_accuracy: 0.8854\n",
      "Epoch 29/100\n",
      "12/12 [==============================] - 0s 13ms/step - loss: 0.3423 - accuracy: 0.8620 - val_loss: 0.2030 - val_accuracy: 0.8958\n",
      "Epoch 30/100\n",
      "12/12 [==============================] - 0s 13ms/step - loss: 0.2899 - accuracy: 0.8906 - val_loss: 0.2071 - val_accuracy: 0.9167\n",
      "Epoch 31/100\n",
      "12/12 [==============================] - 0s 13ms/step - loss: 0.2842 - accuracy: 0.8880 - val_loss: 0.2359 - val_accuracy: 0.8750\n",
      "Epoch 32/100\n",
      "12/12 [==============================] - 0s 12ms/step - loss: 0.3537 - accuracy: 0.8307 - val_loss: 0.1687 - val_accuracy: 0.9583\n",
      "Epoch 33/100\n",
      "12/12 [==============================] - 0s 12ms/step - loss: 0.3524 - accuracy: 0.8464 - val_loss: 0.2018 - val_accuracy: 0.9271\n",
      "Epoch 34/100\n",
      "12/12 [==============================] - 0s 12ms/step - loss: 0.3125 - accuracy: 0.8646 - val_loss: 0.1845 - val_accuracy: 0.8958\n",
      "Epoch 35/100\n",
      "12/12 [==============================] - 0s 13ms/step - loss: 0.3195 - accuracy: 0.8490 - val_loss: 0.1736 - val_accuracy: 0.9375\n",
      "Epoch 36/100\n",
      "12/12 [==============================] - 0s 12ms/step - loss: 0.3625 - accuracy: 0.8490 - val_loss: 0.1693 - val_accuracy: 0.9583\n",
      "Epoch 37/100\n",
      "12/12 [==============================] - 0s 13ms/step - loss: 0.3492 - accuracy: 0.8255 - val_loss: 0.2287 - val_accuracy: 0.9167\n",
      "Epoch 38/100\n",
      "12/12 [==============================] - 0s 12ms/step - loss: 0.2815 - accuracy: 0.8828 - val_loss: 0.2508 - val_accuracy: 0.8750\n",
      "Epoch 39/100\n",
      "12/12 [==============================] - 0s 13ms/step - loss: 0.2947 - accuracy: 0.8802 - val_loss: 0.1619 - val_accuracy: 0.9375\n",
      "Epoch 40/100\n",
      "12/12 [==============================] - 0s 13ms/step - loss: 0.2892 - accuracy: 0.8776 - val_loss: 0.1715 - val_accuracy: 0.9375\n",
      "Epoch 41/100\n",
      "12/12 [==============================] - 0s 13ms/step - loss: 0.2596 - accuracy: 0.8984 - val_loss: 0.1645 - val_accuracy: 0.9375\n",
      "Epoch 42/100\n",
      "12/12 [==============================] - 0s 13ms/step - loss: 0.2793 - accuracy: 0.8802 - val_loss: 0.1495 - val_accuracy: 0.9375\n",
      "Epoch 43/100\n",
      "12/12 [==============================] - 0s 13ms/step - loss: 0.2743 - accuracy: 0.8750 - val_loss: 0.1620 - val_accuracy: 0.9271\n",
      "Epoch 44/100\n",
      "12/12 [==============================] - 0s 13ms/step - loss: 0.2547 - accuracy: 0.8984 - val_loss: 0.1496 - val_accuracy: 0.9271\n",
      "Epoch 45/100\n",
      "12/12 [==============================] - 0s 13ms/step - loss: 0.2863 - accuracy: 0.8724 - val_loss: 0.1413 - val_accuracy: 0.9375\n",
      "Epoch 46/100\n",
      "12/12 [==============================] - 0s 13ms/step - loss: 0.2840 - accuracy: 0.8828 - val_loss: 0.1720 - val_accuracy: 0.9167\n",
      "Epoch 47/100\n",
      "12/12 [==============================] - 0s 13ms/step - loss: 0.2580 - accuracy: 0.8958 - val_loss: 0.1404 - val_accuracy: 0.9375\n",
      "Epoch 48/100\n",
      "12/12 [==============================] - 0s 13ms/step - loss: 0.2527 - accuracy: 0.9036 - val_loss: 0.1306 - val_accuracy: 0.9688\n",
      "Epoch 49/100\n",
      "12/12 [==============================] - 0s 13ms/step - loss: 0.2678 - accuracy: 0.8880 - val_loss: 0.1706 - val_accuracy: 0.9271\n",
      "Epoch 50/100\n",
      "12/12 [==============================] - 0s 14ms/step - loss: 0.2386 - accuracy: 0.9036 - val_loss: 0.1730 - val_accuracy: 0.8958\n",
      "Epoch 51/100\n",
      "12/12 [==============================] - 0s 13ms/step - loss: 0.2639 - accuracy: 0.8854 - val_loss: 0.1375 - val_accuracy: 0.9583\n",
      "Epoch 52/100\n",
      "12/12 [==============================] - 0s 13ms/step - loss: 0.2506 - accuracy: 0.8802 - val_loss: 0.1381 - val_accuracy: 0.9375\n",
      "Epoch 53/100\n",
      "12/12 [==============================] - 0s 13ms/step - loss: 0.2309 - accuracy: 0.9089 - val_loss: 0.1455 - val_accuracy: 0.9479\n",
      "Epoch 54/100\n",
      "12/12 [==============================] - 0s 13ms/step - loss: 0.2480 - accuracy: 0.8984 - val_loss: 0.1255 - val_accuracy: 0.9688\n",
      "Epoch 55/100\n",
      "12/12 [==============================] - 0s 13ms/step - loss: 0.2287 - accuracy: 0.9141 - val_loss: 0.1857 - val_accuracy: 0.9271\n",
      "Epoch 56/100\n",
      "12/12 [==============================] - 0s 13ms/step - loss: 0.2041 - accuracy: 0.9245 - val_loss: 0.1591 - val_accuracy: 0.9167\n",
      "Epoch 57/100\n",
      "12/12 [==============================] - 0s 13ms/step - loss: 0.2350 - accuracy: 0.8984 - val_loss: 0.1236 - val_accuracy: 0.9688\n",
      "Epoch 58/100\n"
     ]
    },
    {
     "name": "stdout",
     "output_type": "stream",
     "text": [
      "12/12 [==============================] - 0s 13ms/step - loss: 0.2455 - accuracy: 0.8854 - val_loss: 0.1181 - val_accuracy: 0.9688\n",
      "Epoch 59/100\n",
      "12/12 [==============================] - 0s 12ms/step - loss: 0.2924 - accuracy: 0.8880 - val_loss: 0.1994 - val_accuracy: 0.8958\n",
      "Epoch 60/100\n",
      "12/12 [==============================] - 0s 13ms/step - loss: 0.2054 - accuracy: 0.9141 - val_loss: 0.1151 - val_accuracy: 0.9688\n",
      "Epoch 61/100\n",
      "12/12 [==============================] - 0s 12ms/step - loss: 0.2089 - accuracy: 0.9141 - val_loss: 0.1496 - val_accuracy: 0.9271\n",
      "Epoch 62/100\n",
      "12/12 [==============================] - 0s 13ms/step - loss: 0.2135 - accuracy: 0.9010 - val_loss: 0.1590 - val_accuracy: 0.9167\n",
      "Epoch 63/100\n",
      "12/12 [==============================] - 0s 13ms/step - loss: 0.2234 - accuracy: 0.9193 - val_loss: 0.1373 - val_accuracy: 0.9167\n",
      "Epoch 64/100\n",
      "12/12 [==============================] - 0s 14ms/step - loss: 0.1778 - accuracy: 0.9297 - val_loss: 0.1310 - val_accuracy: 0.9479\n",
      "Epoch 65/100\n",
      "12/12 [==============================] - 0s 13ms/step - loss: 0.2282 - accuracy: 0.8984 - val_loss: 0.0965 - val_accuracy: 0.9583\n",
      "Epoch 66/100\n",
      "12/12 [==============================] - 0s 13ms/step - loss: 0.2159 - accuracy: 0.9219 - val_loss: 0.0852 - val_accuracy: 0.9792\n",
      "Epoch 67/100\n",
      "12/12 [==============================] - 0s 12ms/step - loss: 0.2179 - accuracy: 0.9271 - val_loss: 0.1036 - val_accuracy: 0.9583\n",
      "Epoch 68/100\n",
      "12/12 [==============================] - 0s 13ms/step - loss: 0.1566 - accuracy: 0.9505 - val_loss: 0.0758 - val_accuracy: 0.9896\n",
      "Epoch 69/100\n",
      "12/12 [==============================] - 0s 13ms/step - loss: 0.2248 - accuracy: 0.8984 - val_loss: 0.1129 - val_accuracy: 0.9375\n",
      "Epoch 70/100\n",
      "12/12 [==============================] - 0s 12ms/step - loss: 0.1801 - accuracy: 0.9245 - val_loss: 0.1145 - val_accuracy: 0.9479\n",
      "Epoch 71/100\n",
      "12/12 [==============================] - 0s 13ms/step - loss: 0.2297 - accuracy: 0.9141 - val_loss: 0.1144 - val_accuracy: 0.9688\n",
      "Epoch 72/100\n",
      "12/12 [==============================] - 0s 12ms/step - loss: 0.1387 - accuracy: 0.9531 - val_loss: 0.0677 - val_accuracy: 0.9792\n",
      "Epoch 73/100\n",
      "12/12 [==============================] - 0s 13ms/step - loss: 0.1814 - accuracy: 0.9297 - val_loss: 0.1061 - val_accuracy: 0.9479\n",
      "Epoch 74/100\n",
      "12/12 [==============================] - 0s 12ms/step - loss: 0.2091 - accuracy: 0.9141 - val_loss: 0.0799 - val_accuracy: 0.9688\n",
      "Epoch 75/100\n",
      "12/12 [==============================] - 0s 13ms/step - loss: 0.1808 - accuracy: 0.9375 - val_loss: 0.0738 - val_accuracy: 0.9792\n",
      "Epoch 76/100\n",
      "12/12 [==============================] - 0s 12ms/step - loss: 0.1820 - accuracy: 0.9323 - val_loss: 0.0839 - val_accuracy: 0.9792\n",
      "Epoch 77/100\n",
      "12/12 [==============================] - 0s 13ms/step - loss: 0.1687 - accuracy: 0.9271 - val_loss: 0.0673 - val_accuracy: 0.9896\n",
      "Epoch 78/100\n",
      "12/12 [==============================] - 0s 13ms/step - loss: 0.1865 - accuracy: 0.9219 - val_loss: 0.0871 - val_accuracy: 0.9583\n",
      "Epoch 79/100\n",
      "12/12 [==============================] - 0s 13ms/step - loss: 0.1881 - accuracy: 0.9245 - val_loss: 0.0637 - val_accuracy: 0.9896\n",
      "Epoch 80/100\n",
      "12/12 [==============================] - 0s 13ms/step - loss: 0.1571 - accuracy: 0.9297 - val_loss: 0.1493 - val_accuracy: 0.9167\n",
      "Epoch 81/100\n",
      "12/12 [==============================] - 0s 13ms/step - loss: 0.1417 - accuracy: 0.9505 - val_loss: 0.0694 - val_accuracy: 1.0000\n",
      "Epoch 82/100\n",
      "12/12 [==============================] - 0s 13ms/step - loss: 0.2035 - accuracy: 0.9219 - val_loss: 0.0788 - val_accuracy: 0.9688\n",
      "Epoch 83/100\n",
      "12/12 [==============================] - 0s 12ms/step - loss: 0.1338 - accuracy: 0.9505 - val_loss: 0.0953 - val_accuracy: 0.9375\n",
      "Epoch 84/100\n",
      "12/12 [==============================] - 0s 13ms/step - loss: 0.1645 - accuracy: 0.9271 - val_loss: 0.0719 - val_accuracy: 0.9688\n",
      "Epoch 85/100\n",
      "12/12 [==============================] - 0s 13ms/step - loss: 0.1778 - accuracy: 0.9401 - val_loss: 0.1117 - val_accuracy: 0.9375\n",
      "Epoch 86/100\n",
      "12/12 [==============================] - 0s 13ms/step - loss: 0.1530 - accuracy: 0.9401 - val_loss: 0.0775 - val_accuracy: 0.9792\n",
      "Epoch 87/100\n",
      "12/12 [==============================] - 0s 13ms/step - loss: 0.1377 - accuracy: 0.9479 - val_loss: 0.0515 - val_accuracy: 1.0000\n",
      "Epoch 88/100\n",
      "12/12 [==============================] - 0s 13ms/step - loss: 0.1440 - accuracy: 0.9479 - val_loss: 0.0737 - val_accuracy: 0.9792\n",
      "Epoch 89/100\n",
      "12/12 [==============================] - 0s 13ms/step - loss: 0.1800 - accuracy: 0.9245 - val_loss: 0.0883 - val_accuracy: 0.9792\n",
      "Epoch 90/100\n",
      "12/12 [==============================] - 0s 13ms/step - loss: 0.1762 - accuracy: 0.9245 - val_loss: 0.0918 - val_accuracy: 0.9479\n",
      "Epoch 91/100\n",
      "12/12 [==============================] - 0s 13ms/step - loss: 0.1509 - accuracy: 0.9427 - val_loss: 0.0566 - val_accuracy: 0.9896\n",
      "Epoch 92/100\n",
      "12/12 [==============================] - 0s 12ms/step - loss: 0.1570 - accuracy: 0.9323 - val_loss: 0.0630 - val_accuracy: 0.9896\n",
      "Epoch 93/100\n",
      "12/12 [==============================] - 0s 13ms/step - loss: 0.2186 - accuracy: 0.9271 - val_loss: 0.0593 - val_accuracy: 0.9896\n",
      "Epoch 94/100\n",
      "12/12 [==============================] - 0s 12ms/step - loss: 0.2120 - accuracy: 0.9036 - val_loss: 0.0755 - val_accuracy: 1.0000\n",
      "Epoch 95/100\n",
      "12/12 [==============================] - 0s 13ms/step - loss: 0.2058 - accuracy: 0.9245 - val_loss: 0.1033 - val_accuracy: 0.9896\n",
      "Epoch 96/100\n",
      "12/12 [==============================] - 0s 13ms/step - loss: 0.1684 - accuracy: 0.9349 - val_loss: 0.1076 - val_accuracy: 0.9479\n",
      "Epoch 97/100\n",
      "12/12 [==============================] - 0s 13ms/step - loss: 0.1409 - accuracy: 0.9427 - val_loss: 0.0831 - val_accuracy: 0.9583\n",
      "Epoch 98/100\n",
      "12/12 [==============================] - 0s 13ms/step - loss: 0.1940 - accuracy: 0.9297 - val_loss: 0.0505 - val_accuracy: 1.0000\n",
      "Epoch 99/100\n",
      "12/12 [==============================] - 0s 12ms/step - loss: 0.1315 - accuracy: 0.9349 - val_loss: 0.0504 - val_accuracy: 1.0000\n",
      "Epoch 100/100\n",
      "12/12 [==============================] - 0s 12ms/step - loss: 0.1530 - accuracy: 0.9297 - val_loss: 0.0563 - val_accuracy: 1.0000\n"
     ]
    }
   ],
   "source": [
    "# data generator Generate batches of tensor image data with real-time data augmentation\n",
    "data_generator = ImageDataGenerator(\n",
    "                        featurewise_center=False,\n",
    "                        featurewise_std_normalization=False,\n",
    "                        rotation_range=10,\n",
    "                        width_shift_range=0.1,\n",
    "                        height_shift_range=0.1,\n",
    "                        zoom_range=.1,\n",
    "                        horizontal_flip=True)\n",
    "batch_size = 32\n",
    "opt = RMSprop(lr=0.0005, decay=1e-6)\n",
    "\n",
    "model_1.compile(optimizer='adam', loss='categorical_crossentropy',\n",
    "              metrics=['accuracy'])\n",
    "\n",
    "hist_model_1 = model_1.fit_generator(data_generator.flow(train_x, train_y,\n",
    "                                            batch_size),\n",
    "                        epochs=100, verbose=1,validation_data =val_data)"
   ]
  },
  {
   "cell_type": "markdown",
   "metadata": {},
   "source": [
    "Plot"
   ]
  },
  {
   "cell_type": "code",
   "execution_count": 148,
   "metadata": {
    "pycharm": {
     "name": "#%%\n"
    }
   },
   "outputs": [
    {
     "name": "stdout",
     "output_type": "stream",
     "text": [
      "3/3 [==============================] - 0s 2ms/step - loss: 0.0563 - accuracy: 1.0000\n"
     ]
    },
    {
     "data": {
      "image/png": "[encoded data removed]",
      "text/plain": [
       "<Figure size 432x288 with 1 Axes>"
      ]
     },
     "metadata": {
      "needs_background": "light"
     },
     "output_type": "display_data"
    }
   ],
   "source": [
    "import matplotlib.pyplot as plt\n",
    "%matplotlib inline\n",
    "score = model_1.evaluate(val_x, val_y, verbose=1)\n",
    "history_dict=hist_model_1.history\n",
    "history_dict.keys()\n",
    "\n",
    "train_loss_values = history_dict['loss']\n",
    "val_loss_values = history_dict['val_loss']\n",
    "\n",
    "epochs = range(1, len(history_dict['accuracy']) + 1)\n",
    "\n",
    "plt.plot(epochs, train_loss_values, 'bo', label='Training loss')\n",
    "plt.plot(epochs, val_loss_values, 'b', label='Validation loss')\n",
    "plt.title('Training and validation loss')\n",
    "plt.xlabel('Epochs')\n",
    "plt.ylabel('Loss')\n",
    "plt.legend()\n",
    "plt.show()"
   ]
  },
  {
   "cell_type": "markdown",
   "metadata": {},
   "source": [
    "evaluate model:"
   ]
  },
  {
   "cell_type": "code",
   "execution_count": null,
   "metadata": {
    "pycharm": {
     "name": "#%%\n"
    }
   },
   "outputs": [],
   "source": []
  },
  {
   "cell_type": "code",
   "execution_count": null,
   "metadata": {},
   "outputs": [],
   "source": []
  }
 ],
 "metadata": {
  "kernelspec": {
   "display_name": "Python 3",
   "language": "python",
   "name": "python3"
  },
  "language_info": {
   "codemirror_mode": {
    "name": "ipython",
    "version": 3
   },
   "file_extension": ".py",
   "mimetype": "text/x-python",
   "name": "python",
   "nbconvert_exporter": "python",
   "pygments_lexer": "ipython3",
   "version": "3.8.8"
  }
 },
 "nbformat": 4,
 "nbformat_minor": 1
}