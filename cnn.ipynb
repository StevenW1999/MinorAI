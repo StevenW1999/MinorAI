{
 "cells": [
  {
   "cell_type": "markdown",
   "metadata": {
    "collapsed": true,
    "pycharm": {
     "name": "#%% md\n"
    }
   },
   "source": [
    "import the modules and get dataset"
   ]
  },
  {
   "cell_type": "code",
   "execution_count": 1,
   "metadata": {
    "pycharm": {
     "name": "#%%\n"
    }
   },
   "outputs": [],
   "source": [
    "import pandas as pd\n",
    "import numpy as np\n",
    "import warnings\n",
    "import cv2\n",
    "import data\n",
    "from PIL import Image\n",
    "import dlib\n",
    "import data_process\n",
    "from sklearn.model_selection import train_test_split\n",
    "warnings.filterwarnings(\"ignore\")\n"
   ]
  },
  {
   "cell_type": "code",
   "execution_count": 2,
   "metadata": {
    "pycharm": {
     "name": "#%%\n"
    }
   },
   "outputs": [],
   "source": [
    "x,y, a = data_process.process_data('dataset.csv', \"CNN\")\n",
    "\n",
    "X_train, X_test, y_train, y_test = train_test_split(x, y, test_size=0.33, random_state=42)\n",
    "val_data = (X_test,y_test)"
   ]
  },
  {
   "cell_type": "markdown",
   "metadata": {},
   "source": [
    "import keras for the model training and layers"
   ]
  },
  {
   "cell_type": "code",
   "execution_count": 3,
   "metadata": {
    "pycharm": {
     "name": "#%%\n"
    }
   },
   "outputs": [],
   "source": [
    "from keras.layers import Activation, Convolution2D, Dropout, Conv2D\n",
    "from keras.layers import AveragePooling2D, BatchNormalization\n",
    "from keras.layers import GlobalAveragePooling2D\n",
    "from keras.models import Sequential\n",
    "from keras.layers import Flatten, Dense\n",
    "from keras.models import Model\n",
    "from keras.layers import Input\n",
    "from keras.layers import MaxPooling2D\n",
    "from keras.layers import SeparableConv2D\n",
    "from keras import layers\n",
    "from keras.regularizers import l2\n",
    "from tensorflow.keras.optimizers import RMSprop"
   ]
  },
  {
   "cell_type": "markdown",
   "metadata": {},
   "source": [
    "create the model with it's layers:"
   ]
  },
  {
   "cell_type": "code",
   "execution_count": 4,
   "metadata": {
    "pycharm": {
     "name": "#%%\n"
    }
   },
   "outputs": [
    {
     "name": "stdout",
     "output_type": "stream",
     "text": [
      "Model: \"sequential\"\n",
      "_________________________________________________________________\n",
      "Layer (type)                 Output Shape              Param #   \n",
      "=================================================================\n",
      "conv2d (Conv2D)              (None, 24, 24, 32)        832       \n",
      "_________________________________________________________________\n",
      "activation (Activation)      (None, 24, 24, 32)        0         \n",
      "_________________________________________________________________\n",
      "conv2d_1 (Conv2D)            (None, 10, 10, 32)        25632     \n",
      "_________________________________________________________________\n",
      "activation_1 (Activation)    (None, 10, 10, 32)        0         \n",
      "_________________________________________________________________\n",
      "max_pooling2d (MaxPooling2D) (None, 5, 5, 32)          0         \n",
      "_________________________________________________________________\n",
      "dropout (Dropout)            (None, 5, 5, 32)          0         \n",
      "_________________________________________________________________\n",
      "flatten (Flatten)            (None, 800)               0         \n",
      "_________________________________________________________________\n",
      "dense (Dense)                (None, 512)               410112    \n",
      "_________________________________________________________________\n",
      "activation_2 (Activation)    (None, 512)               0         \n",
      "_________________________________________________________________\n",
      "dropout_1 (Dropout)          (None, 512)               0         \n",
      "_________________________________________________________________\n",
      "dense_1 (Dense)              (None, 4)                 2052      \n",
      "_________________________________________________________________\n",
      "activation_3 (Activation)    (None, 4)                 0         \n",
      "=================================================================\n",
      "Total params: 438,628\n",
      "Trainable params: 438,628\n",
      "Non-trainable params: 0\n",
      "_________________________________________________________________\n"
     ]
    }
   ],
   "source": [
    "input_shape=(48, 48, 1)\n",
    "num_classes = 4\n",
    "\n",
    "model_1 = Sequential()\n",
    "\n",
    "## 5x5 convolution with 2x2 stride and 32 filters\n",
    "model_1.add(Conv2D(32, (5, 5), strides = (2,2), padding='same', input_shape=input_shape))\n",
    "model_1.add(Activation('relu'))\n",
    "\n",
    "## Another 5x5 convolution with 2x2 stride and 32 filters\n",
    "model_1.add(Conv2D(32, (5, 5), strides = (2,2)))\n",
    "model_1.add(Activation('relu'))\n",
    "\n",
    "## 2x2 max pooling reduces to 3 x 3 x 32\n",
    "model_1.add(MaxPooling2D(pool_size=(2, 2)))\n",
    "model_1.add(Dropout(0.25))\n",
    "\n",
    "## Flatten turns 3x3x32 into 288x1\n",
    "model_1.add(Flatten())\n",
    "model_1.add(Dense(512))\n",
    "model_1.add(Activation('relu'))\n",
    "model_1.add(Dropout(0.5))\n",
    "model_1.add(Dense(num_classes))\n",
    "model_1.add(Activation('softmax'))\n",
    "\n",
    "model_1.summary()"
   ]
  },
  {
   "cell_type": "markdown",
   "metadata": {},
   "source": [
    "import data generator"
   ]
  },
  {
   "cell_type": "code",
   "execution_count": 5,
   "metadata": {
    "pycharm": {
     "name": "#%%\n"
    }
   },
   "outputs": [],
   "source": [
    "from keras.preprocessing.image import ImageDataGenerator\n"
   ]
  },
  {
   "cell_type": "markdown",
   "metadata": {},
   "source": [
    "compile the model:"
   ]
  },
  {
   "cell_type": "code",
   "execution_count": 6,
   "metadata": {
    "pycharm": {
     "name": "#%%\n"
    }
   },
   "outputs": [
    {
     "name": "stdout",
     "output_type": "stream",
     "text": [
      "WARNING:tensorflow:From <ipython-input-6-a3d5b1cd433b>:16: Model.fit_generator (from tensorflow.python.keras.engine.training) is deprecated and will be removed in a future version.\n",
      "Instructions for updating:\n",
      "Please use Model.fit, which supports generators.\n",
      "Epoch 1/20\n",
      "11/11 [==============================] - 0s 24ms/step - loss: 1.3113 - accuracy: 0.3863 - val_loss: 1.2152 - val_accuracy: 0.4591\n",
      "Epoch 2/20\n",
      "11/11 [==============================] - 0s 13ms/step - loss: 1.2307 - accuracy: 0.4486 - val_loss: 1.1592 - val_accuracy: 0.5157\n",
      "Epoch 3/20\n",
      "11/11 [==============================] - 0s 12ms/step - loss: 1.1811 - accuracy: 0.4953 - val_loss: 1.0818 - val_accuracy: 0.5157\n",
      "Epoch 4/20\n",
      "11/11 [==============================] - 0s 13ms/step - loss: 1.1120 - accuracy: 0.5140 - val_loss: 0.9774 - val_accuracy: 0.6604\n",
      "Epoch 5/20\n",
      "11/11 [==============================] - 0s 13ms/step - loss: 1.0194 - accuracy: 0.5670 - val_loss: 0.8195 - val_accuracy: 0.6289\n",
      "Epoch 6/20\n",
      "11/11 [==============================] - 0s 12ms/step - loss: 0.8800 - accuracy: 0.6417 - val_loss: 0.7147 - val_accuracy: 0.7233\n",
      "Epoch 7/20\n",
      "11/11 [==============================] - 0s 13ms/step - loss: 0.8836 - accuracy: 0.6293 - val_loss: 0.6247 - val_accuracy: 0.7547\n",
      "Epoch 8/20\n",
      "11/11 [==============================] - 0s 13ms/step - loss: 0.8538 - accuracy: 0.6542 - val_loss: 0.6037 - val_accuracy: 0.7547\n",
      "Epoch 9/20\n",
      "11/11 [==============================] - 0s 13ms/step - loss: 0.7740 - accuracy: 0.6822 - val_loss: 0.6295 - val_accuracy: 0.7233\n",
      "Epoch 10/20\n",
      "11/11 [==============================] - 0s 12ms/step - loss: 0.7478 - accuracy: 0.7009 - val_loss: 0.5500 - val_accuracy: 0.7799\n",
      "Epoch 11/20\n",
      "11/11 [==============================] - 0s 13ms/step - loss: 0.6708 - accuracy: 0.7570 - val_loss: 0.5063 - val_accuracy: 0.7799\n",
      "Epoch 12/20\n",
      "11/11 [==============================] - 0s 12ms/step - loss: 0.6645 - accuracy: 0.7103 - val_loss: 0.5445 - val_accuracy: 0.7358\n",
      "Epoch 13/20\n",
      "11/11 [==============================] - 0s 12ms/step - loss: 0.6483 - accuracy: 0.7103 - val_loss: 0.5184 - val_accuracy: 0.7421\n",
      "Epoch 14/20\n",
      "11/11 [==============================] - 0s 13ms/step - loss: 0.5947 - accuracy: 0.7352 - val_loss: 0.4186 - val_accuracy: 0.8050\n",
      "Epoch 15/20\n",
      "11/11 [==============================] - 0s 14ms/step - loss: 0.5998 - accuracy: 0.7321 - val_loss: 0.4108 - val_accuracy: 0.8491\n",
      "Epoch 16/20\n",
      "11/11 [==============================] - 0s 13ms/step - loss: 0.6650 - accuracy: 0.7072 - val_loss: 0.5980 - val_accuracy: 0.7296\n",
      "Epoch 17/20\n",
      "11/11 [==============================] - 0s 14ms/step - loss: 0.6570 - accuracy: 0.7103 - val_loss: 0.4442 - val_accuracy: 0.7987\n",
      "Epoch 18/20\n",
      "11/11 [==============================] - 0s 13ms/step - loss: 0.5643 - accuracy: 0.7726 - val_loss: 0.4182 - val_accuracy: 0.8239\n",
      "Epoch 19/20\n",
      "11/11 [==============================] - 0s 13ms/step - loss: 0.5732 - accuracy: 0.7664 - val_loss: 0.3771 - val_accuracy: 0.8616\n",
      "Epoch 20/20\n",
      "11/11 [==============================] - 0s 13ms/step - loss: 0.5439 - accuracy: 0.7757 - val_loss: 0.3848 - val_accuracy: 0.8176\n"
     ]
    }
   ],
   "source": [
    "# data generator Generate batches of tensor image data with real-time data augmentation\n",
    "data_generator = ImageDataGenerator(\n",
    "                        featurewise_center=False,\n",
    "                        featurewise_std_normalization=False,\n",
    "                        rotation_range=10,\n",
    "                        width_shift_range=0.1,\n",
    "                        height_shift_range=0.1,\n",
    "                        zoom_range=.1,\n",
    "                        horizontal_flip=True)\n",
    "batch_size = 32\n",
    "opt = RMSprop(lr=0.0005, decay=1e-6)\n",
    "\n",
    "model_1.compile(optimizer='adam', loss='categorical_crossentropy',\n",
    "              metrics=['accuracy'])\n",
    "\n",
    "hist_model_1 = model_1.fit_generator(data_generator.flow(X_train, y_train,\n",
    "                                            batch_size),\n",
    "                        epochs=20, verbose=1,validation_data =val_data)"
   ]
  },
  {
   "cell_type": "markdown",
   "metadata": {},
   "source": [
    "Plot"
   ]
  },
  {
   "cell_type": "code",
   "execution_count": 7,
   "metadata": {
    "pycharm": {
     "name": "#%%\n"
    }
   },
   "outputs": [
    {
     "name": "stdout",
     "output_type": "stream",
     "text": [
      "5/5 [==============================] - 0s 3ms/step - loss: 0.3848 - accuracy: 0.8176\n"
     ]
    },
    {
     "data": {
      "image/png": "[encoded data removed]",
      "text/plain": [
       "<Figure size 432x288 with 1 Axes>"
      ]
     },
     "metadata": {
      "needs_background": "light"
     },
     "output_type": "display_data"
    }
   ],
   "source": [
    "import matplotlib.pyplot as plt\n",
    "%matplotlib inline\n",
    "score = model_1.evaluate(X_test, y_test, verbose=1)\n",
    "history_dict=hist_model_1.history\n",
    "history_dict.keys()\n",
    "\n",
    "train_loss_values = history_dict['loss']\n",
    "val_loss_values = history_dict['val_loss']\n",
    "\n",
    "epochs = range(1, len(history_dict['accuracy']) + 1)\n",
    "\n",
    "plt.plot(epochs, train_loss_values, 'bo', label='Training loss')\n",
    "plt.plot(epochs, val_loss_values, 'b', label='Validation loss')\n",
    "plt.title('Training and validation loss')\n",
    "plt.xlabel('Epochs')\n",
    "plt.ylabel('Loss')\n",
    "plt.legend()\n",
    "plt.show()"
   ]
  },
  {
   "cell_type": "markdown",
   "metadata": {},
   "source": [
    "do the same with dataset2.csv"
   ]
  },
  {
   "cell_type": "code",
   "execution_count": 8,
   "metadata": {
    "pycharm": {
     "name": "#%%\n"
    }
   },
   "outputs": [],
   "source": [
    "x2, y2, a2= data_process.process_data('dataset2.csv', \"CNN\")\n",
    "X_train2, X_test2, y_train2, y_test2 = train_test_split(x2, y2, test_size=0.33, random_state=42)\n",
    "val_data2 = (X_test2,y_test2)\n"
   ]
  },
  {
   "cell_type": "markdown",
   "metadata": {
    "pycharm": {
     "name": "#%% md\n"
    }
   },
   "source": [
    "model:"
   ]
  },
  {
   "cell_type": "code",
   "execution_count": 9,
   "metadata": {
    "pycharm": {
     "name": "#%%\n"
    }
   },
   "outputs": [
    {
     "name": "stdout",
     "output_type": "stream",
     "text": [
      "Model: \"sequential_1\"\n",
      "_________________________________________________________________\n",
      "Layer (type)                 Output Shape              Param #   \n",
      "=================================================================\n",
      "conv2d_2 (Conv2D)            (None, 24, 24, 32)        832       \n",
      "_________________________________________________________________\n",
      "activation_4 (Activation)    (None, 24, 24, 32)        0         \n",
      "_________________________________________________________________\n",
      "conv2d_3 (Conv2D)            (None, 10, 10, 32)        25632     \n",
      "_________________________________________________________________\n",
      "activation_5 (Activation)    (None, 10, 10, 32)        0         \n",
      "_________________________________________________________________\n",
      "max_pooling2d_1 (MaxPooling2 (None, 5, 5, 32)          0         \n",
      "_________________________________________________________________\n",
      "dropout_2 (Dropout)          (None, 5, 5, 32)          0         \n",
      "_________________________________________________________________\n",
      "flatten_1 (Flatten)          (None, 800)               0         \n",
      "_________________________________________________________________\n",
      "dense_2 (Dense)              (None, 512)               410112    \n",
      "_________________________________________________________________\n",
      "activation_6 (Activation)    (None, 512)               0         \n",
      "_________________________________________________________________\n",
      "dropout_3 (Dropout)          (None, 512)               0         \n",
      "_________________________________________________________________\n",
      "dense_3 (Dense)              (None, 4)                 2052      \n",
      "_________________________________________________________________\n",
      "activation_7 (Activation)    (None, 4)                 0         \n",
      "=================================================================\n",
      "Total params: 438,628\n",
      "Trainable params: 438,628\n",
      "Non-trainable params: 0\n",
      "_________________________________________________________________\n"
     ]
    }
   ],
   "source": [
    "input_shape=(48, 48, 1)\n",
    "num_classes = 4\n",
    "\n",
    "model_2 = Sequential()\n",
    "\n",
    "## 5x5 convolution with 2x2 stride and 32 filters\n",
    "model_2.add(Conv2D(32, (5, 5), strides = (2,2), padding='same', input_shape=input_shape))\n",
    "model_2.add(Activation('relu'))\n",
    "\n",
    "## Another 5x5 convolution with 2x2 stride and 32 filters\n",
    "model_2.add(Conv2D(32, (5, 5), strides = (2,2)))\n",
    "model_2.add(Activation('relu'))\n",
    "\n",
    "## 2x2 max pooling reduces to 3 x 3 x 32\n",
    "model_2.add(MaxPooling2D(pool_size=(2, 2)))\n",
    "model_2.add(Dropout(0.25))\n",
    "\n",
    "## Flatten turns 3x3x32 into 288x1\n",
    "model_2.add(Flatten())\n",
    "model_2.add(Dense(512))\n",
    "model_2.add(Activation('relu'))\n",
    "model_2.add(Dropout(0.5))\n",
    "model_2.add(Dense(num_classes))\n",
    "model_2.add(Activation('softmax'))\n",
    "\n",
    "model_2.summary()"
   ]
  },
  {
   "cell_type": "markdown",
   "metadata": {},
   "source": [
    "data generator"
   ]
  },
  {
   "cell_type": "code",
   "execution_count": 10,
   "metadata": {
    "pycharm": {
     "name": "#%%\n"
    }
   },
   "outputs": [
    {
     "name": "stdout",
     "output_type": "stream",
     "text": [
      "Epoch 1/20\n",
      "11/11 [==============================] - 0s 23ms/step - loss: 1.2821 - accuracy: 0.4174 - val_loss: 1.2484 - val_accuracy: 0.3333\n",
      "Epoch 2/20\n",
      "11/11 [==============================] - 0s 13ms/step - loss: 1.2290 - accuracy: 0.4174 - val_loss: 1.1690 - val_accuracy: 0.4403\n",
      "Epoch 3/20\n",
      "11/11 [==============================] - 0s 12ms/step - loss: 1.1989 - accuracy: 0.4455 - val_loss: 1.1093 - val_accuracy: 0.5597\n",
      "Epoch 4/20\n",
      "11/11 [==============================] - 0s 13ms/step - loss: 1.1717 - accuracy: 0.4891 - val_loss: 1.0347 - val_accuracy: 0.5975\n",
      "Epoch 5/20\n",
      "11/11 [==============================] - 0s 13ms/step - loss: 1.0830 - accuracy: 0.5171 - val_loss: 0.9137 - val_accuracy: 0.6101\n",
      "Epoch 6/20\n",
      "11/11 [==============================] - 0s 13ms/step - loss: 1.0067 - accuracy: 0.5483 - val_loss: 0.7752 - val_accuracy: 0.7044\n",
      "Epoch 7/20\n",
      "11/11 [==============================] - 0s 13ms/step - loss: 0.9215 - accuracy: 0.5950 - val_loss: 0.7313 - val_accuracy: 0.7421\n",
      "Epoch 8/20\n",
      "11/11 [==============================] - 0s 13ms/step - loss: 0.8507 - accuracy: 0.6542 - val_loss: 0.6696 - val_accuracy: 0.7484\n",
      "Epoch 9/20\n",
      "11/11 [==============================] - 0s 12ms/step - loss: 0.8111 - accuracy: 0.6386 - val_loss: 0.6062 - val_accuracy: 0.7736\n",
      "Epoch 10/20\n",
      "11/11 [==============================] - 0s 13ms/step - loss: 0.8067 - accuracy: 0.6636 - val_loss: 0.5660 - val_accuracy: 0.7484\n",
      "Epoch 11/20\n",
      "11/11 [==============================] - 0s 13ms/step - loss: 0.7752 - accuracy: 0.6604 - val_loss: 0.6075 - val_accuracy: 0.7358\n",
      "Epoch 12/20\n",
      "11/11 [==============================] - 0s 14ms/step - loss: 0.7345 - accuracy: 0.7009 - val_loss: 0.5385 - val_accuracy: 0.7736\n",
      "Epoch 13/20\n",
      "11/11 [==============================] - 0s 13ms/step - loss: 0.6977 - accuracy: 0.7009 - val_loss: 0.5066 - val_accuracy: 0.7925\n",
      "Epoch 14/20\n",
      "11/11 [==============================] - 0s 13ms/step - loss: 0.7016 - accuracy: 0.7103 - val_loss: 0.4594 - val_accuracy: 0.8113\n",
      "Epoch 15/20\n",
      "11/11 [==============================] - 0s 13ms/step - loss: 0.7072 - accuracy: 0.6760 - val_loss: 0.5916 - val_accuracy: 0.7421\n",
      "Epoch 16/20\n",
      "11/11 [==============================] - 0s 13ms/step - loss: 0.6511 - accuracy: 0.7227 - val_loss: 0.4830 - val_accuracy: 0.7987\n",
      "Epoch 17/20\n",
      "11/11 [==============================] - 0s 13ms/step - loss: 0.6103 - accuracy: 0.7570 - val_loss: 0.4601 - val_accuracy: 0.7987\n",
      "Epoch 18/20\n",
      "11/11 [==============================] - 0s 13ms/step - loss: 0.6037 - accuracy: 0.7508 - val_loss: 0.4260 - val_accuracy: 0.8302\n",
      "Epoch 19/20\n",
      "11/11 [==============================] - 0s 13ms/step - loss: 0.5951 - accuracy: 0.7570 - val_loss: 0.3908 - val_accuracy: 0.8616\n",
      "Epoch 20/20\n",
      "11/11 [==============================] - 0s 13ms/step - loss: 0.6121 - accuracy: 0.7445 - val_loss: 0.4295 - val_accuracy: 0.8365\n"
     ]
    }
   ],
   "source": [
    "data_generator2 = ImageDataGenerator(\n",
    "                        featurewise_center=False,\n",
    "                        featurewise_std_normalization=False,\n",
    "                        rotation_range=10,\n",
    "                        width_shift_range=0.1,\n",
    "                        height_shift_range=0.1,\n",
    "                        zoom_range=.1,\n",
    "                        horizontal_flip=True)\n",
    "batch_size = 32\n",
    "opt2 = RMSprop(lr=0.0005, decay=1e-6)\n",
    "\n",
    "model_2.compile(optimizer='adam', loss='categorical_crossentropy',\n",
    "              metrics=['accuracy'])\n",
    "\n",
    "hist_model_2 = model_2.fit_generator(data_generator2.flow(X_train2, y_train2,\n",
    "                                            batch_size),\n",
    "                        epochs=20, verbose=1,validation_data =val_data2)"
   ]
  },
  {
   "cell_type": "markdown",
   "metadata": {},
   "source": [
    "plot"
   ]
  },
  {
   "cell_type": "code",
   "execution_count": 11,
   "metadata": {
    "pycharm": {
     "name": "#%%\n"
    }
   },
   "outputs": [
    {
     "name": "stdout",
     "output_type": "stream",
     "text": [
      "5/5 [==============================] - 0s 2ms/step - loss: 0.4295 - accuracy: 0.8365\n"
     ]
    },
    {
     "data": {
      "image/png": "[encoded data removed]",
      "text/plain": [
       "<Figure size 432x288 with 1 Axes>"
      ]
     },
     "metadata": {
      "needs_background": "light"
     },
     "output_type": "display_data"
    }
   ],
   "source": [
    "score2 = model_2.evaluate(X_test2, y_test2, verbose=1)\n",
    "history_dict2=hist_model_2.history\n",
    "history_dict2.keys()\n",
    "\n",
    "train_loss_values2 = history_dict2['loss']\n",
    "val_loss_values2 = history_dict2['val_loss']\n",
    "\n",
    "epochs2 = range(1, len(history_dict2['accuracy']) + 1)\n",
    "\n",
    "plt.plot(epochs2, train_loss_values2, 'bo', label='Training loss')\n",
    "plt.plot(epochs2, val_loss_values2, 'b', label='Validation loss')\n",
    "plt.title('Training and validation loss')\n",
    "plt.xlabel('Epochs')\n",
    "plt.ylabel('Loss')\n",
    "plt.legend()\n",
    "plt.show()"
   ]
  },
  {
   "cell_type": "markdown",
   "metadata": {
    "pycharm": {
     "name": "#%% md\n"
    }
   },
   "source": [
    "compare classification metrics\n"
   ]
  },
  {
   "cell_type": "code",
   "execution_count": 12,
   "metadata": {
    "pycharm": {
     "name": "#%%\n"
    }
   },
   "outputs": [
    {
     "name": "stdout",
     "output_type": "stream",
     "text": [
      "WARNING:tensorflow:From <ipython-input-12-e8cedda58543>:8: Sequential.predict_classes (from tensorflow.python.keras.engine.sequential) is deprecated and will be removed after 2021-01-01.\n",
      "Instructions for updating:\n",
      "Please use instead:* `np.argmax(model.predict(x), axis=-1)`,   if your model does multi-class classification   (e.g. if it uses a `softmax` last-layer activation).* `(model.predict(x) > 0.5).astype(\"int32\")`,   if your model does binary classification   (e.g. if it uses a `sigmoid` last-layer activation).\n"
     ]
    },
    {
     "data": {
      "text/html": [
       "<div>\n",
       "<style scoped>\n",
       "    .dataframe tbody tr th:only-of-type {\n",
       "        vertical-align: middle;\n",
       "    }\n",
       "\n",
       "    .dataframe tbody tr th {\n",
       "        vertical-align: top;\n",
       "    }\n",
       "\n",
       "    .dataframe thead th {\n",
       "        text-align: right;\n",
       "    }\n",
       "</style>\n",
       "<table border=\"1\" class=\"dataframe\">\n",
       "  <thead>\n",
       "    <tr style=\"text-align: right;\">\n",
       "      <th></th>\n",
       "      <th>model1</th>\n",
       "      <th>model2</th>\n",
       "    </tr>\n",
       "  </thead>\n",
       "  <tbody>\n",
       "    <tr>\n",
       "      <th>precision</th>\n",
       "      <td>0.854461</td>\n",
       "      <td>0.863521</td>\n",
       "    </tr>\n",
       "    <tr>\n",
       "      <th>recall</th>\n",
       "      <td>0.817610</td>\n",
       "      <td>0.836478</td>\n",
       "    </tr>\n",
       "    <tr>\n",
       "      <th>fscore</th>\n",
       "      <td>0.808778</td>\n",
       "      <td>0.821366</td>\n",
       "    </tr>\n",
       "    <tr>\n",
       "      <th>accuracy</th>\n",
       "      <td>0.817610</td>\n",
       "      <td>0.836478</td>\n",
       "    </tr>\n",
       "    <tr>\n",
       "      <th>auc</th>\n",
       "      <td>0.974805</td>\n",
       "      <td>0.975954</td>\n",
       "    </tr>\n",
       "  </tbody>\n",
       "</table>\n",
       "</div>"
      ],
      "text/plain": [
       "             model1    model2\n",
       "precision  0.854461  0.863521\n",
       "recall     0.817610  0.836478\n",
       "fscore     0.808778  0.821366\n",
       "accuracy   0.817610  0.836478\n",
       "auc        0.974805  0.975954"
      ]
     },
     "execution_count": 12,
     "metadata": {},
     "output_type": "execute_result"
    }
   ],
   "source": [
    "from sklearn.metrics import precision_recall_fscore_support as score\n",
    "from sklearn.metrics import confusion_matrix, accuracy_score, roc_auc_score\n",
    "import seaborn as sns\n",
    "\n",
    "metrics = list()\n",
    "cm = dict()\n",
    "y_pred = model_1.predict(X_test)\n",
    "y_pred_class = model_1.predict_classes(X_test, verbose=0)\n",
    "rounded_labels = np.argmax(y_test, axis=1)\n",
    "\n",
    "precision, recall, fscore, _ = score(rounded_labels, y_pred_class, average='weighted')\n",
    "accuracy = accuracy_score(rounded_labels, y_pred_class)\n",
    "auc = roc_auc_score(y_test, y_pred)\n",
    "metrics.append(pd.Series({'precision':precision, 'recall':recall, 'fscore':fscore, 'accuracy':accuracy, 'auc':auc}, name=\"model1\"))\n",
    "cm = confusion_matrix(rounded_labels,y_pred_class)\n",
    "\n",
    "metrics2 = list()\n",
    "cm2 = dict()\n",
    "y_pred2 = model_2.predict(X_test2)\n",
    "y_pred_class2 = model_2.predict_classes(X_test2, verbose=0)\n",
    "rounded_labels2 = np.argmax(y_test2, axis=1)\n",
    "\n",
    "precision2, recall2, fscore2, _ = score(rounded_labels2, y_pred_class2, average='weighted')\n",
    "accuracy2 = accuracy_score(rounded_labels2, y_pred_class2)\n",
    "auc2 = roc_auc_score(y_test2, y_pred2)\n",
    "metrics2.append(pd.Series({'precision':precision2, 'recall':recall2, 'fscore':fscore2, 'accuracy':accuracy2, 'auc':auc2}, name=\"model2\"))\n",
    "cm2 = confusion_matrix(rounded_labels2,y_pred_class2)\n",
    "m = metrics + metrics2\n",
    "metrics = pd.concat(m, axis=1)\n",
    "\n",
    "metrics\n"
   ]
  },
  {
   "cell_type": "code",
   "execution_count": 13,
   "metadata": {},
   "outputs": [
    {
     "name": "stdout",
     "output_type": "stream",
     "text": [
      "['happy', 'sadness', 'contempt', 'anger']\n"
     ]
    }
   ],
   "source": [
    "\n",
    "def get_unique_N(iterable):\n",
    "    seen = set()\n",
    "    for e in iterable:\n",
    "        if e in seen:\n",
    "            continue\n",
    "        seen.add(e)\n",
    "        yield e\n",
    "\n",
    "k = get_unique_N(a)\n",
    "print(list(k))"
   ]
  },
  {
   "cell_type": "code",
   "execution_count": 14,
   "metadata": {
    "pycharm": {
     "name": "#%%\n"
    }
   },
   "outputs": [
    {
     "data": {
      "image/png": "[encoded data removed]",
      "text/plain": [
       "<Figure size 432x288 with 2 Axes>"
      ]
     },
     "metadata": {
      "needs_background": "light"
     },
     "output_type": "display_data"
    }
   ],
   "source": [
    "ax = sns.heatmap(cm, annot=True, fmt='d')"
   ]
  },
  {
   "cell_type": "code",
   "execution_count": 15,
   "metadata": {},
   "outputs": [
    {
     "name": "stdout",
     "output_type": "stream",
     "text": [
      "['happy', 'sadness', 'anger', 'contempt']\n"
     ]
    }
   ],
   "source": [
    "k2 = get_unique_N(a2)\n",
    "print(list(k2))"
   ]
  },
  {
   "cell_type": "code",
   "execution_count": 16,
   "metadata": {},
   "outputs": [
    {
     "data": {
      "image/png": "[encoded data removed]",
      "text/plain": [
       "<Figure size 432x288 with 2 Axes>"
      ]
     },
     "metadata": {
      "needs_background": "light"
     },
     "output_type": "display_data"
    }
   ],
   "source": [
    "ax2 = sns.heatmap(cm2, annot=True, fmt='d')\n"
   ]
  },
  {
   "cell_type": "code",
   "execution_count": null,
   "metadata": {},
   "outputs": [],
   "source": []
  }
 ],
 "metadata": {
  "kernelspec": {
   "display_name": "Python 3",
   "language": "python",
   "name": "python3"
  },
  "language_info": {
   "codemirror_mode": {
    "name": "ipython",
    "version": 3
   },
   "file_extension": ".py",
   "mimetype": "text/x-python",
   "name": "python",
   "nbconvert_exporter": "python",
   "pygments_lexer": "ipython3",
   "version": "3.8.8"
  }
 },
 "nbformat": 4,
 "nbformat_minor": 1
}